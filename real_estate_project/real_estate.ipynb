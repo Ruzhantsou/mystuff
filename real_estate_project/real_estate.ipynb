{
 "cells": [
  {
   "cell_type": "markdown",
   "metadata": {},
   "source": [
    "# Исследование объявлений о продаже квартир\n",
    "\n",
    "В вашем распоряжении данные сервиса Яндекс.Недвижимость — архив объявлений о продаже квартир в Санкт-Петербурге и соседних населённых пунктов за несколько лет. Нужно научиться определять рыночную стоимость объектов недвижимости. Ваша задача — установить параметры. Это позволит построить автоматизированную систему: она отследит аномалии и мошенническую деятельность. \n",
    "\n",
    "По каждой квартире на продажу доступны два вида данных. Первые вписаны пользователем, вторые — получены автоматически на основе картографических данных. Например, расстояние до центра, аэропорта, ближайшего парка и водоёма. "
   ]
  },
  {
   "cell_type": "markdown",
   "metadata": {},
   "source": [
    "### Шаг 1. Изучим общую информацию. "
   ]
  },
  {
   "cell_type": "markdown",
   "metadata": {},
   "source": [
    "ПЛАН ПРОЕКТА:\n",
    "1. Импорт библиотек и открытие файла\n",
    "2. Предобработка данных.\n",
    "Определить пропущенные значения и заполнить пропуски.\n",
    "3. Перод данных в нужный тип.\n",
    "Привод данных к нужному типу для дальнейшего анализа.\n",
    "4. Подсчет нужных значений и создание дополнительных столбцов для этих значений.\n",
    "Подсчет значений дополнительных переменных, которые мы вводим в наше исследование опираясь на уже существующие данные.\n",
    "5. Исследовательский анализ данных.\n",
    "Более детальное изучение структуры данных при помощи их визуализации и обращению к описательным статистикам.\n",
    "6. Определение факторов стоимости квартир.\n",
    "Аналическое использование данных для определения зависимости между стоимостью квартиры и различными факторами."
   ]
  },
  {
   "cell_type": "code",
   "execution_count": 1,
   "metadata": {},
   "outputs": [],
   "source": [
    "import pandas as pd\n",
    "import matplotlib.pyplot as plt\n",
    "from IPython.display import display\n",
    "import pylab as pl\n",
    "import warnings\n",
    "warnings.simplefilter(action='ignore')\n",
    "pd.options.display.float_format = '{:,.1f}'.format\n"
   ]
  },
  {
   "cell_type": "code",
   "execution_count": 2,
   "metadata": {},
   "outputs": [
    {
     "data": {
      "text/html": [
       "<div>\n",
       "<style scoped>\n",
       "    .dataframe tbody tr th:only-of-type {\n",
       "        vertical-align: middle;\n",
       "    }\n",
       "\n",
       "    .dataframe tbody tr th {\n",
       "        vertical-align: top;\n",
       "    }\n",
       "\n",
       "    .dataframe thead th {\n",
       "        text-align: right;\n",
       "    }\n",
       "</style>\n",
       "<table border=\"1\" class=\"dataframe\">\n",
       "  <thead>\n",
       "    <tr style=\"text-align: right;\">\n",
       "      <th></th>\n",
       "      <th>total_images</th>\n",
       "      <th>last_price</th>\n",
       "      <th>total_area</th>\n",
       "      <th>first_day_exposition</th>\n",
       "      <th>rooms</th>\n",
       "      <th>ceiling_height</th>\n",
       "      <th>floors_total</th>\n",
       "      <th>living_area</th>\n",
       "      <th>floor</th>\n",
       "      <th>is_apartment</th>\n",
       "      <th>...</th>\n",
       "      <th>kitchen_area</th>\n",
       "      <th>balcony</th>\n",
       "      <th>locality_name</th>\n",
       "      <th>airports_nearest</th>\n",
       "      <th>cityCenters_nearest</th>\n",
       "      <th>parks_around3000</th>\n",
       "      <th>parks_nearest</th>\n",
       "      <th>ponds_around3000</th>\n",
       "      <th>ponds_nearest</th>\n",
       "      <th>days_exposition</th>\n",
       "    </tr>\n",
       "  </thead>\n",
       "  <tbody>\n",
       "    <tr>\n",
       "      <th>0</th>\n",
       "      <td>20</td>\n",
       "      <td>13,000,000.0</td>\n",
       "      <td>108.0</td>\n",
       "      <td>2019-03-07T00:00:00</td>\n",
       "      <td>3</td>\n",
       "      <td>2.7</td>\n",
       "      <td>16.0</td>\n",
       "      <td>51.0</td>\n",
       "      <td>8</td>\n",
       "      <td>NaN</td>\n",
       "      <td>...</td>\n",
       "      <td>25.0</td>\n",
       "      <td>nan</td>\n",
       "      <td>Санкт-Петербург</td>\n",
       "      <td>18,863.0</td>\n",
       "      <td>16,028.0</td>\n",
       "      <td>1.0</td>\n",
       "      <td>482.0</td>\n",
       "      <td>2.0</td>\n",
       "      <td>755.0</td>\n",
       "      <td>nan</td>\n",
       "    </tr>\n",
       "    <tr>\n",
       "      <th>1</th>\n",
       "      <td>7</td>\n",
       "      <td>3,350,000.0</td>\n",
       "      <td>40.4</td>\n",
       "      <td>2018-12-04T00:00:00</td>\n",
       "      <td>1</td>\n",
       "      <td>nan</td>\n",
       "      <td>11.0</td>\n",
       "      <td>18.6</td>\n",
       "      <td>1</td>\n",
       "      <td>NaN</td>\n",
       "      <td>...</td>\n",
       "      <td>11.0</td>\n",
       "      <td>2.0</td>\n",
       "      <td>посёлок Шушары</td>\n",
       "      <td>12,817.0</td>\n",
       "      <td>18,603.0</td>\n",
       "      <td>0.0</td>\n",
       "      <td>nan</td>\n",
       "      <td>0.0</td>\n",
       "      <td>nan</td>\n",
       "      <td>81.0</td>\n",
       "    </tr>\n",
       "    <tr>\n",
       "      <th>2</th>\n",
       "      <td>10</td>\n",
       "      <td>5,196,000.0</td>\n",
       "      <td>56.0</td>\n",
       "      <td>2015-08-20T00:00:00</td>\n",
       "      <td>2</td>\n",
       "      <td>nan</td>\n",
       "      <td>5.0</td>\n",
       "      <td>34.3</td>\n",
       "      <td>4</td>\n",
       "      <td>NaN</td>\n",
       "      <td>...</td>\n",
       "      <td>8.3</td>\n",
       "      <td>0.0</td>\n",
       "      <td>Санкт-Петербург</td>\n",
       "      <td>21,741.0</td>\n",
       "      <td>13,933.0</td>\n",
       "      <td>1.0</td>\n",
       "      <td>90.0</td>\n",
       "      <td>2.0</td>\n",
       "      <td>574.0</td>\n",
       "      <td>558.0</td>\n",
       "    </tr>\n",
       "    <tr>\n",
       "      <th>3</th>\n",
       "      <td>0</td>\n",
       "      <td>64,900,000.0</td>\n",
       "      <td>159.0</td>\n",
       "      <td>2015-07-24T00:00:00</td>\n",
       "      <td>3</td>\n",
       "      <td>nan</td>\n",
       "      <td>14.0</td>\n",
       "      <td>nan</td>\n",
       "      <td>9</td>\n",
       "      <td>NaN</td>\n",
       "      <td>...</td>\n",
       "      <td>nan</td>\n",
       "      <td>0.0</td>\n",
       "      <td>Санкт-Петербург</td>\n",
       "      <td>28,098.0</td>\n",
       "      <td>6,800.0</td>\n",
       "      <td>2.0</td>\n",
       "      <td>84.0</td>\n",
       "      <td>3.0</td>\n",
       "      <td>234.0</td>\n",
       "      <td>424.0</td>\n",
       "    </tr>\n",
       "    <tr>\n",
       "      <th>4</th>\n",
       "      <td>2</td>\n",
       "      <td>10,000,000.0</td>\n",
       "      <td>100.0</td>\n",
       "      <td>2018-06-19T00:00:00</td>\n",
       "      <td>2</td>\n",
       "      <td>3.0</td>\n",
       "      <td>14.0</td>\n",
       "      <td>32.0</td>\n",
       "      <td>13</td>\n",
       "      <td>NaN</td>\n",
       "      <td>...</td>\n",
       "      <td>41.0</td>\n",
       "      <td>nan</td>\n",
       "      <td>Санкт-Петербург</td>\n",
       "      <td>31,856.0</td>\n",
       "      <td>8,098.0</td>\n",
       "      <td>2.0</td>\n",
       "      <td>112.0</td>\n",
       "      <td>1.0</td>\n",
       "      <td>48.0</td>\n",
       "      <td>121.0</td>\n",
       "    </tr>\n",
       "  </tbody>\n",
       "</table>\n",
       "<p>5 rows × 22 columns</p>\n",
       "</div>"
      ],
      "text/plain": [
       "   total_images   last_price  total_area first_day_exposition  rooms  \\\n",
       "0            20 13,000,000.0       108.0  2019-03-07T00:00:00      3   \n",
       "1             7  3,350,000.0        40.4  2018-12-04T00:00:00      1   \n",
       "2            10  5,196,000.0        56.0  2015-08-20T00:00:00      2   \n",
       "3             0 64,900,000.0       159.0  2015-07-24T00:00:00      3   \n",
       "4             2 10,000,000.0       100.0  2018-06-19T00:00:00      2   \n",
       "\n",
       "   ceiling_height  floors_total  living_area  floor is_apartment  ...  \\\n",
       "0             2.7          16.0         51.0      8          NaN  ...   \n",
       "1             nan          11.0         18.6      1          NaN  ...   \n",
       "2             nan           5.0         34.3      4          NaN  ...   \n",
       "3             nan          14.0          nan      9          NaN  ...   \n",
       "4             3.0          14.0         32.0     13          NaN  ...   \n",
       "\n",
       "   kitchen_area  balcony    locality_name  airports_nearest  \\\n",
       "0          25.0      nan  Санкт-Петербург          18,863.0   \n",
       "1          11.0      2.0   посёлок Шушары          12,817.0   \n",
       "2           8.3      0.0  Санкт-Петербург          21,741.0   \n",
       "3           nan      0.0  Санкт-Петербург          28,098.0   \n",
       "4          41.0      nan  Санкт-Петербург          31,856.0   \n",
       "\n",
       "  cityCenters_nearest  parks_around3000  parks_nearest  ponds_around3000  \\\n",
       "0            16,028.0               1.0          482.0               2.0   \n",
       "1            18,603.0               0.0            nan               0.0   \n",
       "2            13,933.0               1.0           90.0               2.0   \n",
       "3             6,800.0               2.0           84.0               3.0   \n",
       "4             8,098.0               2.0          112.0               1.0   \n",
       "\n",
       "   ponds_nearest  days_exposition  \n",
       "0          755.0              nan  \n",
       "1            nan             81.0  \n",
       "2          574.0            558.0  \n",
       "3          234.0            424.0  \n",
       "4           48.0            121.0  \n",
       "\n",
       "[5 rows x 22 columns]"
      ]
     },
     "metadata": {},
     "output_type": "display_data"
    }
   ],
   "source": [
    "data = pd.read_csv('real_estate_data.csv', sep = '\\t')\n",
    "display(data.head())"
   ]
  },
  {
   "cell_type": "code",
   "execution_count": 3,
   "metadata": {},
   "outputs": [
    {
     "name": "stdout",
     "output_type": "stream",
     "text": [
      "<class 'pandas.core.frame.DataFrame'>\n",
      "RangeIndex: 23699 entries, 0 to 23698\n",
      "Data columns (total 22 columns):\n",
      " #   Column                Non-Null Count  Dtype  \n",
      "---  ------                --------------  -----  \n",
      " 0   total_images          23699 non-null  int64  \n",
      " 1   last_price            23699 non-null  float64\n",
      " 2   total_area            23699 non-null  float64\n",
      " 3   first_day_exposition  23699 non-null  object \n",
      " 4   rooms                 23699 non-null  int64  \n",
      " 5   ceiling_height        14504 non-null  float64\n",
      " 6   floors_total          23613 non-null  float64\n",
      " 7   living_area           21796 non-null  float64\n",
      " 8   floor                 23699 non-null  int64  \n",
      " 9   is_apartment          2775 non-null   object \n",
      " 10  studio                23699 non-null  bool   \n",
      " 11  open_plan             23699 non-null  bool   \n",
      " 12  kitchen_area          21421 non-null  float64\n",
      " 13  balcony               12180 non-null  float64\n",
      " 14  locality_name         23650 non-null  object \n",
      " 15  airports_nearest      18157 non-null  float64\n",
      " 16  cityCenters_nearest   18180 non-null  float64\n",
      " 17  parks_around3000      18181 non-null  float64\n",
      " 18  parks_nearest         8079 non-null   float64\n",
      " 19  ponds_around3000      18181 non-null  float64\n",
      " 20  ponds_nearest         9110 non-null   float64\n",
      " 21  days_exposition       20518 non-null  float64\n",
      "dtypes: bool(2), float64(14), int64(3), object(3)\n",
      "memory usage: 3.4+ MB\n"
     ]
    },
    {
     "data": {
      "text/plain": [
       "None"
      ]
     },
     "metadata": {},
     "output_type": "display_data"
    }
   ],
   "source": [
    "display(data.info())"
   ]
  },
  {
   "cell_type": "markdown",
   "metadata": {},
   "source": [
    "### Шаг 2. Предобработка данных"
   ]
  },
  {
   "cell_type": "code",
   "execution_count": 4,
   "metadata": {},
   "outputs": [
    {
     "name": "stdout",
     "output_type": "stream",
     "text": [
      "Количество пропущенных значений в общем количестве этажей: 86\n",
      "\n",
      "Количество пропущенных значений в названии местности расположения квартиры 49\n"
     ]
    }
   ],
   "source": [
    "print('Количество пропущенных значений в общем количестве этажей:',data['floors_total'].isnull().sum())\n",
    "print()\n",
    "print('Количество пропущенных значений в названии местности расположения квартиры',data['locality_name'].isnull().sum())\n",
    "\n",
    "data.dropna(subset = ['floors_total','locality_name'], inplace = True)"
   ]
  },
  {
   "cell_type": "markdown",
   "metadata": {},
   "source": [
    "Убрал строки, где отсутствовали назания города, где продаются квартиры и количество этажей. Их количество было совсем невелико (соответственно 86 и 49 наблюдений) и никак не повлияло на общую картину, в то время как данные стали выглядеть более опрятно. "
   ]
  },
  {
   "cell_type": "code",
   "execution_count": 6,
   "metadata": {},
   "outputs": [
    {
     "name": "stdout",
     "output_type": "stream",
     "text": [
      "Количество пропусков в типе квартир 'апартаменты': 0\n"
     ]
    }
   ],
   "source": [
    "print(\"Количество пропусков в типе квартир 'апартаменты':\", data['is_apartment'].isnull().sum())"
   ]
  },
  {
   "cell_type": "code",
   "execution_count": 7,
   "metadata": {},
   "outputs": [],
   "source": [
    "data['is_apartment'] = data['is_apartment'].fillna(False)  "
   ]
  },
  {
   "cell_type": "markdown",
   "metadata": {},
   "source": [
    "Все отсутствующие значения в столбце обозначающем тип квартиры как \"апартаменты\" заменяем на False, что обозначает наблюдения с отсутствующим значением как не принадлежащие к категории апартаментов. "
   ]
  },
  {
   "cell_type": "code",
   "execution_count": 8,
   "metadata": {},
   "outputs": [
    {
     "name": "stdout",
     "output_type": "stream",
     "text": [
      "Количество пропусков в количестве балконов: 11475\n"
     ]
    }
   ],
   "source": [
    "print(\"Количество пропусков в количестве балконов:\", data['balcony'].isnull().sum())\n",
    "\n",
    "data['balcony'] = data['balcony'].fillna(0)"
   ]
  },
  {
   "cell_type": "markdown",
   "metadata": {},
   "source": [
    "Заменил пустые значения в балконах на ноль. В квартирах, где балконы по видимости отсутствовали, мы будем иметь вместо отсутствующих значений - 0, что будет указывать на отсутствие балкона. \n"
   ]
  },
  {
   "cell_type": "code",
   "execution_count": 9,
   "metadata": {},
   "outputs": [],
   "source": [
    "ceiling_median = data['ceiling_height'].median()\n",
    "data['ceiling_height'] = data['ceiling_height'].fillna(ceiling_median)"
   ]
  },
  {
   "cell_type": "markdown",
   "metadata": {},
   "source": [
    "Заменил отсутствующие значения в высоте потолков на медианные. т.к при их удалении мы могли бы потерять достаточно большое количество данных, а среднее больше медианы, что говорит о том, что значения столбца немного сдвинуты в сторону высоких значений (хвост со стороны больших значений)."
   ]
  },
  {
   "cell_type": "code",
   "execution_count": 10,
   "metadata": {
    "scrolled": true
   },
   "outputs": [
    {
     "data": {
      "text/plain": [
       "Text(0, 0.5, 'Количество квартир')"
      ]
     },
     "execution_count": 10,
     "metadata": {},
     "output_type": "execute_result"
    },
    {
     "data": {
      "image/png": "[encoded data removed]",
      "text/plain": [
       "<Figure size 432x288 with 1 Axes>"
      ]
     },
     "metadata": {
      "needs_background": "light"
     },
     "output_type": "display_data"
    }
   ],
   "source": [
    "data['ceiling_height'].hist(bins = 10, range = (1,7))\n",
    "pl.title(\"Высота потолков в квартирах\")\n",
    "pl.xlabel(\"Высота потолков в метрах\")\n",
    "pl.ylabel(\"Количество квартир\")"
   ]
  },
  {
   "cell_type": "code",
   "execution_count": 11,
   "metadata": {
    "scrolled": true
   },
   "outputs": [
    {
     "name": "stdout",
     "output_type": "stream",
     "text": [
      "count   23,565.0\n",
      "mean         2.7\n",
      "std          1.0\n",
      "min          1.0\n",
      "25%          2.6\n",
      "50%          2.6\n",
      "75%          2.7\n",
      "max        100.0\n",
      "Name: ceiling_height, dtype: float64\n"
     ]
    }
   ],
   "source": [
    "print(data['ceiling_height'].describe())\n",
    "\n",
    "data = data.query('ceiling_height < 5 and ceiling_height > 1.9')"
   ]
  },
  {
   "cell_type": "markdown",
   "metadata": {},
   "source": [
    "На гистограмме видно, что абсолютное большинство значений находятся до 5 метров и более 1.9 метра. Поэтому, чтобы избавиться от перекосов в данных, избавляемся от выбросов. Особенно тех, что составляют 25, 30 или даже 100 метров. Метод describe показывает, что теперь наши значения больше тяготеют к среднему и разброс не такой большой."
   ]
  },
  {
   "cell_type": "code",
   "execution_count": 12,
   "metadata": {},
   "outputs": [],
   "source": [
    "kitchen_median = data['kitchen_area'].median()\n",
    "data['kitchen_area'] = data['kitchen_area'].fillna(kitchen_median)"
   ]
  },
  {
   "cell_type": "markdown",
   "metadata": {},
   "source": [
    "Для заполнения пустых значений площади кухни, я использовал медиану, которая была на 1.5 метра меньше среднего и точнее отражала то, как распределены данные."
   ]
  },
  {
   "cell_type": "code",
   "execution_count": 13,
   "metadata": {},
   "outputs": [
    {
     "data": {
      "text/plain": [
       "Text(0, 0.5, 'Количество квартир')"
      ]
     },
     "execution_count": 13,
     "metadata": {},
     "output_type": "execute_result"
    },
    {
     "data": {
      "image/png": "[encoded data removed]",
      "text/plain": [
       "<Figure size 360x360 with 1 Axes>"
      ]
     },
     "metadata": {
      "needs_background": "light"
     },
     "output_type": "display_data"
    }
   ],
   "source": [
    "data['kitchen_area'].hist(bins = 30, figsize = (5,5))\n",
    "pl.title(\"Размер кухни\")\n",
    "pl.xlabel(\"Размер в квадратных метрах\")\n",
    "pl.ylabel(\"Количество квартир\")"
   ]
  },
  {
   "cell_type": "code",
   "execution_count": 14,
   "metadata": {},
   "outputs": [
    {
     "data": {
      "image/png": "[encoded data removed]",
      "text/plain": [
       "<Figure size 432x288 with 1 Axes>"
      ]
     },
     "metadata": {
      "needs_background": "light"
     },
     "output_type": "display_data"
    }
   ],
   "source": [
    "data.boxplot(column = 'kitchen_area')\n",
    "plt.show()"
   ]
  },
  {
   "cell_type": "code",
   "execution_count": 15,
   "metadata": {},
   "outputs": [
    {
     "data": {
      "text/plain": [
       "count   23,525.0\n",
       "mean        10.4\n",
       "std          5.6\n",
       "min          1.3\n",
       "25%          7.3\n",
       "50%          9.1\n",
       "75%         11.4\n",
       "max        112.0\n",
       "Name: kitchen_area, dtype: float64"
      ]
     },
     "execution_count": 15,
     "metadata": {},
     "output_type": "execute_result"
    }
   ],
   "source": [
    "data['kitchen_area'].describe()"
   ]
  },
  {
   "cell_type": "code",
   "execution_count": 16,
   "metadata": {},
   "outputs": [],
   "source": [
    "data = data.query('kitchen_area > 3.5 and kitchen_area < 30')"
   ]
  },
  {
   "cell_type": "markdown",
   "metadata": {},
   "source": [
    "В силу того, что в размере кухни есть крайне маленькие и крайне высокие значения (1.3 метра или 50 метров), нам нужно от них избавиться, чтобы они не искажали меры центральной тенденции и создавали перекосы в данных.Можно заметить, что значения более 30 далеко уходят за высокий ус боксплота, который отображает верхнюю границу интерквартильного размаха, встречаются нечасто. \n"
   ]
  },
  {
   "cell_type": "code",
   "execution_count": 17,
   "metadata": {
    "scrolled": true
   },
   "outputs": [
    {
     "data": {
      "text/plain": [
       "Text(0, 0.5, 'Количество объявлений')"
      ]
     },
     "execution_count": 17,
     "metadata": {},
     "output_type": "execute_result"
    },
    {
     "data": {
      "image/png": "[encoded data removed]",
      "text/plain": [
       "<Figure size 720x288 with 1 Axes>"
      ]
     },
     "metadata": {
      "needs_background": "light"
     },
     "output_type": "display_data"
    }
   ],
   "source": [
    "data['days_exposition'].hist(bins = 30, range = (50, 1200), figsize = (10,4))\n",
    "pl.title(\"Длительность объявлений квартир\")\n",
    "pl.xlabel(\"Срок размещения в днях\")\n",
    "pl.ylabel(\"Количество объявлений\")"
   ]
  },
  {
   "cell_type": "code",
   "execution_count": 18,
   "metadata": {},
   "outputs": [
    {
     "data": {
      "text/plain": [
       "count   20,056.0\n",
       "mean       179.3\n",
       "std        218.1\n",
       "min          1.0\n",
       "25%         45.0\n",
       "50%         94.0\n",
       "75%        229.0\n",
       "max      1,580.0\n",
       "Name: days_exposition, dtype: float64"
      ]
     },
     "execution_count": 18,
     "metadata": {},
     "output_type": "execute_result"
    }
   ],
   "source": [
    "data['days_exposition'].describe()"
   ]
  },
  {
   "cell_type": "code",
   "execution_count": 19,
   "metadata": {},
   "outputs": [
    {
     "data": {
      "image/png": "[encoded data removed]",
      "text/plain": [
       "<Figure size 432x288 with 1 Axes>"
      ]
     },
     "metadata": {
      "needs_background": "light"
     },
     "output_type": "display_data"
    }
   ],
   "source": [
    "data.boxplot(column = 'days_exposition')\n",
    "plt.show()"
   ]
  },
  {
   "cell_type": "code",
   "execution_count": 20,
   "metadata": {},
   "outputs": [
    {
     "name": "stdout",
     "output_type": "stream",
     "text": [
      "total_images            562\n",
      "last_price              562\n",
      "total_area              562\n",
      "first_day_exposition    562\n",
      "rooms                   562\n",
      "ceiling_height          562\n",
      "floors_total            562\n",
      "living_area             527\n",
      "floor                   562\n",
      "is_apartment            562\n",
      "studio                  562\n",
      "open_plan               562\n",
      "kitchen_area            562\n",
      "balcony                 562\n",
      "locality_name           562\n",
      "airports_nearest        453\n",
      "cityCenters_nearest     454\n",
      "parks_around3000        454\n",
      "parks_nearest           225\n",
      "ponds_around3000        454\n",
      "ponds_nearest           272\n",
      "days_exposition         562\n",
      "dtype: int64\n"
     ]
    }
   ],
   "source": [
    "print(data.query('days_exposition > 800').count())\n",
    "data = data.query('days_exposition < 800')"
   ]
  },
  {
   "cell_type": "markdown",
   "metadata": {},
   "source": [
    "1. Гистограмма демонстрирует нам, что достаточно большое количество наблюдений растянуто до района 800-1000 дней.\n",
    "Метод describe показывает на интерквартильный размах и на аномально высокие значения(1580 дней). В тоже же время на бокплоте мы можем заметить, что большле количество значений выходит за верний ус, что говорит о приличном сдвиге данных в сторону больших значений.  \n",
    "2. 386 кейсов больше 800, что не критично. Поэтому 800 может стать тем порогом, значения выше которого нам не нужны при первичной предобработке данных.\n",
    "3. Соответственно мы отбрасываем значения, которые больше 800. "
   ]
  },
  {
   "cell_type": "code",
   "execution_count": 21,
   "metadata": {},
   "outputs": [
    {
     "name": "stdout",
     "output_type": "stream",
     "text": [
      "Описательные статистики жилой площади квартир\n"
     ]
    },
    {
     "data": {
      "text/plain": [
       "count   17,873.0\n",
       "mean        32.6\n",
       "std         18.9\n",
       "min          2.0\n",
       "25%         18.1\n",
       "50%         29.7\n",
       "75%         40.9\n",
       "max        347.5\n",
       "Name: living_area, dtype: float64"
      ]
     },
     "execution_count": 21,
     "metadata": {},
     "output_type": "execute_result"
    }
   ],
   "source": [
    "print(\"Описательные статистики жилой площади квартир\")\n",
    "\n",
    "data['living_area'].describe()"
   ]
  },
  {
   "cell_type": "code",
   "execution_count": 22,
   "metadata": {},
   "outputs": [
    {
     "data": {
      "text/plain": [
       "19491"
      ]
     },
     "execution_count": 22,
     "metadata": {},
     "output_type": "execute_result"
    }
   ],
   "source": [
    "data['living_area'].isna().count()"
   ]
  },
  {
   "cell_type": "code",
   "execution_count": 23,
   "metadata": {},
   "outputs": [],
   "source": [
    "living_median = data['living_area'].median()\n",
    "data['living_area'] = data['living_area'].fillna(living_median)"
   ]
  },
  {
   "cell_type": "code",
   "execution_count": 24,
   "metadata": {},
   "outputs": [
    {
     "data": {
      "text/plain": [
       "count   19,491.0\n",
       "mean        32.4\n",
       "std         18.1\n",
       "min          2.0\n",
       "25%         18.7\n",
       "50%         29.7\n",
       "75%         39.5\n",
       "max        347.5\n",
       "Name: living_area, dtype: float64"
      ]
     },
     "execution_count": 24,
     "metadata": {},
     "output_type": "execute_result"
    }
   ],
   "source": [
    "data['living_area'].describe()"
   ]
  },
  {
   "cell_type": "code",
   "execution_count": 25,
   "metadata": {},
   "outputs": [
    {
     "data": {
      "image/png": "[encoded data removed]",
      "text/plain": [
       "<Figure size 432x288 with 1 Axes>"
      ]
     },
     "metadata": {
      "needs_background": "light"
     },
     "output_type": "display_data"
    }
   ],
   "source": [
    "data.boxplot(column = 'living_area')\n",
    "plt.show()"
   ]
  },
  {
   "cell_type": "code",
   "execution_count": 26,
   "metadata": {
    "scrolled": false
   },
   "outputs": [
    {
     "data": {
      "text/plain": [
       "Text(0, 0.5, 'Количество квартир')"
      ]
     },
     "execution_count": 26,
     "metadata": {},
     "output_type": "execute_result"
    },
    {
     "data": {
      "image/png": "[encoded data removed]",
      "text/plain": [
       "<Figure size 720x432 with 1 Axes>"
      ]
     },
     "metadata": {
      "needs_background": "light"
     },
     "output_type": "display_data"
    }
   ],
   "source": [
    "data['living_area'].hist(bins = 30, figsize = (10,6))\n",
    "pl.title(\"Жилая площадь квартир\")\n",
    "pl.xlabel(\"Размер жилплощади в кв.м.\")\n",
    "pl.ylabel(\"Количество квартир\")"
   ]
  },
  {
   "cell_type": "code",
   "execution_count": 27,
   "metadata": {},
   "outputs": [],
   "source": [
    "data = data.query('living_area > 9 and living_area < 110')"
   ]
  },
  {
   "cell_type": "markdown",
   "metadata": {},
   "source": [
    "Как мы можем заметить, значений в жилой площади более 110 кв.м и менее 9 кв.м совсем немного, поэтому имеет смысл убрать эти выбросы. Более того, мы можем заметить, что у нас имеется много значений, которые выходят за верхний ус, что говорит о перекосе данных в стороны больших значений.   "
   ]
  },
  {
   "cell_type": "markdown",
   "metadata": {},
   "source": [
    "### 3. Перевод данных в нужный тип"
   ]
  },
  {
   "cell_type": "code",
   "execution_count": 28,
   "metadata": {
    "scrolled": true
   },
   "outputs": [],
   "source": [
    "data['first_day_exposition'] = pd.to_datetime(data['first_day_exposition']) \n",
    "data['floors_total'] = pd.to_numeric(data['floors_total'])\n",
    "data['is_apartment'] = data['is_apartment'].astype('bool') \n",
    "data['balcony'] = data['balcony'].astype('int64')\n",
    "data['days_exposition'] = pd.to_numeric(data['days_exposition'], errors = 'coerce')  \n",
    "data['ceiling_height'] = pd.to_numeric(data['ceiling_height'], errors = 'coerce')"
   ]
  },
  {
   "cell_type": "markdown",
   "metadata": {},
   "source": [
    "\n",
    "После осмотра разных типов данных в колонках, я привел значения в некоторых колонках к нужным для работы типам.\n",
    "\n",
    "В столбце first_day_exposition я поменял тип данных на дата, т.к это дата публикации а не вещественный тип. \n",
    "\n",
    "В столбце количества этажей и количества балконов данные были приведены к целочисленному типу данных, так же, как и количество дней, которое объявление висело в Сети. \n",
    "\n",
    "Столбец is_apartment был приведен к булевому типу по аналогии со столбцами студия и открытая планировка. Значения этого столбца аналогично должны принимать значения true/false в зависимости от того является ли недвижимость апартаментами или нет.\n",
    "\n",
    "Значение колонки ceiling_height поменяла вещественный тип на float64 посредством метода to_numeric, т.к потолки измеряются не в категориях, а в единицах измерения."
   ]
  },
  {
   "cell_type": "markdown",
   "metadata": {},
   "source": [
    "#### Посчитаем определенные значения и добавим их в таблицу\n"
   ]
  },
  {
   "cell_type": "code",
   "execution_count": 29,
   "metadata": {
    "scrolled": true
   },
   "outputs": [],
   "source": [
    "pd.options.display.float_format = '{:.2f}'.format\n",
    "\n",
    "#добавляем столбец с ценой на кваратный метр\n",
    "data['square_metre'] = data['last_price'] / data['total_area']       "
   ]
  },
  {
   "cell_type": "code",
   "execution_count": 30,
   "metadata": {},
   "outputs": [
    {
     "name": "stdout",
     "output_type": "stream",
     "text": [
      "\u001b[1mСоотношение общей цены, общей площади квартиры и цены за квадратный метр\u001b[0m\n"
     ]
    },
    {
     "data": {
      "text/html": [
       "<div>\n",
       "<style scoped>\n",
       "    .dataframe tbody tr th:only-of-type {\n",
       "        vertical-align: middle;\n",
       "    }\n",
       "\n",
       "    .dataframe tbody tr th {\n",
       "        vertical-align: top;\n",
       "    }\n",
       "\n",
       "    .dataframe thead th {\n",
       "        text-align: right;\n",
       "    }\n",
       "</style>\n",
       "<table border=\"1\" class=\"dataframe\">\n",
       "  <thead>\n",
       "    <tr style=\"text-align: right;\">\n",
       "      <th></th>\n",
       "      <th>last_price</th>\n",
       "      <th>total_area</th>\n",
       "      <th>square_metre</th>\n",
       "    </tr>\n",
       "  </thead>\n",
       "  <tbody>\n",
       "    <tr>\n",
       "      <th>1</th>\n",
       "      <td>3350000.00</td>\n",
       "      <td>40.40</td>\n",
       "      <td>82920.79</td>\n",
       "    </tr>\n",
       "    <tr>\n",
       "      <th>2</th>\n",
       "      <td>5196000.00</td>\n",
       "      <td>56.00</td>\n",
       "      <td>92785.71</td>\n",
       "    </tr>\n",
       "    <tr>\n",
       "      <th>3</th>\n",
       "      <td>64900000.00</td>\n",
       "      <td>159.00</td>\n",
       "      <td>408176.10</td>\n",
       "    </tr>\n",
       "    <tr>\n",
       "      <th>5</th>\n",
       "      <td>2890000.00</td>\n",
       "      <td>30.40</td>\n",
       "      <td>95065.79</td>\n",
       "    </tr>\n",
       "    <tr>\n",
       "      <th>6</th>\n",
       "      <td>3700000.00</td>\n",
       "      <td>37.30</td>\n",
       "      <td>99195.71</td>\n",
       "    </tr>\n",
       "  </tbody>\n",
       "</table>\n",
       "</div>"
      ],
      "text/plain": [
       "   last_price  total_area  square_metre\n",
       "1  3350000.00       40.40      82920.79\n",
       "2  5196000.00       56.00      92785.71\n",
       "3 64900000.00      159.00     408176.10\n",
       "5  2890000.00       30.40      95065.79\n",
       "6  3700000.00       37.30      99195.71"
      ]
     },
     "metadata": {},
     "output_type": "display_data"
    }
   ],
   "source": [
    "print ('\\033[1m' + 'Соотношение общей цены, общей площади квартиры и цены за квадратный метр' + '\\033[0m')\n",
    "\n",
    "display(data[['last_price', 'total_area', 'square_metre']].head())"
   ]
  },
  {
   "cell_type": "code",
   "execution_count": 31,
   "metadata": {},
   "outputs": [],
   "source": [
    "def floor_type(row):\n",
    "    if row['floor'] == row['floors_total']:\n",
    "        return \"последний\"\n",
    "    elif row['floor'] == 1:\n",
    "        return \"первый\"\n",
    "    else:\n",
    "        return \"другой\"\n",
    "data['floor_category'] = data.apply(floor_type, axis = 1) "
   ]
  },
  {
   "cell_type": "code",
   "execution_count": 32,
   "metadata": {},
   "outputs": [
    {
     "name": "stdout",
     "output_type": "stream",
     "text": [
      "\u001b[1mКоличество этажей в доме, этаж квартиры и категория этого этажа\u001b[0m\n"
     ]
    },
    {
     "data": {
      "text/html": [
       "<div>\n",
       "<style scoped>\n",
       "    .dataframe tbody tr th:only-of-type {\n",
       "        vertical-align: middle;\n",
       "    }\n",
       "\n",
       "    .dataframe tbody tr th {\n",
       "        vertical-align: top;\n",
       "    }\n",
       "\n",
       "    .dataframe thead th {\n",
       "        text-align: right;\n",
       "    }\n",
       "</style>\n",
       "<table border=\"1\" class=\"dataframe\">\n",
       "  <thead>\n",
       "    <tr style=\"text-align: right;\">\n",
       "      <th></th>\n",
       "      <th>floor</th>\n",
       "      <th>floors_total</th>\n",
       "      <th>floor_category</th>\n",
       "    </tr>\n",
       "  </thead>\n",
       "  <tbody>\n",
       "    <tr>\n",
       "      <th>1</th>\n",
       "      <td>1</td>\n",
       "      <td>11.00</td>\n",
       "      <td>первый</td>\n",
       "    </tr>\n",
       "    <tr>\n",
       "      <th>2</th>\n",
       "      <td>4</td>\n",
       "      <td>5.00</td>\n",
       "      <td>другой</td>\n",
       "    </tr>\n",
       "    <tr>\n",
       "      <th>3</th>\n",
       "      <td>9</td>\n",
       "      <td>14.00</td>\n",
       "      <td>другой</td>\n",
       "    </tr>\n",
       "    <tr>\n",
       "      <th>5</th>\n",
       "      <td>5</td>\n",
       "      <td>12.00</td>\n",
       "      <td>другой</td>\n",
       "    </tr>\n",
       "    <tr>\n",
       "      <th>6</th>\n",
       "      <td>6</td>\n",
       "      <td>26.00</td>\n",
       "      <td>другой</td>\n",
       "    </tr>\n",
       "  </tbody>\n",
       "</table>\n",
       "</div>"
      ],
      "text/plain": [
       "   floor  floors_total floor_category\n",
       "1      1         11.00         первый\n",
       "2      4          5.00         другой\n",
       "3      9         14.00         другой\n",
       "5      5         12.00         другой\n",
       "6      6         26.00         другой"
      ]
     },
     "metadata": {},
     "output_type": "display_data"
    }
   ],
   "source": [
    "print ('\\033[1m' + 'Количество этажей в доме, этаж квартиры и категория этого этажа' + '\\033[0m')\n",
    "display(data[['floor', 'floors_total', 'floor_category']].head())"
   ]
  },
  {
   "cell_type": "markdown",
   "metadata": {},
   "source": [
    "1. Для определения категории этажа квартиры я написал функцию. В качестве аргумента используется ряд. \n",
    "Функция проходится по каждому рядку в котором есть значение этажа. Если это последний этаж, который \n",
    "соответственно будет совпадать с количеством этажей в здании, то я функция возвращает категорию \"последний\".\n",
    "Если значение равно единице, то возвращает \"первый\". Во всех остальных случаях - \"другой\". \n",
    "2. Потом смастерим новый столбец, в который сложим все значения, полученные из каждой строки датафрейма.\n",
    "3. Для наглядности продемонстрируем новый столбец вместе со столбцами, данные из которых использовались\n",
    "для его создания."
   ]
  },
  {
   "cell_type": "code",
   "execution_count": 33,
   "metadata": {
    "scrolled": true
   },
   "outputs": [
    {
     "name": "stdout",
     "output_type": "stream",
     "text": [
      "\u001b[1mДень недели подачи объявления\u001b[0m\n"
     ]
    },
    {
     "data": {
      "text/html": [
       "<div>\n",
       "<style scoped>\n",
       "    .dataframe tbody tr th:only-of-type {\n",
       "        vertical-align: middle;\n",
       "    }\n",
       "\n",
       "    .dataframe tbody tr th {\n",
       "        vertical-align: top;\n",
       "    }\n",
       "\n",
       "    .dataframe thead th {\n",
       "        text-align: right;\n",
       "    }\n",
       "</style>\n",
       "<table border=\"1\" class=\"dataframe\">\n",
       "  <thead>\n",
       "    <tr style=\"text-align: right;\">\n",
       "      <th></th>\n",
       "      <th>weekday_ad_exposition</th>\n",
       "      <th>first_day_exposition</th>\n",
       "    </tr>\n",
       "  </thead>\n",
       "  <tbody>\n",
       "    <tr>\n",
       "      <th>1</th>\n",
       "      <td>1</td>\n",
       "      <td>2018-12-04</td>\n",
       "    </tr>\n",
       "    <tr>\n",
       "      <th>2</th>\n",
       "      <td>3</td>\n",
       "      <td>2015-08-20</td>\n",
       "    </tr>\n",
       "    <tr>\n",
       "      <th>3</th>\n",
       "      <td>4</td>\n",
       "      <td>2015-07-24</td>\n",
       "    </tr>\n",
       "    <tr>\n",
       "      <th>5</th>\n",
       "      <td>0</td>\n",
       "      <td>2018-09-10</td>\n",
       "    </tr>\n",
       "    <tr>\n",
       "      <th>6</th>\n",
       "      <td>3</td>\n",
       "      <td>2017-11-02</td>\n",
       "    </tr>\n",
       "  </tbody>\n",
       "</table>\n",
       "</div>"
      ],
      "text/plain": [
       "   weekday_ad_exposition first_day_exposition\n",
       "1                      1           2018-12-04\n",
       "2                      3           2015-08-20\n",
       "3                      4           2015-07-24\n",
       "5                      0           2018-09-10\n",
       "6                      3           2017-11-02"
      ]
     },
     "metadata": {},
     "output_type": "display_data"
    }
   ],
   "source": [
    "data['weekday_ad_exposition'] = data['first_day_exposition'].dt.weekday\n",
    "print ('\\033[1m' + 'День недели подачи объявления' + '\\033[0m')\n",
    "display(data[['weekday_ad_exposition', 'first_day_exposition']].head())"
   ]
  },
  {
   "cell_type": "code",
   "execution_count": 34,
   "metadata": {},
   "outputs": [
    {
     "name": "stdout",
     "output_type": "stream",
     "text": [
      "\u001b[1mМесяц подачи объявления\u001b[0m\n"
     ]
    },
    {
     "data": {
      "text/html": [
       "<div>\n",
       "<style scoped>\n",
       "    .dataframe tbody tr th:only-of-type {\n",
       "        vertical-align: middle;\n",
       "    }\n",
       "\n",
       "    .dataframe tbody tr th {\n",
       "        vertical-align: top;\n",
       "    }\n",
       "\n",
       "    .dataframe thead th {\n",
       "        text-align: right;\n",
       "    }\n",
       "</style>\n",
       "<table border=\"1\" class=\"dataframe\">\n",
       "  <thead>\n",
       "    <tr style=\"text-align: right;\">\n",
       "      <th></th>\n",
       "      <th>month_ad_exposition</th>\n",
       "      <th>first_day_exposition</th>\n",
       "    </tr>\n",
       "  </thead>\n",
       "  <tbody>\n",
       "    <tr>\n",
       "      <th>1</th>\n",
       "      <td>12</td>\n",
       "      <td>2018-12-04</td>\n",
       "    </tr>\n",
       "    <tr>\n",
       "      <th>2</th>\n",
       "      <td>8</td>\n",
       "      <td>2015-08-20</td>\n",
       "    </tr>\n",
       "    <tr>\n",
       "      <th>3</th>\n",
       "      <td>7</td>\n",
       "      <td>2015-07-24</td>\n",
       "    </tr>\n",
       "    <tr>\n",
       "      <th>5</th>\n",
       "      <td>9</td>\n",
       "      <td>2018-09-10</td>\n",
       "    </tr>\n",
       "    <tr>\n",
       "      <th>6</th>\n",
       "      <td>11</td>\n",
       "      <td>2017-11-02</td>\n",
       "    </tr>\n",
       "  </tbody>\n",
       "</table>\n",
       "</div>"
      ],
      "text/plain": [
       "   month_ad_exposition first_day_exposition\n",
       "1                   12           2018-12-04\n",
       "2                    8           2015-08-20\n",
       "3                    7           2015-07-24\n",
       "5                    9           2018-09-10\n",
       "6                   11           2017-11-02"
      ]
     },
     "metadata": {},
     "output_type": "display_data"
    }
   ],
   "source": [
    "\n",
    "data['month_ad_exposition'] = data['first_day_exposition'].dt.month\n",
    "print ('\\033[1m' + 'Месяц подачи объявления' + '\\033[0m')\n",
    "display(data[['month_ad_exposition', 'first_day_exposition']].head())"
   ]
  },
  {
   "cell_type": "code",
   "execution_count": 35,
   "metadata": {},
   "outputs": [
    {
     "name": "stdout",
     "output_type": "stream",
     "text": [
      "\u001b[1mГод подачи объявления\u001b[0m\n"
     ]
    },
    {
     "data": {
      "text/html": [
       "<div>\n",
       "<style scoped>\n",
       "    .dataframe tbody tr th:only-of-type {\n",
       "        vertical-align: middle;\n",
       "    }\n",
       "\n",
       "    .dataframe tbody tr th {\n",
       "        vertical-align: top;\n",
       "    }\n",
       "\n",
       "    .dataframe thead th {\n",
       "        text-align: right;\n",
       "    }\n",
       "</style>\n",
       "<table border=\"1\" class=\"dataframe\">\n",
       "  <thead>\n",
       "    <tr style=\"text-align: right;\">\n",
       "      <th></th>\n",
       "      <th>year_ad_exposition</th>\n",
       "      <th>first_day_exposition</th>\n",
       "    </tr>\n",
       "  </thead>\n",
       "  <tbody>\n",
       "    <tr>\n",
       "      <th>1</th>\n",
       "      <td>2018</td>\n",
       "      <td>2018-12-04</td>\n",
       "    </tr>\n",
       "    <tr>\n",
       "      <th>2</th>\n",
       "      <td>2015</td>\n",
       "      <td>2015-08-20</td>\n",
       "    </tr>\n",
       "    <tr>\n",
       "      <th>3</th>\n",
       "      <td>2015</td>\n",
       "      <td>2015-07-24</td>\n",
       "    </tr>\n",
       "    <tr>\n",
       "      <th>5</th>\n",
       "      <td>2018</td>\n",
       "      <td>2018-09-10</td>\n",
       "    </tr>\n",
       "    <tr>\n",
       "      <th>6</th>\n",
       "      <td>2017</td>\n",
       "      <td>2017-11-02</td>\n",
       "    </tr>\n",
       "  </tbody>\n",
       "</table>\n",
       "</div>"
      ],
      "text/plain": [
       "   year_ad_exposition first_day_exposition\n",
       "1                2018           2018-12-04\n",
       "2                2015           2015-08-20\n",
       "3                2015           2015-07-24\n",
       "5                2018           2018-09-10\n",
       "6                2017           2017-11-02"
      ]
     },
     "metadata": {},
     "output_type": "display_data"
    }
   ],
   "source": [
    "data['year_ad_exposition'] = data['first_day_exposition'].dt.year\n",
    "print ('\\033[1m' + 'Год подачи объявления' + '\\033[0m')\n",
    "display(data[['year_ad_exposition', 'first_day_exposition']].head())"
   ]
  },
  {
   "cell_type": "markdown",
   "metadata": {},
   "source": [
    "\n",
    "Для создания  столбцов, отдельно содержащих информацию по дню недели, месяцу и году, мы \n",
    "применяем аттрибут dt вместе с соответственно weekday, month, year к значениям столбца даты публикации \n",
    "объявлений. Потом складируем эти данные в отдельные столбцы."
   ]
  },
  {
   "cell_type": "code",
   "execution_count": 36,
   "metadata": {},
   "outputs": [],
   "source": [
    "\n",
    "def living_to_common_area(row):\n",
    "    return row['living_area'] / row['total_area']\n",
    "data['living_to_total_size'] = data.apply(living_to_common_area, axis =1)"
   ]
  },
  {
   "cell_type": "code",
   "execution_count": 37,
   "metadata": {},
   "outputs": [
    {
     "name": "stdout",
     "output_type": "stream",
     "text": [
      "\u001b[1mПропорция жилой площади к общей площади квартиры\u001b[0m\n"
     ]
    },
    {
     "data": {
      "text/html": [
       "<div>\n",
       "<style scoped>\n",
       "    .dataframe tbody tr th:only-of-type {\n",
       "        vertical-align: middle;\n",
       "    }\n",
       "\n",
       "    .dataframe tbody tr th {\n",
       "        vertical-align: top;\n",
       "    }\n",
       "\n",
       "    .dataframe thead th {\n",
       "        text-align: right;\n",
       "    }\n",
       "</style>\n",
       "<table border=\"1\" class=\"dataframe\">\n",
       "  <thead>\n",
       "    <tr style=\"text-align: right;\">\n",
       "      <th></th>\n",
       "      <th>living_area</th>\n",
       "      <th>total_area</th>\n",
       "      <th>living_to_total_size</th>\n",
       "    </tr>\n",
       "  </thead>\n",
       "  <tbody>\n",
       "    <tr>\n",
       "      <th>1</th>\n",
       "      <td>18.60</td>\n",
       "      <td>40.40</td>\n",
       "      <td>0.46</td>\n",
       "    </tr>\n",
       "    <tr>\n",
       "      <th>2</th>\n",
       "      <td>34.30</td>\n",
       "      <td>56.00</td>\n",
       "      <td>0.61</td>\n",
       "    </tr>\n",
       "    <tr>\n",
       "      <th>3</th>\n",
       "      <td>29.70</td>\n",
       "      <td>159.00</td>\n",
       "      <td>0.19</td>\n",
       "    </tr>\n",
       "    <tr>\n",
       "      <th>5</th>\n",
       "      <td>14.40</td>\n",
       "      <td>30.40</td>\n",
       "      <td>0.47</td>\n",
       "    </tr>\n",
       "    <tr>\n",
       "      <th>6</th>\n",
       "      <td>10.60</td>\n",
       "      <td>37.30</td>\n",
       "      <td>0.28</td>\n",
       "    </tr>\n",
       "  </tbody>\n",
       "</table>\n",
       "</div>"
      ],
      "text/plain": [
       "   living_area  total_area  living_to_total_size\n",
       "1        18.60       40.40                  0.46\n",
       "2        34.30       56.00                  0.61\n",
       "3        29.70      159.00                  0.19\n",
       "5        14.40       30.40                  0.47\n",
       "6        10.60       37.30                  0.28"
      ]
     },
     "metadata": {},
     "output_type": "display_data"
    }
   ],
   "source": [
    "print ('\\033[1m' + 'Пропорция жилой площади к общей площади квартиры' + '\\033[0m')\n",
    "\n",
    "display(data[['living_area', 'total_area', 'living_to_total_size']].head())"
   ]
  },
  {
   "cell_type": "markdown",
   "metadata": {},
   "source": [
    "1. Написал функцию, которая получает как аргумент значение row, а возвращает из каждой строки соотношение \n",
    "жилой площади к общей площади.\n",
    "2. Потом создал отдельный столбец, в котором складировал значения соотношения значения жилой площади к общей('living_to_total_size'), которые появились в результате применения ранее созданной функции ко всему датафрейму.\n",
    "3. Демострация наглядного результата со всеми тремя колонками.\n"
   ]
  },
  {
   "cell_type": "code",
   "execution_count": 38,
   "metadata": {},
   "outputs": [],
   "source": [
    "def kitchen_to_common_area(row):\n",
    "    return row['kitchen_area'] / row['total_area']\n",
    "data['kitchen_to_total_size'] = data.apply(kitchen_to_common_area, axis = 1)"
   ]
  },
  {
   "cell_type": "code",
   "execution_count": 39,
   "metadata": {},
   "outputs": [
    {
     "name": "stdout",
     "output_type": "stream",
     "text": [
      "\u001b[1mСоотношение площади кухни к жилой площади\u001b[0m\n"
     ]
    },
    {
     "data": {
      "text/html": [
       "<div>\n",
       "<style scoped>\n",
       "    .dataframe tbody tr th:only-of-type {\n",
       "        vertical-align: middle;\n",
       "    }\n",
       "\n",
       "    .dataframe tbody tr th {\n",
       "        vertical-align: top;\n",
       "    }\n",
       "\n",
       "    .dataframe thead th {\n",
       "        text-align: right;\n",
       "    }\n",
       "</style>\n",
       "<table border=\"1\" class=\"dataframe\">\n",
       "  <thead>\n",
       "    <tr style=\"text-align: right;\">\n",
       "      <th></th>\n",
       "      <th>kitchen_area</th>\n",
       "      <th>total_area</th>\n",
       "      <th>kitchen_to_total_size</th>\n",
       "    </tr>\n",
       "  </thead>\n",
       "  <tbody>\n",
       "    <tr>\n",
       "      <th>1</th>\n",
       "      <td>11.00</td>\n",
       "      <td>40.40</td>\n",
       "      <td>0.27</td>\n",
       "    </tr>\n",
       "    <tr>\n",
       "      <th>2</th>\n",
       "      <td>8.30</td>\n",
       "      <td>56.00</td>\n",
       "      <td>0.15</td>\n",
       "    </tr>\n",
       "    <tr>\n",
       "      <th>3</th>\n",
       "      <td>9.10</td>\n",
       "      <td>159.00</td>\n",
       "      <td>0.06</td>\n",
       "    </tr>\n",
       "    <tr>\n",
       "      <th>5</th>\n",
       "      <td>9.10</td>\n",
       "      <td>30.40</td>\n",
       "      <td>0.30</td>\n",
       "    </tr>\n",
       "    <tr>\n",
       "      <th>6</th>\n",
       "      <td>14.40</td>\n",
       "      <td>37.30</td>\n",
       "      <td>0.39</td>\n",
       "    </tr>\n",
       "  </tbody>\n",
       "</table>\n",
       "</div>"
      ],
      "text/plain": [
       "   kitchen_area  total_area  kitchen_to_total_size\n",
       "1         11.00       40.40                   0.27\n",
       "2          8.30       56.00                   0.15\n",
       "3          9.10      159.00                   0.06\n",
       "5          9.10       30.40                   0.30\n",
       "6         14.40       37.30                   0.39"
      ]
     },
     "metadata": {},
     "output_type": "display_data"
    }
   ],
   "source": [
    "print ('\\033[1m' + 'Соотношение площади кухни к жилой площади' + '\\033[0m')\n",
    "\n",
    "display(data[['kitchen_area', 'total_area', 'kitchen_to_total_size']].head())"
   ]
  },
  {
   "cell_type": "markdown",
   "metadata": {},
   "source": [
    "Аналогично предыдущему заданию:\n",
    "1. Написал функцию, которая получает как аргумент значение row, а возвращает из каждой строки соотношение \n",
    "кухни к общей площади.\n",
    "2. Потом создал отдельный столбец('kitchen_to_total_size'), в котором складировал значения соотношения значения площади кухни к общей, которые появились в результате применения ранее созданной функции ко всему датафрейму.\n",
    "3. Распечатал все три колонки для наглядности."
   ]
  },
  {
   "cell_type": "markdown",
   "metadata": {},
   "source": [
    "### Шаг 4. Проведем исследовательский анализ данных"
   ]
  },
  {
   "cell_type": "code",
   "execution_count": 40,
   "metadata": {
    "scrolled": false
   },
   "outputs": [
    {
     "data": {
      "text/plain": [
       "count   19334.00\n",
       "mean       55.82\n",
       "std        24.66\n",
       "min        12.00\n",
       "25%        39.00\n",
       "50%        50.00\n",
       "75%        65.80\n",
       "max       500.00\n",
       "Name: total_area, dtype: float64"
      ]
     },
     "execution_count": 40,
     "metadata": {},
     "output_type": "execute_result"
    }
   ],
   "source": [
    "data['total_area'].describe()"
   ]
  },
  {
   "cell_type": "code",
   "execution_count": 41,
   "metadata": {},
   "outputs": [
    {
     "data": {
      "text/plain": [
       "Text(0, 0.5, 'Количество квартир')"
      ]
     },
     "execution_count": 41,
     "metadata": {},
     "output_type": "execute_result"
    },
    {
     "data": {
      "image/png": "[encoded data removed]",
      "text/plain": [
       "<Figure size 720x720 with 1 Axes>"
      ]
     },
     "metadata": {
      "needs_background": "light"
     },
     "output_type": "display_data"
    }
   ],
   "source": [
    "data['total_area'].hist(bins = 30, figsize = (10,10))\n",
    "pl.title(\"Общая площадь квартир\")\n",
    "pl.xlabel(\"Размер в квадратных метрах\")\n",
    "pl.ylabel(\"Количество квартир\")"
   ]
  },
  {
   "cell_type": "code",
   "execution_count": 42,
   "metadata": {},
   "outputs": [
    {
     "data": {
      "image/png": "[encoded data removed]",
      "text/plain": [
       "<Figure size 432x288 with 1 Axes>"
      ]
     },
     "metadata": {
      "needs_background": "light"
     },
     "output_type": "display_data"
    }
   ],
   "source": [
    "data.boxplot(column = 'total_area')\n",
    "plt.show()"
   ]
  },
  {
   "cell_type": "code",
   "execution_count": 43,
   "metadata": {},
   "outputs": [],
   "source": [
    "data = data.query('total_area > 29 and total_area < 104')"
   ]
  },
  {
   "cell_type": "markdown",
   "metadata": {},
   "source": [
    "\n",
    "На боксплоте видно, что верхний ус у нас заканчивается в районе чуть больше 105 м, как и на гистограмме, \n",
    "чтобы изавиться от чрезмерно больших значений, мы убираем все значения больше 104 метров.\n",
    "\n"
   ]
  },
  {
   "cell_type": "code",
   "execution_count": 44,
   "metadata": {
    "scrolled": false
   },
   "outputs": [
    {
     "name": "stdout",
     "output_type": "stream",
     "text": [
      "4400000.0\n"
     ]
    },
    {
     "data": {
      "text/plain": [
       "count      17992.00\n",
       "mean     5020692.26\n",
       "std      2769525.74\n",
       "min       430000.00\n",
       "25%      3400000.00\n",
       "50%      4400000.00\n",
       "75%      5999000.00\n",
       "max     53000000.00\n",
       "Name: last_price, dtype: float64"
      ]
     },
     "execution_count": 44,
     "metadata": {},
     "output_type": "execute_result"
    }
   ],
   "source": [
    "print(data['last_price'].median())\n",
    "data['last_price'].describe()"
   ]
  },
  {
   "cell_type": "code",
   "execution_count": 45,
   "metadata": {},
   "outputs": [],
   "source": [
    "data['last_price'] = data['last_price'] / 1000000"
   ]
  },
  {
   "cell_type": "markdown",
   "metadata": {},
   "source": [
    "По интерквартильному размаху можем заметить что, большинство значений до верхнего уса находится в пределах 10 миллионов рублей. Соответственно все большие значения могут искажать показатели данной переменной и не позволят нам нормально провести корреляционный анализ, на чём я уже убедился. Поэтому убираем все выбросы 10 миллионов, которые хотя и составляют определенную часть значений, больше вредят нам, чем позволяют использовать данные этого столбца для определения связей между переменными."
   ]
  },
  {
   "cell_type": "code",
   "execution_count": 46,
   "metadata": {},
   "outputs": [
    {
     "data": {
      "image/png": "[encoded data removed]",
      "text/plain": [
       "<Figure size 432x288 with 1 Axes>"
      ]
     },
     "metadata": {
      "needs_background": "light"
     },
     "output_type": "display_data"
    }
   ],
   "source": [
    "data.boxplot(column = 'last_price')\n",
    "plt.show()"
   ]
  },
  {
   "cell_type": "code",
   "execution_count": 47,
   "metadata": {},
   "outputs": [
    {
     "data": {
      "text/plain": [
       "Text(0, 0.5, 'Количество квартир')"
      ]
     },
     "execution_count": 47,
     "metadata": {},
     "output_type": "execute_result"
    },
    {
     "data": {
      "image/png": "[encoded data removed]",
      "text/plain": [
       "<Figure size 720x504 with 1 Axes>"
      ]
     },
     "metadata": {
      "needs_background": "light"
     },
     "output_type": "display_data"
    }
   ],
   "source": [
    "data['last_price'].hist(bins = 30, figsize = (10,7))\n",
    "pl.title(\"Стоимость квартир\")\n",
    "pl.xlabel(\"Стоимость в млн RUB\")\n",
    "pl.ylabel(\"Количество квартир\")"
   ]
  },
  {
   "cell_type": "code",
   "execution_count": 48,
   "metadata": {},
   "outputs": [],
   "source": [
    "data = data.query('last_price > 1 and last_price < 10')"
   ]
  },
  {
   "cell_type": "markdown",
   "metadata": {},
   "source": [
    "1. При просмотре статистических показателей обращает на себя наличие очень большого максимума,\n",
    "в то время как интерквартильный размах находится между 3.3 и 6.4 млн.\n",
    "2. Чтобы избавиться от миллионных значений, я разделил все значения на миллион.  \n",
    "3. Разброс значений довольно ощутимый, что можно заметь из диаграммы, боксплота и метода describe. \n",
    "4. При более детальном просмотре малых значений, можем заметить, что малая цена установлена в поселках\n",
    "и маленьких городах. Значений до 1 000 000 всего 161 штука. Чтобы избавиться от этих выбросов - удалим их.\n",
    "5. На боксплоте видно, что у нас достаточно много больших значений, которые создают перекос в данных.Мы избавляемся от них\n",
    "и ставим верхний порог цене в 10млн."
   ]
  },
  {
   "cell_type": "code",
   "execution_count": 49,
   "metadata": {
    "scrolled": false
   },
   "outputs": [
    {
     "data": {
      "text/plain": [
       "count   16937.00\n",
       "mean        1.88\n",
       "std         0.85\n",
       "min         0.00\n",
       "25%         1.00\n",
       "50%         2.00\n",
       "75%         2.00\n",
       "max         6.00\n",
       "Name: rooms, dtype: float64"
      ]
     },
     "execution_count": 49,
     "metadata": {},
     "output_type": "execute_result"
    }
   ],
   "source": [
    "data['rooms'].describe()"
   ]
  },
  {
   "cell_type": "code",
   "execution_count": 50,
   "metadata": {},
   "outputs": [
    {
     "name": "stdout",
     "output_type": "stream",
     "text": [
      "rooms\n",
      "0   21.00\n",
      "1    4.00\n",
      "2    0.00\n",
      "3    0.00\n",
      "4    0.00\n",
      "5    0.00\n",
      "6    0.00\n",
      "Name: studio, dtype: float64\n"
     ]
    }
   ],
   "source": [
    "print(data.groupby('rooms')['studio'].sum())"
   ]
  },
  {
   "cell_type": "markdown",
   "metadata": {},
   "source": [
    "1.В столбце с количеством комнат есть значения ноль. Они могут показаться странными, но при \n",
    "проверке на принадлежность к студиям мы убеждаемся, что почти все безкомнатные квартиры являются\n",
    "студиями. Поэтому удалять их не стоит.\n",
    "2. На боксплоте мы видим, что квартиры с 6 и более комнатами практически отсутствуют. Поэтому избавимся\n",
    "от этих выбросов, чтобы они не искажали нам данные."
   ]
  },
  {
   "cell_type": "code",
   "execution_count": 51,
   "metadata": {},
   "outputs": [
    {
     "name": "stdout",
     "output_type": "stream",
     "text": [
      "\u001b[1mКоличество комнат в квартирах\u001b[0m\n"
     ]
    },
    {
     "data": {
      "text/plain": [
       "count   16937.00\n",
       "mean        2.66\n",
       "std         0.16\n",
       "min         2.00\n",
       "25%         2.60\n",
       "50%         2.65\n",
       "75%         2.65\n",
       "max         4.70\n",
       "Name: ceiling_height, dtype: float64"
      ]
     },
     "execution_count": 51,
     "metadata": {},
     "output_type": "execute_result"
    }
   ],
   "source": [
    "print ('\\033[1m' + 'Количество комнат в квартирах' + '\\033[0m')\n",
    "data['ceiling_height'].describe()"
   ]
  },
  {
   "cell_type": "code",
   "execution_count": 52,
   "metadata": {
    "scrolled": false
   },
   "outputs": [
    {
     "data": {
      "text/plain": [
       "Text(0, 0.5, 'Количество квартир')"
      ]
     },
     "execution_count": 52,
     "metadata": {},
     "output_type": "execute_result"
    },
    {
     "data": {
      "image/png": "[encoded data removed]",
      "text/plain": [
       "<Figure size 576x720 with 1 Axes>"
      ]
     },
     "metadata": {
      "needs_background": "light"
     },
     "output_type": "display_data"
    }
   ],
   "source": [
    "data['ceiling_height'].hist(bins = 30, figsize = (8,10))\n",
    "\n",
    "pl.title(\"Высота потолков\")\n",
    "pl.xlabel(\"Высота в метрах\")\n",
    "pl.ylabel(\"Количество квартир\")"
   ]
  },
  {
   "cell_type": "code",
   "execution_count": 53,
   "metadata": {},
   "outputs": [],
   "source": [
    "data = data.query('ceiling_height < 3')"
   ]
  },
  {
   "cell_type": "markdown",
   "metadata": {},
   "source": [
    "На боксплоте видно, что большое количество значений находится за пределами верхнего уса и доходит до 4 метров. Все что выше является выбросом и будет удалено из наших данных. "
   ]
  },
  {
   "cell_type": "code",
   "execution_count": 54,
   "metadata": {
    "scrolled": true
   },
   "outputs": [
    {
     "name": "stdout",
     "output_type": "stream",
     "text": [
      "\u001b[1mОписательные статистики длительности объявлений квартир\u001b[0m\n"
     ]
    },
    {
     "data": {
      "text/plain": [
       "count   15857.00\n",
       "mean      147.79\n",
       "std       159.65\n",
       "min         1.00\n",
       "25%        42.00\n",
       "50%        85.00\n",
       "75%       198.00\n",
       "max       798.00\n",
       "Name: days_exposition, dtype: float64"
      ]
     },
     "execution_count": 54,
     "metadata": {},
     "output_type": "execute_result"
    }
   ],
   "source": [
    "print ('\\033[1m' + 'Описательные статистики длительности объявлений квартир' + '\\033[0m')\n",
    "data['days_exposition'].describe()"
   ]
  },
  {
   "cell_type": "code",
   "execution_count": 55,
   "metadata": {},
   "outputs": [
    {
     "name": "stdout",
     "output_type": "stream",
     "text": [
      "0.01     3.00\n",
      "0.50    85.00\n",
      "0.95   504.00\n",
      "Name: days_exposition, dtype: float64\n"
     ]
    }
   ],
   "source": [
    "print(data['days_exposition'].quantile([.005, .5, .95]))"
   ]
  },
  {
   "cell_type": "code",
   "execution_count": 56,
   "metadata": {},
   "outputs": [
    {
     "data": {
      "text/plain": [
       "Text(0, 0.5, 'Количество объявлений')"
      ]
     },
     "execution_count": 56,
     "metadata": {},
     "output_type": "execute_result"
    },
    {
     "data": {
      "image/png": "[encoded data removed]",
      "text/plain": [
       "<Figure size 720x360 with 1 Axes>"
      ]
     },
     "metadata": {
      "needs_background": "light"
     },
     "output_type": "display_data"
    }
   ],
   "source": [
    "data['days_exposition'].hist(bins = 30, figsize = (10,5))\n",
    "pl.title(\"Длительность объявлений\")\n",
    "pl.xlabel(\"Срок объявлений в днях\")\n",
    "pl.ylabel(\"Количество объявлений\")"
   ]
  },
  {
   "cell_type": "code",
   "execution_count": 57,
   "metadata": {},
   "outputs": [
    {
     "data": {
      "image/png": "[encoded data removed]",
      "text/plain": [
       "<Figure size 432x288 with 1 Axes>"
      ]
     },
     "metadata": {
      "needs_background": "light"
     },
     "output_type": "display_data"
    }
   ],
   "source": [
    "data.boxplot(column = 'days_exposition')\n",
    "plt.show()"
   ]
  },
  {
   "cell_type": "code",
   "execution_count": 58,
   "metadata": {},
   "outputs": [],
   "source": [
    "data = data.query('days_exposition > 3 and days_exposition < 524')"
   ]
  },
  {
   "cell_type": "markdown",
   "metadata": {},
   "source": [
    "1. Чуть раньше я уже успел убрать выбросы в длительности продажи квартиры.\n",
    "2. Как мы можем заметить в среднем продажа длиться 154 дня. Хотя присутствует довольно \n",
    "ощутимый разброс - стандартное отклонение равно 164. \n",
    "3. Присутствует и достаточно большое количество выбросов в больших значениях. Например, на боксплоте мы можем заметить,\n",
    "что достаточное количество наблюдений находится за пределами максимального значения в районе от 500 до 800 значений.\n",
    "4. Это подтверждается и статистическими данными метода desribe - максимальное значение 799 (уже откорректированное)\n",
    "на 3 стандартных отклонения удалилось от 3го квартиля. \n",
    "5. Чтобы избавиться от чрезмерно больших значений я использую персентили и беру 95% всех значений. Соответственно я отрезаю 5% самых больших значений, которые создают перекосы в данных, хотя они представляют незначительное количество наблюдений. Поэтому порог в 523 будет говорить о том, что объявления с этим сроком и больше являются слишком долгими. По этой причине мы удалим их. \n",
    "6. Самые маленькие значения, которые нам искажают картину видны на гистограмме. Все наблюдения,\n",
    "которые бали короче 4 дней будут удалены. \n"
   ]
  },
  {
   "cell_type": "code",
   "execution_count": 59,
   "metadata": {
    "scrolled": true
   },
   "outputs": [
    {
     "name": "stdout",
     "output_type": "stream",
     "text": [
      "Коэффициент корреляции между стоимостью квадратного метра и общей площадью квартиры: -0.15714493485936332\n"
     ]
    }
   ],
   "source": [
    "print(\"Коэффициент корреляции между стоимостью квадратного метра и общей площадью квартиры:\",data['square_metre'].corr(data['total_area']))"
   ]
  },
  {
   "cell_type": "code",
   "execution_count": 60,
   "metadata": {},
   "outputs": [
    {
     "name": "stdout",
     "output_type": "stream",
     "text": [
      "Коэффициент корреляции между стоимостью квадратного метра и количеством комнат: -0.28747855880376183\n"
     ]
    }
   ],
   "source": [
    "print(\"Коэффициент корреляции между стоимостью квадратного метра и количеством комнат:\",data['square_metre'].corr(data['rooms']))"
   ]
  },
  {
   "cell_type": "code",
   "execution_count": 61,
   "metadata": {},
   "outputs": [
    {
     "name": "stdout",
     "output_type": "stream",
     "text": [
      "Коэффициент корреляции между стоимостью квадратного метра и близостью к центру: -0.39505580991789413\n"
     ]
    }
   ],
   "source": [
    "print(\"Коэффициент корреляции между стоимостью квадратного метра и близостью к центру:\", data['square_metre'].corr(data['cityCenters_nearest']))"
   ]
  },
  {
   "cell_type": "code",
   "execution_count": 62,
   "metadata": {},
   "outputs": [
    {
     "name": "stdout",
     "output_type": "stream",
     "text": [
      "Коэффициент корреляции между стоимостью квадратного метра и днем размещения объявления: 0.0014835328307458504\n"
     ]
    }
   ],
   "source": [
    "print(\"Коэффициент корреляции между стоимостью квадратного метра и днем размещения объявления:\",data['square_metre'].corr(data['weekday_ad_exposition']))    "
   ]
  },
  {
   "cell_type": "code",
   "execution_count": 63,
   "metadata": {},
   "outputs": [
    {
     "name": "stdout",
     "output_type": "stream",
     "text": [
      "Коэффициент корреляции между стоимостью квадратного метра и месяцем размещения объявления: 0.0047378225288540665\n"
     ]
    }
   ],
   "source": [
    "print(\"Коэффициент корреляции между стоимостью квадратного метра и месяцем размещения объявления:\", data['square_metre'].corr(data['month_ad_exposition']))    "
   ]
  },
  {
   "cell_type": "code",
   "execution_count": 64,
   "metadata": {},
   "outputs": [
    {
     "name": "stdout",
     "output_type": "stream",
     "text": [
      "Коэффициент корреляции между стоимостью квадратного метра и годом размещения объявления: 0.08694682611319839\n"
     ]
    }
   ],
   "source": [
    "print(\"Коэффициент корреляции между стоимостью квадратного метра и годом размещения объявления:\",data['square_metre'].corr(data['year_ad_exposition']))   "
   ]
  },
  {
   "cell_type": "code",
   "execution_count": 65,
   "metadata": {},
   "outputs": [
    {
     "data": {
      "text/html": [
       "<div>\n",
       "<style scoped>\n",
       "    .dataframe tbody tr th:only-of-type {\n",
       "        vertical-align: middle;\n",
       "    }\n",
       "\n",
       "    .dataframe tbody tr th {\n",
       "        vertical-align: top;\n",
       "    }\n",
       "\n",
       "    .dataframe thead th {\n",
       "        text-align: right;\n",
       "    }\n",
       "</style>\n",
       "<table border=\"1\" class=\"dataframe\">\n",
       "  <thead>\n",
       "    <tr style=\"text-align: right;\">\n",
       "      <th></th>\n",
       "      <th>square_metre</th>\n",
       "    </tr>\n",
       "    <tr>\n",
       "      <th>floor_category</th>\n",
       "      <th></th>\n",
       "    </tr>\n",
       "  </thead>\n",
       "  <tbody>\n",
       "    <tr>\n",
       "      <th>другой</th>\n",
       "      <td>93676.56</td>\n",
       "    </tr>\n",
       "    <tr>\n",
       "      <th>первый</th>\n",
       "      <td>77425.99</td>\n",
       "    </tr>\n",
       "    <tr>\n",
       "      <th>последний</th>\n",
       "      <td>81862.86</td>\n",
       "    </tr>\n",
       "  </tbody>\n",
       "</table>\n",
       "</div>"
      ],
      "text/plain": [
       "                square_metre\n",
       "floor_category              \n",
       "другой              93676.56\n",
       "первый              77425.99\n",
       "последний           81862.86"
      ]
     },
     "metadata": {},
     "output_type": "display_data"
    }
   ],
   "source": [
    "display(data.pivot_table(index = 'floor_category', values = 'square_metre'))"
   ]
  },
  {
   "cell_type": "markdown",
   "metadata": {},
   "source": [
    " 1. Корреляция между общей площадью и ценой квадратного метра является негативной (-0.15). Это говорит о том, что при  увеличении площади квартиры, стоимость квадратного метра уменьшается и наоборот. При большом метраже стоимость квадратного метра уменьшается, т.к в общем продавец все равно получит большую сумму, а далеко не все покупатели готовы платить за квадратный метр такую же сумму при больших размерах квартиры. Аналогично, при маленьком метраже стоимость квадратного метра увеличивается. \n",
    " \n",
    "2. Цена на квадратный метр  имеет отрицательную корреляцию с количеством комнат(-0.28). Т.е. при увеличении количества комнат в квартире, цена квадратного метра будет более склонна к удешевлению. И наоборот, при увеличии цены квадратного метра, количествокомнат будет двигаться в сторону уменьшения.Данные этой корреляции подтверждают распростанёенный факт, что при увеличении количества комнат, квадратный метр квартиры в целом стоит дешевле. Эти данные вписываются в логику сегмента жилой неждвижимости, когда кв. м в квартирах с малым количеством комнат как правило дороже кв. м с большим количеством комнат.  \n",
    "\n",
    "3. При увеличении расстояния от центра города, цена соответственно уменьшается. Поэтому между этими двумя переменными наблюдается четкая негативная корреляция (-0.39). Близость к центру является важным фактором ценообразования жилой недвижимости, т.к квартиры в центральной части города продолжают оставаться популярными среди покупателей по разным причинам:развитая инфраструктура, близость к работе и разврелечниями, хорошее транспортное сообщение.\n",
    "\n",
    "4. Корреляция с днём недели и месяцем практически отсутствует(0.0002). Когда проверяем корреляцию с годом, то она чуть \n",
    "более выражена и позитивна(0.08). Экономика потихоньку восстанавливалась в 2017-2019 годах, в то время как в 2015-2016 стремительно пикировала вниз. Соответственно падала и покупальная способность населения. Когда экономика начала восстанавливаться, то и покупательная способность населения начала расти, поэтому и цену немного подтянулись вверх. \n",
    "\n",
    "5. При соотношении цены на квадратный метра и категорией этажа мы можем заметить, что первый этаж самый дешевый (на 9% дешевле последнего и на 19% \"другого\"). Последний на 12% процентов дешевле \"другого\". \n",
    "\n"
   ]
  },
  {
   "cell_type": "markdown",
   "metadata": {},
   "source": [
    "### Список с большим количеством объявлений, цена с ценой кв.м в населенных пунктах, их рейтинг по стоимости "
   ]
  },
  {
   "cell_type": "code",
   "execution_count": 66,
   "metadata": {
    "scrolled": false
   },
   "outputs": [
    {
     "name": "stdout",
     "output_type": "stream",
     "text": [
      "\u001b[1mКоличество объявлений по населенным пунктам\u001b[0m\n"
     ]
    },
    {
     "data": {
      "text/html": [
       "<div>\n",
       "<style scoped>\n",
       "    .dataframe tbody tr th:only-of-type {\n",
       "        vertical-align: middle;\n",
       "    }\n",
       "\n",
       "    .dataframe tbody tr th {\n",
       "        vertical-align: top;\n",
       "    }\n",
       "\n",
       "    .dataframe thead th {\n",
       "        text-align: right;\n",
       "    }\n",
       "</style>\n",
       "<table border=\"1\" class=\"dataframe\">\n",
       "  <thead>\n",
       "    <tr style=\"text-align: right;\">\n",
       "      <th></th>\n",
       "      <th>square_metre</th>\n",
       "    </tr>\n",
       "    <tr>\n",
       "      <th>locality_name</th>\n",
       "      <th></th>\n",
       "    </tr>\n",
       "  </thead>\n",
       "  <tbody>\n",
       "    <tr>\n",
       "      <th>Санкт-Петербург</th>\n",
       "      <td>9512</td>\n",
       "    </tr>\n",
       "    <tr>\n",
       "      <th>посёлок Мурино</th>\n",
       "      <td>420</td>\n",
       "    </tr>\n",
       "    <tr>\n",
       "      <th>посёлок Шушары</th>\n",
       "      <td>368</td>\n",
       "    </tr>\n",
       "    <tr>\n",
       "      <th>Всеволожск</th>\n",
       "      <td>285</td>\n",
       "    </tr>\n",
       "    <tr>\n",
       "      <th>посёлок Парголово</th>\n",
       "      <td>282</td>\n",
       "    </tr>\n",
       "    <tr>\n",
       "      <th>Колпино</th>\n",
       "      <td>272</td>\n",
       "    </tr>\n",
       "    <tr>\n",
       "      <th>деревня Кудрово</th>\n",
       "      <td>235</td>\n",
       "    </tr>\n",
       "    <tr>\n",
       "      <th>Пушкин</th>\n",
       "      <td>232</td>\n",
       "    </tr>\n",
       "    <tr>\n",
       "      <th>Гатчина</th>\n",
       "      <td>226</td>\n",
       "    </tr>\n",
       "    <tr>\n",
       "      <th>Выборг</th>\n",
       "      <td>164</td>\n",
       "    </tr>\n",
       "  </tbody>\n",
       "</table>\n",
       "</div>"
      ],
      "text/plain": [
       "                   square_metre\n",
       "locality_name                  \n",
       "Санкт-Петербург            9512\n",
       "посёлок Мурино              420\n",
       "посёлок Шушары              368\n",
       "Всеволожск                  285\n",
       "посёлок Парголово           282\n",
       "Колпино                     272\n",
       "деревня Кудрово             235\n",
       "Пушкин                      232\n",
       "Гатчина                     226\n",
       "Выборг                      164"
      ]
     },
     "metadata": {},
     "output_type": "display_data"
    },
    {
     "name": "stdout",
     "output_type": "stream",
     "text": [
      "\n",
      "\u001b[1mСтоимость объявлений по населенным пунктам\u001b[0m\n"
     ]
    },
    {
     "data": {
      "text/html": [
       "<div>\n",
       "<style scoped>\n",
       "    .dataframe tbody tr th:only-of-type {\n",
       "        vertical-align: middle;\n",
       "    }\n",
       "\n",
       "    .dataframe tbody tr th {\n",
       "        vertical-align: top;\n",
       "    }\n",
       "\n",
       "    .dataframe thead th {\n",
       "        text-align: right;\n",
       "    }\n",
       "</style>\n",
       "<table border=\"1\" class=\"dataframe\">\n",
       "  <thead>\n",
       "    <tr style=\"text-align: right;\">\n",
       "      <th></th>\n",
       "      <th>square_metre</th>\n",
       "    </tr>\n",
       "    <tr>\n",
       "      <th>locality_name</th>\n",
       "      <th></th>\n",
       "    </tr>\n",
       "  </thead>\n",
       "  <tbody>\n",
       "    <tr>\n",
       "      <th>посёлок Лисий Нос</th>\n",
       "      <td>168706.70</td>\n",
       "    </tr>\n",
       "    <tr>\n",
       "      <th>Санкт-Петербург</th>\n",
       "      <td>102377.57</td>\n",
       "    </tr>\n",
       "    <tr>\n",
       "      <th>Сестрорецк</th>\n",
       "      <td>100939.01</td>\n",
       "    </tr>\n",
       "    <tr>\n",
       "      <th>Зеленогорск</th>\n",
       "      <td>100139.26</td>\n",
       "    </tr>\n",
       "    <tr>\n",
       "      <th>Пушкин</th>\n",
       "      <td>98143.53</td>\n",
       "    </tr>\n",
       "    <tr>\n",
       "      <th>посёлок Левашово</th>\n",
       "      <td>96997.69</td>\n",
       "    </tr>\n",
       "    <tr>\n",
       "      <th>Кудрово</th>\n",
       "      <td>96965.10</td>\n",
       "    </tr>\n",
       "    <tr>\n",
       "      <th>деревня Мистолово</th>\n",
       "      <td>96157.15</td>\n",
       "    </tr>\n",
       "    <tr>\n",
       "      <th>посёлок Репино</th>\n",
       "      <td>92727.27</td>\n",
       "    </tr>\n",
       "    <tr>\n",
       "      <th>деревня Кудрово</th>\n",
       "      <td>91756.70</td>\n",
       "    </tr>\n",
       "  </tbody>\n",
       "</table>\n",
       "</div>"
      ],
      "text/plain": [
       "                   square_metre\n",
       "locality_name                  \n",
       "посёлок Лисий Нос     168706.70\n",
       "Санкт-Петербург       102377.57\n",
       "Сестрорецк            100939.01\n",
       "Зеленогорск           100139.26\n",
       "Пушкин                 98143.53\n",
       "посёлок Левашово       96997.69\n",
       "Кудрово                96965.10\n",
       "деревня Мистолово      96157.15\n",
       "посёлок Репино         92727.27\n",
       "деревня Кудрово        91756.70"
      ]
     },
     "metadata": {},
     "output_type": "display_data"
    }
   ],
   "source": [
    "print ('\\033[1m' + 'Количество объявлений по населенным пунктам' + '\\033[0m')\n",
    "display(data.pivot_table(index = 'locality_name', values = 'square_metre', aggfunc = 'count')\\\n",
    "    .sort_values(by = 'square_metre', ascending = False).head(10))\n",
    "print()\n",
    "\n",
    "print ('\\033[1m' + 'Стоимость объявлений по населенным пунктам' + '\\033[0m')\n",
    "display(data.pivot_table(index = 'locality_name', values = 'square_metre')\\\n",
    "    .sort_values(by = 'square_metre', ascending = False).head(10))\n"
   ]
  },
  {
   "cell_type": "markdown",
   "metadata": {},
   "source": [
    "1. Список из 10 населённых пунктов с самым большим количеством объявлений. Санкт-петербург впереди с большим отрывом(почти 10 тысяч объявлений, ближайший конкурент - 420).\n",
    "2. Посёлок лисий нос впереди с большим отрывом по стоимости кв.м. жилья(168 тысяч). Петербург только на третьем месте\n",
    "- 107270 за кв.м.\n",
    "Самая дешевые квартиры из первой десятки в поселке репино и деревне кудрово. \n"
   ]
  },
  {
   "cell_type": "code",
   "execution_count": 67,
   "metadata": {},
   "outputs": [],
   "source": [
    "data['locality_name'] = data['locality_name'].str.lower()"
   ]
  },
  {
   "cell_type": "code",
   "execution_count": 68,
   "metadata": {},
   "outputs": [
    {
     "data": {
      "text/plain": [
       "count               15135\n",
       "unique                287\n",
       "top       санкт-петербург\n",
       "freq                 9512\n",
       "Name: locality_name, dtype: object"
      ]
     },
     "execution_count": 68,
     "metadata": {},
     "output_type": "execute_result"
    }
   ],
   "source": [
    "data['locality_name'].describe()"
   ]
  },
  {
   "cell_type": "code",
   "execution_count": 70,
   "metadata": {},
   "outputs": [],
   "source": [
    "spb_data = data.query('locality_name == \"санкт-петербург\"')\n"
   ]
  },
  {
   "cell_type": "code",
   "execution_count": 71,
   "metadata": {},
   "outputs": [
    {
     "data": {
      "text/html": [
       "<div>\n",
       "<style scoped>\n",
       "    .dataframe tbody tr th:only-of-type {\n",
       "        vertical-align: middle;\n",
       "    }\n",
       "\n",
       "    .dataframe tbody tr th {\n",
       "        vertical-align: top;\n",
       "    }\n",
       "\n",
       "    .dataframe thead th {\n",
       "        text-align: right;\n",
       "    }\n",
       "</style>\n",
       "<table border=\"1\" class=\"dataframe\">\n",
       "  <thead>\n",
       "    <tr style=\"text-align: right;\">\n",
       "      <th></th>\n",
       "      <th>total_images</th>\n",
       "      <th>last_price</th>\n",
       "      <th>total_area</th>\n",
       "      <th>first_day_exposition</th>\n",
       "      <th>rooms</th>\n",
       "      <th>ceiling_height</th>\n",
       "      <th>floors_total</th>\n",
       "      <th>living_area</th>\n",
       "      <th>floor</th>\n",
       "      <th>is_apartment</th>\n",
       "      <th>...</th>\n",
       "      <th>ponds_around3000</th>\n",
       "      <th>ponds_nearest</th>\n",
       "      <th>days_exposition</th>\n",
       "      <th>square_metre</th>\n",
       "      <th>floor_category</th>\n",
       "      <th>weekday_ad_exposition</th>\n",
       "      <th>month_ad_exposition</th>\n",
       "      <th>year_ad_exposition</th>\n",
       "      <th>living_to_total_size</th>\n",
       "      <th>kitchen_to_total_size</th>\n",
       "    </tr>\n",
       "  </thead>\n",
       "  <tbody>\n",
       "    <tr>\n",
       "      <th>9</th>\n",
       "      <td>18</td>\n",
       "      <td>5.40</td>\n",
       "      <td>61.00</td>\n",
       "      <td>2017-02-26</td>\n",
       "      <td>3</td>\n",
       "      <td>2.50</td>\n",
       "      <td>9.00</td>\n",
       "      <td>43.60</td>\n",
       "      <td>7</td>\n",
       "      <td>False</td>\n",
       "      <td>...</td>\n",
       "      <td>0.00</td>\n",
       "      <td>13220.00</td>\n",
       "      <td>289.00</td>\n",
       "      <td>88524.59</td>\n",
       "      <td>другой</td>\n",
       "      <td>6</td>\n",
       "      <td>2</td>\n",
       "      <td>2017</td>\n",
       "      <td>0.71</td>\n",
       "      <td>0.11</td>\n",
       "    </tr>\n",
       "    <tr>\n",
       "      <th>10</th>\n",
       "      <td>5</td>\n",
       "      <td>5.05</td>\n",
       "      <td>39.60</td>\n",
       "      <td>2017-11-16</td>\n",
       "      <td>1</td>\n",
       "      <td>2.67</td>\n",
       "      <td>12.00</td>\n",
       "      <td>20.30</td>\n",
       "      <td>3</td>\n",
       "      <td>False</td>\n",
       "      <td>...</td>\n",
       "      <td>2.00</td>\n",
       "      <td>553.00</td>\n",
       "      <td>137.00</td>\n",
       "      <td>127525.25</td>\n",
       "      <td>другой</td>\n",
       "      <td>3</td>\n",
       "      <td>11</td>\n",
       "      <td>2017</td>\n",
       "      <td>0.51</td>\n",
       "      <td>0.21</td>\n",
       "    </tr>\n",
       "    <tr>\n",
       "      <th>15</th>\n",
       "      <td>16</td>\n",
       "      <td>4.65</td>\n",
       "      <td>39.00</td>\n",
       "      <td>2017-11-18</td>\n",
       "      <td>1</td>\n",
       "      <td>2.65</td>\n",
       "      <td>14.00</td>\n",
       "      <td>20.50</td>\n",
       "      <td>5</td>\n",
       "      <td>False</td>\n",
       "      <td>...</td>\n",
       "      <td>1.00</td>\n",
       "      <td>296.00</td>\n",
       "      <td>19.00</td>\n",
       "      <td>119230.77</td>\n",
       "      <td>другой</td>\n",
       "      <td>5</td>\n",
       "      <td>11</td>\n",
       "      <td>2017</td>\n",
       "      <td>0.53</td>\n",
       "      <td>0.19</td>\n",
       "    </tr>\n",
       "    <tr>\n",
       "      <th>18</th>\n",
       "      <td>8</td>\n",
       "      <td>3.25</td>\n",
       "      <td>31.00</td>\n",
       "      <td>2017-01-27</td>\n",
       "      <td>1</td>\n",
       "      <td>2.50</td>\n",
       "      <td>5.00</td>\n",
       "      <td>19.40</td>\n",
       "      <td>2</td>\n",
       "      <td>False</td>\n",
       "      <td>...</td>\n",
       "      <td>0.00</td>\n",
       "      <td>13220.00</td>\n",
       "      <td>168.00</td>\n",
       "      <td>104838.71</td>\n",
       "      <td>другой</td>\n",
       "      <td>4</td>\n",
       "      <td>1</td>\n",
       "      <td>2017</td>\n",
       "      <td>0.63</td>\n",
       "      <td>0.18</td>\n",
       "    </tr>\n",
       "    <tr>\n",
       "      <th>21</th>\n",
       "      <td>13</td>\n",
       "      <td>3.20</td>\n",
       "      <td>31.60</td>\n",
       "      <td>2018-03-14</td>\n",
       "      <td>1</td>\n",
       "      <td>2.65</td>\n",
       "      <td>5.00</td>\n",
       "      <td>16.90</td>\n",
       "      <td>2</td>\n",
       "      <td>False</td>\n",
       "      <td>...</td>\n",
       "      <td>0.00</td>\n",
       "      <td>13220.00</td>\n",
       "      <td>310.00</td>\n",
       "      <td>101265.82</td>\n",
       "      <td>другой</td>\n",
       "      <td>2</td>\n",
       "      <td>3</td>\n",
       "      <td>2018</td>\n",
       "      <td>0.53</td>\n",
       "      <td>0.18</td>\n",
       "    </tr>\n",
       "    <tr>\n",
       "      <th>...</th>\n",
       "      <td>...</td>\n",
       "      <td>...</td>\n",
       "      <td>...</td>\n",
       "      <td>...</td>\n",
       "      <td>...</td>\n",
       "      <td>...</td>\n",
       "      <td>...</td>\n",
       "      <td>...</td>\n",
       "      <td>...</td>\n",
       "      <td>...</td>\n",
       "      <td>...</td>\n",
       "      <td>...</td>\n",
       "      <td>...</td>\n",
       "      <td>...</td>\n",
       "      <td>...</td>\n",
       "      <td>...</td>\n",
       "      <td>...</td>\n",
       "      <td>...</td>\n",
       "      <td>...</td>\n",
       "      <td>...</td>\n",
       "      <td>...</td>\n",
       "    </tr>\n",
       "    <tr>\n",
       "      <th>23686</th>\n",
       "      <td>8</td>\n",
       "      <td>3.30</td>\n",
       "      <td>31.00</td>\n",
       "      <td>2017-04-29</td>\n",
       "      <td>1</td>\n",
       "      <td>2.55</td>\n",
       "      <td>9.00</td>\n",
       "      <td>18.00</td>\n",
       "      <td>6</td>\n",
       "      <td>False</td>\n",
       "      <td>...</td>\n",
       "      <td>1.00</td>\n",
       "      <td>317.00</td>\n",
       "      <td>193.00</td>\n",
       "      <td>106451.61</td>\n",
       "      <td>другой</td>\n",
       "      <td>5</td>\n",
       "      <td>4</td>\n",
       "      <td>2017</td>\n",
       "      <td>0.58</td>\n",
       "      <td>0.21</td>\n",
       "    </tr>\n",
       "    <tr>\n",
       "      <th>23687</th>\n",
       "      <td>6</td>\n",
       "      <td>3.20</td>\n",
       "      <td>39.00</td>\n",
       "      <td>2017-12-16</td>\n",
       "      <td>1</td>\n",
       "      <td>2.65</td>\n",
       "      <td>9.00</td>\n",
       "      <td>20.00</td>\n",
       "      <td>6</td>\n",
       "      <td>False</td>\n",
       "      <td>...</td>\n",
       "      <td>0.00</td>\n",
       "      <td>13220.00</td>\n",
       "      <td>38.00</td>\n",
       "      <td>82051.28</td>\n",
       "      <td>другой</td>\n",
       "      <td>5</td>\n",
       "      <td>12</td>\n",
       "      <td>2017</td>\n",
       "      <td>0.51</td>\n",
       "      <td>0.28</td>\n",
       "    </tr>\n",
       "    <tr>\n",
       "      <th>23689</th>\n",
       "      <td>13</td>\n",
       "      <td>3.55</td>\n",
       "      <td>35.30</td>\n",
       "      <td>2018-02-28</td>\n",
       "      <td>1</td>\n",
       "      <td>2.86</td>\n",
       "      <td>15.00</td>\n",
       "      <td>16.30</td>\n",
       "      <td>4</td>\n",
       "      <td>False</td>\n",
       "      <td>...</td>\n",
       "      <td>2.00</td>\n",
       "      <td>652.00</td>\n",
       "      <td>29.00</td>\n",
       "      <td>100566.57</td>\n",
       "      <td>другой</td>\n",
       "      <td>2</td>\n",
       "      <td>2</td>\n",
       "      <td>2018</td>\n",
       "      <td>0.46</td>\n",
       "      <td>0.26</td>\n",
       "    </tr>\n",
       "    <tr>\n",
       "      <th>23690</th>\n",
       "      <td>3</td>\n",
       "      <td>5.50</td>\n",
       "      <td>52.00</td>\n",
       "      <td>2018-07-19</td>\n",
       "      <td>2</td>\n",
       "      <td>2.65</td>\n",
       "      <td>5.00</td>\n",
       "      <td>31.00</td>\n",
       "      <td>2</td>\n",
       "      <td>False</td>\n",
       "      <td>...</td>\n",
       "      <td>0.00</td>\n",
       "      <td>13220.00</td>\n",
       "      <td>15.00</td>\n",
       "      <td>105769.23</td>\n",
       "      <td>другой</td>\n",
       "      <td>3</td>\n",
       "      <td>7</td>\n",
       "      <td>2018</td>\n",
       "      <td>0.60</td>\n",
       "      <td>0.12</td>\n",
       "    </tr>\n",
       "    <tr>\n",
       "      <th>23691</th>\n",
       "      <td>11</td>\n",
       "      <td>9.47</td>\n",
       "      <td>72.90</td>\n",
       "      <td>2016-10-13</td>\n",
       "      <td>2</td>\n",
       "      <td>2.75</td>\n",
       "      <td>25.00</td>\n",
       "      <td>40.30</td>\n",
       "      <td>7</td>\n",
       "      <td>False</td>\n",
       "      <td>...</td>\n",
       "      <td>1.00</td>\n",
       "      <td>806.00</td>\n",
       "      <td>519.00</td>\n",
       "      <td>129903.98</td>\n",
       "      <td>другой</td>\n",
       "      <td>3</td>\n",
       "      <td>10</td>\n",
       "      <td>2016</td>\n",
       "      <td>0.55</td>\n",
       "      <td>0.15</td>\n",
       "    </tr>\n",
       "  </tbody>\n",
       "</table>\n",
       "<p>9512 rows × 29 columns</p>\n",
       "</div>"
      ],
      "text/plain": [
       "       total_images  last_price  total_area first_day_exposition  rooms  \\\n",
       "9                18        5.40       61.00           2017-02-26      3   \n",
       "10                5        5.05       39.60           2017-11-16      1   \n",
       "15               16        4.65       39.00           2017-11-18      1   \n",
       "18                8        3.25       31.00           2017-01-27      1   \n",
       "21               13        3.20       31.60           2018-03-14      1   \n",
       "...             ...         ...         ...                  ...    ...   \n",
       "23686             8        3.30       31.00           2017-04-29      1   \n",
       "23687             6        3.20       39.00           2017-12-16      1   \n",
       "23689            13        3.55       35.30           2018-02-28      1   \n",
       "23690             3        5.50       52.00           2018-07-19      2   \n",
       "23691            11        9.47       72.90           2016-10-13      2   \n",
       "\n",
       "       ceiling_height  floors_total  living_area  floor  is_apartment  ...  \\\n",
       "9                2.50          9.00        43.60      7         False  ...   \n",
       "10               2.67         12.00        20.30      3         False  ...   \n",
       "15               2.65         14.00        20.50      5         False  ...   \n",
       "18               2.50          5.00        19.40      2         False  ...   \n",
       "21               2.65          5.00        16.90      2         False  ...   \n",
       "...               ...           ...          ...    ...           ...  ...   \n",
       "23686            2.55          9.00        18.00      6         False  ...   \n",
       "23687            2.65          9.00        20.00      6         False  ...   \n",
       "23689            2.86         15.00        16.30      4         False  ...   \n",
       "23690            2.65          5.00        31.00      2         False  ...   \n",
       "23691            2.75         25.00        40.30      7         False  ...   \n",
       "\n",
       "       ponds_around3000  ponds_nearest  days_exposition  square_metre  \\\n",
       "9                  0.00       13220.00           289.00      88524.59   \n",
       "10                 2.00         553.00           137.00     127525.25   \n",
       "15                 1.00         296.00            19.00     119230.77   \n",
       "18                 0.00       13220.00           168.00     104838.71   \n",
       "21                 0.00       13220.00           310.00     101265.82   \n",
       "...                 ...            ...              ...           ...   \n",
       "23686              1.00         317.00           193.00     106451.61   \n",
       "23687              0.00       13220.00            38.00      82051.28   \n",
       "23689              2.00         652.00            29.00     100566.57   \n",
       "23690              0.00       13220.00            15.00     105769.23   \n",
       "23691              1.00         806.00           519.00     129903.98   \n",
       "\n",
       "      floor_category  weekday_ad_exposition  month_ad_exposition  \\\n",
       "9             другой                      6                    2   \n",
       "10            другой                      3                   11   \n",
       "15            другой                      5                   11   \n",
       "18            другой                      4                    1   \n",
       "21            другой                      2                    3   \n",
       "...              ...                    ...                  ...   \n",
       "23686         другой                      5                    4   \n",
       "23687         другой                      5                   12   \n",
       "23689         другой                      2                    2   \n",
       "23690         другой                      3                    7   \n",
       "23691         другой                      3                   10   \n",
       "\n",
       "       year_ad_exposition  living_to_total_size  kitchen_to_total_size  \n",
       "9                    2017                  0.71                   0.11  \n",
       "10                   2017                  0.51                   0.21  \n",
       "15                   2017                  0.53                   0.19  \n",
       "18                   2017                  0.63                   0.18  \n",
       "21                   2018                  0.53                   0.18  \n",
       "...                   ...                   ...                    ...  \n",
       "23686                2017                  0.58                   0.21  \n",
       "23687                2017                  0.51                   0.28  \n",
       "23689                2018                  0.46                   0.26  \n",
       "23690                2018                  0.60                   0.12  \n",
       "23691                2016                  0.55                   0.15  \n",
       "\n",
       "[9512 rows x 29 columns]"
      ]
     },
     "execution_count": 71,
     "metadata": {},
     "output_type": "execute_result"
    }
   ],
   "source": [
    "spb_data.fillna(spb_data['cityCenters_nearest'].median())"
   ]
  },
  {
   "cell_type": "code",
   "execution_count": 72,
   "metadata": {},
   "outputs": [],
   "source": [
    "data.loc[data['locality_name'] == 'санкт-петербург', 'cityCenters_nearest'].fillna(spb_data['cityCenters_nearest'].median(), inplace = True)"
   ]
  },
  {
   "cell_type": "markdown",
   "metadata": {},
   "source": [
    "Для дальнейшей работы приводим  текст в столбце с названиями селений к общему регистру. \n",
    "В столбце с местоположением квартиры есть сам город Петербург и прилежащие селения и городки.\n",
    "Создаем отдельный датасет только для квартир в Петербурге.\n",
    "Пропущенные значения в \"петербургском\" срезе мы заполняем средними петербургскими значениями."
   ]
  },
  {
   "cell_type": "code",
   "execution_count": 74,
   "metadata": {},
   "outputs": [],
   "source": [
    "spb_data['downtown_km'] = spb_data['cityCenters_nearest'] /1000\n",
    "spb_data['downtown_km'] = spb_data['downtown_km'].round()\n",
    "pd.options.display.float_format = '{:,.0f}'.format\n"
   ]
  },
  {
   "cell_type": "code",
   "execution_count": 75,
   "metadata": {},
   "outputs": [],
   "source": [
    "def avg_price_km(row):\n",
    "    try:\n",
    "        return row['last_price'] / row['downtown_km']\n",
    "    except:\n",
    "        return row['last_price']"
   ]
  },
  {
   "cell_type": "code",
   "execution_count": 78,
   "metadata": {},
   "outputs": [
    {
     "data": {
      "image/png": "[encoded data removed]",
      "text/plain": [
       "<Figure size 432x288 with 1 Axes>"
      ]
     },
     "metadata": {
      "needs_background": "light"
     },
     "output_type": "display_data"
    }
   ],
   "source": [
    "spb_data['avg_distance_price'] = spb_data.apply(avg_price_km, axis =1)\n",
    "\n",
    "spb_data.pivot_table(index = 'downtown_km', values = 'avg_distance_price')\n",
    "\n",
    "(spb_data\n",
    "     .pivot_table(index = 'downtown_km', values = 'avg_distance_price')\n",
    "     .plot()\n",
    ")\n",
    "plt.title(\"Среднее расстояние центральных квартир до центра\")\n",
    "plt.xlabel(\"Количество километров до центра\")\n",
    "plt.ylabel(\"Цена в млн.рублей\")\n",
    "plt.show()"
   ]
  },
  {
   "cell_type": "markdown",
   "metadata": {},
   "source": [
    "1. Для начала я создаю столбец downtown_km, куда я складирую все значения расстояния от квартиры до центра. Потом\n",
    "округляю эти значение до целых чисел. \n",
    "2. Затем пишу функцию, которая построчно делит цену квартиры на расстояние до километров. Все результаты деления \n",
    "кладу в spb_data['avg_distance_price']. \n",
    "3. Из-за того, что в некоторых значениях расстояния округлялись до нулей пришлось применить try/except, потому\n",
    "что иначе выдавало ошибку деления на ноль.\n",
    "4. Потом применил функцию ко всему датафрейму и получил результат стоимости квадратного метра в зависимости от\n",
    "расстояния.\n",
    "5. Чтобы определить, где заканчивается центр, сделал сводную таблицу где определил нужный порог. После 5км есть\n",
    "большая разница в значениях, которая указывает на завершение центральной зоны.\n",
    "\n",
    "5\t1,700,401\n",
    "\n",
    "6\t1,319,667\n",
    "\n",
    "\n",
    "6. Эту разницу можно заметить и на графике, который стабилизируется ближе к 6-8 км и идет с большего вдоль оси. \n",
    "\n",
    "7. Таким образом, граница центральной зоны проходит на 5ом километре от центра города. "
   ]
  },
  {
   "cell_type": "code",
   "execution_count": 79,
   "metadata": {
    "scrolled": false
   },
   "outputs": [],
   "source": [
    "center_flats = spb_data.query('downtown_km < 6')"
   ]
  },
  {
   "cell_type": "code",
   "execution_count": 80,
   "metadata": {},
   "outputs": [
    {
     "data": {
      "text/html": [
       "<div>\n",
       "<style scoped>\n",
       "    .dataframe tbody tr th:only-of-type {\n",
       "        vertical-align: middle;\n",
       "    }\n",
       "\n",
       "    .dataframe tbody tr th {\n",
       "        vertical-align: top;\n",
       "    }\n",
       "\n",
       "    .dataframe thead th {\n",
       "        text-align: right;\n",
       "    }\n",
       "</style>\n",
       "<table border=\"1\" class=\"dataframe\">\n",
       "  <thead>\n",
       "    <tr style=\"text-align: right;\">\n",
       "      <th></th>\n",
       "      <th>total_images</th>\n",
       "      <th>last_price</th>\n",
       "      <th>total_area</th>\n",
       "      <th>rooms</th>\n",
       "      <th>ceiling_height</th>\n",
       "      <th>floors_total</th>\n",
       "      <th>living_area</th>\n",
       "      <th>floor</th>\n",
       "      <th>kitchen_area</th>\n",
       "      <th>balcony</th>\n",
       "      <th>...</th>\n",
       "      <th>ponds_nearest</th>\n",
       "      <th>days_exposition</th>\n",
       "      <th>square_metre</th>\n",
       "      <th>weekday_ad_exposition</th>\n",
       "      <th>month_ad_exposition</th>\n",
       "      <th>year_ad_exposition</th>\n",
       "      <th>living_to_total_size</th>\n",
       "      <th>kitchen_to_total_size</th>\n",
       "      <th>downtown_km</th>\n",
       "      <th>avg_distance_price</th>\n",
       "    </tr>\n",
       "  </thead>\n",
       "  <tbody>\n",
       "    <tr>\n",
       "      <th>count</th>\n",
       "      <td>575</td>\n",
       "      <td>575</td>\n",
       "      <td>575</td>\n",
       "      <td>575</td>\n",
       "      <td>575</td>\n",
       "      <td>575</td>\n",
       "      <td>575</td>\n",
       "      <td>575</td>\n",
       "      <td>575</td>\n",
       "      <td>575</td>\n",
       "      <td>...</td>\n",
       "      <td>413</td>\n",
       "      <td>575</td>\n",
       "      <td>575</td>\n",
       "      <td>575</td>\n",
       "      <td>575</td>\n",
       "      <td>575</td>\n",
       "      <td>575</td>\n",
       "      <td>575</td>\n",
       "      <td>575</td>\n",
       "      <td>575</td>\n",
       "    </tr>\n",
       "    <tr>\n",
       "      <th>mean</th>\n",
       "      <td>9</td>\n",
       "      <td>7</td>\n",
       "      <td>61</td>\n",
       "      <td>2</td>\n",
       "      <td>3</td>\n",
       "      <td>7</td>\n",
       "      <td>35</td>\n",
       "      <td>4</td>\n",
       "      <td>10</td>\n",
       "      <td>0</td>\n",
       "      <td>...</td>\n",
       "      <td>487</td>\n",
       "      <td>144</td>\n",
       "      <td>115,431</td>\n",
       "      <td>3</td>\n",
       "      <td>7</td>\n",
       "      <td>2,017</td>\n",
       "      <td>1</td>\n",
       "      <td>0</td>\n",
       "      <td>4</td>\n",
       "      <td>2</td>\n",
       "    </tr>\n",
       "    <tr>\n",
       "      <th>std</th>\n",
       "      <td>6</td>\n",
       "      <td>2</td>\n",
       "      <td>18</td>\n",
       "      <td>1</td>\n",
       "      <td>0</td>\n",
       "      <td>4</td>\n",
       "      <td>13</td>\n",
       "      <td>3</td>\n",
       "      <td>4</td>\n",
       "      <td>1</td>\n",
       "      <td>...</td>\n",
       "      <td>275</td>\n",
       "      <td>135</td>\n",
       "      <td>29,336</td>\n",
       "      <td>2</td>\n",
       "      <td>3</td>\n",
       "      <td>1</td>\n",
       "      <td>0</td>\n",
       "      <td>0</td>\n",
       "      <td>1</td>\n",
       "      <td>2</td>\n",
       "    </tr>\n",
       "    <tr>\n",
       "      <th>min</th>\n",
       "      <td>0</td>\n",
       "      <td>2</td>\n",
       "      <td>30</td>\n",
       "      <td>0</td>\n",
       "      <td>2</td>\n",
       "      <td>2</td>\n",
       "      <td>10</td>\n",
       "      <td>1</td>\n",
       "      <td>5</td>\n",
       "      <td>0</td>\n",
       "      <td>...</td>\n",
       "      <td>22</td>\n",
       "      <td>3</td>\n",
       "      <td>26,250</td>\n",
       "      <td>0</td>\n",
       "      <td>1</td>\n",
       "      <td>2,015</td>\n",
       "      <td>0</td>\n",
       "      <td>0</td>\n",
       "      <td>0</td>\n",
       "      <td>0</td>\n",
       "    </tr>\n",
       "    <tr>\n",
       "      <th>25%</th>\n",
       "      <td>5</td>\n",
       "      <td>5</td>\n",
       "      <td>46</td>\n",
       "      <td>2</td>\n",
       "      <td>3</td>\n",
       "      <td>5</td>\n",
       "      <td>25</td>\n",
       "      <td>2</td>\n",
       "      <td>8</td>\n",
       "      <td>0</td>\n",
       "      <td>...</td>\n",
       "      <td>250</td>\n",
       "      <td>41</td>\n",
       "      <td>94,772</td>\n",
       "      <td>1</td>\n",
       "      <td>4</td>\n",
       "      <td>2,017</td>\n",
       "      <td>0</td>\n",
       "      <td>0</td>\n",
       "      <td>3</td>\n",
       "      <td>1</td>\n",
       "    </tr>\n",
       "    <tr>\n",
       "      <th>50%</th>\n",
       "      <td>8</td>\n",
       "      <td>7</td>\n",
       "      <td>60</td>\n",
       "      <td>2</td>\n",
       "      <td>3</td>\n",
       "      <td>5</td>\n",
       "      <td>33</td>\n",
       "      <td>3</td>\n",
       "      <td>10</td>\n",
       "      <td>0</td>\n",
       "      <td>...</td>\n",
       "      <td>454</td>\n",
       "      <td>91</td>\n",
       "      <td>110,048</td>\n",
       "      <td>3</td>\n",
       "      <td>7</td>\n",
       "      <td>2,017</td>\n",
       "      <td>1</td>\n",
       "      <td>0</td>\n",
       "      <td>4</td>\n",
       "      <td>2</td>\n",
       "    </tr>\n",
       "    <tr>\n",
       "      <th>75%</th>\n",
       "      <td>13</td>\n",
       "      <td>8</td>\n",
       "      <td>75</td>\n",
       "      <td>3</td>\n",
       "      <td>3</td>\n",
       "      <td>7</td>\n",
       "      <td>44</td>\n",
       "      <td>5</td>\n",
       "      <td>12</td>\n",
       "      <td>0</td>\n",
       "      <td>...</td>\n",
       "      <td>705</td>\n",
       "      <td>215</td>\n",
       "      <td>130,029</td>\n",
       "      <td>4</td>\n",
       "      <td>10</td>\n",
       "      <td>2,018</td>\n",
       "      <td>1</td>\n",
       "      <td>0</td>\n",
       "      <td>5</td>\n",
       "      <td>2</td>\n",
       "    </tr>\n",
       "    <tr>\n",
       "      <th>max</th>\n",
       "      <td>32</td>\n",
       "      <td>10</td>\n",
       "      <td>103</td>\n",
       "      <td>4</td>\n",
       "      <td>3</td>\n",
       "      <td>25</td>\n",
       "      <td>75</td>\n",
       "      <td>19</td>\n",
       "      <td>29</td>\n",
       "      <td>5</td>\n",
       "      <td>...</td>\n",
       "      <td>1,156</td>\n",
       "      <td>521</td>\n",
       "      <td>262,712</td>\n",
       "      <td>6</td>\n",
       "      <td>12</td>\n",
       "      <td>2,019</td>\n",
       "      <td>1</td>\n",
       "      <td>1</td>\n",
       "      <td>5</td>\n",
       "      <td>10</td>\n",
       "    </tr>\n",
       "  </tbody>\n",
       "</table>\n",
       "<p>8 rows × 25 columns</p>\n",
       "</div>"
      ],
      "text/plain": [
       "       total_images  last_price  total_area  rooms  ceiling_height  \\\n",
       "count           575         575         575    575             575   \n",
       "mean              9           7          61      2               3   \n",
       "std               6           2          18      1               0   \n",
       "min               0           2          30      0               2   \n",
       "25%               5           5          46      2               3   \n",
       "50%               8           7          60      2               3   \n",
       "75%              13           8          75      3               3   \n",
       "max              32          10         103      4               3   \n",
       "\n",
       "       floors_total  living_area  floor  kitchen_area  balcony  ...  \\\n",
       "count           575          575    575           575      575  ...   \n",
       "mean              7           35      4            10        0  ...   \n",
       "std               4           13      3             4        1  ...   \n",
       "min               2           10      1             5        0  ...   \n",
       "25%               5           25      2             8        0  ...   \n",
       "50%               5           33      3            10        0  ...   \n",
       "75%               7           44      5            12        0  ...   \n",
       "max              25           75     19            29        5  ...   \n",
       "\n",
       "       ponds_nearest  days_exposition  square_metre  weekday_ad_exposition  \\\n",
       "count            413              575           575                    575   \n",
       "mean             487              144       115,431                      3   \n",
       "std              275              135        29,336                      2   \n",
       "min               22                3        26,250                      0   \n",
       "25%              250               41        94,772                      1   \n",
       "50%              454               91       110,048                      3   \n",
       "75%              705              215       130,029                      4   \n",
       "max            1,156              521       262,712                      6   \n",
       "\n",
       "       month_ad_exposition  year_ad_exposition  living_to_total_size  \\\n",
       "count                  575                 575                   575   \n",
       "mean                     7               2,017                     1   \n",
       "std                      3                   1                     0   \n",
       "min                      1               2,015                     0   \n",
       "25%                      4               2,017                     0   \n",
       "50%                      7               2,017                     1   \n",
       "75%                     10               2,018                     1   \n",
       "max                     12               2,019                     1   \n",
       "\n",
       "       kitchen_to_total_size  downtown_km  avg_distance_price  \n",
       "count                    575          575                 575  \n",
       "mean                       0            4                   2  \n",
       "std                        0            1                   2  \n",
       "min                        0            0                   0  \n",
       "25%                        0            3                   1  \n",
       "50%                        0            4                   2  \n",
       "75%                        0            5                   2  \n",
       "max                        1            5                  10  \n",
       "\n",
       "[8 rows x 25 columns]"
      ]
     },
     "execution_count": 80,
     "metadata": {},
     "output_type": "execute_result"
    }
   ],
   "source": [
    "center_flats.describe()"
   ]
  },
  {
   "cell_type": "code",
   "execution_count": 81,
   "metadata": {
    "scrolled": false
   },
   "outputs": [
    {
     "name": "stdout",
     "output_type": "stream",
     "text": [
      "\u001b[1mОбщая площадь центральных квартирах\u001b[0m\n",
      "count   575\n",
      "mean     61\n",
      "std      18\n",
      "min      30\n",
      "25%      46\n",
      "50%      60\n",
      "75%      75\n",
      "max     103\n",
      "Name: total_area, dtype: float64\n",
      "\n",
      "\n",
      "\u001b[1mОбщая площадь квартир по всему городу\u001b[0m\n",
      "count   15,135\n",
      "mean        51\n",
      "std         15\n",
      "min         29\n",
      "25%         39\n",
      "50%         47\n",
      "75%         60\n",
      "max        104\n",
      "Name: total_area, dtype: float64\n"
     ]
    }
   ],
   "source": [
    "print('\\033[1m' + 'Общая площадь центральных квартирах' + '\\033[0m')\n",
    "print(center_flats['total_area'].describe())\n",
    "print()\n",
    "print()\n",
    "print('\\033[1m' + 'Общая площадь квартир по всему городу' + '\\033[0m')\n",
    "print(data['total_area'].describe())"
   ]
  },
  {
   "cell_type": "markdown",
   "metadata": {},
   "source": [
    "Квартиры в центре города в среднем на 15 кв.м больше, чем квартиры по всей базе. \n",
    "- Мы можем предположить, что более старые здания, которые были построены в оснвоном в прошлом предназначались для более\n",
    "состоятельных или статусных хозяев, поэтому площадь у них больше. При массовом строительстве квартир, которое имело место позже по времени и которые находились дальше от центра, размеры квартир были в основном поменьше. "
   ]
  },
  {
   "cell_type": "code",
   "execution_count": 82,
   "metadata": {
    "scrolled": false
   },
   "outputs": [
    {
     "name": "stdout",
     "output_type": "stream",
     "text": [
      "\u001b[1mЦена центральных квартирах\u001b[0m\n",
      "count   575.00\n",
      "mean      6.78\n",
      "std       1.65\n",
      "min       2.10\n",
      "25%       5.45\n",
      "50%       6.80\n",
      "75%       8.00\n",
      "max      10.00\n",
      "Name: last_price, dtype: float64\n",
      "\n",
      "\n",
      "\u001b[1mЦена квартир по всему городу\u001b[0m\n",
      "count   15,135.00\n",
      "mean         4.51\n",
      "std          1.76\n",
      "min          1.01\n",
      "25%          3.30\n",
      "50%          4.20\n",
      "75%          5.50\n",
      "max         10.00\n",
      "Name: last_price, dtype: float64\n"
     ]
    }
   ],
   "source": [
    "pd.options.display.float_format = '{:,.2f}'.format\n",
    "print('\\033[1m' + 'Цена центральных квартирах' + '\\033[0m')\n",
    "print(center_flats['last_price'].describe())\n",
    "print()\n",
    "print()\n",
    "print('\\033[1m' + 'Цена квартир по всему городу' + '\\033[0m')\n",
    "print(data['last_price'].describe())\n"
   ]
  },
  {
   "cell_type": "markdown",
   "metadata": {},
   "source": [
    "Цены на квартиры в центре в среднем составляют 6,91 млн., а в целом по городу 4,63 млн. В центре квартиры в среднем на 32% дороже, чем по всему городу.\n",
    "- Соответственно мы можем подтвердить предположение, что фактор местоположения играет важную роль в \n",
    "ценообразовании квартир. Чем ближе к центру, тем в среднем дороже. Прямая, положительная связь."
   ]
  },
  {
   "cell_type": "code",
   "execution_count": 83,
   "metadata": {},
   "outputs": [
    {
     "name": "stdout",
     "output_type": "stream",
     "text": [
      "\u001b[1mКоличество комнат в центральных квартирах\u001b[0m\n",
      "count   575.00\n",
      "mean      2.19\n",
      "std       0.88\n",
      "min       0.00\n",
      "25%       2.00\n",
      "50%       2.00\n",
      "75%       3.00\n",
      "max       4.00\n",
      "Name: rooms, dtype: float64\n",
      "\n",
      "\n",
      "\u001b[1mКоличество комнат в квартирах по всему городу\u001b[0m\n",
      "count   15,135.00\n",
      "mean         1.86\n",
      "std          0.84\n",
      "min          0.00\n",
      "25%          1.00\n",
      "50%          2.00\n",
      "75%          2.00\n",
      "max          6.00\n",
      "Name: rooms, dtype: float64\n"
     ]
    }
   ],
   "source": [
    "print('\\033[1m' + 'Количество комнат в центральных квартирах' + '\\033[0m')\n",
    "print(center_flats['rooms'].describe())\n",
    "print()\n",
    "print()\n",
    "print('\\033[1m' + 'Количество комнат в квартирах по всему городу' + '\\033[0m')\n",
    "print(data['rooms'].describe())"
   ]
  },
  {
   "cell_type": "markdown",
   "metadata": {},
   "source": [
    "По количеству комнат в среднем квартиры в центре и в целом по городу отличаются очень мало. В среднем две \n",
    "комнаты и стандартное отклонение 1. "
   ]
  },
  {
   "cell_type": "code",
   "execution_count": 84,
   "metadata": {},
   "outputs": [
    {
     "name": "stdout",
     "output_type": "stream",
     "text": [
      "\u001b[1mВысота потолков в центральных квартирах\u001b[0m\n",
      "count   575.00\n",
      "mean      2.68\n",
      "std       0.09\n",
      "min       2.40\n",
      "25%       2.65\n",
      "50%       2.65\n",
      "75%       2.70\n",
      "max       2.95\n",
      "Name: ceiling_height, dtype: float64\n",
      "\n",
      "\n",
      "\u001b[1mВысота потолков в квартирах по всему городу\u001b[0m\n"
     ]
    },
    {
     "data": {
      "text/plain": [
       "count   15,135.00\n",
       "mean         2.63\n",
       "std          0.09\n",
       "min          2.00\n",
       "25%          2.58\n",
       "50%          2.65\n",
       "75%          2.65\n",
       "max          2.97\n",
       "Name: ceiling_height, dtype: float64"
      ]
     },
     "metadata": {},
     "output_type": "display_data"
    }
   ],
   "source": [
    "print('\\033[1m' + 'Высота потолков в центральных квартирах' + '\\033[0m')\n",
    "print(center_flats['ceiling_height'].describe())\n",
    "print()\n",
    "print()\n",
    "print('\\033[1m' + 'Высота потолков в квартирах по всему городу' + '\\033[0m')\n",
    "display(data['ceiling_height'].describe())"
   ]
  },
  {
   "cell_type": "markdown",
   "metadata": {},
   "source": [
    "В центральных квартирах потолки в среднем чуть выше, чем в остальных квартирах: 2.68 vs 2.63. \n",
    "Скорее всего это связано с тем, что в центральной части города больше более старых зданий, где потолки выше, чем те, что\n",
    "в стандартных планировках."
   ]
  },
  {
   "cell_type": "markdown",
   "metadata": {},
   "source": [
    "### 5.Факторы стоимости центральных квартир"
   ]
  },
  {
   "cell_type": "code",
   "execution_count": 85,
   "metadata": {},
   "outputs": [
    {
     "name": "stdout",
     "output_type": "stream",
     "text": [
      "Корреляция между стоимостью кв.м и общей площадью в центре: -0.5525751812802084\n",
      "\n",
      "Корреляция между стоимостью кв.м и общей площадью в во всем городе: -0.15714493485936332\n"
     ]
    }
   ],
   "source": [
    "\n",
    "print(\"Корреляция между стоимостью кв.м и общей площадью в центре:\",center_flats['square_metre'].corr(center_flats['total_area']))\n",
    "print()\n",
    "print(\"Корреляция между стоимостью кв.м и общей площадью в во всем городе:\",data['square_metre'].corr(data['total_area']))\n",
    "\n",
    "\n",
    "\n"
   ]
  },
  {
   "cell_type": "markdown",
   "metadata": {},
   "source": [
    "-В центральных квартирах присутствует ощутимая, негативная корреляция(-0.55) между  переменными стоимость квадратного метра и общей площадью. В квартирах по всему городу также присутствует негативная связь между этими переменными, но меньшей интенсивности (-0.15).\n",
    "При увеличении площади, стоимость немного падает, либо наоборот при меньшем метраже стоимость часто \n",
    "растет. Связано это с тем, что в бизнесе жилой недвижимости, часто увеличение площади квартиры предполагает удешевление\n",
    "стоимости квадратного метра, хотя общая стоимость квартиры все равно растет прилично."
   ]
  },
  {
   "cell_type": "code",
   "execution_count": 86,
   "metadata": {},
   "outputs": [
    {
     "name": "stdout",
     "output_type": "stream",
     "text": [
      "Корреляция между стоимостью кв.м и количеством комнат в центре: -0.5496559910635737\n",
      "\n",
      "Корреляция между стоимостью кв.м и количестовм комнат во всем городе: -0.28747855880376183\n"
     ]
    }
   ],
   "source": [
    "print(\"Корреляция между стоимостью кв.м и количеством комнат в центре:\",center_flats['square_metre'].corr(center_flats['rooms']))\n",
    "print()\n",
    "print(\"Корреляция между стоимостью кв.м и количестовм комнат во всем городе:\",data['square_metre'].corr(data['rooms']))\n"
   ]
  },
  {
   "cell_type": "markdown",
   "metadata": {},
   "source": [
    "-В центре между количеством комнат и ценой на квадратный метр присутствует ощутимая негативная связь(-0.54). Эта корреляция указывает на то, что при увеличении количества комнат, цена квадратный метр падает. Подобно логике в предыдущем разделе, при увеличении количества комнат (площадь тоже как правило растет), стоимость квадратного метра как правило уменьшается.\n",
    "\n",
    "-В квартирах по всему городу присутствует аналогичная тенденция(-0.28), просто сила связи между переменными чуть слабее.\n",
    "Это опять-таки можно объяснить большей гетерогенностью (разношёрстностью) квартир по всему городу по сравнению с \n",
    "центром."
   ]
  },
  {
   "cell_type": "code",
   "execution_count": 87,
   "metadata": {},
   "outputs": [
    {
     "name": "stdout",
     "output_type": "stream",
     "text": [
      "Корреляция между стоимостью кв.м и близостью к центру в центральных квартирах: 0.13250884548392028\n",
      "\n",
      "Корреляция между стоимостью кв.м и близостью к центру во всем городе : -0.39505580991789413\n"
     ]
    }
   ],
   "source": [
    "\n",
    "print(\"Корреляция между стоимостью кв.м и близостью к центру в центральных квартирах:\",center_flats['square_metre'].corr(center_flats['cityCenters_nearest']))\n",
    "print()\n",
    "print(\"Корреляция между стоимостью кв.м и близостью к центру во всем городе :\", data['square_metre'].corr(data['cityCenters_nearest']))\n",
    "\n",
    "\n"
   ]
  },
  {
   "cell_type": "markdown",
   "metadata": {},
   "source": [
    "-Между местоположением центральных квартир и ценой на квадратный метра присутствует небольшая положительная связь(0.13). Это\n",
    "говорит о том, что вероятно, квартиры, что находятся немного поодаль от той точки, которую мы задали как самую центральную\n",
    "являются более дорогими, потому что те районы которые находятся на пару километров от самой центральной точки являются более престижными.\n",
    "-В то же время, во всем городе в целом, присутствует приличная негативная связь(-0.386) между близостью к центру и ценами на \n",
    "квадратный метра квартир. Близость к рабочему месту, более комфортные условия проживания и наличие развитой инфраструктуры в более центральных частях города продалжают влиять на стоимость квартир. Следовательно, это важный фактор при ценообразовании."
   ]
  },
  {
   "cell_type": "code",
   "execution_count": 88,
   "metadata": {},
   "outputs": [
    {
     "name": "stdout",
     "output_type": "stream",
     "text": [
      "Корреляция между стоимостью кв.м и днем размещения квартив в центре: 0.0038048672983406005\n",
      "\n",
      "Корреляция между стоимостью кв.м и днем размещения квартир во всем городе: 0.0014835328307458504\n"
     ]
    }
   ],
   "source": [
    "print(\"Корреляция между стоимостью кв.м и днем размещения квартив в центре:\",center_flats['square_metre'].corr(center_flats['weekday_ad_exposition']))    \n",
    "print()\n",
    "print(\"Корреляция между стоимостью кв.м и днем размещения квартир во всем городе:\",data['square_metre'].corr(data['weekday_ad_exposition']))    \n",
    "\n"
   ]
  },
  {
   "cell_type": "markdown",
   "metadata": {},
   "source": [
    "Корреляция между днём недели, когда появилось объявление как для центральных квартир, так и для всего города в целом,\n",
    "практически отсутствует. Соответственно, то, в какой день недели размещалось объявление не является важным фактором,\n",
    "который влияет на стоимость квартиры."
   ]
  },
  {
   "cell_type": "code",
   "execution_count": 89,
   "metadata": {},
   "outputs": [
    {
     "name": "stdout",
     "output_type": "stream",
     "text": [
      "Корреляция между стоимостью кв.м и месяцем размещения квартив в центре: -0.03599084964383216\n",
      "\n",
      "Корреляция между стоимостью кв.м и месяцем размещения квартив во всем городе: 0.0047378225288540665\n"
     ]
    }
   ],
   "source": [
    "print(\"Корреляция между стоимостью кв.м и месяцем размещения квартив в центре:\", center_flats['square_metre'].corr(center_flats['month_ad_exposition']))    \n",
    "print()\n",
    "print(\"Корреляция между стоимостью кв.м и месяцем размещения квартив во всем городе:\",data['square_metre'].corr(data['month_ad_exposition']))    \n",
    "\n"
   ]
  },
  {
   "cell_type": "markdown",
   "metadata": {},
   "source": [
    "Аналогично дням недели, месяц размещения никак не влияет на стоимость квартиры в обоих датасетах"
   ]
  },
  {
   "cell_type": "code",
   "execution_count": 90,
   "metadata": {},
   "outputs": [
    {
     "name": "stdout",
     "output_type": "stream",
     "text": [
      "Корреляция между стоимостью кв.м и годом размещения квартив в центре: 0.152219059161258\n",
      "\n",
      "Корреляция между стоимостью кв.м и годом размещения квартив во всем городе: 0.08694682611319839\n"
     ]
    }
   ],
   "source": [
    "print(\"Корреляция между стоимостью кв.м и годом размещения квартив в центре:\",center_flats['square_metre'].corr(center_flats['year_ad_exposition']))   \n",
    "print()\n",
    "print(\"Корреляция между стоимостью кв.м и годом размещения квартив во всем городе:\",data['square_metre'].corr(data['year_ad_exposition']))   \n",
    "\n"
   ]
  },
  {
   "cell_type": "markdown",
   "metadata": {},
   "source": [
    "Присутствует небольшая положительная связь(0.13 в центре и 0.08 по всему городу) между годом и стоимостью квадратного\n",
    "метра. Это можно объяснить тем фактом, что в нашем датафрейме присутствуют данные с 2015 по 2019 годы.\n",
    "Положительная корреляция говорит о том, что при увеличении годов, увеличивалась и стоимость кв.м.\n",
    "В 2015-2015 годах экономика находилась в кризисе и соответственно продолжала пикировать. Покупательная\n",
    "способность падала, и поэтому рынок подстраивался снижением цен. В то, время как после того, как экономика \n",
    "оттолкнулась от дна в 2017-2019 годах и наблюдался определенный рост, то и цены на жилье стали потихоньку подтягиваться."
   ]
  },
  {
   "cell_type": "code",
   "execution_count": 91,
   "metadata": {},
   "outputs": [
    {
     "name": "stdout",
     "output_type": "stream",
     "text": [
      "\u001b[1mСтоимость квартир и фактор этажа квартиры в центральных квартирах\u001b[0m\n"
     ]
    },
    {
     "data": {
      "text/html": [
       "<div>\n",
       "<style scoped>\n",
       "    .dataframe tbody tr th:only-of-type {\n",
       "        vertical-align: middle;\n",
       "    }\n",
       "\n",
       "    .dataframe tbody tr th {\n",
       "        vertical-align: top;\n",
       "    }\n",
       "\n",
       "    .dataframe thead th {\n",
       "        text-align: right;\n",
       "    }\n",
       "</style>\n",
       "<table border=\"1\" class=\"dataframe\">\n",
       "  <thead>\n",
       "    <tr style=\"text-align: right;\">\n",
       "      <th></th>\n",
       "      <th>square_metre</th>\n",
       "    </tr>\n",
       "    <tr>\n",
       "      <th>floor_category</th>\n",
       "      <th></th>\n",
       "    </tr>\n",
       "  </thead>\n",
       "  <tbody>\n",
       "    <tr>\n",
       "      <th>другой</th>\n",
       "      <td>120,321.45</td>\n",
       "    </tr>\n",
       "    <tr>\n",
       "      <th>первый</th>\n",
       "      <td>102,553.15</td>\n",
       "    </tr>\n",
       "    <tr>\n",
       "      <th>последний</th>\n",
       "      <td>110,054.56</td>\n",
       "    </tr>\n",
       "  </tbody>\n",
       "</table>\n",
       "</div>"
      ],
      "text/plain": [
       "                square_metre\n",
       "floor_category              \n",
       "другой            120,321.45\n",
       "первый            102,553.15\n",
       "последний         110,054.56"
      ]
     },
     "metadata": {},
     "output_type": "display_data"
    },
    {
     "name": "stdout",
     "output_type": "stream",
     "text": [
      "\n",
      "\u001b[1mСтоимость квартир и фактор этажа квартиры по всему городу\u001b[0m\n"
     ]
    },
    {
     "data": {
      "text/html": [
       "<div>\n",
       "<style scoped>\n",
       "    .dataframe tbody tr th:only-of-type {\n",
       "        vertical-align: middle;\n",
       "    }\n",
       "\n",
       "    .dataframe tbody tr th {\n",
       "        vertical-align: top;\n",
       "    }\n",
       "\n",
       "    .dataframe thead th {\n",
       "        text-align: right;\n",
       "    }\n",
       "</style>\n",
       "<table border=\"1\" class=\"dataframe\">\n",
       "  <thead>\n",
       "    <tr style=\"text-align: right;\">\n",
       "      <th></th>\n",
       "      <th>square_metre</th>\n",
       "    </tr>\n",
       "    <tr>\n",
       "      <th>floor_category</th>\n",
       "      <th></th>\n",
       "    </tr>\n",
       "  </thead>\n",
       "  <tbody>\n",
       "    <tr>\n",
       "      <th>другой</th>\n",
       "      <td>93,676.56</td>\n",
       "    </tr>\n",
       "    <tr>\n",
       "      <th>первый</th>\n",
       "      <td>77,425.99</td>\n",
       "    </tr>\n",
       "    <tr>\n",
       "      <th>последний</th>\n",
       "      <td>81,862.86</td>\n",
       "    </tr>\n",
       "  </tbody>\n",
       "</table>\n",
       "</div>"
      ],
      "text/plain": [
       "                square_metre\n",
       "floor_category              \n",
       "другой             93,676.56\n",
       "первый             77,425.99\n",
       "последний          81,862.86"
      ]
     },
     "metadata": {},
     "output_type": "display_data"
    }
   ],
   "source": [
    "print ('\\033[1m' + 'Стоимость квартир и фактор этажа квартиры в центральных квартирах' + '\\033[0m')\n",
    "display(center_flats.pivot_table(index = 'floor_category', values = 'square_metre'))\n",
    "print()\n",
    "print ('\\033[1m' + 'Стоимость квартир и фактор этажа квартиры по всему городу' + '\\033[0m')\n",
    "display(data.pivot_table(index = 'floor_category', values = 'square_metre'))"
   ]
  },
  {
   "cell_type": "markdown",
   "metadata": {},
   "source": [
    "В обоих датасетах я наблюдаю идентичную динамику.Первый этаж самый дешевый, на 19 % дешевле квартир с непоследним этажем по всему городу и на 16 % в центальных квартирах. Люди меньше всего хотят жить на первом этаже, поэтому там самые дешевые квартиры в доме. Аналогично с последним этажом, там квартиры на 10 % и 12 % дешевле от квартир на непоследних(и не первых) этажах\n",
    "в центральном районе и по всему городу. "
   ]
  },
  {
   "cell_type": "markdown",
   "metadata": {},
   "source": [
    "### Шаг 5. Общий вывод"
   ]
  },
  {
   "cell_type": "markdown",
   "metadata": {},
   "source": [
    "1. При анализе цен на кв.м в квартирах в разных населенных пунктах выяснили, что в самом Петербурге(107612.14) цены находятся на третьем месте после цен в поселке Лисий Нос\t(168706.70) и Зеленогорске\t(114233.78).\n",
    "\n",
    "2. В то же время Петербург идет с большим отрывом по количеству объявлений, что неудивительно.\n",
    "\n",
    "3. При анализе факторов, которые влияют на стоимость квартиры для всех квартир по городу наиболее важным фактором являются:\n",
    "а) Общее количество квадратных метров (-.055 и -0.15 соответственно для центральных квартир и по всему городу)\n",
    "б) Этаж квартиры (-0.54 и -0.28 соответственно для центральных квартир и по всему городу)\n",
    "в) Местоположение (0.13 и -0.40 соответственно для центральных квартир и по всему городу). \n",
    "г) Соответственно первый этаж самый дешевый, в то время как непервый/непоследний самый дорогой. \n",
    "\n",
    "4. Расстояние 6км от центра выделяет цетральную зону города, стоимость кв.м которой значительно отличается от квартир по всему городу. \n",
    "\n",
    "5. Если сравнивать сами характеристики центральных квартир с квартирами по всему городу, то они имеют большую среднюю цену(6,81 млн vs 4,61 млн), больший метраж(61 кв.м vs 51 кв.м.) и имеют более высокие потолки(2.68 vs 2.61).\n",
    "\n",
    "6. При сравнении центральных квартир и квартир, находящихся по всему городу, я определил, что:\n",
    "\n",
    "а) Для центральных квартир, в отличии от остальных по городу, увеличении площади более выраженно влияет на стоимость квадратного метра(-0.55). Т.е при увеличении площади, стоимость квадратного метра падает, и наоборот. В целом по городу эта тенденция менее выражена(-0.15).\n",
    "\n",
    "б) Стоимость квадратного метра в центральных квартирах была более чувствительна к количеству комнат по сравнению с остальными квартирами (-0.54 и -0.28 соответственно). При увеличении количества комнат, цена падала; при уменьшении цены росло количество комнат.\n",
    "\n",
    "в) Этаж квартиры является важным фактором, который влияет на стоимость кв.м. В обоих случаях аплитуда изменения цен примерна одинакова.\n",
    "\n",
    "г) Год размещения имеет определенный эффиектна изменение стоимости кв.м.в центраьлных(0.13) и нецентральных квартирах(0.08). Слабая положительная связь говорит о том, что в более поздних годах цены были выше, чем в предыдущих.\n",
    "\n",
    "д) Центральное местоположение играет важнейшую роль в цене на кв.м в квартирах по городу в целом(коэффициент корреляции - 0.39), в то время как центральных неболшая положительная связь(0.13) говорит о том, что немного подальше от самой центральной точки цены на кв.м становятся немного выше.\n",
    "Таким образом, хотя сила влияния факторов отличается, динамика влияния факторов в центральных и нецентральных квартирах достаточно похожа.\n"
   ]
  }
 ],
 "metadata": {
  "kernelspec": {
   "display_name": "Python 3",
   "language": "python",
   "name": "python3"
  },
  "language_info": {
   "codemirror_mode": {
    "name": "ipython",
    "version": 3
   },
   "file_extension": ".py",
   "mimetype": "text/x-python",
   "name": "python",
   "nbconvert_exporter": "python",
   "pygments_lexer": "ipython3",
   "version": "3.8.3"
  }
 },
 "nbformat": 4,
 "nbformat_minor": 2
}
