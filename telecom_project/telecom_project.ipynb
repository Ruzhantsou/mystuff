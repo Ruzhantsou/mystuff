{
 "cells": [
  {
   "cell_type": "markdown",
   "metadata": {},
   "source": [
    "<h1 id=\"tocheading\">Проект: Анализ тарифов телеком компании</h1>\n",
    "<div id=\"toc\"></div>"
   ]
  },
  {
   "cell_type": "markdown",
   "metadata": {},
   "source": [
    "## Цель проекта:\n",
    "Изучить два тарифа \"Смарт\" и \"Ультра\" телеком компании \"Мегалайн\" на предмет их прибыльности. Основываясь на этих данных коммерческий департамент компании сможет скоректировать рекламный бюджет. Будем использовать выборку из 500 клиентов. Нужно проанализировать поведение клиентов за 2018 год и сделать заключение о прибыльности тариффов."
   ]
  },
  {
   "cell_type": "markdown",
   "metadata": {},
   "source": [
    "#### Для анализа мы будем использовать несколько датасетов, которые будут содержать следующию информацию:\n",
    "1. Звонки клиентов (calls)\n",
    "2. Интернет-сессии (internet)\n",
    "3. Сообщения клиентов (messages)\n",
    "4. Тариффы (tariffs)\n",
    "5. Пользователи (users)\n"
   ]
  },
  {
   "cell_type": "markdown",
   "metadata": {},
   "source": [
    "### План работы:\n",
    "[ 1. Импортировать все нужные библиотеки и датасеты. Изучить всю общую информацию о датасетах.](#step1)\n",
    "\n",
    "[ 2. Привести данные к нужному типу для последующего анализа. Подготовить данные к анализу. Проверить все датасеты на наличие пропусков и дубликатов с последующей обработкой.  Объясненить логику исправления найденных ошибок.](#step2)\n",
    "\n",
    "\n",
    "[ 3. Описательные статистики и сравнение характеристик потребления двух тариффов.](#step3)\n",
    "\n",
    "\n",
    "[ 4. Проверка гипотез касательно: \n",
    "а) различия величины средней выручки, которую приносят пользователи тарифов \"Смарт\" и \"Ультра\"\n",
    "б) различия средней выручки пользователей из Москвы и регионов](#step4)\n",
    "\n",
    "[ 5. Общий вывод на основе проведенного анализа](#step5)\n"
   ]
  },
  {
   "cell_type": "markdown",
   "metadata": {},
   "source": [
    "## <a id=\"step1\">1. Импорт нужных библиотек и датасетов. Изучить всю общую информацию о датасетах.</a>"
   ]
  },
  {
   "cell_type": "code",
   "execution_count": 44,
   "metadata": {},
   "outputs": [],
   "source": [
    "import pandas as pd\n",
    "import numpy as np\n",
    "import matplotlib.pyplot as plt\n",
    "from scipy import stats as st\n",
    "from math import factorial\n",
    "import warnings\n",
    "warnings.simplefilter(action='ignore', category=FutureWarning)\n",
    "pd.options.display.float_format = '{:,.2f}'.format\n",
    "pd.set_option('display.max_columns', None) \n",
    "\n",
    "\n",
    "calls = pd.read_csv('/datasets/calls.csv')\n",
    "internet = pd.read_csv('/datasets/internet.csv')\n",
    "messages = pd.read_csv('/datasets/messages.csv')\n",
    "tariffs = pd.read_csv('/datasets/tariffs.csv')\n",
    "users = pd.read_csv('/datasets/users.csv')\n",
    "\n"
   ]
  },
  {
   "cell_type": "code",
   "execution_count": 45,
   "metadata": {},
   "outputs": [
    {
     "name": "stdout",
     "output_type": "stream",
     "text": [
      "<class 'pandas.core.frame.DataFrame'>\n",
      "RangeIndex: 202607 entries, 0 to 202606\n",
      "Data columns (total 4 columns):\n",
      "id           202607 non-null object\n",
      "call_date    202607 non-null object\n",
      "duration     202607 non-null float64\n",
      "user_id      202607 non-null int64\n",
      "dtypes: float64(1), int64(1), object(2)\n",
      "memory usage: 6.2+ MB\n"
     ]
    }
   ],
   "source": [
    "calls.info()"
   ]
  },
  {
   "cell_type": "code",
   "execution_count": 46,
   "metadata": {},
   "outputs": [
    {
     "name": "stdout",
     "output_type": "stream",
     "text": [
      "<class 'pandas.core.frame.DataFrame'>\n",
      "RangeIndex: 149396 entries, 0 to 149395\n",
      "Data columns (total 5 columns):\n",
      "Unnamed: 0      149396 non-null int64\n",
      "id              149396 non-null object\n",
      "mb_used         149396 non-null float64\n",
      "session_date    149396 non-null object\n",
      "user_id         149396 non-null int64\n",
      "dtypes: float64(1), int64(2), object(2)\n",
      "memory usage: 5.7+ MB\n"
     ]
    }
   ],
   "source": [
    "internet.info()"
   ]
  },
  {
   "cell_type": "code",
   "execution_count": 47,
   "metadata": {},
   "outputs": [
    {
     "name": "stdout",
     "output_type": "stream",
     "text": [
      "<class 'pandas.core.frame.DataFrame'>\n",
      "RangeIndex: 123036 entries, 0 to 123035\n",
      "Data columns (total 3 columns):\n",
      "id              123036 non-null object\n",
      "message_date    123036 non-null object\n",
      "user_id         123036 non-null int64\n",
      "dtypes: int64(1), object(2)\n",
      "memory usage: 2.8+ MB\n"
     ]
    }
   ],
   "source": [
    "messages.info()"
   ]
  },
  {
   "cell_type": "code",
   "execution_count": 48,
   "metadata": {},
   "outputs": [
    {
     "name": "stdout",
     "output_type": "stream",
     "text": [
      "<class 'pandas.core.frame.DataFrame'>\n",
      "RangeIndex: 2 entries, 0 to 1\n",
      "Data columns (total 8 columns):\n",
      "messages_included        2 non-null int64\n",
      "mb_per_month_included    2 non-null int64\n",
      "minutes_included         2 non-null int64\n",
      "rub_monthly_fee          2 non-null int64\n",
      "rub_per_gb               2 non-null int64\n",
      "rub_per_message          2 non-null int64\n",
      "rub_per_minute           2 non-null int64\n",
      "tariff_name              2 non-null object\n",
      "dtypes: int64(7), object(1)\n",
      "memory usage: 256.0+ bytes\n"
     ]
    }
   ],
   "source": [
    "tariffs.info()"
   ]
  },
  {
   "cell_type": "code",
   "execution_count": 49,
   "metadata": {},
   "outputs": [
    {
     "name": "stdout",
     "output_type": "stream",
     "text": [
      "<class 'pandas.core.frame.DataFrame'>\n",
      "RangeIndex: 500 entries, 0 to 499\n",
      "Data columns (total 8 columns):\n",
      "user_id       500 non-null int64\n",
      "age           500 non-null int64\n",
      "churn_date    38 non-null object\n",
      "city          500 non-null object\n",
      "first_name    500 non-null object\n",
      "last_name     500 non-null object\n",
      "reg_date      500 non-null object\n",
      "tariff        500 non-null object\n",
      "dtypes: int64(2), object(6)\n",
      "memory usage: 31.4+ KB\n"
     ]
    }
   ],
   "source": [
    "users.info()"
   ]
  },
  {
   "cell_type": "markdown",
   "metadata": {},
   "source": [
    "## <a id=\"step2\"> 2.  Подготовка данных к анализу</a>"
   ]
  },
  {
   "cell_type": "markdown",
   "metadata": {},
   "source": [
    "##### Приведем наши данные к нужным типам"
   ]
  },
  {
   "cell_type": "code",
   "execution_count": 50,
   "metadata": {},
   "outputs": [],
   "source": [
    "calls['call_date'] = pd.to_datetime(calls['call_date'])\n",
    "calls['id'] = calls['id'].astype('int')\n",
    "\n",
    "internet['session_date'] = pd.to_datetime(internet['session_date'])\n",
    "internet['id'] = internet['id'].astype('int')\n",
    "\n",
    "messages['message_date'] = pd.to_datetime(messages['message_date'])\n",
    "messages['id'] = messages['id'].astype('int')"
   ]
  },
  {
   "cell_type": "markdown",
   "metadata": {},
   "source": [
    "Приведение данных к нужному типу:\n",
    "\n",
    "1. Привели данные столбцов с номерами id к целочисленному формату вместо текстового.\n",
    "2. Переменную с датой и временем звонков, интеренет сессий и сообщений перевели из вещественного типа во временной тип datetime, чтобы потом с ними можно было работать как со временемыми переменными. \n"
   ]
  },
  {
   "cell_type": "markdown",
   "metadata": {},
   "source": [
    "##### Проверим данные на наличие ошибок"
   ]
  },
  {
   "cell_type": "code",
   "execution_count": 51,
   "metadata": {},
   "outputs": [
    {
     "data": {
      "image/png": "[encoded data removed]",
      "text/plain": [
       "<Figure size 432x288 with 1 Axes>"
      ]
     },
     "metadata": {
      "needs_background": "light"
     },
     "output_type": "display_data"
    }
   ],
   "source": [
    "calls['duration'].hist(bins = 30)\n",
    "plt.title('Звонки пользователей')\n",
    "plt.xlabel('Длительность каждого звонка(в минутах)')\n",
    "plt.ylabel('Количество звонков')\n",
    "plt.show()"
   ]
  },
  {
   "cell_type": "code",
   "execution_count": 52,
   "metadata": {},
   "outputs": [
    {
     "data": {
      "text/html": [
       "<div>\n",
       "<style scoped>\n",
       "    .dataframe tbody tr th:only-of-type {\n",
       "        vertical-align: middle;\n",
       "    }\n",
       "\n",
       "    .dataframe tbody tr th {\n",
       "        vertical-align: top;\n",
       "    }\n",
       "\n",
       "    .dataframe thead th {\n",
       "        text-align: right;\n",
       "    }\n",
       "</style>\n",
       "<table border=\"1\" class=\"dataframe\">\n",
       "  <thead>\n",
       "    <tr style=\"text-align: right;\">\n",
       "      <th></th>\n",
       "      <th>id</th>\n",
       "      <th>duration</th>\n",
       "      <th>user_id</th>\n",
       "    </tr>\n",
       "  </thead>\n",
       "  <tbody>\n",
       "    <tr>\n",
       "      <td>count</td>\n",
       "      <td>202,607.00</td>\n",
       "      <td>202,607.00</td>\n",
       "      <td>202,607.00</td>\n",
       "    </tr>\n",
       "    <tr>\n",
       "      <td>mean</td>\n",
       "      <td>1,212,254.17</td>\n",
       "      <td>6.76</td>\n",
       "      <td>1,253.94</td>\n",
       "    </tr>\n",
       "    <tr>\n",
       "      <td>std</td>\n",
       "      <td>1,725,756.38</td>\n",
       "      <td>5.84</td>\n",
       "      <td>144.72</td>\n",
       "    </tr>\n",
       "    <tr>\n",
       "      <td>min</td>\n",
       "      <td>10,000.00</td>\n",
       "      <td>0.00</td>\n",
       "      <td>1,000.00</td>\n",
       "    </tr>\n",
       "    <tr>\n",
       "      <td>25%</td>\n",
       "      <td>1,012,286.50</td>\n",
       "      <td>1.30</td>\n",
       "      <td>1,126.00</td>\n",
       "    </tr>\n",
       "    <tr>\n",
       "      <td>50%</td>\n",
       "      <td>1,179,376.00</td>\n",
       "      <td>6.00</td>\n",
       "      <td>1,260.00</td>\n",
       "    </tr>\n",
       "    <tr>\n",
       "      <td>75%</td>\n",
       "      <td>1,358,125.50</td>\n",
       "      <td>10.70</td>\n",
       "      <td>1,379.00</td>\n",
       "    </tr>\n",
       "    <tr>\n",
       "      <td>max</td>\n",
       "      <td>14,581,154.00</td>\n",
       "      <td>38.00</td>\n",
       "      <td>1,499.00</td>\n",
       "    </tr>\n",
       "  </tbody>\n",
       "</table>\n",
       "</div>"
      ],
      "text/plain": [
       "                 id   duration    user_id\n",
       "count    202,607.00 202,607.00 202,607.00\n",
       "mean   1,212,254.17       6.76   1,253.94\n",
       "std    1,725,756.38       5.84     144.72\n",
       "min       10,000.00       0.00   1,000.00\n",
       "25%    1,012,286.50       1.30   1,126.00\n",
       "50%    1,179,376.00       6.00   1,260.00\n",
       "75%    1,358,125.50      10.70   1,379.00\n",
       "max   14,581,154.00      38.00   1,499.00"
      ]
     },
     "execution_count": 52,
     "metadata": {},
     "output_type": "execute_result"
    }
   ],
   "source": [
    "calls.describe()"
   ]
  },
  {
   "cell_type": "code",
   "execution_count": 53,
   "metadata": {},
   "outputs": [
    {
     "data": {
      "image/png": "[encoded data removed]",
      "text/plain": [
       "<Figure size 432x288 with 1 Axes>"
      ]
     },
     "metadata": {
      "needs_background": "light"
     },
     "output_type": "display_data"
    }
   ],
   "source": [
    "calls.boxplot(column = 'duration')\n",
    "plt.show()"
   ]
  },
  {
   "cell_type": "code",
   "execution_count": 54,
   "metadata": {},
   "outputs": [],
   "source": [
    "calls = calls.query('duration > 0 and duration < 25')"
   ]
  },
  {
   "cell_type": "code",
   "execution_count": 55,
   "metadata": {},
   "outputs": [
    {
     "data": {
      "image/png": "[encoded data removed]",
      "text/plain": [
       "<Figure size 360x360 with 1 Axes>"
      ]
     },
     "metadata": {
      "needs_background": "light"
     },
     "output_type": "display_data"
    }
   ],
   "source": [
    "calls['duration'].hist(bins = 30, figsize = (5,5))\n",
    "plt.title('Звонки пользователей')\n",
    "plt.xlabel('Длительность каждого звонка(в минутах)')\n",
    "plt.ylabel('Количество звонков')\n",
    "plt.show()"
   ]
  },
  {
   "cell_type": "markdown",
   "metadata": {},
   "source": [
    "1. При просмотре столбца со звонками обнаруживаем на гистограмме большое количество(около 50 000) звонков с длительностью 0 секунд. Вероятно это пропущенные вызовы. Т.к они не влияют на прибыльность и в то же время сдвигают описательные статистики вниз, мы убираем эти выбросы из наших данных.\n",
    "2. На боксплоте и описательных статистиках замечаем наличие звонков длительных звонков более 25 минут(их всего 678 штук). Использовав правило трёх сигм мы можем прикинуть, что эти звонки выходят за пределы 99% всех значений характеристики. Поэтому мы принимаем решение удалить их.\n",
    "2. После удаления \"нулевых\" звонков и тех, что превышают 25 минут, мы можем убедится, что среднее стало более сбалансированным (было 6.7 стало 8.3 мин), а отклонение уменьшилось с 5.84 до 5.22, что говорит о том, что данные стали менее разбросанными.\n",
    "3. Гистограмма сразу приняла колоколовидную форму и отражает распределение Пуассона, т.е визуально сдвинута в сторону малых значений с пиком на значениях в районе 7-8 минут. \n"
   ]
  },
  {
   "cell_type": "code",
   "execution_count": 56,
   "metadata": {},
   "outputs": [
    {
     "data": {
      "image/png": "[encoded data removed]",
      "text/plain": [
       "<Figure size 360x432 with 1 Axes>"
      ]
     },
     "metadata": {
      "needs_background": "light"
     },
     "output_type": "display_data"
    }
   ],
   "source": [
    "internet['mb_used'].hist(bins = 20, figsize = (5,6))\n",
    "plt.title('Интернет траффик пользователей')\n",
    "plt.xlabel('Объём каждой интерент-сессии (в мегабайтах)')\n",
    "plt.ylabel('Количество интернет-сессий')\n",
    "plt.show()"
   ]
  },
  {
   "cell_type": "code",
   "execution_count": 57,
   "metadata": {},
   "outputs": [
    {
     "data": {
      "text/plain": [
       "count   149,396.00\n",
       "mean        370.19\n",
       "std         278.30\n",
       "min           0.00\n",
       "25%         138.19\n",
       "50%         348.01\n",
       "75%         559.55\n",
       "max       1,724.83\n",
       "Name: mb_used, dtype: float64"
      ]
     },
     "execution_count": 57,
     "metadata": {},
     "output_type": "execute_result"
    }
   ],
   "source": [
    "internet['mb_used'].describe()"
   ]
  },
  {
   "cell_type": "code",
   "execution_count": 58,
   "metadata": {
    "scrolled": true
   },
   "outputs": [
    {
     "data": {
      "image/png": "[encoded data removed]",
      "text/plain": [
       "<Figure size 432x288 with 1 Axes>"
      ]
     },
     "metadata": {
      "needs_background": "light"
     },
     "output_type": "display_data"
    }
   ],
   "source": [
    "internet.boxplot(column = 'mb_used')\n",
    "plt.show()"
   ]
  },
  {
   "cell_type": "code",
   "execution_count": 59,
   "metadata": {},
   "outputs": [],
   "source": [
    "internet = internet.query('mb_used > 0 and mb_used < 1204')"
   ]
  },
  {
   "cell_type": "code",
   "execution_count": 60,
   "metadata": {},
   "outputs": [
    {
     "data": {
      "text/html": [
       "<div>\n",
       "<style scoped>\n",
       "    .dataframe tbody tr th:only-of-type {\n",
       "        vertical-align: middle;\n",
       "    }\n",
       "\n",
       "    .dataframe tbody tr th {\n",
       "        vertical-align: top;\n",
       "    }\n",
       "\n",
       "    .dataframe thead th {\n",
       "        text-align: right;\n",
       "    }\n",
       "</style>\n",
       "<table border=\"1\" class=\"dataframe\">\n",
       "  <thead>\n",
       "    <tr style=\"text-align: right;\">\n",
       "      <th></th>\n",
       "      <th>id</th>\n",
       "      <th>mb_used</th>\n",
       "      <th>session_date</th>\n",
       "      <th>user_id</th>\n",
       "    </tr>\n",
       "  </thead>\n",
       "  <tbody>\n",
       "    <tr>\n",
       "      <td>0</td>\n",
       "      <td>10000</td>\n",
       "      <td>112.95</td>\n",
       "      <td>2018-11-25</td>\n",
       "      <td>1000</td>\n",
       "    </tr>\n",
       "    <tr>\n",
       "      <td>1</td>\n",
       "      <td>10001</td>\n",
       "      <td>1,052.81</td>\n",
       "      <td>2018-09-07</td>\n",
       "      <td>1000</td>\n",
       "    </tr>\n",
       "    <tr>\n",
       "      <td>2</td>\n",
       "      <td>10002</td>\n",
       "      <td>1,197.26</td>\n",
       "      <td>2018-06-25</td>\n",
       "      <td>1000</td>\n",
       "    </tr>\n",
       "    <tr>\n",
       "      <td>3</td>\n",
       "      <td>10003</td>\n",
       "      <td>550.27</td>\n",
       "      <td>2018-08-22</td>\n",
       "      <td>1000</td>\n",
       "    </tr>\n",
       "    <tr>\n",
       "      <td>4</td>\n",
       "      <td>10004</td>\n",
       "      <td>302.56</td>\n",
       "      <td>2018-09-24</td>\n",
       "      <td>1000</td>\n",
       "    </tr>\n",
       "    <tr>\n",
       "      <td>...</td>\n",
       "      <td>...</td>\n",
       "      <td>...</td>\n",
       "      <td>...</td>\n",
       "      <td>...</td>\n",
       "    </tr>\n",
       "    <tr>\n",
       "      <td>149389</td>\n",
       "      <td>1499150</td>\n",
       "      <td>273.98</td>\n",
       "      <td>2018-11-20</td>\n",
       "      <td>1499</td>\n",
       "    </tr>\n",
       "    <tr>\n",
       "      <td>149390</td>\n",
       "      <td>1499151</td>\n",
       "      <td>752.72</td>\n",
       "      <td>2018-10-11</td>\n",
       "      <td>1499</td>\n",
       "    </tr>\n",
       "    <tr>\n",
       "      <td>149391</td>\n",
       "      <td>1499152</td>\n",
       "      <td>318.90</td>\n",
       "      <td>2018-10-03</td>\n",
       "      <td>1499</td>\n",
       "    </tr>\n",
       "    <tr>\n",
       "      <td>149392</td>\n",
       "      <td>1499153</td>\n",
       "      <td>490.13</td>\n",
       "      <td>2018-12-14</td>\n",
       "      <td>1499</td>\n",
       "    </tr>\n",
       "    <tr>\n",
       "      <td>149395</td>\n",
       "      <td>1499156</td>\n",
       "      <td>544.37</td>\n",
       "      <td>2018-10-26</td>\n",
       "      <td>1499</td>\n",
       "    </tr>\n",
       "  </tbody>\n",
       "</table>\n",
       "<p>129318 rows × 4 columns</p>\n",
       "</div>"
      ],
      "text/plain": [
       "             id  mb_used session_date  user_id\n",
       "0         10000   112.95   2018-11-25     1000\n",
       "1         10001 1,052.81   2018-09-07     1000\n",
       "2         10002 1,197.26   2018-06-25     1000\n",
       "3         10003   550.27   2018-08-22     1000\n",
       "4         10004   302.56   2018-09-24     1000\n",
       "...         ...      ...          ...      ...\n",
       "149389  1499150   273.98   2018-11-20     1499\n",
       "149390  1499151   752.72   2018-10-11     1499\n",
       "149391  1499152   318.90   2018-10-03     1499\n",
       "149392  1499153   490.13   2018-12-14     1499\n",
       "149395  1499156   544.37   2018-10-26     1499\n",
       "\n",
       "[129318 rows x 4 columns]"
      ]
     },
     "execution_count": 60,
     "metadata": {},
     "output_type": "execute_result"
    }
   ],
   "source": [
    "internet.drop(axis = 1, columns ='Unnamed: 0')"
   ]
  },
  {
   "cell_type": "code",
   "execution_count": 61,
   "metadata": {},
   "outputs": [
    {
     "data": {
      "image/png": "[encoded data removed]",
      "text/plain": [
       "<Figure size 360x432 with 1 Axes>"
      ]
     },
     "metadata": {
      "needs_background": "light"
     },
     "output_type": "display_data"
    }
   ],
   "source": [
    "internet['mb_used'].hist(bins = 20, figsize = (5,6))\n",
    "plt.title('Интернет траффик пользователей')\n",
    "plt.xlabel('Объём каждой интерент-сессии (в мегабайтах)')\n",
    "plt.ylabel('Количество интернет-сессий')\n",
    "plt.show()"
   ]
  },
  {
   "cell_type": "markdown",
   "metadata": {},
   "source": [
    "Интернет\n",
    "\n",
    "1. Гистограмма отображает наличие достаточно большого количества сессий с использованным трафиком равным нулю. Это говорит о том, что была попытка начать сессию, но по какой-то причине трафик за эту сессию использован не был. В силу того, что мы в первую очередь заинтересованы в расчете использованного трафика, который влияет на конечную стоимость услуг, мы принимаем решение избавиться от этих \"нулевых\" сессий, которых в общей сложности набралось 19598.\n",
    "2. Как мы можем заметить из описательных статистик и боксплота выбросы более 1205 являются выбросами (477 наблюдений), т.к выходят за пределы 99% всех значений и визуально находятся за пределами верхнего уса боксплота. \n",
    "3. После удаления выбросов, мы можем заметить, что среднее выросло с 370 до 422 (отсутствие нулей сказывается), а стандартное отклонение уменьшилось с 278 до 250, что говорит о меньшей рассеяности данных.\n",
    "4. Еще мы избавились от непонятного столбца Unnamed 0, который появился вероятно по ошибке при выгрузке данных. "
   ]
  },
  {
   "cell_type": "code",
   "execution_count": 62,
   "metadata": {},
   "outputs": [],
   "source": [
    "#Т.к оператор округляет минуты и мегабайты к большему значению, мы также округлим наши данные к более высокому значению.\n",
    "calls['duration'] = calls['duration'].apply(np.ceil)\n",
    "internet['mb_used'] = internet['mb_used'].apply(np.ceil)"
   ]
  },
  {
   "cell_type": "code",
   "execution_count": 63,
   "metadata": {},
   "outputs": [
    {
     "data": {
      "text/plain": [
       "count   129,318.00\n",
       "mean        423.32\n",
       "std         250.33\n",
       "min           1.00\n",
       "25%         227.00\n",
       "50%         400.00\n",
       "75%         591.00\n",
       "max       1,204.00\n",
       "Name: mb_used, dtype: float64"
      ]
     },
     "execution_count": 63,
     "metadata": {},
     "output_type": "execute_result"
    }
   ],
   "source": [
    "internet['mb_used'].describe()"
   ]
  },
  {
   "cell_type": "code",
   "execution_count": 64,
   "metadata": {
    "scrolled": true
   },
   "outputs": [
    {
     "name": "stdout",
     "output_type": "stream",
     "text": [
      "\u001b[1mКраткие выводы по подготовке данных к анализу\u001b[0m\n"
     ]
    }
   ],
   "source": [
    "print('\\033[1m' + 'Краткие выводы по подготовке данных к анализу' + '\\033[0m')"
   ]
  },
  {
   "cell_type": "markdown",
   "metadata": {},
   "source": [
    "1. Мы привели данные к нужным типам: столбцы id приняли целочисленный тип, в то время как временные характеристики звонков, инернет-сессий и сообщений приняля временной были переведены ко временному типу datetime.\n",
    "2. Мы избавились от \"нулевых\" выбросов в звонках и интернет сессиях, а также убрали выбросы в больших значениях в тех же таблицах.\n",
    "\n",
    "Теперь пришло время посчитать и вывести различные характеристики использования тарифов для каждого пользователя."
   ]
  },
  {
   "cell_type": "markdown",
   "metadata": {},
   "source": [
    "## <a id=\"step3\"> 3. Характеристики использования двух тарифных планов</a>"
   ]
  },
  {
   "cell_type": "markdown",
   "metadata": {},
   "source": [
    "##### Создаем таблицы по нужным колонкам из датасетов calls, internet, messages"
   ]
  },
  {
   "cell_type": "code",
   "execution_count": 65,
   "metadata": {},
   "outputs": [],
   "source": [
    "# меняем название столбца с датой на date\n",
    "calls['date'] = calls['call_date']\n",
    "calls['month'] = pd.DatetimeIndex(calls['date']).month"
   ]
  },
  {
   "cell_type": "code",
   "execution_count": 66,
   "metadata": {},
   "outputs": [],
   "source": [
    "# выделяем нужный срез по колонкам датасета calls, позже этот срез будет объединён с датасетами других характеристик\n",
    "calls_grouped = calls.pivot_table(index  = ['user_id', 'month'], values = 'duration', aggfunc = np.sum)\n",
    "\n",
    "calls_grouped = calls_grouped.reset_index()\n",
    "\n",
    "# корректируем название столбца с длительностью звонков\n",
    "calls_grouped.set_axis(['user_id', 'month', 'calls_duration'],axis = 'columns', inplace = True) "
   ]
  },
  {
   "cell_type": "code",
   "execution_count": 67,
   "metadata": {},
   "outputs": [],
   "source": [
    "# создаем столбец month, по которому, вместе с user_id мы будем группировать данные\n",
    "internet['month'] = pd.DatetimeIndex(internet['session_date']).month"
   ]
  },
  {
   "cell_type": "code",
   "execution_count": 68,
   "metadata": {},
   "outputs": [],
   "source": [
    "# выделяем нужный срез по колонкам датасета internet, позже этот срез будет объединён с датасетами других характеристик\n",
    "internet_grouped = internet.pivot_table(index  = ['user_id', 'month'], values = 'mb_used', aggfunc = np.sum)\n",
    "\n",
    "internet_grouped = internet_grouped.reset_index()\n",
    "\n",
    "# задаем названия столбцов \n",
    "internet_grouped.set_axis(['user_id', 'month', 'mb_used'],axis = 'columns', inplace = True) "
   ]
  },
  {
   "cell_type": "code",
   "execution_count": 69,
   "metadata": {},
   "outputs": [],
   "source": [
    "messages['month'] = pd.DatetimeIndex(messages['message_date']).month"
   ]
  },
  {
   "cell_type": "code",
   "execution_count": 70,
   "metadata": {},
   "outputs": [],
   "source": [
    "# выделяем нужный срез по колонкам датасета messages, позже этот срез будет объединён с датасетами других характеристик\n",
    "messages_grouped = messages.pivot_table(index  = ['user_id', 'month'], values = 'id', aggfunc = \"count\")\n",
    "\n",
    "messages_grouped = messages_grouped.reset_index()\n",
    "\n",
    "# корректируем название столбца с количеством сообщений\n",
    "messages_grouped.set_axis(['user_id', 'month', 'messages_count'],axis = 'columns', inplace = True)"
   ]
  },
  {
   "cell_type": "code",
   "execution_count": 71,
   "metadata": {},
   "outputs": [
    {
     "data": {
      "text/html": [
       "<div>\n",
       "<style scoped>\n",
       "    .dataframe tbody tr th:only-of-type {\n",
       "        vertical-align: middle;\n",
       "    }\n",
       "\n",
       "    .dataframe tbody tr th {\n",
       "        vertical-align: top;\n",
       "    }\n",
       "\n",
       "    .dataframe thead th {\n",
       "        text-align: right;\n",
       "    }\n",
       "</style>\n",
       "<table border=\"1\" class=\"dataframe\">\n",
       "  <thead>\n",
       "    <tr style=\"text-align: right;\">\n",
       "      <th></th>\n",
       "      <th>user_id</th>\n",
       "      <th>month</th>\n",
       "      <th>calls_duration</th>\n",
       "    </tr>\n",
       "  </thead>\n",
       "  <tbody>\n",
       "    <tr>\n",
       "      <td>0</td>\n",
       "      <td>1000</td>\n",
       "      <td>5</td>\n",
       "      <td>159.00</td>\n",
       "    </tr>\n",
       "    <tr>\n",
       "      <td>1</td>\n",
       "      <td>1000</td>\n",
       "      <td>6</td>\n",
       "      <td>172.00</td>\n",
       "    </tr>\n",
       "    <tr>\n",
       "      <td>2</td>\n",
       "      <td>1000</td>\n",
       "      <td>7</td>\n",
       "      <td>340.00</td>\n",
       "    </tr>\n",
       "    <tr>\n",
       "      <td>3</td>\n",
       "      <td>1000</td>\n",
       "      <td>8</td>\n",
       "      <td>408.00</td>\n",
       "    </tr>\n",
       "    <tr>\n",
       "      <td>4</td>\n",
       "      <td>1000</td>\n",
       "      <td>9</td>\n",
       "      <td>466.00</td>\n",
       "    </tr>\n",
       "  </tbody>\n",
       "</table>\n",
       "</div>"
      ],
      "text/plain": [
       "   user_id  month  calls_duration\n",
       "0     1000      5          159.00\n",
       "1     1000      6          172.00\n",
       "2     1000      7          340.00\n",
       "3     1000      8          408.00\n",
       "4     1000      9          466.00"
      ]
     },
     "execution_count": 71,
     "metadata": {},
     "output_type": "execute_result"
    }
   ],
   "source": [
    "calls_grouped.head()"
   ]
  },
  {
   "cell_type": "code",
   "execution_count": 72,
   "metadata": {
    "scrolled": false
   },
   "outputs": [],
   "source": [
    "# соединяем сначала таблицы со звонками и интернетом\n",
    "calls_internet = calls_grouped.merge(internet_grouped, on = ['user_id', 'month'])"
   ]
  },
  {
   "cell_type": "code",
   "execution_count": 73,
   "metadata": {},
   "outputs": [
    {
     "data": {
      "text/html": [
       "<div>\n",
       "<style scoped>\n",
       "    .dataframe tbody tr th:only-of-type {\n",
       "        vertical-align: middle;\n",
       "    }\n",
       "\n",
       "    .dataframe tbody tr th {\n",
       "        vertical-align: top;\n",
       "    }\n",
       "\n",
       "    .dataframe thead th {\n",
       "        text-align: right;\n",
       "    }\n",
       "</style>\n",
       "<table border=\"1\" class=\"dataframe\">\n",
       "  <thead>\n",
       "    <tr style=\"text-align: right;\">\n",
       "      <th></th>\n",
       "      <th>user_id</th>\n",
       "      <th>month</th>\n",
       "      <th>mb_used</th>\n",
       "    </tr>\n",
       "  </thead>\n",
       "  <tbody>\n",
       "    <tr>\n",
       "      <td>0</td>\n",
       "      <td>1000</td>\n",
       "      <td>5</td>\n",
       "      <td>2,256.00</td>\n",
       "    </tr>\n",
       "    <tr>\n",
       "      <td>1</td>\n",
       "      <td>1000</td>\n",
       "      <td>6</td>\n",
       "      <td>23,257.00</td>\n",
       "    </tr>\n",
       "    <tr>\n",
       "      <td>2</td>\n",
       "      <td>1000</td>\n",
       "      <td>7</td>\n",
       "      <td>14,016.00</td>\n",
       "    </tr>\n",
       "    <tr>\n",
       "      <td>3</td>\n",
       "      <td>1000</td>\n",
       "      <td>8</td>\n",
       "      <td>14,070.00</td>\n",
       "    </tr>\n",
       "    <tr>\n",
       "      <td>4</td>\n",
       "      <td>1000</td>\n",
       "      <td>9</td>\n",
       "      <td>14,581.00</td>\n",
       "    </tr>\n",
       "  </tbody>\n",
       "</table>\n",
       "</div>"
      ],
      "text/plain": [
       "   user_id  month   mb_used\n",
       "0     1000      5  2,256.00\n",
       "1     1000      6 23,257.00\n",
       "2     1000      7 14,016.00\n",
       "3     1000      8 14,070.00\n",
       "4     1000      9 14,581.00"
      ]
     },
     "execution_count": 73,
     "metadata": {},
     "output_type": "execute_result"
    }
   ],
   "source": [
    "internet_grouped.head()"
   ]
  },
  {
   "cell_type": "code",
   "execution_count": 74,
   "metadata": {},
   "outputs": [],
   "source": [
    "# соединяем получившуюся таблицу с сообщениями\n",
    "calls_internet_messages = calls_internet.merge(messages_grouped, on = ['user_id', 'month'])"
   ]
  },
  {
   "cell_type": "code",
   "execution_count": 75,
   "metadata": {},
   "outputs": [
    {
     "data": {
      "text/html": [
       "<div>\n",
       "<style scoped>\n",
       "    .dataframe tbody tr th:only-of-type {\n",
       "        vertical-align: middle;\n",
       "    }\n",
       "\n",
       "    .dataframe tbody tr th {\n",
       "        vertical-align: top;\n",
       "    }\n",
       "\n",
       "    .dataframe thead th {\n",
       "        text-align: right;\n",
       "    }\n",
       "</style>\n",
       "<table border=\"1\" class=\"dataframe\">\n",
       "  <thead>\n",
       "    <tr style=\"text-align: right;\">\n",
       "      <th></th>\n",
       "      <th>user_id</th>\n",
       "      <th>month</th>\n",
       "      <th>messages_count</th>\n",
       "    </tr>\n",
       "  </thead>\n",
       "  <tbody>\n",
       "    <tr>\n",
       "      <td>0</td>\n",
       "      <td>1000</td>\n",
       "      <td>5</td>\n",
       "      <td>22</td>\n",
       "    </tr>\n",
       "    <tr>\n",
       "      <td>1</td>\n",
       "      <td>1000</td>\n",
       "      <td>6</td>\n",
       "      <td>60</td>\n",
       "    </tr>\n",
       "    <tr>\n",
       "      <td>2</td>\n",
       "      <td>1000</td>\n",
       "      <td>7</td>\n",
       "      <td>75</td>\n",
       "    </tr>\n",
       "    <tr>\n",
       "      <td>3</td>\n",
       "      <td>1000</td>\n",
       "      <td>8</td>\n",
       "      <td>81</td>\n",
       "    </tr>\n",
       "    <tr>\n",
       "      <td>4</td>\n",
       "      <td>1000</td>\n",
       "      <td>9</td>\n",
       "      <td>57</td>\n",
       "    </tr>\n",
       "  </tbody>\n",
       "</table>\n",
       "</div>"
      ],
      "text/plain": [
       "   user_id  month  messages_count\n",
       "0     1000      5              22\n",
       "1     1000      6              60\n",
       "2     1000      7              75\n",
       "3     1000      8              81\n",
       "4     1000      9              57"
      ]
     },
     "execution_count": 75,
     "metadata": {},
     "output_type": "execute_result"
    }
   ],
   "source": [
    "messages_grouped.head()"
   ]
  },
  {
   "cell_type": "code",
   "execution_count": 76,
   "metadata": {
    "scrolled": true
   },
   "outputs": [
    {
     "data": {
      "text/html": [
       "<div>\n",
       "<style scoped>\n",
       "    .dataframe tbody tr th:only-of-type {\n",
       "        vertical-align: middle;\n",
       "    }\n",
       "\n",
       "    .dataframe tbody tr th {\n",
       "        vertical-align: top;\n",
       "    }\n",
       "\n",
       "    .dataframe thead th {\n",
       "        text-align: right;\n",
       "    }\n",
       "</style>\n",
       "<table border=\"1\" class=\"dataframe\">\n",
       "  <thead>\n",
       "    <tr style=\"text-align: right;\">\n",
       "      <th></th>\n",
       "      <th>user_id</th>\n",
       "      <th>month</th>\n",
       "      <th>calls_duration</th>\n",
       "      <th>mb_used</th>\n",
       "      <th>messages_count</th>\n",
       "    </tr>\n",
       "  </thead>\n",
       "  <tbody>\n",
       "    <tr>\n",
       "      <td>0</td>\n",
       "      <td>1000</td>\n",
       "      <td>5</td>\n",
       "      <td>159.00</td>\n",
       "      <td>2,256.00</td>\n",
       "      <td>22</td>\n",
       "    </tr>\n",
       "    <tr>\n",
       "      <td>1</td>\n",
       "      <td>1000</td>\n",
       "      <td>6</td>\n",
       "      <td>172.00</td>\n",
       "      <td>23,257.00</td>\n",
       "      <td>60</td>\n",
       "    </tr>\n",
       "    <tr>\n",
       "      <td>2</td>\n",
       "      <td>1000</td>\n",
       "      <td>7</td>\n",
       "      <td>340.00</td>\n",
       "      <td>14,016.00</td>\n",
       "      <td>75</td>\n",
       "    </tr>\n",
       "    <tr>\n",
       "      <td>3</td>\n",
       "      <td>1000</td>\n",
       "      <td>8</td>\n",
       "      <td>408.00</td>\n",
       "      <td>14,070.00</td>\n",
       "      <td>81</td>\n",
       "    </tr>\n",
       "    <tr>\n",
       "      <td>4</td>\n",
       "      <td>1000</td>\n",
       "      <td>9</td>\n",
       "      <td>466.00</td>\n",
       "      <td>14,581.00</td>\n",
       "      <td>57</td>\n",
       "    </tr>\n",
       "  </tbody>\n",
       "</table>\n",
       "</div>"
      ],
      "text/plain": [
       "   user_id  month  calls_duration   mb_used  messages_count\n",
       "0     1000      5          159.00  2,256.00              22\n",
       "1     1000      6          172.00 23,257.00              60\n",
       "2     1000      7          340.00 14,016.00              75\n",
       "3     1000      8          408.00 14,070.00              81\n",
       "4     1000      9          466.00 14,581.00              57"
      ]
     },
     "execution_count": 76,
     "metadata": {},
     "output_type": "execute_result"
    }
   ],
   "source": [
    "# теперь у нас есть большая таблица, где есть все пользователи и все характеристики их потребления\n",
    "# но у нас отсутствуют данные по тем тариффам, которые используют пользователи\n",
    "calls_internet_messages.head()"
   ]
  },
  {
   "cell_type": "code",
   "execution_count": 77,
   "metadata": {},
   "outputs": [],
   "source": [
    "users_grouped = users[['user_id','tariff']]"
   ]
  },
  {
   "cell_type": "code",
   "execution_count": 78,
   "metadata": {},
   "outputs": [],
   "source": [
    "# объединяем таблицу с юзерами и их тариффом со всеми характеристика потребления \n",
    "pivot_table = calls_internet_messages.merge(users_grouped, on = 'user_id')"
   ]
  },
  {
   "cell_type": "code",
   "execution_count": 79,
   "metadata": {},
   "outputs": [],
   "source": [
    "tariffs.columns = ['messages_included', 'mb_per_month_included', 'minutes_included', 'rub_monthly_fee', 'rub_per_gb', 'rub_per_message', 'rub_per_minute', 'tariff']"
   ]
  },
  {
   "cell_type": "code",
   "execution_count": 80,
   "metadata": {
    "scrolled": true
   },
   "outputs": [],
   "source": [
    "# объединим таблицы с характеристиками потребления сгруппированные по пользователю-тарифу-месяцу\n",
    "# и тарифы с их описанием, что поможем нам вывести и посчитать израсходованные минуты/мб/сообщения\n",
    "# и соотнести их с тарифными характеристиками для подсчета трат пользователей по двум тарифам\n",
    "general_data = pd.merge(pivot_table, tariffs, on = 'tariff')"
   ]
  },
  {
   "cell_type": "code",
   "execution_count": 81,
   "metadata": {},
   "outputs": [],
   "source": [
    "# полагаясь на визуальную помощь и статистики избавляемся от огромных выбросов в длительности звонков\n",
    "general_data = general_data.query('calls_duration > 0 and calls_duration < 1300')"
   ]
  },
  {
   "cell_type": "code",
   "execution_count": 82,
   "metadata": {},
   "outputs": [],
   "source": [
    "# используя визуальную помощь и правило трех сигм избавимся от больших выбросов в использованном трафике\n",
    "general_data = general_data.query('mb_used < 38000')"
   ]
  },
  {
   "cell_type": "code",
   "execution_count": 83,
   "metadata": {},
   "outputs": [],
   "source": [
    "# избавляемся от выбросов в сообщениях\n",
    "general_data = general_data.query('messages_count < 140')"
   ]
  },
  {
   "cell_type": "code",
   "execution_count": 84,
   "metadata": {},
   "outputs": [
    {
     "data": {
      "text/html": [
       "<div>\n",
       "<style scoped>\n",
       "    .dataframe tbody tr th:only-of-type {\n",
       "        vertical-align: middle;\n",
       "    }\n",
       "\n",
       "    .dataframe tbody tr th {\n",
       "        vertical-align: top;\n",
       "    }\n",
       "\n",
       "    .dataframe thead th {\n",
       "        text-align: right;\n",
       "    }\n",
       "</style>\n",
       "<table border=\"1\" class=\"dataframe\">\n",
       "  <thead>\n",
       "    <tr style=\"text-align: right;\">\n",
       "      <th></th>\n",
       "      <th>user_id</th>\n",
       "      <th>month</th>\n",
       "      <th>calls_duration</th>\n",
       "      <th>mb_used</th>\n",
       "      <th>messages_count</th>\n",
       "      <th>tariff</th>\n",
       "      <th>messages_included</th>\n",
       "      <th>mb_per_month_included</th>\n",
       "      <th>minutes_included</th>\n",
       "      <th>rub_monthly_fee</th>\n",
       "      <th>rub_per_gb</th>\n",
       "      <th>rub_per_message</th>\n",
       "      <th>rub_per_minute</th>\n",
       "    </tr>\n",
       "  </thead>\n",
       "  <tbody>\n",
       "    <tr>\n",
       "      <td>0</td>\n",
       "      <td>1000</td>\n",
       "      <td>5</td>\n",
       "      <td>159.00</td>\n",
       "      <td>2,256.00</td>\n",
       "      <td>22</td>\n",
       "      <td>ultra</td>\n",
       "      <td>1000</td>\n",
       "      <td>30720</td>\n",
       "      <td>3000</td>\n",
       "      <td>1950</td>\n",
       "      <td>150</td>\n",
       "      <td>1</td>\n",
       "      <td>1</td>\n",
       "    </tr>\n",
       "    <tr>\n",
       "      <td>1</td>\n",
       "      <td>1000</td>\n",
       "      <td>6</td>\n",
       "      <td>172.00</td>\n",
       "      <td>23,257.00</td>\n",
       "      <td>60</td>\n",
       "      <td>ultra</td>\n",
       "      <td>1000</td>\n",
       "      <td>30720</td>\n",
       "      <td>3000</td>\n",
       "      <td>1950</td>\n",
       "      <td>150</td>\n",
       "      <td>1</td>\n",
       "      <td>1</td>\n",
       "    </tr>\n",
       "    <tr>\n",
       "      <td>2</td>\n",
       "      <td>1000</td>\n",
       "      <td>7</td>\n",
       "      <td>340.00</td>\n",
       "      <td>14,016.00</td>\n",
       "      <td>75</td>\n",
       "      <td>ultra</td>\n",
       "      <td>1000</td>\n",
       "      <td>30720</td>\n",
       "      <td>3000</td>\n",
       "      <td>1950</td>\n",
       "      <td>150</td>\n",
       "      <td>1</td>\n",
       "      <td>1</td>\n",
       "    </tr>\n",
       "    <tr>\n",
       "      <td>3</td>\n",
       "      <td>1000</td>\n",
       "      <td>8</td>\n",
       "      <td>408.00</td>\n",
       "      <td>14,070.00</td>\n",
       "      <td>81</td>\n",
       "      <td>ultra</td>\n",
       "      <td>1000</td>\n",
       "      <td>30720</td>\n",
       "      <td>3000</td>\n",
       "      <td>1950</td>\n",
       "      <td>150</td>\n",
       "      <td>1</td>\n",
       "      <td>1</td>\n",
       "    </tr>\n",
       "    <tr>\n",
       "      <td>4</td>\n",
       "      <td>1000</td>\n",
       "      <td>9</td>\n",
       "      <td>466.00</td>\n",
       "      <td>14,581.00</td>\n",
       "      <td>57</td>\n",
       "      <td>ultra</td>\n",
       "      <td>1000</td>\n",
       "      <td>30720</td>\n",
       "      <td>3000</td>\n",
       "      <td>1950</td>\n",
       "      <td>150</td>\n",
       "      <td>1</td>\n",
       "      <td>1</td>\n",
       "    </tr>\n",
       "  </tbody>\n",
       "</table>\n",
       "</div>"
      ],
      "text/plain": [
       "   user_id  month  calls_duration   mb_used  messages_count tariff  \\\n",
       "0     1000      5          159.00  2,256.00              22  ultra   \n",
       "1     1000      6          172.00 23,257.00              60  ultra   \n",
       "2     1000      7          340.00 14,016.00              75  ultra   \n",
       "3     1000      8          408.00 14,070.00              81  ultra   \n",
       "4     1000      9          466.00 14,581.00              57  ultra   \n",
       "\n",
       "   messages_included  mb_per_month_included  minutes_included  \\\n",
       "0               1000                  30720              3000   \n",
       "1               1000                  30720              3000   \n",
       "2               1000                  30720              3000   \n",
       "3               1000                  30720              3000   \n",
       "4               1000                  30720              3000   \n",
       "\n",
       "   rub_monthly_fee  rub_per_gb  rub_per_message  rub_per_minute  \n",
       "0             1950         150                1               1  \n",
       "1             1950         150                1               1  \n",
       "2             1950         150                1               1  \n",
       "3             1950         150                1               1  \n",
       "4             1950         150                1               1  "
      ]
     },
     "execution_count": 84,
     "metadata": {},
     "output_type": "execute_result"
    }
   ],
   "source": [
    "general_data.head()"
   ]
  },
  {
   "cell_type": "code",
   "execution_count": 86,
   "metadata": {},
   "outputs": [],
   "source": [
    "# использую функцию, которая по каждому пользователю подсчитывает минуты сверх тарифа\n",
    "# потому мы перемножаем все эти минуты на стоимость каждой минуты сверх тарифа\n",
    "# в итоге у нас есть столбец с суммой заплаченной за звонки сверх тарифа\n",
    "def overused_minutes(row):\n",
    "    minutes_included = row['minutes_included']\n",
    "    minutes_used = row['calls_duration']\n",
    "    rub_per_minute = row['rub_per_minute']\n",
    "    if minutes_used > minutes_included:\n",
    "        extra_fee_calls = (minutes_used - minutes_included)*rub_per_minute\n",
    "    else:\n",
    "        extra_fee_calls = 0\n",
    "    return extra_fee_calls\n",
    "\n",
    "general_data['extra_fee_calls'] = general_data.apply(overused_minutes, axis =1)  "
   ]
  },
  {
   "cell_type": "code",
   "execution_count": 87,
   "metadata": {},
   "outputs": [],
   "source": [
    "# использую функцию, которая по каждому пользователю подсчитывает количество мегабайт сверх тарифа\n",
    "# потому мы перемножаем все эти мегабайты на стоимость каждой минуты сверх тарифа\n",
    "# и делим на тысячу, т.к в столбце стоимости перерасходованного трафика указаны гигабайты, а мы считали в мегабайтах\n",
    "def overused_internet(row):\n",
    "    internet_included = row['mb_per_month_included']\n",
    "    internet_used = row['mb_used']\n",
    "    rub_per_gb = row['rub_per_gb']\n",
    "    if internet_used > internet_included:\n",
    "        extra_fee_internet = ((internet_used - internet_included)*rub_per_gb)/1024\n",
    "    else:\n",
    "        extra_fee_internet = 0\n",
    "    return extra_fee_internet\n",
    "\n",
    "general_data['extra_fee_internet'] = general_data.apply(overused_internet, axis =1)  "
   ]
  },
  {
   "cell_type": "code",
   "execution_count": 88,
   "metadata": {},
   "outputs": [],
   "source": [
    "def overused_messages(row):\n",
    "    messages_included = row['messages_included']\n",
    "    messages_used = row['messages_count']\n",
    "    rub_per_message = row['rub_per_message']\n",
    "    if messages_used > messages_included:\n",
    "        extra_fee_messages = (messages_used - messages_included)*rub_per_message\n",
    "    else:\n",
    "        extra_fee_messages = 0\n",
    "    return extra_fee_messages\n",
    "\n",
    "general_data['extra_fee_messages'] = general_data.apply(overused_messages, axis =1)  "
   ]
  },
  {
   "cell_type": "code",
   "execution_count": 89,
   "metadata": {},
   "outputs": [],
   "source": [
    "general_data['monthly_pay'] = general_data['rub_monthly_fee'] + general_data['extra_fee_calls'] + general_data['extra_fee_internet'] + general_data['extra_fee_messages']"
   ]
  },
  {
   "cell_type": "markdown",
   "metadata": {},
   "source": [
    " ## Cравнение двух тарифов "
   ]
  },
  {
   "cell_type": "code",
   "execution_count": 90,
   "metadata": {},
   "outputs": [],
   "source": [
    "# создаем отдельную выборку из 500 пользователей\n",
    "sample_data = general_data.sample(500)"
   ]
  },
  {
   "cell_type": "code",
   "execution_count": 91,
   "metadata": {},
   "outputs": [],
   "source": [
    "# создадим отдельный срез для тариффа \"смарт\"\n",
    "smart = sample_data.query('tariff == \"smart\"')"
   ]
  },
  {
   "cell_type": "code",
   "execution_count": 92,
   "metadata": {},
   "outputs": [],
   "source": [
    "# выберем среднее интересующих нас характеристик потребления тариффа \"смарт\"\n",
    "smart_features = smart.pivot_table(index = 'tariff', values = ['calls_duration', 'mb_used', 'messages_count'], aggfunc = 'mean')"
   ]
  },
  {
   "cell_type": "code",
   "execution_count": 93,
   "metadata": {},
   "outputs": [],
   "source": [
    "# создадим отдельный срез для тариффа \"ультра\"\n",
    "ultra = sample_data.query('tariff == \"ultra\"')"
   ]
  },
  {
   "cell_type": "code",
   "execution_count": 94,
   "metadata": {},
   "outputs": [],
   "source": [
    "# выберем среднее интересующих нас характеристик потребления тариффа \"ультра\"\n",
    "ultra_features = ultra.pivot_table(index = 'tariff', values = ['calls_duration', 'mb_used', 'messages_count'], aggfunc = 'mean')"
   ]
  },
  {
   "cell_type": "code",
   "execution_count": 95,
   "metadata": {},
   "outputs": [
    {
     "data": {
      "text/html": [
       "<div>\n",
       "<style scoped>\n",
       "    .dataframe tbody tr th:only-of-type {\n",
       "        vertical-align: middle;\n",
       "    }\n",
       "\n",
       "    .dataframe tbody tr th {\n",
       "        vertical-align: top;\n",
       "    }\n",
       "\n",
       "    .dataframe thead th {\n",
       "        text-align: right;\n",
       "    }\n",
       "</style>\n",
       "<table border=\"1\" class=\"dataframe\">\n",
       "  <thead>\n",
       "    <tr style=\"text-align: right;\">\n",
       "      <th></th>\n",
       "      <th>tariff</th>\n",
       "      <th>calls_duration</th>\n",
       "      <th>mb_used</th>\n",
       "      <th>messages_count</th>\n",
       "    </tr>\n",
       "  </thead>\n",
       "  <tbody>\n",
       "    <tr>\n",
       "      <td>0</td>\n",
       "      <td>smart</td>\n",
       "      <td>416.30</td>\n",
       "      <td>16,036.03</td>\n",
       "      <td>37.84</td>\n",
       "    </tr>\n",
       "  </tbody>\n",
       "</table>\n",
       "</div>"
      ],
      "text/plain": [
       "  tariff  calls_duration   mb_used  messages_count\n",
       "0  smart          416.30 16,036.03           37.84"
      ]
     },
     "execution_count": 95,
     "metadata": {},
     "output_type": "execute_result"
    }
   ],
   "source": [
    "smart_features.reset_index()"
   ]
  },
  {
   "cell_type": "code",
   "execution_count": 96,
   "metadata": {},
   "outputs": [
    {
     "data": {
      "text/html": [
       "<div>\n",
       "<style scoped>\n",
       "    .dataframe tbody tr th:only-of-type {\n",
       "        vertical-align: middle;\n",
       "    }\n",
       "\n",
       "    .dataframe tbody tr th {\n",
       "        vertical-align: top;\n",
       "    }\n",
       "\n",
       "    .dataframe thead th {\n",
       "        text-align: right;\n",
       "    }\n",
       "</style>\n",
       "<table border=\"1\" class=\"dataframe\">\n",
       "  <thead>\n",
       "    <tr style=\"text-align: right;\">\n",
       "      <th></th>\n",
       "      <th>tariff</th>\n",
       "      <th>calls_duration</th>\n",
       "      <th>mb_used</th>\n",
       "      <th>messages_count</th>\n",
       "    </tr>\n",
       "  </thead>\n",
       "  <tbody>\n",
       "    <tr>\n",
       "      <td>0</td>\n",
       "      <td>ultra</td>\n",
       "      <td>512.94</td>\n",
       "      <td>17,052.28</td>\n",
       "      <td>57.08</td>\n",
       "    </tr>\n",
       "  </tbody>\n",
       "</table>\n",
       "</div>"
      ],
      "text/plain": [
       "  tariff  calls_duration   mb_used  messages_count\n",
       "0  ultra          512.94 17,052.28           57.08"
      ]
     },
     "execution_count": 96,
     "metadata": {},
     "output_type": "execute_result"
    }
   ],
   "source": [
    "ultra_features.reset_index()"
   ]
  },
  {
   "cell_type": "markdown",
   "metadata": {},
   "source": [
    "Помесячные средние характеристик потребления двух тарифных планов: \n",
    "\n",
    "1. По выборке пользователи тариффа \"смарт\" в среднем используют значительно меньшее количество минут на разговоры (в среднем на 22%), по сравнению с пользователями тариффа \"ульра\".Но ни те, ни другие в среднем не выходят за пределы предоплаченного количества минут.\n",
    "\n",
    "2. Пользователи тариффа \"ультра\" используют на 11% больше интеренет траффика, чем \"смартовцы\". Это выглядит закономерно, т.к у них изначально включенно в траффик 30гб бесплатного Интернета и они платят за это в абонплате. При этом, пользователи \"смарт\" в среднем регулярно превышают заложенный в абонплате объем траффика, и соответственно переплачивают за дополнительные мегабайты.\n",
    "\n",
    "3. Пользователи тариффа \"смарт\" отправляют сообщений примерно на 30% меньше, чем пользователи тариффа \"ультра\". И те, и другие в среднем не превышают заложенный в абонплате лимит.\n",
    "\n",
    "4. Хотя изначально пользователи \"смарт\" не платят большую абонплату, вследствие перерасхода траффика они регулярно доплачивают за дополнительный траффик. \n"
   ]
  },
  {
   "cell_type": "markdown",
   "metadata": {},
   "source": [
    "Проверим среднюю прибыль пользователей двух тариффов по выборке "
   ]
  },
  {
   "cell_type": "code",
   "execution_count": 97,
   "metadata": {
    "scrolled": true
   },
   "outputs": [
    {
     "data": {
      "text/html": [
       "<div>\n",
       "<style scoped>\n",
       "    .dataframe tbody tr th:only-of-type {\n",
       "        vertical-align: middle;\n",
       "    }\n",
       "\n",
       "    .dataframe tbody tr th {\n",
       "        vertical-align: top;\n",
       "    }\n",
       "\n",
       "    .dataframe thead th {\n",
       "        text-align: right;\n",
       "    }\n",
       "</style>\n",
       "<table border=\"1\" class=\"dataframe\">\n",
       "  <thead>\n",
       "    <tr style=\"text-align: right;\">\n",
       "      <th></th>\n",
       "      <th>tariff</th>\n",
       "      <th>monthly_pay</th>\n",
       "    </tr>\n",
       "  </thead>\n",
       "  <tbody>\n",
       "    <tr>\n",
       "      <td>0</td>\n",
       "      <td>smart</td>\n",
       "      <td>1,190.78</td>\n",
       "    </tr>\n",
       "    <tr>\n",
       "      <td>1</td>\n",
       "      <td>ultra</td>\n",
       "      <td>1,960.50</td>\n",
       "    </tr>\n",
       "  </tbody>\n",
       "</table>\n",
       "</div>"
      ],
      "text/plain": [
       "  tariff  monthly_pay\n",
       "0  smart     1,190.78\n",
       "1  ultra     1,960.50"
      ]
     },
     "execution_count": 97,
     "metadata": {},
     "output_type": "execute_result"
    }
   ],
   "source": [
    "result = sample_data.groupby('tariff')['monthly_pay'].mean()\n",
    "\n",
    "result.reset_index()"
   ]
  },
  {
   "cell_type": "code",
   "execution_count": 98,
   "metadata": {},
   "outputs": [
    {
     "name": "stdout",
     "output_type": "stream",
     "text": [
      "Средняя прибыль по всей выборке:\n"
     ]
    },
    {
     "data": {
      "text/plain": [
       "1395.52477734375"
      ]
     },
     "execution_count": 98,
     "metadata": {},
     "output_type": "execute_result"
    }
   ],
   "source": [
    "print('Средняя прибыль по всей выборке:')\n",
    "sample_data['monthly_pay'].mean()"
   ]
  },
  {
   "cell_type": "markdown",
   "metadata": {},
   "source": [
    "1. Как можем заметить, пользователи тариффа \"ультра\" в среднем платят сумму равную их ежемесячной плате. В силу того, что они практически не перерасходуют предоставляемые минуты, интернет и сообщения, они чаще всего платят сумму близкую к абонплате (1950 руб).\n",
    "2. Пользователи \"смарт\" вследствие перерасхода предоставляемых в абонплате услуг(в основном интеренета, но и минут тоже), значительно переплачивают свою абонплату(550 руб) и тратят в среднем (1212 руб).\n",
    "3. Как можем заключить из сравнения средней помесячной прибыли каждого пользователя, тарифф \"ультра\" является более прибыльным для компании по средней выручки на клиента. Но следует учитывать, что получают пользователи \"ультра\" гораздо больше траффика, минут и сообщений. В среднем один пользователь тариффа \"смарт\" каждый месяц приносит прибыли на 39% процентов меньше, чем пользователь тариффа \"ультра\" по выборке. "
   ]
  },
  {
   "cell_type": "code",
   "execution_count": 99,
   "metadata": {
    "scrolled": true
   },
   "outputs": [
    {
     "name": "stdout",
     "output_type": "stream",
     "text": [
      "Стандартные отклонения характеристик потребления:\n",
      "\n",
      "Звонки пользователей тариффа \"ультра\": 290.2183806648621\n",
      "Звонки пользователей тариффа \"смарт\": 178.43428808348463\n",
      "\n",
      "Интернет пользователей тариффа \"ультра\": 8149.203585695468\n",
      "Интернет пользователей тариффа \"смарт\": 5853.46072119358\n",
      "\n",
      "Сообщения пользователей тариффа \"ультра\": 39.19300438366404\n",
      "Сообщения пользователей тариффа \"смарт\": 25.72745695484284\n"
     ]
    }
   ],
   "source": [
    "print('Стандартные отклонения характеристик потребления:')\n",
    "print()\n",
    "print('Звонки пользователей тариффа \"ультра\":', ultra.calls_duration.std(ddof=1))\n",
    "print('Звонки пользователей тариффа \"смарт\":', smart.calls_duration.std(ddof=1))\n",
    "print()\n",
    "print('Интернет пользователей тариффа \"ультра\":', ultra.mb_used.std(ddof=1))\n",
    "print('Интернет пользователей тариффа \"смарт\":', smart.mb_used.std(ddof=1))\n",
    "print()\n",
    "print('Сообщения пользователей тариффа \"ультра\":', ultra.messages_count.std(ddof=1))\n",
    "print('Сообщения пользователей тариффа \"смарт\":', smart.messages_count.std(ddof=1))"
   ]
  },
  {
   "cell_type": "code",
   "execution_count": 100,
   "metadata": {},
   "outputs": [
    {
     "name": "stdout",
     "output_type": "stream",
     "text": [
      "Дисперсия характеристик потребления:\n",
      "\n",
      "Звонки пользователей тариффа \"ультра\": 84226.70847573479\n",
      "Звонки пользователей тариффа \"смарт\": 31838.79516385998\n",
      "\n",
      "Интернет пользователей тариффа \"ультра\": 66409519.08111188\n",
      "Интернет пользователей тариффа \"смарт\": 34263002.41455606\n",
      "\n",
      "Сообщения пользователей тариффа \"ультра\": 1536.0915926179086\n",
      "Сообщения пользователей тариффа \"смарт\": 25.72745695484284\n"
     ]
    }
   ],
   "source": [
    "print('Дисперсия характеристик потребления:')\n",
    "print()\n",
    "print('Звонки пользователей тариффа \"ультра\":', ultra.calls_duration.var(ddof=1))\n",
    "print('Звонки пользователей тариффа \"смарт\":', smart.calls_duration.var(ddof=1))\n",
    "print()\n",
    "print('Интернет пользователей тариффа \"ультра\":', ultra.mb_used.var(ddof=1))\n",
    "print('Интернет пользователей тариффа \"смарт\":', smart.mb_used.var(ddof=1))\n",
    "print()\n",
    "print('Сообщения пользователей тариффа \"ультра\":', ultra.messages_count.var(ddof=1))\n",
    "print('Сообщения пользователей тариффа \"смарт\":', smart.messages_count.std(ddof=1))"
   ]
  },
  {
   "cell_type": "markdown",
   "metadata": {},
   "source": [
    "ГИСТОГРАММЫ РАСПРЕДЕЛЕНИЯ ХАРАКТЕРИСТИК ТАРИФФОВ В ВЫБОРКЕ"
   ]
  },
  {
   "cell_type": "code",
   "execution_count": 101,
   "metadata": {},
   "outputs": [
    {
     "data": {
      "image/png": "[encoded data removed]",
      "text/plain": [
       "<Figure size 432x288 with 1 Axes>"
      ]
     },
     "metadata": {
      "needs_background": "light"
     },
     "output_type": "display_data"
    }
   ],
   "source": [
    "sample_data.query('tariff == \"smart\"')['mb_used'].hist(bins = 30, alpha = 0.4)\n",
    "sample_data.query('tariff == \"ultra\"')['mb_used'].hist(bins = 30, alpha = 0.4)\n",
    "plt.title('Использованный траффик')\n",
    "plt.xlabel('Использованный траффик в мегабайтах')\n",
    "plt.ylabel('Количество пользователей')\n",
    "plt.show()"
   ]
  },
  {
   "cell_type": "markdown",
   "metadata": {},
   "source": [
    "Как можем заметить из гистограммы, использованный траффик пользователей \"смарт\" в целом распределен нормально. В то время, как большинство значений пользователей тариффа \"ультра\" как-будто \"размазались\" вдоль оси x.  "
   ]
  },
  {
   "cell_type": "code",
   "execution_count": 102,
   "metadata": {
    "scrolled": false
   },
   "outputs": [
    {
     "data": {
      "image/png": "[encoded data removed]",
      "text/plain": [
       "<Figure size 432x288 with 1 Axes>"
      ]
     },
     "metadata": {
      "needs_background": "light"
     },
     "output_type": "display_data"
    }
   ],
   "source": [
    "sample_data.query('tariff == \"smart\"')['calls_duration'].hist(bins = 30, alpha = 0.4)\n",
    "sample_data.query('tariff == \"ultra\"')['calls_duration'].hist(bins = 30, alpha = 0.4)\n",
    "plt.title('Телефонные звонки')\n",
    "plt.xlabel('Количество использованных минут')\n",
    "plt.ylabel('Количество пользователей')\n",
    "plt.show()"
   ]
  },
  {
   "cell_type": "markdown",
   "metadata": {},
   "source": [
    "Распределение звонков пользователей \"смарт\" во многом напоминает нормальное распределение с небольшим сдвигом в сторону больших значений. Распределение звонков пользователей тариффа \"ультра\" не похоже на нормальное и вместо колокола мы наблюдаем множество значений распределенных примерно равномерно вдоль оси х с небольшим подъемом в районе 450 - 550 минут"
   ]
  },
  {
   "cell_type": "code",
   "execution_count": 103,
   "metadata": {},
   "outputs": [
    {
     "data": {
      "image/png": "[encoded data removed]",
      "text/plain": [
       "<Figure size 432x288 with 1 Axes>"
      ]
     },
     "metadata": {
      "needs_background": "light"
     },
     "output_type": "display_data"
    }
   ],
   "source": [
    "sample_data.query('tariff == \"smart\"')['messages_count'].hist(bins = 30, alpha = 0.4)\n",
    "sample_data.query('tariff == \"ultra\"')['messages_count'].hist(bins = 30, alpha = 0.4)\n",
    "plt.title('Отправленные сообщения')\n",
    "plt.xlabel('Количество отправленных сообщений')\n",
    "plt.ylabel('Количество пользователей')\n",
    "plt.show()"
   ]
  },
  {
   "cell_type": "markdown",
   "metadata": {},
   "source": [
    "Распределение сообщений пользователей тариффов \"смарт\" не является нормальным. Оно сдвинуто в сторону малых значений и напоминает распределение Пуассона. Распределение звонков также не напоминает нормальной распределение, а большей частью павномерно распределено вдоль оси х."
   ]
  },
  {
   "cell_type": "markdown",
   "metadata": {},
   "source": [
    "## <a id=\"step4\">4. Проверка гипотез</a>"
   ]
  },
  {
   "cell_type": "markdown",
   "metadata": {},
   "source": [
    "1. Для проверки наших гипотез о различии выручки от двух тариффных планов мы будем использовать случайную выборку 500 пользователей этих тариффов, которую мы взяли из общей совокупности наблюдений при помощи метода sample().\n",
    "2. Итак, для начала нам нужно сравнить гипотезу о равенстве выручки пользователей двух тариффов. Для этого мы сначала используем нулевую гипотезу Н0, которая скептична и гласит, что выручки от двух тарифных планов не отличаются друг от друга.\n",
    "3. Затем, мы вооружимся альтернативной гипотезой Н1, которая утверждает, что между выручкой пользователей тариффов \"смарт\" и \"ультра\" существует статистически значимое различие. Если при проведении статистического теста нам удастся опровергнуть нулевую гипотезу, то мы сможем утверждать, что нулевая гипотеза крайне маловероятна. И соответственно иметь основания для правильности альтернативной гипотезы.\n",
    "4. Т.к пользователи двух тарифных планов принадлежат к двум независимым группам, мы будем использовать t-критерий для независимых выборок. \n",
    "5. Уровень значимости будет установлен на уровне 0.05, что говорит о том, что вероятность принять альтернативную гипотезу при правильности нулевой составляет 5%.  "
   ]
  },
  {
   "cell_type": "code",
   "execution_count": 104,
   "metadata": {},
   "outputs": [
    {
     "data": {
      "text/plain": [
       "count     133.00\n",
       "mean    1,960.50\n",
       "std        54.60\n",
       "min     1,950.00\n",
       "25%     1,950.00\n",
       "50%     1,950.00\n",
       "75%     1,950.00\n",
       "max     2,285.60\n",
       "Name: monthly_pay, dtype: float64"
      ]
     },
     "execution_count": 104,
     "metadata": {},
     "output_type": "execute_result"
    }
   ],
   "source": [
    "ultra.monthly_pay.describe()"
   ]
  },
  {
   "cell_type": "code",
   "execution_count": 105,
   "metadata": {},
   "outputs": [
    {
     "data": {
      "text/plain": [
       "count     367.00\n",
       "mean    1,190.78\n",
       "std       771.29\n",
       "min       550.00\n",
       "25%       550.00\n",
       "50%       916.00\n",
       "75%     1,613.65\n",
       "max     5,578.34\n",
       "Name: monthly_pay, dtype: float64"
      ]
     },
     "execution_count": 105,
     "metadata": {},
     "output_type": "execute_result"
    }
   ],
   "source": [
    "smart.monthly_pay.describe()"
   ]
  },
  {
   "cell_type": "code",
   "execution_count": 106,
   "metadata": {},
   "outputs": [
    {
     "name": "stdout",
     "output_type": "stream",
     "text": [
      "p-значение: 2.850971666573846e-27\n"
     ]
    }
   ],
   "source": [
    "# приводим данные к списку\n",
    "\n",
    "smart_guys = smart['monthly_pay'].tolist()\n",
    "ultra_guys = ultra['monthly_pay'].tolist()\n",
    "\n",
    "# задаем уровень значимости\n",
    "alpha = .05\n",
    "\n",
    "# проводим t-тест для двух независимых выборок\n",
    "\n",
    "results = st.ttest_ind(ultra_guys, smart_guys, equal_var = True)\n",
    "\n",
    "print('p-значение:', results.pvalue)"
   ]
  },
  {
   "cell_type": "markdown",
   "metadata": {},
   "source": [
    "Итак, мы получили статистически значимые результаты с результатом p-значение = 2.416676717457731e-20 (очень маленькое число). Т.к наше изначально выбранный уровень значимость был установлен на отметке 0.05, это результат позволяет нам отвергнуть нулевую гипотезу (наш результат примерно выглядит как 0.00000000024). Или иными словами, вероятность ошибки первого рода составляет гораздо меньше одного процента, что меньше 5%, и соответственно вероятность отвергнуть нулевую гипотезу, хотя она была верна, составляет значительно меньше. \n",
    "Заключение: месячная выручка пользователей тариффов \"смарт\" и \"ультра\" статистически различается."
   ]
  },
  {
   "cell_type": "code",
   "execution_count": 107,
   "metadata": {},
   "outputs": [],
   "source": [
    "# для проверки второй гипотезы о различии выручки из регионов и Москвы создаем табличку с городом пользователей\n",
    "users_city = users[['user_id','city']]"
   ]
  },
  {
   "cell_type": "code",
   "execution_count": 108,
   "metadata": {},
   "outputs": [],
   "source": [
    "sample_data_city = sample_data.merge(users_city, on = 'user_id')"
   ]
  },
  {
   "cell_type": "code",
   "execution_count": 109,
   "metadata": {
    "scrolled": true
   },
   "outputs": [
    {
     "data": {
      "text/html": [
       "<div>\n",
       "<style scoped>\n",
       "    .dataframe tbody tr th:only-of-type {\n",
       "        vertical-align: middle;\n",
       "    }\n",
       "\n",
       "    .dataframe tbody tr th {\n",
       "        vertical-align: top;\n",
       "    }\n",
       "\n",
       "    .dataframe thead th {\n",
       "        text-align: right;\n",
       "    }\n",
       "</style>\n",
       "<table border=\"1\" class=\"dataframe\">\n",
       "  <thead>\n",
       "    <tr style=\"text-align: right;\">\n",
       "      <th></th>\n",
       "      <th>user_id</th>\n",
       "      <th>month</th>\n",
       "      <th>calls_duration</th>\n",
       "      <th>mb_used</th>\n",
       "      <th>messages_count</th>\n",
       "      <th>tariff</th>\n",
       "      <th>messages_included</th>\n",
       "      <th>mb_per_month_included</th>\n",
       "      <th>minutes_included</th>\n",
       "      <th>rub_monthly_fee</th>\n",
       "      <th>rub_per_gb</th>\n",
       "      <th>rub_per_message</th>\n",
       "      <th>rub_per_minute</th>\n",
       "      <th>extra_fee_calls</th>\n",
       "      <th>extra_fee_internet</th>\n",
       "      <th>extra_fee_messages</th>\n",
       "      <th>monthly_pay</th>\n",
       "      <th>city</th>\n",
       "    </tr>\n",
       "  </thead>\n",
       "  <tbody>\n",
       "    <tr>\n",
       "      <td>0</td>\n",
       "      <td>1402</td>\n",
       "      <td>3</td>\n",
       "      <td>376.00</td>\n",
       "      <td>19,036.00</td>\n",
       "      <td>27</td>\n",
       "      <td>ultra</td>\n",
       "      <td>1000</td>\n",
       "      <td>30720</td>\n",
       "      <td>3000</td>\n",
       "      <td>1950</td>\n",
       "      <td>150</td>\n",
       "      <td>1</td>\n",
       "      <td>1</td>\n",
       "      <td>0.00</td>\n",
       "      <td>0.00</td>\n",
       "      <td>0</td>\n",
       "      <td>1,950.00</td>\n",
       "      <td>Пенза</td>\n",
       "    </tr>\n",
       "    <tr>\n",
       "      <td>1</td>\n",
       "      <td>1402</td>\n",
       "      <td>10</td>\n",
       "      <td>744.00</td>\n",
       "      <td>18,349.00</td>\n",
       "      <td>35</td>\n",
       "      <td>ultra</td>\n",
       "      <td>1000</td>\n",
       "      <td>30720</td>\n",
       "      <td>3000</td>\n",
       "      <td>1950</td>\n",
       "      <td>150</td>\n",
       "      <td>1</td>\n",
       "      <td>1</td>\n",
       "      <td>0.00</td>\n",
       "      <td>0.00</td>\n",
       "      <td>0</td>\n",
       "      <td>1,950.00</td>\n",
       "      <td>Пенза</td>\n",
       "    </tr>\n",
       "    <tr>\n",
       "      <td>2</td>\n",
       "      <td>1402</td>\n",
       "      <td>12</td>\n",
       "      <td>596.00</td>\n",
       "      <td>26,298.00</td>\n",
       "      <td>22</td>\n",
       "      <td>ultra</td>\n",
       "      <td>1000</td>\n",
       "      <td>30720</td>\n",
       "      <td>3000</td>\n",
       "      <td>1950</td>\n",
       "      <td>150</td>\n",
       "      <td>1</td>\n",
       "      <td>1</td>\n",
       "      <td>0.00</td>\n",
       "      <td>0.00</td>\n",
       "      <td>0</td>\n",
       "      <td>1,950.00</td>\n",
       "      <td>Пенза</td>\n",
       "    </tr>\n",
       "    <tr>\n",
       "      <td>3</td>\n",
       "      <td>1308</td>\n",
       "      <td>2</td>\n",
       "      <td>261.00</td>\n",
       "      <td>13,579.00</td>\n",
       "      <td>21</td>\n",
       "      <td>smart</td>\n",
       "      <td>50</td>\n",
       "      <td>15360</td>\n",
       "      <td>500</td>\n",
       "      <td>550</td>\n",
       "      <td>200</td>\n",
       "      <td>3</td>\n",
       "      <td>3</td>\n",
       "      <td>0.00</td>\n",
       "      <td>0.00</td>\n",
       "      <td>0</td>\n",
       "      <td>550.00</td>\n",
       "      <td>Москва</td>\n",
       "    </tr>\n",
       "    <tr>\n",
       "      <td>4</td>\n",
       "      <td>1308</td>\n",
       "      <td>4</td>\n",
       "      <td>204.00</td>\n",
       "      <td>16,919.00</td>\n",
       "      <td>24</td>\n",
       "      <td>smart</td>\n",
       "      <td>50</td>\n",
       "      <td>15360</td>\n",
       "      <td>500</td>\n",
       "      <td>550</td>\n",
       "      <td>200</td>\n",
       "      <td>3</td>\n",
       "      <td>3</td>\n",
       "      <td>0.00</td>\n",
       "      <td>304.49</td>\n",
       "      <td>0</td>\n",
       "      <td>854.49</td>\n",
       "      <td>Москва</td>\n",
       "    </tr>\n",
       "  </tbody>\n",
       "</table>\n",
       "</div>"
      ],
      "text/plain": [
       "   user_id  month  calls_duration   mb_used  messages_count tariff  \\\n",
       "0     1402      3          376.00 19,036.00              27  ultra   \n",
       "1     1402     10          744.00 18,349.00              35  ultra   \n",
       "2     1402     12          596.00 26,298.00              22  ultra   \n",
       "3     1308      2          261.00 13,579.00              21  smart   \n",
       "4     1308      4          204.00 16,919.00              24  smart   \n",
       "\n",
       "   messages_included  mb_per_month_included  minutes_included  \\\n",
       "0               1000                  30720              3000   \n",
       "1               1000                  30720              3000   \n",
       "2               1000                  30720              3000   \n",
       "3                 50                  15360               500   \n",
       "4                 50                  15360               500   \n",
       "\n",
       "   rub_monthly_fee  rub_per_gb  rub_per_message  rub_per_minute  \\\n",
       "0             1950         150                1               1   \n",
       "1             1950         150                1               1   \n",
       "2             1950         150                1               1   \n",
       "3              550         200                3               3   \n",
       "4              550         200                3               3   \n",
       "\n",
       "   extra_fee_calls  extra_fee_internet  extra_fee_messages  monthly_pay  \\\n",
       "0             0.00                0.00                   0     1,950.00   \n",
       "1             0.00                0.00                   0     1,950.00   \n",
       "2             0.00                0.00                   0     1,950.00   \n",
       "3             0.00                0.00                   0       550.00   \n",
       "4             0.00              304.49                   0       854.49   \n",
       "\n",
       "     city  \n",
       "0   Пенза  \n",
       "1   Пенза  \n",
       "2   Пенза  \n",
       "3  Москва  \n",
       "4  Москва  "
      ]
     },
     "execution_count": 109,
     "metadata": {},
     "output_type": "execute_result"
    }
   ],
   "source": [
    "sample_data_city.head()"
   ]
  },
  {
   "cell_type": "code",
   "execution_count": 110,
   "metadata": {},
   "outputs": [],
   "source": [
    "sample_data_city_moscow = sample_data_city.query('city == \"Москва\"')"
   ]
  },
  {
   "cell_type": "code",
   "execution_count": 111,
   "metadata": {},
   "outputs": [],
   "source": [
    "sample_data_city_regions = sample_data_city.query('city != \"Москва\"')"
   ]
  },
  {
   "cell_type": "markdown",
   "metadata": {},
   "source": [
    "Аналогично предыдущему подходу, мы изучаем различие между двумя независимыми группами(выборками): пользоватей услуг компании из москвы и регионов. Для анализа двух независимых выборок мы применим t-тест для двух независимых выборок. При помощи сопоставления их средних мы попробуем выяснить различаются ли они между собой, и насколько системно это отличие, т.е неслучайно, а обусловлено влиянием фактора принадлежности москве или регионам. \n",
    "\n",
    "Уровень значимости будет установлен на уровне 0.05 как и в большинстве исследований в социальных дисциплинах.\n",
    "Нулевая гипотеза Н0 гласит о том, что выручка двух групп пользователей - из москвы и регионов не отличается статистически. Вторая, альтернативная гипотеза Н1 говорит о том, что региональная и столичная выручки статистически отличаются."
   ]
  },
  {
   "cell_type": "code",
   "execution_count": 112,
   "metadata": {},
   "outputs": [
    {
     "name": "stdout",
     "output_type": "stream",
     "text": [
      "p-значение: 0.2716585210346853\n"
     ]
    }
   ],
   "source": [
    "capital_guys = sample_data_city_moscow['monthly_pay'].tolist()\n",
    "regional_guys = sample_data_city_regions['monthly_pay'].tolist()\n",
    "\n",
    "alpha = .05\n",
    "\n",
    "results = st.ttest_ind(capital_guys, regional_guys, equal_var = True)\n",
    "\n",
    "print('p-значение:', results.pvalue)"
   ]
  },
  {
   "cell_type": "markdown",
   "metadata": {},
   "source": [
    "Полученные результаты уровня значимости = 0.50576 говорят о невозможности отвергнуть нулевую гипотезу, т.к они значительно превышают порог 0.05, который мы задали перед началом эмрирической проверки нашей гипотезы. Соответственно мы можем заключить, что основания говорить о статистическом различии между прибылью столичных и региональных пользователей отсутствуют.  Иначе говоря, выручка пользователей из москвы и регионов не отличается статистически значимо. "
   ]
  },
  {
   "cell_type": "markdown",
   "metadata": {},
   "source": [
    "## <a id=\"step5\"> 5. Общий вывод </a>"
   ]
  },
  {
   "cell_type": "markdown",
   "metadata": {},
   "source": [
    "1. Общие характеристики потребления пользователей двух тариффов в чем-то схожи а в чем-то оличны. Пользователи тариффа \"ультра\" в целом на 11% больше используют трафика, чем пользователи тариффа \"смарт\". Количество использованных минут у пользователей \"ультра\" примерно на 20% выше. Помесячная прибыль пользователя \"ультра\" примерно на 35-40% выше прибыли пользователя \"смарт\". Но стоит учитывать, что пользователи \"ультра\" и получают изначально по абонплате гораздо большее количество минут, траффика и сообщений.    \n",
    "2. На гистограмме мы можем заметить, что интернет и звонки у пользователей смарт распределены близко к нормальному распределению. В то же время, интернет и звонки у пользователей \"ультра\" распределены не нормально, а скорее \"размазаны\" вдоль оси х. Это указывает на большую рассеяность данных в звонках и интернете пользователей тариффа \"ультра\". Что касается распределения сообщений, то у \"смартовцев\" он напоминает Пуассоновское распределения, а у \"ультра\" также с большего равномерно рассеяно вдоль оси х.  \n",
    "3. Пользователям тариффа \"смарт\" в среднем по выборке требуется 400 минут на звонки, 16 гб интернета и 39 сообщений. \n",
    "4. Пользователям тариффа \"ультра\" в среднем по выборке требуется 542 минуты на звонки, 17 гб интернета и 57 сообщений.\n",
    "5. редняя помесячная плата пользователей \"смарт\" варьируется в районе 1200 руб, а \"ультра\" - 2000 руб. Это говорит о том, что пользователи тариффа \"смарт\" платят серьезную доплату за перерасход минут и интернета в дополнение к существующему тариффу.\n",
    "6. При помощи проверки гипотезы удалось установить, что средняя выручка пользователей двух тариффов статистически различается на уровне значимости 0.05.\n",
    "7. В то же время нам не удалось статистически подтвердить различие выручки пользователей из москвы и регионов. "
   ]
  },
  {
   "cell_type": "code",
   "execution_count": null,
   "metadata": {},
   "outputs": [],
   "source": []
  }
 ],
 "metadata": {
  "kernelspec": {
   "display_name": "Python 3",
   "language": "python",
   "name": "python3"
  },
  "language_info": {
   "codemirror_mode": {
    "name": "ipython",
    "version": 3
   },
   "file_extension": ".py",
   "mimetype": "text/x-python",
   "name": "python",
   "nbconvert_exporter": "python",
   "pygments_lexer": "ipython3",
   "version": "3.8.3"
  }
 },
 "nbformat": 4,
 "nbformat_minor": 4
}
