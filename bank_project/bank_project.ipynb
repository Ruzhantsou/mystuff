{
 "cells": [
  {
   "cell_type": "markdown",
   "metadata": {},
   "source": [
    "## Исследование надёжности заёмщиков\n",
    "\n",
    "Заказчик — кредитный отдел банка. Нужно разобраться, влияет ли семейное положение и количество детей клиента на факт погашения кредита в срок. Входные данные от банка — статистика о платёжеспособности клиентов.\n",
    "\n",
    "Результаты исследования будут учтены при построении модели **кредитного скоринга** — специальной системы, которая оценивает способность потенциального заёмщика вернуть кредит банку."
   ]
  },
  {
   "cell_type": "markdown",
   "metadata": {},
   "source": [
    "### Шаг 1. Изучить общую информацию. "
   ]
  },
  {
   "cell_type": "code",
   "execution_count": 60,
   "metadata": {},
   "outputs": [],
   "source": [
    "import pandas as pd\n",
    "data = pd.read_csv('data.csv')"
   ]
  },
  {
   "cell_type": "code",
   "execution_count": 61,
   "metadata": {},
   "outputs": [
    {
     "name": "stdout",
     "output_type": "stream",
     "text": [
      "   children  days_employed  dob_years education  education_id  \\\n",
      "0         1   -8437.673028         42    высшее             0   \n",
      "1         1   -4024.803754         36   среднее             1   \n",
      "2         0   -5623.422610         33   Среднее             1   \n",
      "3         3   -4124.747207         32   среднее             1   \n",
      "4         0  340266.072047         53   среднее             1   \n",
      "\n",
      "      family_status  family_status_id gender income_type  debt   total_income  \\\n",
      "0   женат / замужем                 0      F   сотрудник     0  253875.639453   \n",
      "1   женат / замужем                 0      F   сотрудник     0  112080.014102   \n",
      "2   женат / замужем                 0      M   сотрудник     0  145885.952297   \n",
      "3   женат / замужем                 0      M   сотрудник     0  267628.550329   \n",
      "4  гражданский брак                 1      F   пенсионер     0  158616.077870   \n",
      "\n",
      "                      purpose  \n",
      "0               покупка жилья  \n",
      "1     приобретение автомобиля  \n",
      "2               покупка жилья  \n",
      "3  дополнительное образование  \n",
      "4             сыграть свадьбу  \n"
     ]
    }
   ],
   "source": [
    "print(data.head())"
   ]
  },
  {
   "cell_type": "code",
   "execution_count": 62,
   "metadata": {},
   "outputs": [
    {
     "name": "stdout",
     "output_type": "stream",
     "text": [
      "2174\n"
     ]
    }
   ],
   "source": [
    "print(data['days_employed'].isnull().sum())              "
   ]
  },
  {
   "cell_type": "code",
   "execution_count": 63,
   "metadata": {},
   "outputs": [
    {
     "data": {
      "text/plain": [
       "2174"
      ]
     },
     "execution_count": 63,
     "metadata": {},
     "output_type": "execute_result"
    }
   ],
   "source": [
    "# количество пропусков в трудовом стаже и доходе соответствуют разности между\n",
    "# общим количеством строк и пустых значений в \"доходном\" и \"трудовом\" столбцах - 2174\n",
    "\n",
    "len(data[(data['days_employed'].isna()) & (data['total_income'].isna())])"
   ]
  },
  {
   "cell_type": "code",
   "execution_count": 64,
   "metadata": {},
   "outputs": [
    {
     "name": "stdout",
     "output_type": "stream",
     "text": [
      "<class 'pandas.core.frame.DataFrame'>\n",
      "RangeIndex: 21525 entries, 0 to 21524\n",
      "Data columns (total 12 columns):\n",
      " #   Column            Non-Null Count  Dtype  \n",
      "---  ------            --------------  -----  \n",
      " 0   children          21525 non-null  int64  \n",
      " 1   days_employed     19351 non-null  float64\n",
      " 2   dob_years         21525 non-null  int64  \n",
      " 3   education         21525 non-null  object \n",
      " 4   education_id      21525 non-null  int64  \n",
      " 5   family_status     21525 non-null  object \n",
      " 6   family_status_id  21525 non-null  int64  \n",
      " 7   gender            21525 non-null  object \n",
      " 8   income_type       21525 non-null  object \n",
      " 9   debt              21525 non-null  int64  \n",
      " 10  total_income      19351 non-null  float64\n",
      " 11  purpose           21525 non-null  object \n",
      "dtypes: float64(2), int64(5), object(5)\n",
      "memory usage: 1.6+ MB\n"
     ]
    }
   ],
   "source": [
    "data.info()"
   ]
  },
  {
   "cell_type": "markdown",
   "metadata": {},
   "source": [
    "### Вывод"
   ]
  },
  {
   "cell_type": "markdown",
   "metadata": {},
   "source": [
    "1. В самом начале я открыл файл, чтобы посмотреть \"глазами\" на столбцы из таблицы и оценить общую структуру списков и количество пропущенных значений в определенных стролбцах (использовал print()/head() и info() соответственно). \n",
    "2. При просмотре обращает на себя внимание пропущенные ('NaN') значения в столбце days_employed. После дальнейшего осмотра таблицы, замечаю, что в тех же строках, что и в столбце days_employed, есть отсутсвующие значения в столбце total_income (строки 12,26,29). Соответственно, появились эти пропуски не случайно. Это просто разные характеристики одного блока данных о работе заёмщика. Убеждаюсь в этом при подсчете количества нулевых значений в двух столбцах. Потом еще разок соотносим общие данные по таблице и количество пропущенных значений в двух столбцах: каждый столбец содержит по 2174 пропущенных значений (21535 - 19351). \n",
    "3. Еще одна проблема, которая существуюет в столбце с количеством рабочих дней, это то, что многие из значений имеют отрицательные значения. Отрицательные трудовой стаж заработать проблематично, поэтому мы можем предположить, что скорее всего возникла какая-то проблема с выгрузкой данных и поэтому они приходят в таблицу с минусом перед их истинным значением. Тоже самое в трудовых днях- присутствуют аномально высокие значения. \n",
    "4. Для начала нужно \"почистить\" данные таблицы. "
   ]
  },
  {
   "cell_type": "markdown",
   "metadata": {},
   "source": [
    "### Шаг 2. Предобработка данных"
   ]
  },
  {
   "cell_type": "markdown",
   "metadata": {},
   "source": [
    "### Обработка пропусков"
   ]
  },
  {
   "cell_type": "code",
   "execution_count": 65,
   "metadata": {
    "scrolled": false
   },
   "outputs": [],
   "source": [
    "#print(data.head())\n",
    "\n",
    "# убираем отрицательные значения из колонок с рабочими днями и количеством детей\n",
    "data['children'] = data['children'].abs()\n",
    "data['days_employed'] = data['days_employed'].abs()"
   ]
  },
  {
   "cell_type": "code",
   "execution_count": 66,
   "metadata": {},
   "outputs": [
    {
     "name": "stdout",
     "output_type": "stream",
     "text": [
      "66914.72890682195\n",
      "2194.220566878695\n"
     ]
    }
   ],
   "source": [
    "print(data['days_employed'].mean())\n",
    "print(data['days_employed'].median())"
   ]
  },
  {
   "cell_type": "code",
   "execution_count": 67,
   "metadata": {},
   "outputs": [
    {
     "name": "stdout",
     "output_type": "stream",
     "text": [
      "167422.3022081719\n",
      "145017.93753253992\n"
     ]
    }
   ],
   "source": [
    "print(data['total_income'].mean())\n",
    "print(data['total_income'].median())"
   ]
  },
  {
   "cell_type": "code",
   "execution_count": 68,
   "metadata": {},
   "outputs": [],
   "source": [
    "income_median = data['total_income'].median()"
   ]
  },
  {
   "cell_type": "code",
   "execution_count": 69,
   "metadata": {},
   "outputs": [],
   "source": [
    "# замена отсутствующих значений в двух столбцах на нули и медианные значения соответственно\n",
    "\n",
    "data['days_employed'] = data['days_employed'].fillna(0)\n",
    "data['total_income'] = data['total_income'].fillna(income_median)"
   ]
  },
  {
   "cell_type": "code",
   "execution_count": 70,
   "metadata": {},
   "outputs": [
    {
     "data": {
      "text/plain": [
       "children            0\n",
       "days_employed       0\n",
       "dob_years           0\n",
       "education           0\n",
       "education_id        0\n",
       "family_status       0\n",
       "family_status_id    0\n",
       "gender              0\n",
       "income_type         0\n",
       "debt                0\n",
       "total_income        0\n",
       "purpose             0\n",
       "dtype: int64"
      ]
     },
     "execution_count": 70,
     "metadata": {},
     "output_type": "execute_result"
    }
   ],
   "source": [
    "data.isnull().sum() \n",
    "\n",
    "# пустых значений больше нет"
   ]
  },
  {
   "cell_type": "code",
   "execution_count": 71,
   "metadata": {},
   "outputs": [
    {
     "name": "stdout",
     "output_type": "stream",
     "text": [
      "0     14149\n",
      "1      4865\n",
      "2      2055\n",
      "3       330\n",
      "20       76\n",
      "4        41\n",
      "5         9\n",
      "Name: children, dtype: int64\n"
     ]
    }
   ],
   "source": [
    "# убираем артефактное значение 20 в столбце с детьми\n",
    "\n",
    "print(data['children'].value_counts())\n",
    "data = data[data['children'] != 20]"
   ]
  },
  {
   "cell_type": "markdown",
   "metadata": {},
   "source": [
    "### Вывод"
   ]
  },
  {
   "cell_type": "markdown",
   "metadata": {},
   "source": [
    "1. Для избавления от отрицательных значений в столбцах с рабочим стажем и зарплатами используем метод abs()\n",
    "2. Cреднее проработанных дней равняется 66914.72, а медиана - 2194.22. В силу того, что присутствует большое количество безработных, мы видим такие результаты. Судя по этим результатам, крайне высокие значения в данных cдвигают \"хвост\" нашей выборки вправо (отрицательная симметрия). Вместо отсутствующих значений, мы внесем ноль, чтобы потом было удобней совершать различные действие с столбцом трудового стажа. Мы не будем использовать медиану или среднее, так как отсутствие трудового стажа дает важную информацию касательно заёмщиков, и соответственно ее лучше оставить.  \n",
    "3. Аналогичная ситуация сложилась со значениями в столбце total_income: среднее - 167422.3, медиана - 145017.93. Но в столбце с зарплатами, разбежка не такая огромная как в стажевом столбце. Поэтому мы можем заключить, что использование медианы для замены отсутствующих значений более целесообразно.\n"
   ]
  },
  {
   "cell_type": "markdown",
   "metadata": {},
   "source": [
    "### Замена типа данных"
   ]
  },
  {
   "cell_type": "code",
   "execution_count": 72,
   "metadata": {
    "scrolled": true
   },
   "outputs": [
    {
     "name": "stdout",
     "output_type": "stream",
     "text": [
      "<class 'pandas.core.frame.DataFrame'>\n",
      "Int64Index: 21449 entries, 0 to 21524\n",
      "Data columns (total 12 columns):\n",
      " #   Column            Non-Null Count  Dtype  \n",
      "---  ------            --------------  -----  \n",
      " 0   children          21449 non-null  int64  \n",
      " 1   days_employed     21449 non-null  float64\n",
      " 2   dob_years         21449 non-null  int64  \n",
      " 3   education         21449 non-null  object \n",
      " 4   education_id      21449 non-null  int64  \n",
      " 5   family_status     21449 non-null  object \n",
      " 6   family_status_id  21449 non-null  int64  \n",
      " 7   gender            21449 non-null  object \n",
      " 8   income_type       21449 non-null  object \n",
      " 9   debt              21449 non-null  int64  \n",
      " 10  total_income      21449 non-null  float64\n",
      " 11  purpose           21449 non-null  object \n",
      "dtypes: float64(2), int64(5), object(5)\n",
      "memory usage: 1.7+ MB\n"
     ]
    }
   ],
   "source": [
    "data.info()"
   ]
  },
  {
   "cell_type": "code",
   "execution_count": 73,
   "metadata": {},
   "outputs": [],
   "source": [
    "data['children'] = pd.to_numeric(data['children'], errors = 'coerce')"
   ]
  },
  {
   "cell_type": "code",
   "execution_count": 74,
   "metadata": {},
   "outputs": [],
   "source": [
    "data['days_employed'] = data['days_employed'].astype('int')"
   ]
  },
  {
   "cell_type": "markdown",
   "metadata": {},
   "source": [
    "### Вывод"
   ]
  },
  {
   "cell_type": "markdown",
   "metadata": {},
   "source": [
    "Тип данных столбца с трудовым стажем в днях изменен с float64 на int64, чтобы данные в нём соответствовали логике того, что они отражают(целые дни). Т.к изначально данные были не строковые, то метод to_numeric() не подходил. \n",
    "Поэтому я использовал метод astype() для перевода в нужный мне тип данных.\n",
    "Данные в столбце с детьми тоже были переведены в целочисленный тип integer (т.к 2.5 ребенка не есть хорошо)."
   ]
  },
  {
   "cell_type": "markdown",
   "metadata": {},
   "source": [
    "### Обработка дубликатов"
   ]
  },
  {
   "cell_type": "code",
   "execution_count": 75,
   "metadata": {
    "scrolled": false
   },
   "outputs": [],
   "source": [
    "# приводим все текстовые значения в образовании к общему виду\n",
    "\n",
    "data['education'] = data['education'].str.lower()\n",
    "\n"
   ]
  },
  {
   "cell_type": "code",
   "execution_count": 76,
   "metadata": {},
   "outputs": [],
   "source": [
    "# избавляемся от дупликатов\n",
    "\n",
    "data = data.drop_duplicates().reset_index(drop=True)\n",
    "\n"
   ]
  },
  {
   "cell_type": "code",
   "execution_count": 77,
   "metadata": {},
   "outputs": [
    {
     "name": "stdout",
     "output_type": "stream",
     "text": [
      "0\n"
     ]
    }
   ],
   "source": [
    "print(data.duplicated().sum())"
   ]
  },
  {
   "cell_type": "markdown",
   "metadata": {},
   "source": [
    "### Вывод"
   ]
  },
  {
   "cell_type": "markdown",
   "metadata": {},
   "source": [
    "1. В столбце с образованием текст был разного размера. Чтобы привести все значения этого столбца к общему виду, я использовал метод str.lower() \n",
    "2. Все дупликаты, которые были обмнаружены при совместном применении duplicated() и sum(), был удалены "
   ]
  },
  {
   "cell_type": "markdown",
   "metadata": {},
   "source": [
    "### Лемматизация"
   ]
  },
  {
   "cell_type": "code",
   "execution_count": 5,
   "metadata": {
    "scrolled": true
   },
   "outputs": [],
   "source": [
    "from pymystem3 import Mystem\n",
    "m = Mystem()\n",
    "\n",
    "# функция для разбития строк на леммы и дальнейшего создания отдельного столбца где эти леммы будут храниться\n",
    "\n",
    "def purpose_function(row):\n",
    "    text = row['purpose']\n",
    "    lemma = ''.join(m.lemmatize(text))\n",
    "    lemma = lemma.replace(\"\\n\",\"\")\n",
    "    return lemma\n",
    "\n",
    "data['updated_purpose'] = data.apply(purpose_function, axis = 1)\n",
    "\n",
    "# счётчик для подсчёта наиболее расространённых лемм\n",
    "\n",
    "from collections import Counter\n",
    "Counter(data['updated_purpose'])\n",
    "\n",
    "# создание функции для выделения отдельных категорий наиболее распространённых лем\n",
    "# и столбца где эти категории будут храниться\n",
    "\n",
    "def purpose_category(row):\n",
    "    if 'автомобиль' in row['updated_purpose']:\n",
    "        return 'автомобиль'\n",
    "    if 'жилье' in row['updated_purpose']:\n",
    "        return 'жильё'\n",
    "    if 'свадьба' in row['updated_purpose']:\n",
    "        return 'свадьба'\n",
    "    if 'недвижимость' in row['updated_purpose']:\n",
    "        return 'недвижимость'\n",
    "    if 'образование' in row['updated_purpose']:\n",
    "        return \"образование\"\n",
    "\n",
    "data['purpose_group'] = data.apply(purpose_category, axis =1)\n",
    "\n"
   ]
  },
  {
   "cell_type": "markdown",
   "metadata": {},
   "source": [
    "### Вывод"
   ]
  },
  {
   "cell_type": "markdown",
   "metadata": {},
   "source": [
    "1. После лемматизации всех значений в столбце purpose, мы создаем отдельный столбец, где хранятся полученные лемы.\n",
    "При помощи счетчика Counter подсчитываем леммы и выделяем пять категорий: авто, жилье, недвижимость, свадьба, образование\n",
    "2. Пишем функцию для категоризации лемм в пять вышеуказанных категорий. Скалдываем наши категории в один столбец.\n",
    "(не писал данную функцию в следующем модуле, т.к здесь она идет по логике)"
   ]
  },
  {
   "cell_type": "code",
   "execution_count": 14,
   "metadata": {
    "scrolled": false
   },
   "outputs": [
    {
     "data": {
      "text/plain": [
       "Counter({'покупка жилье': 643,\n",
       "         'приобретение автомобиль': 461,\n",
       "         'дополнительный образование': 457,\n",
       "         'сыграть свадьба': 761,\n",
       "         'операция с жилье': 648,\n",
       "         'образование': 445,\n",
       "         'на проведение свадьба': 764,\n",
       "         'покупка жилье для семья': 637,\n",
       "         'покупка недвижимость': 619,\n",
       "         'покупка коммерческий недвижимость': 658,\n",
       "         'покупка жилой недвижимость': 604,\n",
       "         'строительство собственный недвижимость': 629,\n",
       "         'недвижимость': 632,\n",
       "         'строительство недвижимость': 619,\n",
       "         'на покупка подержать автомобиль': 472,\n",
       "         'на покупка свой автомобиль': 505,\n",
       "         'операция с коммерческий недвижимость': 646,\n",
       "         'строительство жилой недвижимость': 623,\n",
       "         'жилье': 642,\n",
       "         'операция со свой недвижимость': 626,\n",
       "         'автомобиль': 970,\n",
       "         'заниматься образование': 408,\n",
       "         'сделка с подержанный автомобиль': 482,\n",
       "         'получение образование': 441,\n",
       "         'свадьба': 790,\n",
       "         'получение дополнительный образование': 445,\n",
       "         'покупка свой жилье': 620,\n",
       "         'операция с недвижимость': 674,\n",
       "         'получение высокий образование': 425,\n",
       "         'свой автомобиль': 475,\n",
       "         'сделка с автомобиль': 455,\n",
       "         'профильный образование': 434,\n",
       "         'высокий образование': 447,\n",
       "         'покупка жилье для сдача': 650,\n",
       "         'на покупка автомобиль': 470,\n",
       "         'ремонт жилье': 605,\n",
       "         'заниматься высокий образование': 496})"
      ]
     },
     "execution_count": 14,
     "metadata": {},
     "output_type": "execute_result"
    }
   ],
   "source": [
    "Counter(data['updated_purpose'])"
   ]
  },
  {
   "cell_type": "markdown",
   "metadata": {},
   "source": [
    "### Категоризация данных"
   ]
  },
  {
   "cell_type": "code",
   "execution_count": 78,
   "metadata": {},
   "outputs": [
    {
     "data": {
      "text/plain": [
       "age_group\n",
       "mature          96600.768143\n",
       "middle_aged      5324.526544\n",
       "seniors        261940.822337\n",
       "young            3765.770101\n",
       "Name: days_employed, dtype: float64"
      ]
     },
     "execution_count": 78,
     "metadata": {},
     "output_type": "execute_result"
    }
   ],
   "source": [
    "#создание функции для категоризации по возрасту\n",
    "\n",
    "def age_group_funct(dob_years):\n",
    "    if dob_years < 30:\n",
    "        return 'young'\n",
    "    if dob_years <= 45:\n",
    "        return 'middle_aged'\n",
    "    if dob_years <= 60:\n",
    "        return 'mature'\n",
    "    if dob_years <= 80:\n",
    "        return 'seniors'\n",
    "    else:\n",
    "        return 'elderly'\n",
    "\n",
    "data['age_group'] = data['dob_years'].apply(age_group_funct) \n",
    "    \n",
    "data.groupby('age_group')['days_employed'].mean()\n"
   ]
  },
  {
   "cell_type": "code",
   "execution_count": 79,
   "metadata": {},
   "outputs": [],
   "source": [
    "#создание функции для категоризации по наличию/отсутствию детей\n",
    "\n",
    "def kids_function(children):\n",
    "    if children < 1 :\n",
    "        return 'childless'\n",
    "    if children < 2:\n",
    "        return 'one_kid'\n",
    "    if children < 3:\n",
    "        return '2_kids'\n",
    "    else:\n",
    "        return 'many_kids'\n",
    "    \n",
    "data['children_group'] = data['children'].apply(kids_function)\n"
   ]
  },
  {
   "cell_type": "code",
   "execution_count": 80,
   "metadata": {},
   "outputs": [],
   "source": [
    "# создание функции для категоризации по доходу\n",
    "\n",
    "data['total_income'].quantile([.25, .5, .75])\n",
    "\n",
    "def income_function(income):\n",
    "    if income < 107528.875:\n",
    "        return 'low_income'\n",
    "    if income < 145017.938:\n",
    "        return 'middle_income'\n",
    "    if income < 195784.746:\n",
    "        return 'high_income'\n",
    "    else:\n",
    "        return 'very_high_income'\n",
    "\n",
    "data['income_group'] = data['total_income'].apply(income_function)    "
   ]
  },
  {
   "cell_type": "markdown",
   "metadata": {},
   "source": [
    "### Вывод"
   ]
  },
  {
   "cell_type": "markdown",
   "metadata": {},
   "source": [
    "1. Написанные функции позволяют категоризировать данные по наличи детей, возрасту и доходу.\n",
    "Я выделил возрастные группы опираясь на то, как их часто выделяют в различных анкетах или демографических шкалах.\n",
    "При выделении групп с детьми я обратился к некоторым источникам и использовал общую логику.\n",
    "Для выделения различных групп в доходе я использовал квартили, которые разбивают все значения столбца с доходом на четыре\n",
    "равные части. Таким образом у нас есть некоторое общее представление о доходе заёмщиков.\n",
    "\n",
    "2. После написания каждой из функций я применял ее к целевому столбцу и на основе полученных операций сохранял результаты в отдельном столбце. Таким образом мы получили новые столбцы age_group, children_group, income_group + purpose_group.  "
   ]
  },
  {
   "cell_type": "markdown",
   "metadata": {},
   "source": [
    "### Шаг 3. Ответьте на вопросы"
   ]
  },
  {
   "cell_type": "markdown",
   "metadata": {},
   "source": [
    "- Есть ли зависимость между наличием детей и возвратом кредита в срок?"
   ]
  },
  {
   "cell_type": "code",
   "execution_count": 81,
   "metadata": {},
   "outputs": [
    {
     "data": {
      "text/plain": [
       "0    19645\n",
       "1     1733\n",
       "Name: debt, dtype: int64"
      ]
     },
     "execution_count": 81,
     "metadata": {},
     "output_type": "execute_result"
    }
   ],
   "source": [
    "data['debt'].value_counts()"
   ]
  },
  {
   "cell_type": "code",
   "execution_count": 82,
   "metadata": {},
   "outputs": [],
   "source": [
    "indebted_percent = ((1733 / 19645) * 100)"
   ]
  },
  {
   "cell_type": "code",
   "execution_count": 83,
   "metadata": {},
   "outputs": [
    {
     "name": "stdout",
     "output_type": "stream",
     "text": [
      "8.821583100025451\n"
     ]
    }
   ],
   "source": [
    "print(indebted_percent)"
   ]
  },
  {
   "cell_type": "code",
   "execution_count": 84,
   "metadata": {},
   "outputs": [
    {
     "data": {
      "text/plain": [
       "0    14091\n",
       "1     4855\n",
       "2     2052\n",
       "3      330\n",
       "4       41\n",
       "5        9\n",
       "Name: children, dtype: int64"
      ]
     },
     "execution_count": 84,
     "metadata": {},
     "output_type": "execute_result"
    }
   ],
   "source": [
    "data['children'].value_counts()\n",
    "\n"
   ]
  },
  {
   "cell_type": "code",
   "execution_count": 85,
   "metadata": {},
   "outputs": [
    {
     "name": "stdout",
     "output_type": "stream",
     "text": [
      "65.91355599214145\n"
     ]
    }
   ],
   "source": [
    "childfree_percent = ((14091 / 21378) *100)\n",
    "print(childfree_percent)"
   ]
  },
  {
   "cell_type": "markdown",
   "metadata": {},
   "source": [
    "### Вывод"
   ]
  },
  {
   "cell_type": "markdown",
   "metadata": {},
   "source": [
    "Существует зависимость между наличием детей выплатой кредита \n",
    "\n",
    "1. Процент имеющих задолженности по долгам составляет 8.8% от всех заёмщиков. \n",
    "2. Процент неимеющих детей заемщиков составляет 65%.\n",
    "3. При простом подсчете количества детей у задолжавших банку заемщиках при помощи сводной таблицы, мы видим, что бездетные лидируют с большим отрывом.\n",
    "Но в тоже время бездетные в принципе составляют большую (65%) часть заемщиков. Поэтому нам нужно расчитать среднее из столбца с детьми, чтобы иметь пропорцию заемщиков с разным количеством детей по отношению к остальным.\n",
    "4. После создания сводной таблицы по интересующим на параметрам, мы можем заметить, что результаты сильно поменялись. \n",
    "В среднем по всей выборке, чуть больше 8% заемщиков имеют долги перед банком. В то, время как заемщики с четырьмя, двумя и одним ребенком на 15%, 14% и 11% более склонны иметь задолженность по сравнению со средним по выборке. В тоже время заемщики с отсутствием детей на 9% меньше склонны иметь задолженности по отношению к среднему выборки, а с 3 детьми имеют показатели идентичные среднему по выборке.\n",
    "Соответственно, заемщики с 4, 2, и 1 одним ребенком являются наиболее вероятными должниками. Бездетные возвращают кредит лучше всего.\n"
   ]
  },
  {
   "cell_type": "code",
   "execution_count": 86,
   "metadata": {},
   "outputs": [
    {
     "data": {
      "text/html": [
       "<div>\n",
       "<style scoped>\n",
       "    .dataframe tbody tr th:only-of-type {\n",
       "        vertical-align: middle;\n",
       "    }\n",
       "\n",
       "    .dataframe tbody tr th {\n",
       "        vertical-align: top;\n",
       "    }\n",
       "\n",
       "    .dataframe thead th {\n",
       "        text-align: right;\n",
       "    }\n",
       "</style>\n",
       "<table border=\"1\" class=\"dataframe\">\n",
       "  <thead>\n",
       "    <tr style=\"text-align: right;\">\n",
       "      <th></th>\n",
       "      <th>children_group</th>\n",
       "      <th>total</th>\n",
       "      <th>debt</th>\n",
       "      <th>debt_ratio</th>\n",
       "    </tr>\n",
       "  </thead>\n",
       "  <tbody>\n",
       "    <tr>\n",
       "      <th>1</th>\n",
       "      <td>childless</td>\n",
       "      <td>14091</td>\n",
       "      <td>1063</td>\n",
       "      <td>7.54</td>\n",
       "    </tr>\n",
       "    <tr>\n",
       "      <th>2</th>\n",
       "      <td>many_kids</td>\n",
       "      <td>380</td>\n",
       "      <td>31</td>\n",
       "      <td>8.16</td>\n",
       "    </tr>\n",
       "    <tr>\n",
       "      <th>3</th>\n",
       "      <td>one_kid</td>\n",
       "      <td>4855</td>\n",
       "      <td>445</td>\n",
       "      <td>9.17</td>\n",
       "    </tr>\n",
       "    <tr>\n",
       "      <th>0</th>\n",
       "      <td>2_kids</td>\n",
       "      <td>2052</td>\n",
       "      <td>194</td>\n",
       "      <td>9.45</td>\n",
       "    </tr>\n",
       "  </tbody>\n",
       "</table>\n",
       "</div>"
      ],
      "text/plain": [
       "  children_group  total  debt  debt_ratio\n",
       "1      childless  14091  1063        7.54\n",
       "2      many_kids    380    31        8.16\n",
       "3        one_kid   4855   445        9.17\n",
       "0         2_kids   2052   194        9.45"
      ]
     },
     "execution_count": 86,
     "metadata": {},
     "output_type": "execute_result"
    }
   ],
   "source": [
    "result = (data.groupby('children_group')\n",
    "              .agg({'children':'count', 'debt':'sum'})\n",
    "              .rename(columns={'children':'total'})\n",
    "              .reset_index()\n",
    "         )\n",
    "\n",
    "result['debt_ratio'] = result['debt'] / result['total'] * 100\n",
    "result.round(2).sort_values('debt_ratio')\n",
    "\n",
    "# соотношение показателей разных групп c детьми со средним по выборке\n",
    "\n",
    "#((0.098(0.095, 0.092) / 0.081) * 100) - 100) "
   ]
  },
  {
   "cell_type": "markdown",
   "metadata": {},
   "source": [
    "- Есть ли зависимость между семейным положением и возвратом кредита в срок?"
   ]
  },
  {
   "cell_type": "code",
   "execution_count": 87,
   "metadata": {},
   "outputs": [
    {
     "name": "stdout",
     "output_type": "stream",
     "text": [
      "женат / замужем          12290\n",
      "гражданский брак          4139\n",
      "Не женат / не замужем     2801\n",
      "в разводе                 1193\n",
      "вдовец / вдова             955\n",
      "Name: family_status, dtype: int64\n"
     ]
    }
   ],
   "source": [
    "print(data['family_status'].value_counts())"
   ]
  },
  {
   "cell_type": "code",
   "execution_count": 88,
   "metadata": {},
   "outputs": [
    {
     "name": "stdout",
     "output_type": "stream",
     "text": [
      "gender                        F         M  XNA       All\n",
      "family_status                                           \n",
      "Не женат / не замужем  0.068406  0.144052  NaN  0.097465\n",
      "в разводе              0.065241  0.089147  NaN  0.070411\n",
      "вдовец / вдова         0.057778  0.200000  NaN  0.065969\n",
      "гражданский брак       0.081777  0.117602  0.0  0.093018\n",
      "женат / замужем        0.068176  0.087939  NaN  0.075509\n",
      "All                    0.070079  0.102483  0.0  0.081065\n"
     ]
    }
   ],
   "source": [
    "# создание сводной таблицы  \n",
    "\n",
    "data_pivot = data.pivot_table(index = ['family_status'], values ='debt', columns = 'gender', aggfunc = 'mean', margins = True)\n",
    "\n",
    "print(data_pivot)\n",
    "\n",
    "\n"
   ]
  },
  {
   "cell_type": "markdown",
   "metadata": {},
   "source": [
    "### Вывод"
   ]
  },
  {
   "cell_type": "markdown",
   "metadata": {},
   "source": [
    "Семейный статус влияет на возврат долга банку заёмщиком\n",
    "\n",
    "1. Аналогично процедурам в предущем модуле я рассчитываю аналогичные показатели для категории семейный статус.\n",
    "2. Не женатые на 19% более склонны иметь задолженность по сравнени со средним по выборке, а заёмщики в гражданском браке на 14%.\n",
    "3. В тоже время вдовы/вдовцы наиболее надежные заемщики и в среднем на 20% менее вероятно, что они будут иметь задолженность по сравнению со средним по выборке. Заемщики со статусом \"в разводе\" на 14 % менее склонны и иметь задолженность по сравнению со средним по выборке. Женатые/замужние тоже надежней средней по выборке на 8%.\n",
    "4. Таким образом, не женатые и живущие гражданским браком являются наимее надежными заёмщиками в категории \"семейный статус\". В тоже время вдовы и вдовцы являются наиболее надежными. По надежности вслед за ними следуют разведенные, а потм и женатые/замужние."
   ]
  },
  {
   "cell_type": "markdown",
   "metadata": {},
   "source": [
    "- Есть ли зависимость между уровнем дохода и возвратом кредита в срок?"
   ]
  },
  {
   "cell_type": "markdown",
   "metadata": {},
   "source": [
    "### Вывод"
   ]
  },
  {
   "cell_type": "markdown",
   "metadata": {},
   "source": [
    "Уровень дохода имеет влияние на вероятность выплаты долга заёмщиками\n",
    "\n",
    "1. Наиболее являются заёмщики с наиболее высоким доходом. Они на 13% менее склонны не возвращать кредит по сравнению со средним по выборке. \n",
    "2. В тоже время заёмщики из второго по величине квартиля по доходам являются наиболее частыми заёмщиками с долгом - на 8 процентом более склонны не платить по долгам. \n",
    "3. Заемщики с низким и средним уровнем дохода близки по своим значениям к среднему по выборке.\n"
   ]
  },
  {
   "cell_type": "markdown",
   "metadata": {},
   "source": [
    "- Как разные цели кредита влияют на его возврат в срок?"
   ]
  },
  {
   "cell_type": "code",
   "execution_count": null,
   "metadata": {},
   "outputs": [],
   "source": [
    "data_pivot = data.pivot_table(index = ['purpose_group'], values ='debt', columns = 'gender', aggfunc = 'mean', margins = True)"
   ]
  },
  {
   "cell_type": "markdown",
   "metadata": {},
   "source": [
    "### Вывод"
   ]
  },
  {
   "cell_type": "markdown",
   "metadata": {},
   "source": [
    "Цель, на которую берется кредит имеет влияние на его возврат.\n",
    "\n",
    "1. Заёмщики кредита на автомобиль и образование более склонны к нарушению долговых обязательств по сравнению со средним по выборке (на 14% и 13% соответственно). \n",
    "2. В тоже время, занимающие деньги на жилье, наоборот, на 15 % менее склонны к невозврату кредиту в срок по сравнению со средним по выборке. Берущие деньги на недвижимость на 9% менее склонны не вернуть деньги. Занимающие деньги на свадьбу очень близки к показателям средней по выборке.\n"
   ]
  },
  {
   "cell_type": "markdown",
   "metadata": {},
   "source": [
    "### Шаг 4. Общий вывод"
   ]
  },
  {
   "cell_type": "markdown",
   "metadata": {},
   "source": [
    "Мы можем заключить, что в выделенные факторы имееют определенное влияние на вероятность выплаты долга:\n",
    "1. Заёмщики без детей являются наиболее надеждными, по стравнению с теми, кто имеет 1,2,4 ребенка. \n",
    "2. Овдовевшие, разведенные и женатые являются более надежными заемщиками по сравнению с незамужними и живущими гражданским браком кредитополучателсями. \n",
    "3. Неожиданно я нашел, что заёмщики из второго по величине квартиля более склонны к наличию задолженности, чем те, что имеют средний или низкий доход.\n",
    "4. Заёмщики, берущие кредит с целью покупки автомобиля или образования более склонны к невыплате, чем те, что берут кредит на жилье, недвижимость или свадьбу."
   ]
  }
 ],
 "metadata": {
  "kernelspec": {
   "display_name": "Python 3",
   "language": "python",
   "name": "python3"
  },
  "language_info": {
   "codemirror_mode": {
    "name": "ipython",
    "version": 3
   },
   "file_extension": ".py",
   "mimetype": "text/x-python",
   "name": "python",
   "nbconvert_exporter": "python",
   "pygments_lexer": "ipython3",
   "version": "3.8.3"
  }
 },
 "nbformat": 4,
 "nbformat_minor": 2
}
