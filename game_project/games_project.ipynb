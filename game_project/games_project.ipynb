{
 "cells": [
  {
   "cell_type": "markdown",
   "metadata": {},
   "source": [
    "<h1 id=\"tocheading\">Проект: исследование игровой индустрии</h1>\n",
    "<div id=\"toc\"></div>"
   ]
  },
  {
   "cell_type": "markdown",
   "metadata": {},
   "source": [
    "## Цель проекта\n",
    "Выявить характеристики игр, которые делают их успешными для того, чтобы сделать ставку на потенциально успешный продукт и спланировать рекламные кампании магазина по продаже компьютерных игр. "
   ]
  },
  {
   "cell_type": "markdown",
   "metadata": {},
   "source": [
    "### План работы:\n",
    "[ 1. Импортировать все нужные библиотеки и датасет. Изучить всю общую информацию о датасете.](#step1)\n",
    "\n",
    "[ 2. Подготовить данные к анализу. Проверить на наличие пропусков. Объясннить логику исправления найденных ошибок.](#step2)\n",
    "\n",
    "\n",
    "[ 3. Провести исследовательского анализа данных](#step3)\n",
    "\n",
    "\n",
    "[ 4. Составить портрет пользователя каждого региона](#step4)\n",
    "\n",
    "[ 5. Проверка гипотез](#step5)\n",
    "\n",
    "[ 6. Общий вывод](#step6)"
   ]
  },
  {
   "cell_type": "markdown",
   "metadata": {},
   "source": [
    "## <a id=\"step1\">1. Импорт нужных библиотек и датасета. Изучить всю общую информацию о датасете.</a>"
   ]
  },
  {
   "cell_type": "code",
   "execution_count": 1,
   "metadata": {},
   "outputs": [],
   "source": [
    "import pandas as pd\n",
    "import numpy as np\n",
    "import matplotlib.pyplot as plt\n",
    "from scipy import stats as st\n",
    "from math import factorial\n",
    "import warnings\n",
    "warnings.simplefilter(action='ignore', category=FutureWarning)\n",
    "pd.options.display.float_format = '{:,.2f}'.format\n",
    "pd.set_option('display.max_columns', None) \n",
    "\n",
    "data = pd.read_csv('/datasets/games.csv')"
   ]
  },
  {
   "cell_type": "code",
   "execution_count": 2,
   "metadata": {},
   "outputs": [
    {
     "name": "stdout",
     "output_type": "stream",
     "text": [
      "<class 'pandas.core.frame.DataFrame'>\n",
      "RangeIndex: 16715 entries, 0 to 16714\n",
      "Data columns (total 11 columns):\n",
      "Name               16713 non-null object\n",
      "Platform           16715 non-null object\n",
      "Year_of_Release    16446 non-null float64\n",
      "Genre              16713 non-null object\n",
      "NA_sales           16715 non-null float64\n",
      "EU_sales           16715 non-null float64\n",
      "JP_sales           16715 non-null float64\n",
      "Other_sales        16715 non-null float64\n",
      "Critic_Score       8137 non-null float64\n",
      "User_Score         10014 non-null object\n",
      "Rating             9949 non-null object\n",
      "dtypes: float64(6), object(5)\n",
      "memory usage: 1.4+ MB\n"
     ]
    }
   ],
   "source": [
    "data.info()"
   ]
  },
  {
   "cell_type": "markdown",
   "metadata": {},
   "source": [
    "## <a id=\"step2\"> 2.  Подготовка данных к анализу</a>"
   ]
  },
  {
   "cell_type": "code",
   "execution_count": 3,
   "metadata": {},
   "outputs": [],
   "source": [
    "# приводим названия столбцов к нижнему регистру\n",
    "data.columns = data.columns.str.lower()"
   ]
  },
  {
   "cell_type": "code",
   "execution_count": 4,
   "metadata": {},
   "outputs": [],
   "source": [
    "# нужно привести столбец выпуска игры к целочисленному типу\n",
    "# т.к там присутстуют пустые значения, мы вынуждены удалить их, чтобы привести к желаемому типу\n",
    "# к тому же их всего 269\n",
    "data.dropna(subset = ['year_of_release'], inplace = True)"
   ]
  },
  {
   "cell_type": "code",
   "execution_count": 5,
   "metadata": {},
   "outputs": [],
   "source": [
    "# приводим год к целочисленному типу\n",
    "data['year_of_release'] = data['year_of_release'].astype('int')"
   ]
  },
  {
   "cell_type": "code",
   "execution_count": 6,
   "metadata": {},
   "outputs": [
    {
     "data": {
      "text/plain": [
       "critic_score    8463\n",
       "user_score      6607\n",
       "rating          6678\n",
       "dtype: int64"
      ]
     },
     "execution_count": 6,
     "metadata": {},
     "output_type": "execute_result"
    }
   ],
   "source": [
    "# изучаем пропущенные значения в столбцах датафрейма\n",
    "data[['critic_score','user_score', 'rating']].isna().sum()"
   ]
  },
  {
   "cell_type": "code",
   "execution_count": 7,
   "metadata": {
    "scrolled": true
   },
   "outputs": [
    {
     "data": {
      "text/plain": [
       "name               2376\n",
       "platform           2376\n",
       "year_of_release    2376\n",
       "genre              2376\n",
       "na_sales           2376\n",
       "eu_sales           2376\n",
       "jp_sales           2376\n",
       "other_sales        2376\n",
       "critic_score       1056\n",
       "user_score         2376\n",
       "rating             2326\n",
       "dtype: int64"
      ]
     },
     "execution_count": 7,
     "metadata": {},
     "output_type": "execute_result"
    }
   ],
   "source": [
    "data.query('user_score == \"tbd\"').count()"
   ]
  },
  {
   "cell_type": "markdown",
   "metadata": {},
   "source": [
    "1. При проверке столбца с рейтингом пользователей обнаружил большое количество(2376) значений tbd('to be determined'). Это значение обозначает, что недостаточное количество пользователей дало свою оценку игре. Потому рейтинг не отображается. По сути оно равносильно пропущенному значению. \n",
    "2. Также мы можем обнаружить практически столько же пропусков в рейтингах критиков. Практически всегда отсутствующие значения в двух колонках присутствуют вместе. Можно предположить, что критики могут давать свой рейтинг только играм с рейтингом пользователей. Поэтому в тех играх, где отсутствует рейтинг игроков, рейтинг критиков тоже отсутсвтует. Либо просто они принадлежат к одной таблице рейтингов, как и столбец с возрастной рейтинг, поэтому при их выгрузке возникли проблемы.\n",
    "3. Значение tbd не играет значительной роли, поэтому мы приведем столбец user_score к числовым значениям float. Таким образом, все tbd станут nan и мы сможем работать с ними как с обычными пропущенными значениями.\n",
    "4. Также приведем к численному типу float столбец rating, определяющий возрастную категорию игры."
   ]
  },
  {
   "cell_type": "code",
   "execution_count": 8,
   "metadata": {},
   "outputs": [],
   "source": [
    "data['user_score'] = pd.to_numeric(data['user_score'], errors = 'coerce')\n",
    "#data['rating'] = pd.to_numeric(data['rating'], errors = 'coerce')"
   ]
  },
  {
   "cell_type": "code",
   "execution_count": 9,
   "metadata": {},
   "outputs": [
    {
     "name": "stdout",
     "output_type": "stream",
     "text": [
      "<class 'pandas.core.frame.DataFrame'>\n",
      "Int64Index: 16446 entries, 0 to 16714\n",
      "Data columns (total 11 columns):\n",
      "name               16444 non-null object\n",
      "platform           16446 non-null object\n",
      "year_of_release    16446 non-null int64\n",
      "genre              16444 non-null object\n",
      "na_sales           16446 non-null float64\n",
      "eu_sales           16446 non-null float64\n",
      "jp_sales           16446 non-null float64\n",
      "other_sales        16446 non-null float64\n",
      "critic_score       7983 non-null float64\n",
      "user_score         7463 non-null float64\n",
      "rating             9768 non-null object\n",
      "dtypes: float64(6), int64(1), object(4)\n",
      "memory usage: 1.5+ MB\n"
     ]
    }
   ],
   "source": [
    "data.info()"
   ]
  },
  {
   "cell_type": "code",
   "execution_count": 10,
   "metadata": {
    "scrolled": true
   },
   "outputs": [
    {
     "name": "stdout",
     "output_type": "stream",
     "text": [
      "Медиана user_score 7.5\n"
     ]
    },
    {
     "data": {
      "text/plain": [
       "count   7,463.00\n",
       "mean        7.13\n",
       "std         1.50\n",
       "min         0.00\n",
       "25%         6.40\n",
       "50%         7.50\n",
       "75%         8.20\n",
       "max         9.70\n",
       "Name: user_score, dtype: float64"
      ]
     },
     "execution_count": 10,
     "metadata": {},
     "output_type": "execute_result"
    }
   ],
   "source": [
    "# посмотрим описательные статистики user_score\n",
    "print(\"Медиана user_score\",data['user_score'].median())\n",
    "data['user_score'].describe()"
   ]
  },
  {
   "cell_type": "code",
   "execution_count": 11,
   "metadata": {
    "scrolled": true
   },
   "outputs": [
    {
     "data": {
      "image/png": "[encoded data removed]",
      "text/plain": [
       "<Figure size 432x288 with 1 Axes>"
      ]
     },
     "metadata": {
      "needs_background": "light"
     },
     "output_type": "display_data"
    }
   ],
   "source": [
    "data['user_score'].hist(bins = 30)\n",
    "plt.xlabel('Оценки по 10-бальной шкале')\n",
    "plt.ylabel('Количество оценок')\n",
    "plt.show()"
   ]
  },
  {
   "cell_type": "code",
   "execution_count": 12,
   "metadata": {
    "scrolled": true
   },
   "outputs": [
    {
     "data": {
      "image/png": "[encoded data removed]",
      "text/plain": [
       "<Figure size 432x288 with 1 Axes>"
      ]
     },
     "metadata": {
      "needs_background": "light"
     },
     "output_type": "display_data"
    }
   ],
   "source": [
    "data.boxplot(column = 'user_score')\n",
    "plt.show()"
   ]
  },
  {
   "cell_type": "code",
   "execution_count": 13,
   "metadata": {
    "scrolled": true
   },
   "outputs": [
    {
     "name": "stdout",
     "output_type": "stream",
     "text": [
      "Медиана critic_score 71.0\n"
     ]
    },
    {
     "data": {
      "text/plain": [
       "count   7,983.00\n",
       "mean       68.99\n",
       "std        13.92\n",
       "min        13.00\n",
       "25%        60.00\n",
       "50%        71.00\n",
       "75%        79.00\n",
       "max        98.00\n",
       "Name: critic_score, dtype: float64"
      ]
     },
     "execution_count": 13,
     "metadata": {},
     "output_type": "execute_result"
    }
   ],
   "source": [
    "# посмотрим описательные статистики critic_score\n",
    "print(\"Медиана critic_score\",data['critic_score'].median())\n",
    "data['critic_score'].describe()"
   ]
  },
  {
   "cell_type": "code",
   "execution_count": 14,
   "metadata": {},
   "outputs": [
    {
     "data": {
      "image/png": "[encoded data removed]",
      "text/plain": [
       "<Figure size 432x288 with 1 Axes>"
      ]
     },
     "metadata": {
      "needs_background": "light"
     },
     "output_type": "display_data"
    }
   ],
   "source": [
    "data['critic_score'].hist(bins=30)\n",
    "plt.show()"
   ]
  },
  {
   "cell_type": "code",
   "execution_count": 15,
   "metadata": {
    "scrolled": true
   },
   "outputs": [
    {
     "data": {
      "image/png": "[encoded data removed]",
      "text/plain": [
       "<Figure size 432x288 with 1 Axes>"
      ]
     },
     "metadata": {
      "needs_background": "light"
     },
     "output_type": "display_data"
    }
   ],
   "source": [
    "data.boxplot(column = 'critic_score')\n",
    "plt.show()"
   ]
  },
  {
   "cell_type": "markdown",
   "metadata": {},
   "source": [
    "Как можем видеть из гистограмм рейтингов критиков и рейтингов юзеров, значения более скучены возле крупных значений. Соответственно гистограмма скошена вправо, а ее хвост влево. Для заполнения пустых значений мы будем использовать медиану. Она лучше отображает то, как распределены данные."
   ]
  },
  {
   "cell_type": "markdown",
   "metadata": {},
   "source": [
    "При заполнении пропусков мы будем использовать не просто медиану, а медиану той категории игр, к которой принадлежит наше пропущенное значение. Каждое наблюдение/кейс, в нашем случае игра, принадлежит к более конкретной категории игр, которую мы определяем в соответствии с характеристиками этой категории. Важной характеристикой игры, которая определяет её категорию является жанр. Соответственно мы будем заполнять пропущенные значения каждой игры при помощи медианы жанра, к которому данная игра принадлежиит."
   ]
  },
  {
   "cell_type": "code",
   "execution_count": 16,
   "metadata": {},
   "outputs": [],
   "source": [
    "user_score_median = data.pivot_table(index = ['genre'], values = 'user_score', aggfunc= np.median )"
   ]
  },
  {
   "cell_type": "code",
   "execution_count": 17,
   "metadata": {},
   "outputs": [],
   "source": [
    "user_score_median.columns = ['median_score'] "
   ]
  },
  {
   "cell_type": "code",
   "execution_count": 18,
   "metadata": {},
   "outputs": [],
   "source": [
    "for genre in user_score_median.index:\n",
    "    data.loc[(data['user_score'].isna()) &\n",
    "            (data['genre'] == genre),\n",
    "            'user_score'] = user_score_median.loc[genre, 'median_score']\n",
    "    "
   ]
  },
  {
   "cell_type": "code",
   "execution_count": 19,
   "metadata": {},
   "outputs": [],
   "source": [
    "critic_score_median = data.pivot_table(index = ['genre'], values = 'critic_score', aggfunc= np.median )"
   ]
  },
  {
   "cell_type": "code",
   "execution_count": 20,
   "metadata": {},
   "outputs": [],
   "source": [
    "critic_score_median.columns = ['median_score']"
   ]
  },
  {
   "cell_type": "code",
   "execution_count": 21,
   "metadata": {},
   "outputs": [],
   "source": [
    "for genre in critic_score_median.index:\n",
    "    data.loc[(data['critic_score'].isna()) &\n",
    "            (data['genre'] == genre),\n",
    "            'critic_score'] = critic_score_median.loc[genre, 'median_score']   "
   ]
  },
  {
   "cell_type": "code",
   "execution_count": 22,
   "metadata": {},
   "outputs": [
    {
     "data": {
      "text/plain": [
       "6678"
      ]
     },
     "execution_count": 22,
     "metadata": {},
     "output_type": "execute_result"
    }
   ],
   "source": [
    "data['rating'].isna().sum()"
   ]
  },
  {
   "cell_type": "code",
   "execution_count": 23,
   "metadata": {
    "scrolled": true
   },
   "outputs": [],
   "source": [
    "# Отсутсвующих значений в возрастном рейтинге до\n",
    "# Заменяем отсутсвующие значения на RP - рейтинг ожидает своего подтверждения. \n",
    "data['rating'].fillna(\"RP\", inplace = True)"
   ]
  },
  {
   "cell_type": "code",
   "execution_count": 24,
   "metadata": {},
   "outputs": [],
   "source": [
    "# создаем отдельный столбец с суммарной продажей во всех регионах\n",
    "data['total_sales'] = data['na_sales'] + data['eu_sales'] + data['jp_sales'] + data['other_sales']"
   ]
  },
  {
   "cell_type": "code",
   "execution_count": 25,
   "metadata": {},
   "outputs": [
    {
     "name": "stdout",
     "output_type": "stream",
     "text": [
      "<class 'pandas.core.frame.DataFrame'>\n",
      "Int64Index: 16446 entries, 0 to 16714\n",
      "Data columns (total 12 columns):\n",
      "name               16444 non-null object\n",
      "platform           16446 non-null object\n",
      "year_of_release    16446 non-null int64\n",
      "genre              16444 non-null object\n",
      "na_sales           16446 non-null float64\n",
      "eu_sales           16446 non-null float64\n",
      "jp_sales           16446 non-null float64\n",
      "other_sales        16446 non-null float64\n",
      "critic_score       16444 non-null float64\n",
      "user_score         16444 non-null float64\n",
      "rating             16446 non-null object\n",
      "total_sales        16446 non-null float64\n",
      "dtypes: float64(7), int64(1), object(4)\n",
      "memory usage: 1.6+ MB\n"
     ]
    }
   ],
   "source": [
    "data.info()"
   ]
  },
  {
   "cell_type": "markdown",
   "metadata": {},
   "source": [
    "## <a id=\"step3\">3. Исследовательский анализ данных.</a>"
   ]
  },
  {
   "cell_type": "markdown",
   "metadata": {},
   "source": [
    "Проверим количество игр, выпускаемых за все годы"
   ]
  },
  {
   "cell_type": "markdown",
   "metadata": {},
   "source": [
    "#### Сколько игр выпускалось в разные годы"
   ]
  },
  {
   "cell_type": "code",
   "execution_count": 26,
   "metadata": {},
   "outputs": [],
   "source": [
    "games_per_year = data['year_of_release'].value_counts().sort_values()"
   ]
  },
  {
   "cell_type": "code",
   "execution_count": 27,
   "metadata": {},
   "outputs": [
    {
     "data": {
      "text/plain": [
       "1980       9\n",
       "1985      14\n",
       "1984      14\n",
       "1988      15\n",
       "1990      16\n",
       "1987      16\n",
       "1989      17\n",
       "1983      17\n",
       "1986      21\n",
       "1982      36\n",
       "1991      41\n",
       "1992      43\n",
       "1981      46\n",
       "1993      62\n",
       "1994     121\n",
       "1995     219\n",
       "1996     263\n",
       "1997     289\n",
       "1999     338\n",
       "2000     350\n",
       "1998     379\n",
       "2001     482\n",
       "2016     502\n",
       "2013     544\n",
       "2014     581\n",
       "2015     606\n",
       "2012     653\n",
       "2004     762\n",
       "2003     775\n",
       "2002     829\n",
       "2005     939\n",
       "2006    1006\n",
       "2011    1136\n",
       "2007    1197\n",
       "2010    1255\n",
       "2009    1426\n",
       "2008    1427\n",
       "Name: year_of_release, dtype: int64"
      ]
     },
     "execution_count": 27,
     "metadata": {},
     "output_type": "execute_result"
    }
   ],
   "source": [
    "games_per_year"
   ]
  },
  {
   "cell_type": "code",
   "execution_count": 28,
   "metadata": {},
   "outputs": [
    {
     "data": {
      "image/png": "[encoded data removed]",
      "text/plain": [
       "<Figure size 720x720 with 1 Axes>"
      ]
     },
     "metadata": {
      "needs_background": "light"
     },
     "output_type": "display_data"
    }
   ],
   "source": [
    "games_per_year.plot(figsize = (10,10), kind = 'bar')\n",
    "plt.title = ('Количество игр в год')\n",
    "plt.xlabel('Отчетный год')\n",
    "plt.ylabel(\"Количество выпущенных игр\")\n",
    "plt.show()"
   ]
  },
  {
   "cell_type": "code",
   "execution_count": 29,
   "metadata": {},
   "outputs": [],
   "source": [
    "# Во определённых годах производители выпускали небольшое количество игр. Уберем года, где количество игр не доходит до 100\n",
    "# Значительный зазор между 1994 и 1995 помог сделать нам наш выбор\n",
    "# в итоге убрали значения с 1982 по 1994 год\n",
    "data = data.query('year_of_release > 1994') "
   ]
  },
  {
   "cell_type": "code",
   "execution_count": 30,
   "metadata": {
    "scrolled": true
   },
   "outputs": [],
   "source": [
    "sales_year_platform = data.pivot_table(index = 'year_of_release', values = 'total_sales', columns = 'platform', aggfunc = 'sum' )"
   ]
  },
  {
   "cell_type": "code",
   "execution_count": 31,
   "metadata": {},
   "outputs": [
    {
     "data": {
      "text/html": [
       "<div>\n",
       "<style scoped>\n",
       "    .dataframe tbody tr th:only-of-type {\n",
       "        vertical-align: middle;\n",
       "    }\n",
       "\n",
       "    .dataframe tbody tr th {\n",
       "        vertical-align: top;\n",
       "    }\n",
       "\n",
       "    .dataframe thead th {\n",
       "        text-align: right;\n",
       "    }\n",
       "</style>\n",
       "<table border=\"1\" class=\"dataframe\">\n",
       "  <thead>\n",
       "    <tr style=\"text-align: right;\">\n",
       "      <th>platform</th>\n",
       "      <th>3DO</th>\n",
       "      <th>3DS</th>\n",
       "      <th>DC</th>\n",
       "      <th>DS</th>\n",
       "      <th>GB</th>\n",
       "      <th>GBA</th>\n",
       "      <th>GC</th>\n",
       "      <th>N64</th>\n",
       "      <th>NG</th>\n",
       "      <th>PC</th>\n",
       "      <th>PCFX</th>\n",
       "      <th>PS</th>\n",
       "      <th>PS2</th>\n",
       "      <th>PS3</th>\n",
       "      <th>PS4</th>\n",
       "      <th>PSP</th>\n",
       "      <th>PSV</th>\n",
       "      <th>SAT</th>\n",
       "      <th>SNES</th>\n",
       "      <th>TG16</th>\n",
       "      <th>WS</th>\n",
       "      <th>Wii</th>\n",
       "      <th>WiiU</th>\n",
       "      <th>X360</th>\n",
       "      <th>XB</th>\n",
       "      <th>XOne</th>\n",
       "    </tr>\n",
       "    <tr>\n",
       "      <th>year_of_release</th>\n",
       "      <th></th>\n",
       "      <th></th>\n",
       "      <th></th>\n",
       "      <th></th>\n",
       "      <th></th>\n",
       "      <th></th>\n",
       "      <th></th>\n",
       "      <th></th>\n",
       "      <th></th>\n",
       "      <th></th>\n",
       "      <th></th>\n",
       "      <th></th>\n",
       "      <th></th>\n",
       "      <th></th>\n",
       "      <th></th>\n",
       "      <th></th>\n",
       "      <th></th>\n",
       "      <th></th>\n",
       "      <th></th>\n",
       "      <th></th>\n",
       "      <th></th>\n",
       "      <th></th>\n",
       "      <th></th>\n",
       "      <th></th>\n",
       "      <th></th>\n",
       "      <th></th>\n",
       "    </tr>\n",
       "  </thead>\n",
       "  <tbody>\n",
       "    <tr>\n",
       "      <td>1995</td>\n",
       "      <td>0.08</td>\n",
       "      <td>nan</td>\n",
       "      <td>nan</td>\n",
       "      <td>nan</td>\n",
       "      <td>3.60</td>\n",
       "      <td>nan</td>\n",
       "      <td>nan</td>\n",
       "      <td>nan</td>\n",
       "      <td>0.33</td>\n",
       "      <td>4.22</td>\n",
       "      <td>nan</td>\n",
       "      <td>35.96</td>\n",
       "      <td>nan</td>\n",
       "      <td>nan</td>\n",
       "      <td>nan</td>\n",
       "      <td>nan</td>\n",
       "      <td>nan</td>\n",
       "      <td>11.57</td>\n",
       "      <td>32.20</td>\n",
       "      <td>0.16</td>\n",
       "      <td>nan</td>\n",
       "      <td>nan</td>\n",
       "      <td>nan</td>\n",
       "      <td>nan</td>\n",
       "      <td>nan</td>\n",
       "      <td>nan</td>\n",
       "    </tr>\n",
       "    <tr>\n",
       "      <td>1996</td>\n",
       "      <td>nan</td>\n",
       "      <td>nan</td>\n",
       "      <td>nan</td>\n",
       "      <td>nan</td>\n",
       "      <td>36.03</td>\n",
       "      <td>nan</td>\n",
       "      <td>nan</td>\n",
       "      <td>34.10</td>\n",
       "      <td>0.10</td>\n",
       "      <td>10.58</td>\n",
       "      <td>0.03</td>\n",
       "      <td>94.70</td>\n",
       "      <td>nan</td>\n",
       "      <td>nan</td>\n",
       "      <td>nan</td>\n",
       "      <td>nan</td>\n",
       "      <td>nan</td>\n",
       "      <td>7.69</td>\n",
       "      <td>15.92</td>\n",
       "      <td>nan</td>\n",
       "      <td>nan</td>\n",
       "      <td>nan</td>\n",
       "      <td>nan</td>\n",
       "      <td>nan</td>\n",
       "      <td>nan</td>\n",
       "      <td>nan</td>\n",
       "    </tr>\n",
       "    <tr>\n",
       "      <td>1997</td>\n",
       "      <td>nan</td>\n",
       "      <td>nan</td>\n",
       "      <td>nan</td>\n",
       "      <td>nan</td>\n",
       "      <td>6.37</td>\n",
       "      <td>nan</td>\n",
       "      <td>nan</td>\n",
       "      <td>39.50</td>\n",
       "      <td>nan</td>\n",
       "      <td>11.27</td>\n",
       "      <td>nan</td>\n",
       "      <td>136.17</td>\n",
       "      <td>nan</td>\n",
       "      <td>nan</td>\n",
       "      <td>nan</td>\n",
       "      <td>nan</td>\n",
       "      <td>nan</td>\n",
       "      <td>6.77</td>\n",
       "      <td>0.99</td>\n",
       "      <td>nan</td>\n",
       "      <td>nan</td>\n",
       "      <td>nan</td>\n",
       "      <td>nan</td>\n",
       "      <td>nan</td>\n",
       "      <td>nan</td>\n",
       "      <td>nan</td>\n",
       "    </tr>\n",
       "    <tr>\n",
       "      <td>1998</td>\n",
       "      <td>nan</td>\n",
       "      <td>nan</td>\n",
       "      <td>3.38</td>\n",
       "      <td>nan</td>\n",
       "      <td>26.90</td>\n",
       "      <td>nan</td>\n",
       "      <td>nan</td>\n",
       "      <td>49.24</td>\n",
       "      <td>nan</td>\n",
       "      <td>3.26</td>\n",
       "      <td>nan</td>\n",
       "      <td>169.49</td>\n",
       "      <td>nan</td>\n",
       "      <td>nan</td>\n",
       "      <td>nan</td>\n",
       "      <td>nan</td>\n",
       "      <td>nan</td>\n",
       "      <td>3.82</td>\n",
       "      <td>0.22</td>\n",
       "      <td>nan</td>\n",
       "      <td>nan</td>\n",
       "      <td>nan</td>\n",
       "      <td>nan</td>\n",
       "      <td>nan</td>\n",
       "      <td>nan</td>\n",
       "      <td>nan</td>\n",
       "    </tr>\n",
       "    <tr>\n",
       "      <td>1999</td>\n",
       "      <td>nan</td>\n",
       "      <td>nan</td>\n",
       "      <td>5.16</td>\n",
       "      <td>nan</td>\n",
       "      <td>38.00</td>\n",
       "      <td>nan</td>\n",
       "      <td>nan</td>\n",
       "      <td>57.87</td>\n",
       "      <td>nan</td>\n",
       "      <td>4.74</td>\n",
       "      <td>nan</td>\n",
       "      <td>144.53</td>\n",
       "      <td>nan</td>\n",
       "      <td>nan</td>\n",
       "      <td>nan</td>\n",
       "      <td>nan</td>\n",
       "      <td>nan</td>\n",
       "      <td>0.09</td>\n",
       "      <td>0.26</td>\n",
       "      <td>nan</td>\n",
       "      <td>0.46</td>\n",
       "      <td>nan</td>\n",
       "      <td>nan</td>\n",
       "      <td>nan</td>\n",
       "      <td>nan</td>\n",
       "      <td>nan</td>\n",
       "    </tr>\n",
       "  </tbody>\n",
       "</table>\n",
       "</div>"
      ],
      "text/plain": [
       "platform         3DO  3DS   DC  DS    GB  GBA  GC   N64   NG    PC  PCFX  \\\n",
       "year_of_release                                                            \n",
       "1995            0.08  nan  nan nan  3.60  nan nan   nan 0.33  4.22   nan   \n",
       "1996             nan  nan  nan nan 36.03  nan nan 34.10 0.10 10.58  0.03   \n",
       "1997             nan  nan  nan nan  6.37  nan nan 39.50  nan 11.27   nan   \n",
       "1998             nan  nan 3.38 nan 26.90  nan nan 49.24  nan  3.26   nan   \n",
       "1999             nan  nan 5.16 nan 38.00  nan nan 57.87  nan  4.74   nan   \n",
       "\n",
       "platform            PS  PS2  PS3  PS4  PSP  PSV   SAT  SNES  TG16   WS  Wii  \\\n",
       "year_of_release                                                               \n",
       "1995             35.96  nan  nan  nan  nan  nan 11.57 32.20  0.16  nan  nan   \n",
       "1996             94.70  nan  nan  nan  nan  nan  7.69 15.92   nan  nan  nan   \n",
       "1997            136.17  nan  nan  nan  nan  nan  6.77  0.99   nan  nan  nan   \n",
       "1998            169.49  nan  nan  nan  nan  nan  3.82  0.22   nan  nan  nan   \n",
       "1999            144.53  nan  nan  nan  nan  nan  0.09  0.26   nan 0.46  nan   \n",
       "\n",
       "platform         WiiU  X360  XB  XOne  \n",
       "year_of_release                        \n",
       "1995              nan   nan nan   nan  \n",
       "1996              nan   nan nan   nan  \n",
       "1997              nan   nan nan   nan  \n",
       "1998              nan   nan nan   nan  \n",
       "1999              nan   nan nan   nan  "
      ]
     },
     "execution_count": 31,
     "metadata": {},
     "output_type": "execute_result"
    }
   ],
   "source": [
    "sales_year_platform.head()"
   ]
  },
  {
   "cell_type": "markdown",
   "metadata": {},
   "source": [
    "#### Изменение динамики продаж по платформам"
   ]
  },
  {
   "cell_type": "code",
   "execution_count": 32,
   "metadata": {},
   "outputs": [],
   "source": [
    "# создаем столбец с общим количеством продаж за каждый год \n",
    "sales_year_platform['total_sales_yearly']= sales_year_platform.sum(axis=1)"
   ]
  },
  {
   "cell_type": "code",
   "execution_count": 33,
   "metadata": {},
   "outputs": [
    {
     "data": {
      "image/png": "[encoded data removed]",
      "text/plain": [
       "<Figure size 720x720 with 1 Axes>"
      ]
     },
     "metadata": {
      "needs_background": "light"
     },
     "output_type": "display_data"
    }
   ],
   "source": [
    "# посмотрим на гистограмме как распределились общие продажи по годам\n",
    "# распределение колоколообразное, с небольшим сдвигом вправо, т.к в 1990х индустрия еще только набирала ход \n",
    "# пик прибыли пришелся на 2006-2010 годы (2008 - самый прибыльный) \n",
    "sales_year_platform.plot(y='total_sales_yearly', use_index=True, figsize = (10,10), kind ='bar', title =\"Общая прибыль по годам\")\n",
    "plt.xlabel(\"Отчётный год\")\n",
    "plt.ylabel(\"Прибыль в миллионах долларов\")\n",
    "plt.show()"
   ]
  },
  {
   "cell_type": "code",
   "execution_count": 34,
   "metadata": {
    "scrolled": true
   },
   "outputs": [],
   "source": [
    "sales_year_platform = sales_year_platform.drop(columns = 'total_sales_yearly', axis = 1)"
   ]
  },
  {
   "cell_type": "code",
   "execution_count": 35,
   "metadata": {},
   "outputs": [],
   "source": [
    "# создаем строку с общим количеством продаж по платформе\n",
    "sales_year_platform.loc['total_sales_platform'] = sales_year_platform.sum()"
   ]
  },
  {
   "cell_type": "code",
   "execution_count": 36,
   "metadata": {},
   "outputs": [
    {
     "data": {
      "text/html": [
       "<div>\n",
       "<style scoped>\n",
       "    .dataframe tbody tr th:only-of-type {\n",
       "        vertical-align: middle;\n",
       "    }\n",
       "\n",
       "    .dataframe tbody tr th {\n",
       "        vertical-align: top;\n",
       "    }\n",
       "\n",
       "    .dataframe thead th {\n",
       "        text-align: right;\n",
       "    }\n",
       "</style>\n",
       "<table border=\"1\" class=\"dataframe\">\n",
       "  <thead>\n",
       "    <tr style=\"text-align: right;\">\n",
       "      <th>platform</th>\n",
       "      <th>3DO</th>\n",
       "      <th>3DS</th>\n",
       "      <th>DC</th>\n",
       "      <th>DS</th>\n",
       "      <th>GB</th>\n",
       "      <th>GBA</th>\n",
       "      <th>GC</th>\n",
       "      <th>N64</th>\n",
       "      <th>NG</th>\n",
       "      <th>PC</th>\n",
       "      <th>PCFX</th>\n",
       "      <th>PS</th>\n",
       "      <th>PS2</th>\n",
       "      <th>PS3</th>\n",
       "      <th>PS4</th>\n",
       "      <th>PSP</th>\n",
       "      <th>PSV</th>\n",
       "      <th>SAT</th>\n",
       "      <th>SNES</th>\n",
       "      <th>TG16</th>\n",
       "      <th>WS</th>\n",
       "      <th>Wii</th>\n",
       "      <th>WiiU</th>\n",
       "      <th>X360</th>\n",
       "      <th>XB</th>\n",
       "      <th>XOne</th>\n",
       "    </tr>\n",
       "    <tr>\n",
       "      <th>year_of_release</th>\n",
       "      <th></th>\n",
       "      <th></th>\n",
       "      <th></th>\n",
       "      <th></th>\n",
       "      <th></th>\n",
       "      <th></th>\n",
       "      <th></th>\n",
       "      <th></th>\n",
       "      <th></th>\n",
       "      <th></th>\n",
       "      <th></th>\n",
       "      <th></th>\n",
       "      <th></th>\n",
       "      <th></th>\n",
       "      <th></th>\n",
       "      <th></th>\n",
       "      <th></th>\n",
       "      <th></th>\n",
       "      <th></th>\n",
       "      <th></th>\n",
       "      <th></th>\n",
       "      <th></th>\n",
       "      <th></th>\n",
       "      <th></th>\n",
       "      <th></th>\n",
       "      <th></th>\n",
       "    </tr>\n",
       "  </thead>\n",
       "  <tbody>\n",
       "    <tr>\n",
       "      <td>1995</td>\n",
       "      <td>0.08</td>\n",
       "      <td>nan</td>\n",
       "      <td>nan</td>\n",
       "      <td>nan</td>\n",
       "      <td>3.60</td>\n",
       "      <td>nan</td>\n",
       "      <td>nan</td>\n",
       "      <td>nan</td>\n",
       "      <td>0.33</td>\n",
       "      <td>4.22</td>\n",
       "      <td>nan</td>\n",
       "      <td>35.96</td>\n",
       "      <td>nan</td>\n",
       "      <td>nan</td>\n",
       "      <td>nan</td>\n",
       "      <td>nan</td>\n",
       "      <td>nan</td>\n",
       "      <td>11.57</td>\n",
       "      <td>32.20</td>\n",
       "      <td>0.16</td>\n",
       "      <td>nan</td>\n",
       "      <td>nan</td>\n",
       "      <td>nan</td>\n",
       "      <td>nan</td>\n",
       "      <td>nan</td>\n",
       "      <td>nan</td>\n",
       "    </tr>\n",
       "    <tr>\n",
       "      <td>1996</td>\n",
       "      <td>nan</td>\n",
       "      <td>nan</td>\n",
       "      <td>nan</td>\n",
       "      <td>nan</td>\n",
       "      <td>36.03</td>\n",
       "      <td>nan</td>\n",
       "      <td>nan</td>\n",
       "      <td>34.10</td>\n",
       "      <td>0.10</td>\n",
       "      <td>10.58</td>\n",
       "      <td>0.03</td>\n",
       "      <td>94.70</td>\n",
       "      <td>nan</td>\n",
       "      <td>nan</td>\n",
       "      <td>nan</td>\n",
       "      <td>nan</td>\n",
       "      <td>nan</td>\n",
       "      <td>7.69</td>\n",
       "      <td>15.92</td>\n",
       "      <td>nan</td>\n",
       "      <td>nan</td>\n",
       "      <td>nan</td>\n",
       "      <td>nan</td>\n",
       "      <td>nan</td>\n",
       "      <td>nan</td>\n",
       "      <td>nan</td>\n",
       "    </tr>\n",
       "    <tr>\n",
       "      <td>1997</td>\n",
       "      <td>nan</td>\n",
       "      <td>nan</td>\n",
       "      <td>nan</td>\n",
       "      <td>nan</td>\n",
       "      <td>6.37</td>\n",
       "      <td>nan</td>\n",
       "      <td>nan</td>\n",
       "      <td>39.50</td>\n",
       "      <td>nan</td>\n",
       "      <td>11.27</td>\n",
       "      <td>nan</td>\n",
       "      <td>136.17</td>\n",
       "      <td>nan</td>\n",
       "      <td>nan</td>\n",
       "      <td>nan</td>\n",
       "      <td>nan</td>\n",
       "      <td>nan</td>\n",
       "      <td>6.77</td>\n",
       "      <td>0.99</td>\n",
       "      <td>nan</td>\n",
       "      <td>nan</td>\n",
       "      <td>nan</td>\n",
       "      <td>nan</td>\n",
       "      <td>nan</td>\n",
       "      <td>nan</td>\n",
       "      <td>nan</td>\n",
       "    </tr>\n",
       "    <tr>\n",
       "      <td>1998</td>\n",
       "      <td>nan</td>\n",
       "      <td>nan</td>\n",
       "      <td>3.38</td>\n",
       "      <td>nan</td>\n",
       "      <td>26.90</td>\n",
       "      <td>nan</td>\n",
       "      <td>nan</td>\n",
       "      <td>49.24</td>\n",
       "      <td>nan</td>\n",
       "      <td>3.26</td>\n",
       "      <td>nan</td>\n",
       "      <td>169.49</td>\n",
       "      <td>nan</td>\n",
       "      <td>nan</td>\n",
       "      <td>nan</td>\n",
       "      <td>nan</td>\n",
       "      <td>nan</td>\n",
       "      <td>3.82</td>\n",
       "      <td>0.22</td>\n",
       "      <td>nan</td>\n",
       "      <td>nan</td>\n",
       "      <td>nan</td>\n",
       "      <td>nan</td>\n",
       "      <td>nan</td>\n",
       "      <td>nan</td>\n",
       "      <td>nan</td>\n",
       "    </tr>\n",
       "    <tr>\n",
       "      <td>1999</td>\n",
       "      <td>nan</td>\n",
       "      <td>nan</td>\n",
       "      <td>5.16</td>\n",
       "      <td>nan</td>\n",
       "      <td>38.00</td>\n",
       "      <td>nan</td>\n",
       "      <td>nan</td>\n",
       "      <td>57.87</td>\n",
       "      <td>nan</td>\n",
       "      <td>4.74</td>\n",
       "      <td>nan</td>\n",
       "      <td>144.53</td>\n",
       "      <td>nan</td>\n",
       "      <td>nan</td>\n",
       "      <td>nan</td>\n",
       "      <td>nan</td>\n",
       "      <td>nan</td>\n",
       "      <td>0.09</td>\n",
       "      <td>0.26</td>\n",
       "      <td>nan</td>\n",
       "      <td>0.46</td>\n",
       "      <td>nan</td>\n",
       "      <td>nan</td>\n",
       "      <td>nan</td>\n",
       "      <td>nan</td>\n",
       "      <td>nan</td>\n",
       "    </tr>\n",
       "    <tr>\n",
       "      <td>2000</td>\n",
       "      <td>nan</td>\n",
       "      <td>nan</td>\n",
       "      <td>5.99</td>\n",
       "      <td>nan</td>\n",
       "      <td>19.76</td>\n",
       "      <td>0.07</td>\n",
       "      <td>nan</td>\n",
       "      <td>33.97</td>\n",
       "      <td>nan</td>\n",
       "      <td>4.66</td>\n",
       "      <td>nan</td>\n",
       "      <td>96.37</td>\n",
       "      <td>39.17</td>\n",
       "      <td>nan</td>\n",
       "      <td>nan</td>\n",
       "      <td>nan</td>\n",
       "      <td>nan</td>\n",
       "      <td>nan</td>\n",
       "      <td>nan</td>\n",
       "      <td>nan</td>\n",
       "      <td>0.68</td>\n",
       "      <td>nan</td>\n",
       "      <td>nan</td>\n",
       "      <td>nan</td>\n",
       "      <td>0.99</td>\n",
       "      <td>nan</td>\n",
       "    </tr>\n",
       "    <tr>\n",
       "      <td>2001</td>\n",
       "      <td>nan</td>\n",
       "      <td>nan</td>\n",
       "      <td>1.07</td>\n",
       "      <td>nan</td>\n",
       "      <td>9.24</td>\n",
       "      <td>61.53</td>\n",
       "      <td>26.34</td>\n",
       "      <td>3.25</td>\n",
       "      <td>nan</td>\n",
       "      <td>5.47</td>\n",
       "      <td>nan</td>\n",
       "      <td>35.59</td>\n",
       "      <td>166.43</td>\n",
       "      <td>nan</td>\n",
       "      <td>nan</td>\n",
       "      <td>nan</td>\n",
       "      <td>nan</td>\n",
       "      <td>nan</td>\n",
       "      <td>nan</td>\n",
       "      <td>nan</td>\n",
       "      <td>0.28</td>\n",
       "      <td>nan</td>\n",
       "      <td>nan</td>\n",
       "      <td>nan</td>\n",
       "      <td>22.26</td>\n",
       "      <td>nan</td>\n",
       "    </tr>\n",
       "    <tr>\n",
       "      <td>2002</td>\n",
       "      <td>nan</td>\n",
       "      <td>nan</td>\n",
       "      <td>0.29</td>\n",
       "      <td>nan</td>\n",
       "      <td>nan</td>\n",
       "      <td>74.16</td>\n",
       "      <td>51.81</td>\n",
       "      <td>0.08</td>\n",
       "      <td>nan</td>\n",
       "      <td>8.57</td>\n",
       "      <td>nan</td>\n",
       "      <td>6.67</td>\n",
       "      <td>205.38</td>\n",
       "      <td>nan</td>\n",
       "      <td>nan</td>\n",
       "      <td>nan</td>\n",
       "      <td>nan</td>\n",
       "      <td>nan</td>\n",
       "      <td>nan</td>\n",
       "      <td>nan</td>\n",
       "      <td>nan</td>\n",
       "      <td>nan</td>\n",
       "      <td>nan</td>\n",
       "      <td>nan</td>\n",
       "      <td>48.01</td>\n",
       "      <td>nan</td>\n",
       "    </tr>\n",
       "    <tr>\n",
       "      <td>2003</td>\n",
       "      <td>nan</td>\n",
       "      <td>nan</td>\n",
       "      <td>nan</td>\n",
       "      <td>nan</td>\n",
       "      <td>nan</td>\n",
       "      <td>56.67</td>\n",
       "      <td>50.61</td>\n",
       "      <td>nan</td>\n",
       "      <td>nan</td>\n",
       "      <td>8.84</td>\n",
       "      <td>nan</td>\n",
       "      <td>2.07</td>\n",
       "      <td>184.31</td>\n",
       "      <td>nan</td>\n",
       "      <td>nan</td>\n",
       "      <td>nan</td>\n",
       "      <td>nan</td>\n",
       "      <td>nan</td>\n",
       "      <td>nan</td>\n",
       "      <td>nan</td>\n",
       "      <td>nan</td>\n",
       "      <td>nan</td>\n",
       "      <td>nan</td>\n",
       "      <td>nan</td>\n",
       "      <td>55.04</td>\n",
       "      <td>nan</td>\n",
       "    </tr>\n",
       "    <tr>\n",
       "      <td>2004</td>\n",
       "      <td>nan</td>\n",
       "      <td>nan</td>\n",
       "      <td>nan</td>\n",
       "      <td>17.27</td>\n",
       "      <td>nan</td>\n",
       "      <td>77.91</td>\n",
       "      <td>28.82</td>\n",
       "      <td>nan</td>\n",
       "      <td>nan</td>\n",
       "      <td>10.39</td>\n",
       "      <td>nan</td>\n",
       "      <td>nan</td>\n",
       "      <td>211.81</td>\n",
       "      <td>nan</td>\n",
       "      <td>nan</td>\n",
       "      <td>7.06</td>\n",
       "      <td>nan</td>\n",
       "      <td>nan</td>\n",
       "      <td>nan</td>\n",
       "      <td>nan</td>\n",
       "      <td>nan</td>\n",
       "      <td>nan</td>\n",
       "      <td>nan</td>\n",
       "      <td>nan</td>\n",
       "      <td>65.42</td>\n",
       "      <td>nan</td>\n",
       "    </tr>\n",
       "    <tr>\n",
       "      <td>2005</td>\n",
       "      <td>nan</td>\n",
       "      <td>nan</td>\n",
       "      <td>nan</td>\n",
       "      <td>130.14</td>\n",
       "      <td>nan</td>\n",
       "      <td>33.86</td>\n",
       "      <td>27.62</td>\n",
       "      <td>nan</td>\n",
       "      <td>nan</td>\n",
       "      <td>4.37</td>\n",
       "      <td>nan</td>\n",
       "      <td>nan</td>\n",
       "      <td>160.66</td>\n",
       "      <td>nan</td>\n",
       "      <td>nan</td>\n",
       "      <td>43.84</td>\n",
       "      <td>nan</td>\n",
       "      <td>nan</td>\n",
       "      <td>nan</td>\n",
       "      <td>nan</td>\n",
       "      <td>nan</td>\n",
       "      <td>nan</td>\n",
       "      <td>nan</td>\n",
       "      <td>8.25</td>\n",
       "      <td>49.08</td>\n",
       "      <td>nan</td>\n",
       "    </tr>\n",
       "    <tr>\n",
       "      <td>2006</td>\n",
       "      <td>nan</td>\n",
       "      <td>nan</td>\n",
       "      <td>nan</td>\n",
       "      <td>119.81</td>\n",
       "      <td>nan</td>\n",
       "      <td>5.28</td>\n",
       "      <td>11.26</td>\n",
       "      <td>nan</td>\n",
       "      <td>nan</td>\n",
       "      <td>2.85</td>\n",
       "      <td>nan</td>\n",
       "      <td>nan</td>\n",
       "      <td>103.42</td>\n",
       "      <td>20.96</td>\n",
       "      <td>nan</td>\n",
       "      <td>55.32</td>\n",
       "      <td>nan</td>\n",
       "      <td>nan</td>\n",
       "      <td>nan</td>\n",
       "      <td>nan</td>\n",
       "      <td>nan</td>\n",
       "      <td>137.15</td>\n",
       "      <td>nan</td>\n",
       "      <td>51.62</td>\n",
       "      <td>10.04</td>\n",
       "      <td>nan</td>\n",
       "    </tr>\n",
       "    <tr>\n",
       "      <td>2007</td>\n",
       "      <td>nan</td>\n",
       "      <td>nan</td>\n",
       "      <td>0.02</td>\n",
       "      <td>146.94</td>\n",
       "      <td>nan</td>\n",
       "      <td>3.40</td>\n",
       "      <td>0.27</td>\n",
       "      <td>nan</td>\n",
       "      <td>nan</td>\n",
       "      <td>9.28</td>\n",
       "      <td>nan</td>\n",
       "      <td>nan</td>\n",
       "      <td>75.99</td>\n",
       "      <td>73.19</td>\n",
       "      <td>nan</td>\n",
       "      <td>46.93</td>\n",
       "      <td>nan</td>\n",
       "      <td>nan</td>\n",
       "      <td>nan</td>\n",
       "      <td>nan</td>\n",
       "      <td>nan</td>\n",
       "      <td>152.77</td>\n",
       "      <td>nan</td>\n",
       "      <td>95.41</td>\n",
       "      <td>0.55</td>\n",
       "      <td>nan</td>\n",
       "    </tr>\n",
       "    <tr>\n",
       "      <td>2008</td>\n",
       "      <td>nan</td>\n",
       "      <td>nan</td>\n",
       "      <td>0.04</td>\n",
       "      <td>145.31</td>\n",
       "      <td>nan</td>\n",
       "      <td>nan</td>\n",
       "      <td>nan</td>\n",
       "      <td>nan</td>\n",
       "      <td>nan</td>\n",
       "      <td>12.42</td>\n",
       "      <td>nan</td>\n",
       "      <td>nan</td>\n",
       "      <td>53.90</td>\n",
       "      <td>118.52</td>\n",
       "      <td>nan</td>\n",
       "      <td>34.55</td>\n",
       "      <td>nan</td>\n",
       "      <td>nan</td>\n",
       "      <td>nan</td>\n",
       "      <td>nan</td>\n",
       "      <td>nan</td>\n",
       "      <td>171.32</td>\n",
       "      <td>nan</td>\n",
       "      <td>135.26</td>\n",
       "      <td>0.18</td>\n",
       "      <td>nan</td>\n",
       "    </tr>\n",
       "    <tr>\n",
       "      <td>2009</td>\n",
       "      <td>nan</td>\n",
       "      <td>nan</td>\n",
       "      <td>nan</td>\n",
       "      <td>119.54</td>\n",
       "      <td>nan</td>\n",
       "      <td>nan</td>\n",
       "      <td>nan</td>\n",
       "      <td>nan</td>\n",
       "      <td>nan</td>\n",
       "      <td>16.91</td>\n",
       "      <td>nan</td>\n",
       "      <td>nan</td>\n",
       "      <td>26.40</td>\n",
       "      <td>130.93</td>\n",
       "      <td>nan</td>\n",
       "      <td>37.78</td>\n",
       "      <td>nan</td>\n",
       "      <td>nan</td>\n",
       "      <td>nan</td>\n",
       "      <td>nan</td>\n",
       "      <td>nan</td>\n",
       "      <td>206.97</td>\n",
       "      <td>nan</td>\n",
       "      <td>120.29</td>\n",
       "      <td>nan</td>\n",
       "      <td>nan</td>\n",
       "    </tr>\n",
       "    <tr>\n",
       "      <td>2010</td>\n",
       "      <td>nan</td>\n",
       "      <td>nan</td>\n",
       "      <td>nan</td>\n",
       "      <td>85.02</td>\n",
       "      <td>nan</td>\n",
       "      <td>nan</td>\n",
       "      <td>nan</td>\n",
       "      <td>nan</td>\n",
       "      <td>nan</td>\n",
       "      <td>24.28</td>\n",
       "      <td>nan</td>\n",
       "      <td>nan</td>\n",
       "      <td>5.64</td>\n",
       "      <td>142.17</td>\n",
       "      <td>nan</td>\n",
       "      <td>35.04</td>\n",
       "      <td>nan</td>\n",
       "      <td>nan</td>\n",
       "      <td>nan</td>\n",
       "      <td>nan</td>\n",
       "      <td>nan</td>\n",
       "      <td>127.95</td>\n",
       "      <td>nan</td>\n",
       "      <td>170.03</td>\n",
       "      <td>nan</td>\n",
       "      <td>nan</td>\n",
       "    </tr>\n",
       "    <tr>\n",
       "      <td>2011</td>\n",
       "      <td>nan</td>\n",
       "      <td>63.20</td>\n",
       "      <td>nan</td>\n",
       "      <td>26.18</td>\n",
       "      <td>nan</td>\n",
       "      <td>nan</td>\n",
       "      <td>nan</td>\n",
       "      <td>nan</td>\n",
       "      <td>nan</td>\n",
       "      <td>35.03</td>\n",
       "      <td>nan</td>\n",
       "      <td>nan</td>\n",
       "      <td>0.45</td>\n",
       "      <td>156.78</td>\n",
       "      <td>nan</td>\n",
       "      <td>17.82</td>\n",
       "      <td>4.63</td>\n",
       "      <td>nan</td>\n",
       "      <td>nan</td>\n",
       "      <td>nan</td>\n",
       "      <td>nan</td>\n",
       "      <td>59.65</td>\n",
       "      <td>nan</td>\n",
       "      <td>143.84</td>\n",
       "      <td>nan</td>\n",
       "      <td>nan</td>\n",
       "    </tr>\n",
       "    <tr>\n",
       "      <td>2012</td>\n",
       "      <td>nan</td>\n",
       "      <td>51.36</td>\n",
       "      <td>nan</td>\n",
       "      <td>11.01</td>\n",
       "      <td>nan</td>\n",
       "      <td>nan</td>\n",
       "      <td>nan</td>\n",
       "      <td>nan</td>\n",
       "      <td>nan</td>\n",
       "      <td>23.22</td>\n",
       "      <td>nan</td>\n",
       "      <td>nan</td>\n",
       "      <td>nan</td>\n",
       "      <td>107.36</td>\n",
       "      <td>nan</td>\n",
       "      <td>7.69</td>\n",
       "      <td>16.19</td>\n",
       "      <td>nan</td>\n",
       "      <td>nan</td>\n",
       "      <td>nan</td>\n",
       "      <td>nan</td>\n",
       "      <td>21.71</td>\n",
       "      <td>17.56</td>\n",
       "      <td>99.74</td>\n",
       "      <td>nan</td>\n",
       "      <td>nan</td>\n",
       "    </tr>\n",
       "    <tr>\n",
       "      <td>2013</td>\n",
       "      <td>nan</td>\n",
       "      <td>56.57</td>\n",
       "      <td>nan</td>\n",
       "      <td>1.54</td>\n",
       "      <td>nan</td>\n",
       "      <td>nan</td>\n",
       "      <td>nan</td>\n",
       "      <td>nan</td>\n",
       "      <td>nan</td>\n",
       "      <td>12.38</td>\n",
       "      <td>nan</td>\n",
       "      <td>nan</td>\n",
       "      <td>nan</td>\n",
       "      <td>113.25</td>\n",
       "      <td>25.99</td>\n",
       "      <td>3.14</td>\n",
       "      <td>10.59</td>\n",
       "      <td>nan</td>\n",
       "      <td>nan</td>\n",
       "      <td>nan</td>\n",
       "      <td>nan</td>\n",
       "      <td>8.59</td>\n",
       "      <td>21.65</td>\n",
       "      <td>88.58</td>\n",
       "      <td>nan</td>\n",
       "      <td>18.96</td>\n",
       "    </tr>\n",
       "    <tr>\n",
       "      <td>2014</td>\n",
       "      <td>nan</td>\n",
       "      <td>43.76</td>\n",
       "      <td>nan</td>\n",
       "      <td>nan</td>\n",
       "      <td>nan</td>\n",
       "      <td>nan</td>\n",
       "      <td>nan</td>\n",
       "      <td>nan</td>\n",
       "      <td>nan</td>\n",
       "      <td>13.28</td>\n",
       "      <td>nan</td>\n",
       "      <td>nan</td>\n",
       "      <td>nan</td>\n",
       "      <td>47.76</td>\n",
       "      <td>100.00</td>\n",
       "      <td>0.24</td>\n",
       "      <td>11.90</td>\n",
       "      <td>nan</td>\n",
       "      <td>nan</td>\n",
       "      <td>nan</td>\n",
       "      <td>nan</td>\n",
       "      <td>3.75</td>\n",
       "      <td>22.03</td>\n",
       "      <td>34.74</td>\n",
       "      <td>nan</td>\n",
       "      <td>54.07</td>\n",
       "    </tr>\n",
       "    <tr>\n",
       "      <td>2015</td>\n",
       "      <td>nan</td>\n",
       "      <td>27.78</td>\n",
       "      <td>nan</td>\n",
       "      <td>nan</td>\n",
       "      <td>nan</td>\n",
       "      <td>nan</td>\n",
       "      <td>nan</td>\n",
       "      <td>nan</td>\n",
       "      <td>nan</td>\n",
       "      <td>8.52</td>\n",
       "      <td>nan</td>\n",
       "      <td>nan</td>\n",
       "      <td>nan</td>\n",
       "      <td>16.82</td>\n",
       "      <td>118.90</td>\n",
       "      <td>0.12</td>\n",
       "      <td>6.25</td>\n",
       "      <td>nan</td>\n",
       "      <td>nan</td>\n",
       "      <td>nan</td>\n",
       "      <td>nan</td>\n",
       "      <td>1.14</td>\n",
       "      <td>16.35</td>\n",
       "      <td>11.96</td>\n",
       "      <td>nan</td>\n",
       "      <td>60.14</td>\n",
       "    </tr>\n",
       "    <tr>\n",
       "      <td>2016</td>\n",
       "      <td>nan</td>\n",
       "      <td>15.14</td>\n",
       "      <td>nan</td>\n",
       "      <td>nan</td>\n",
       "      <td>nan</td>\n",
       "      <td>nan</td>\n",
       "      <td>nan</td>\n",
       "      <td>nan</td>\n",
       "      <td>nan</td>\n",
       "      <td>5.25</td>\n",
       "      <td>nan</td>\n",
       "      <td>nan</td>\n",
       "      <td>nan</td>\n",
       "      <td>3.60</td>\n",
       "      <td>69.25</td>\n",
       "      <td>nan</td>\n",
       "      <td>4.25</td>\n",
       "      <td>nan</td>\n",
       "      <td>nan</td>\n",
       "      <td>nan</td>\n",
       "      <td>nan</td>\n",
       "      <td>0.18</td>\n",
       "      <td>4.60</td>\n",
       "      <td>1.52</td>\n",
       "      <td>nan</td>\n",
       "      <td>26.15</td>\n",
       "    </tr>\n",
       "    <tr>\n",
       "      <td>total_sales_platform</td>\n",
       "      <td>0.08</td>\n",
       "      <td>257.81</td>\n",
       "      <td>15.95</td>\n",
       "      <td>802.76</td>\n",
       "      <td>139.90</td>\n",
       "      <td>312.88</td>\n",
       "      <td>196.73</td>\n",
       "      <td>218.01</td>\n",
       "      <td>0.43</td>\n",
       "      <td>239.79</td>\n",
       "      <td>0.03</td>\n",
       "      <td>721.55</td>\n",
       "      <td>1,233.56</td>\n",
       "      <td>931.34</td>\n",
       "      <td>314.14</td>\n",
       "      <td>289.53</td>\n",
       "      <td>53.81</td>\n",
       "      <td>29.94</td>\n",
       "      <td>49.59</td>\n",
       "      <td>0.16</td>\n",
       "      <td>1.42</td>\n",
       "      <td>891.18</td>\n",
       "      <td>82.19</td>\n",
       "      <td>961.24</td>\n",
       "      <td>251.57</td>\n",
       "      <td>159.32</td>\n",
       "    </tr>\n",
       "  </tbody>\n",
       "</table>\n",
       "</div>"
      ],
      "text/plain": [
       "platform              3DO    3DS    DC     DS     GB    GBA     GC    N64  \\\n",
       "year_of_release                                                             \n",
       "1995                 0.08    nan   nan    nan   3.60    nan    nan    nan   \n",
       "1996                  nan    nan   nan    nan  36.03    nan    nan  34.10   \n",
       "1997                  nan    nan   nan    nan   6.37    nan    nan  39.50   \n",
       "1998                  nan    nan  3.38    nan  26.90    nan    nan  49.24   \n",
       "1999                  nan    nan  5.16    nan  38.00    nan    nan  57.87   \n",
       "2000                  nan    nan  5.99    nan  19.76   0.07    nan  33.97   \n",
       "2001                  nan    nan  1.07    nan   9.24  61.53  26.34   3.25   \n",
       "2002                  nan    nan  0.29    nan    nan  74.16  51.81   0.08   \n",
       "2003                  nan    nan   nan    nan    nan  56.67  50.61    nan   \n",
       "2004                  nan    nan   nan  17.27    nan  77.91  28.82    nan   \n",
       "2005                  nan    nan   nan 130.14    nan  33.86  27.62    nan   \n",
       "2006                  nan    nan   nan 119.81    nan   5.28  11.26    nan   \n",
       "2007                  nan    nan  0.02 146.94    nan   3.40   0.27    nan   \n",
       "2008                  nan    nan  0.04 145.31    nan    nan    nan    nan   \n",
       "2009                  nan    nan   nan 119.54    nan    nan    nan    nan   \n",
       "2010                  nan    nan   nan  85.02    nan    nan    nan    nan   \n",
       "2011                  nan  63.20   nan  26.18    nan    nan    nan    nan   \n",
       "2012                  nan  51.36   nan  11.01    nan    nan    nan    nan   \n",
       "2013                  nan  56.57   nan   1.54    nan    nan    nan    nan   \n",
       "2014                  nan  43.76   nan    nan    nan    nan    nan    nan   \n",
       "2015                  nan  27.78   nan    nan    nan    nan    nan    nan   \n",
       "2016                  nan  15.14   nan    nan    nan    nan    nan    nan   \n",
       "total_sales_platform 0.08 257.81 15.95 802.76 139.90 312.88 196.73 218.01   \n",
       "\n",
       "platform               NG     PC  PCFX     PS      PS2    PS3    PS4    PSP  \\\n",
       "year_of_release                                                               \n",
       "1995                 0.33   4.22   nan  35.96      nan    nan    nan    nan   \n",
       "1996                 0.10  10.58  0.03  94.70      nan    nan    nan    nan   \n",
       "1997                  nan  11.27   nan 136.17      nan    nan    nan    nan   \n",
       "1998                  nan   3.26   nan 169.49      nan    nan    nan    nan   \n",
       "1999                  nan   4.74   nan 144.53      nan    nan    nan    nan   \n",
       "2000                  nan   4.66   nan  96.37    39.17    nan    nan    nan   \n",
       "2001                  nan   5.47   nan  35.59   166.43    nan    nan    nan   \n",
       "2002                  nan   8.57   nan   6.67   205.38    nan    nan    nan   \n",
       "2003                  nan   8.84   nan   2.07   184.31    nan    nan    nan   \n",
       "2004                  nan  10.39   nan    nan   211.81    nan    nan   7.06   \n",
       "2005                  nan   4.37   nan    nan   160.66    nan    nan  43.84   \n",
       "2006                  nan   2.85   nan    nan   103.42  20.96    nan  55.32   \n",
       "2007                  nan   9.28   nan    nan    75.99  73.19    nan  46.93   \n",
       "2008                  nan  12.42   nan    nan    53.90 118.52    nan  34.55   \n",
       "2009                  nan  16.91   nan    nan    26.40 130.93    nan  37.78   \n",
       "2010                  nan  24.28   nan    nan     5.64 142.17    nan  35.04   \n",
       "2011                  nan  35.03   nan    nan     0.45 156.78    nan  17.82   \n",
       "2012                  nan  23.22   nan    nan      nan 107.36    nan   7.69   \n",
       "2013                  nan  12.38   nan    nan      nan 113.25  25.99   3.14   \n",
       "2014                  nan  13.28   nan    nan      nan  47.76 100.00   0.24   \n",
       "2015                  nan   8.52   nan    nan      nan  16.82 118.90   0.12   \n",
       "2016                  nan   5.25   nan    nan      nan   3.60  69.25    nan   \n",
       "total_sales_platform 0.43 239.79  0.03 721.55 1,233.56 931.34 314.14 289.53   \n",
       "\n",
       "platform               PSV   SAT  SNES  TG16   WS    Wii  WiiU   X360     XB  \\\n",
       "year_of_release                                                                \n",
       "1995                   nan 11.57 32.20  0.16  nan    nan   nan    nan    nan   \n",
       "1996                   nan  7.69 15.92   nan  nan    nan   nan    nan    nan   \n",
       "1997                   nan  6.77  0.99   nan  nan    nan   nan    nan    nan   \n",
       "1998                   nan  3.82  0.22   nan  nan    nan   nan    nan    nan   \n",
       "1999                   nan  0.09  0.26   nan 0.46    nan   nan    nan    nan   \n",
       "2000                   nan   nan   nan   nan 0.68    nan   nan    nan   0.99   \n",
       "2001                   nan   nan   nan   nan 0.28    nan   nan    nan  22.26   \n",
       "2002                   nan   nan   nan   nan  nan    nan   nan    nan  48.01   \n",
       "2003                   nan   nan   nan   nan  nan    nan   nan    nan  55.04   \n",
       "2004                   nan   nan   nan   nan  nan    nan   nan    nan  65.42   \n",
       "2005                   nan   nan   nan   nan  nan    nan   nan   8.25  49.08   \n",
       "2006                   nan   nan   nan   nan  nan 137.15   nan  51.62  10.04   \n",
       "2007                   nan   nan   nan   nan  nan 152.77   nan  95.41   0.55   \n",
       "2008                   nan   nan   nan   nan  nan 171.32   nan 135.26   0.18   \n",
       "2009                   nan   nan   nan   nan  nan 206.97   nan 120.29    nan   \n",
       "2010                   nan   nan   nan   nan  nan 127.95   nan 170.03    nan   \n",
       "2011                  4.63   nan   nan   nan  nan  59.65   nan 143.84    nan   \n",
       "2012                 16.19   nan   nan   nan  nan  21.71 17.56  99.74    nan   \n",
       "2013                 10.59   nan   nan   nan  nan   8.59 21.65  88.58    nan   \n",
       "2014                 11.90   nan   nan   nan  nan   3.75 22.03  34.74    nan   \n",
       "2015                  6.25   nan   nan   nan  nan   1.14 16.35  11.96    nan   \n",
       "2016                  4.25   nan   nan   nan  nan   0.18  4.60   1.52    nan   \n",
       "total_sales_platform 53.81 29.94 49.59  0.16 1.42 891.18 82.19 961.24 251.57   \n",
       "\n",
       "platform               XOne  \n",
       "year_of_release              \n",
       "1995                    nan  \n",
       "1996                    nan  \n",
       "1997                    nan  \n",
       "1998                    nan  \n",
       "1999                    nan  \n",
       "2000                    nan  \n",
       "2001                    nan  \n",
       "2002                    nan  \n",
       "2003                    nan  \n",
       "2004                    nan  \n",
       "2005                    nan  \n",
       "2006                    nan  \n",
       "2007                    nan  \n",
       "2008                    nan  \n",
       "2009                    nan  \n",
       "2010                    nan  \n",
       "2011                    nan  \n",
       "2012                    nan  \n",
       "2013                  18.96  \n",
       "2014                  54.07  \n",
       "2015                  60.14  \n",
       "2016                  26.15  \n",
       "total_sales_platform 159.32  "
      ]
     },
     "execution_count": 36,
     "metadata": {},
     "output_type": "execute_result"
    }
   ],
   "source": [
    "sales_year_platform"
   ]
  },
  {
   "cell_type": "code",
   "execution_count": 37,
   "metadata": {},
   "outputs": [],
   "source": [
    "# сортируем по убыванию самые прибыльные платформы\n",
    "arranged_platforms = sales_year_platform.sort_values(by= 'total_sales_platform', ascending=False, axis=1)"
   ]
  },
  {
   "cell_type": "code",
   "execution_count": 38,
   "metadata": {},
   "outputs": [
    {
     "data": {
      "text/html": [
       "<div>\n",
       "<style scoped>\n",
       "    .dataframe tbody tr th:only-of-type {\n",
       "        vertical-align: middle;\n",
       "    }\n",
       "\n",
       "    .dataframe tbody tr th {\n",
       "        vertical-align: top;\n",
       "    }\n",
       "\n",
       "    .dataframe thead th {\n",
       "        text-align: right;\n",
       "    }\n",
       "</style>\n",
       "<table border=\"1\" class=\"dataframe\">\n",
       "  <thead>\n",
       "    <tr style=\"text-align: right;\">\n",
       "      <th>platform</th>\n",
       "      <th>PS2</th>\n",
       "      <th>X360</th>\n",
       "      <th>PS3</th>\n",
       "      <th>Wii</th>\n",
       "      <th>DS</th>\n",
       "      <th>PS</th>\n",
       "      <th>PS4</th>\n",
       "      <th>GBA</th>\n",
       "      <th>PSP</th>\n",
       "      <th>3DS</th>\n",
       "      <th>XB</th>\n",
       "      <th>PC</th>\n",
       "      <th>N64</th>\n",
       "      <th>GC</th>\n",
       "      <th>XOne</th>\n",
       "      <th>GB</th>\n",
       "      <th>WiiU</th>\n",
       "      <th>PSV</th>\n",
       "      <th>SNES</th>\n",
       "      <th>SAT</th>\n",
       "      <th>DC</th>\n",
       "      <th>WS</th>\n",
       "      <th>NG</th>\n",
       "      <th>TG16</th>\n",
       "      <th>3DO</th>\n",
       "      <th>PCFX</th>\n",
       "    </tr>\n",
       "    <tr>\n",
       "      <th>year_of_release</th>\n",
       "      <th></th>\n",
       "      <th></th>\n",
       "      <th></th>\n",
       "      <th></th>\n",
       "      <th></th>\n",
       "      <th></th>\n",
       "      <th></th>\n",
       "      <th></th>\n",
       "      <th></th>\n",
       "      <th></th>\n",
       "      <th></th>\n",
       "      <th></th>\n",
       "      <th></th>\n",
       "      <th></th>\n",
       "      <th></th>\n",
       "      <th></th>\n",
       "      <th></th>\n",
       "      <th></th>\n",
       "      <th></th>\n",
       "      <th></th>\n",
       "      <th></th>\n",
       "      <th></th>\n",
       "      <th></th>\n",
       "      <th></th>\n",
       "      <th></th>\n",
       "      <th></th>\n",
       "    </tr>\n",
       "  </thead>\n",
       "  <tbody>\n",
       "    <tr>\n",
       "      <td>1995</td>\n",
       "      <td>nan</td>\n",
       "      <td>nan</td>\n",
       "      <td>nan</td>\n",
       "      <td>nan</td>\n",
       "      <td>nan</td>\n",
       "      <td>35.96</td>\n",
       "      <td>nan</td>\n",
       "      <td>nan</td>\n",
       "      <td>nan</td>\n",
       "      <td>nan</td>\n",
       "      <td>nan</td>\n",
       "      <td>4.22</td>\n",
       "      <td>nan</td>\n",
       "      <td>nan</td>\n",
       "      <td>nan</td>\n",
       "      <td>3.60</td>\n",
       "      <td>nan</td>\n",
       "      <td>nan</td>\n",
       "      <td>32.20</td>\n",
       "      <td>11.57</td>\n",
       "      <td>nan</td>\n",
       "      <td>nan</td>\n",
       "      <td>0.33</td>\n",
       "      <td>0.16</td>\n",
       "      <td>0.08</td>\n",
       "      <td>nan</td>\n",
       "    </tr>\n",
       "    <tr>\n",
       "      <td>1996</td>\n",
       "      <td>nan</td>\n",
       "      <td>nan</td>\n",
       "      <td>nan</td>\n",
       "      <td>nan</td>\n",
       "      <td>nan</td>\n",
       "      <td>94.70</td>\n",
       "      <td>nan</td>\n",
       "      <td>nan</td>\n",
       "      <td>nan</td>\n",
       "      <td>nan</td>\n",
       "      <td>nan</td>\n",
       "      <td>10.58</td>\n",
       "      <td>34.10</td>\n",
       "      <td>nan</td>\n",
       "      <td>nan</td>\n",
       "      <td>36.03</td>\n",
       "      <td>nan</td>\n",
       "      <td>nan</td>\n",
       "      <td>15.92</td>\n",
       "      <td>7.69</td>\n",
       "      <td>nan</td>\n",
       "      <td>nan</td>\n",
       "      <td>0.10</td>\n",
       "      <td>nan</td>\n",
       "      <td>nan</td>\n",
       "      <td>0.03</td>\n",
       "    </tr>\n",
       "    <tr>\n",
       "      <td>1997</td>\n",
       "      <td>nan</td>\n",
       "      <td>nan</td>\n",
       "      <td>nan</td>\n",
       "      <td>nan</td>\n",
       "      <td>nan</td>\n",
       "      <td>136.17</td>\n",
       "      <td>nan</td>\n",
       "      <td>nan</td>\n",
       "      <td>nan</td>\n",
       "      <td>nan</td>\n",
       "      <td>nan</td>\n",
       "      <td>11.27</td>\n",
       "      <td>39.50</td>\n",
       "      <td>nan</td>\n",
       "      <td>nan</td>\n",
       "      <td>6.37</td>\n",
       "      <td>nan</td>\n",
       "      <td>nan</td>\n",
       "      <td>0.99</td>\n",
       "      <td>6.77</td>\n",
       "      <td>nan</td>\n",
       "      <td>nan</td>\n",
       "      <td>nan</td>\n",
       "      <td>nan</td>\n",
       "      <td>nan</td>\n",
       "      <td>nan</td>\n",
       "    </tr>\n",
       "    <tr>\n",
       "      <td>1998</td>\n",
       "      <td>nan</td>\n",
       "      <td>nan</td>\n",
       "      <td>nan</td>\n",
       "      <td>nan</td>\n",
       "      <td>nan</td>\n",
       "      <td>169.49</td>\n",
       "      <td>nan</td>\n",
       "      <td>nan</td>\n",
       "      <td>nan</td>\n",
       "      <td>nan</td>\n",
       "      <td>nan</td>\n",
       "      <td>3.26</td>\n",
       "      <td>49.24</td>\n",
       "      <td>nan</td>\n",
       "      <td>nan</td>\n",
       "      <td>26.90</td>\n",
       "      <td>nan</td>\n",
       "      <td>nan</td>\n",
       "      <td>0.22</td>\n",
       "      <td>3.82</td>\n",
       "      <td>3.38</td>\n",
       "      <td>nan</td>\n",
       "      <td>nan</td>\n",
       "      <td>nan</td>\n",
       "      <td>nan</td>\n",
       "      <td>nan</td>\n",
       "    </tr>\n",
       "    <tr>\n",
       "      <td>1999</td>\n",
       "      <td>nan</td>\n",
       "      <td>nan</td>\n",
       "      <td>nan</td>\n",
       "      <td>nan</td>\n",
       "      <td>nan</td>\n",
       "      <td>144.53</td>\n",
       "      <td>nan</td>\n",
       "      <td>nan</td>\n",
       "      <td>nan</td>\n",
       "      <td>nan</td>\n",
       "      <td>nan</td>\n",
       "      <td>4.74</td>\n",
       "      <td>57.87</td>\n",
       "      <td>nan</td>\n",
       "      <td>nan</td>\n",
       "      <td>38.00</td>\n",
       "      <td>nan</td>\n",
       "      <td>nan</td>\n",
       "      <td>0.26</td>\n",
       "      <td>0.09</td>\n",
       "      <td>5.16</td>\n",
       "      <td>0.46</td>\n",
       "      <td>nan</td>\n",
       "      <td>nan</td>\n",
       "      <td>nan</td>\n",
       "      <td>nan</td>\n",
       "    </tr>\n",
       "    <tr>\n",
       "      <td>2000</td>\n",
       "      <td>39.17</td>\n",
       "      <td>nan</td>\n",
       "      <td>nan</td>\n",
       "      <td>nan</td>\n",
       "      <td>nan</td>\n",
       "      <td>96.37</td>\n",
       "      <td>nan</td>\n",
       "      <td>0.07</td>\n",
       "      <td>nan</td>\n",
       "      <td>nan</td>\n",
       "      <td>0.99</td>\n",
       "      <td>4.66</td>\n",
       "      <td>33.97</td>\n",
       "      <td>nan</td>\n",
       "      <td>nan</td>\n",
       "      <td>19.76</td>\n",
       "      <td>nan</td>\n",
       "      <td>nan</td>\n",
       "      <td>nan</td>\n",
       "      <td>nan</td>\n",
       "      <td>5.99</td>\n",
       "      <td>0.68</td>\n",
       "      <td>nan</td>\n",
       "      <td>nan</td>\n",
       "      <td>nan</td>\n",
       "      <td>nan</td>\n",
       "    </tr>\n",
       "    <tr>\n",
       "      <td>2001</td>\n",
       "      <td>166.43</td>\n",
       "      <td>nan</td>\n",
       "      <td>nan</td>\n",
       "      <td>nan</td>\n",
       "      <td>nan</td>\n",
       "      <td>35.59</td>\n",
       "      <td>nan</td>\n",
       "      <td>61.53</td>\n",
       "      <td>nan</td>\n",
       "      <td>nan</td>\n",
       "      <td>22.26</td>\n",
       "      <td>5.47</td>\n",
       "      <td>3.25</td>\n",
       "      <td>26.34</td>\n",
       "      <td>nan</td>\n",
       "      <td>9.24</td>\n",
       "      <td>nan</td>\n",
       "      <td>nan</td>\n",
       "      <td>nan</td>\n",
       "      <td>nan</td>\n",
       "      <td>1.07</td>\n",
       "      <td>0.28</td>\n",
       "      <td>nan</td>\n",
       "      <td>nan</td>\n",
       "      <td>nan</td>\n",
       "      <td>nan</td>\n",
       "    </tr>\n",
       "    <tr>\n",
       "      <td>2002</td>\n",
       "      <td>205.38</td>\n",
       "      <td>nan</td>\n",
       "      <td>nan</td>\n",
       "      <td>nan</td>\n",
       "      <td>nan</td>\n",
       "      <td>6.67</td>\n",
       "      <td>nan</td>\n",
       "      <td>74.16</td>\n",
       "      <td>nan</td>\n",
       "      <td>nan</td>\n",
       "      <td>48.01</td>\n",
       "      <td>8.57</td>\n",
       "      <td>0.08</td>\n",
       "      <td>51.81</td>\n",
       "      <td>nan</td>\n",
       "      <td>nan</td>\n",
       "      <td>nan</td>\n",
       "      <td>nan</td>\n",
       "      <td>nan</td>\n",
       "      <td>nan</td>\n",
       "      <td>0.29</td>\n",
       "      <td>nan</td>\n",
       "      <td>nan</td>\n",
       "      <td>nan</td>\n",
       "      <td>nan</td>\n",
       "      <td>nan</td>\n",
       "    </tr>\n",
       "    <tr>\n",
       "      <td>2003</td>\n",
       "      <td>184.31</td>\n",
       "      <td>nan</td>\n",
       "      <td>nan</td>\n",
       "      <td>nan</td>\n",
       "      <td>nan</td>\n",
       "      <td>2.07</td>\n",
       "      <td>nan</td>\n",
       "      <td>56.67</td>\n",
       "      <td>nan</td>\n",
       "      <td>nan</td>\n",
       "      <td>55.04</td>\n",
       "      <td>8.84</td>\n",
       "      <td>nan</td>\n",
       "      <td>50.61</td>\n",
       "      <td>nan</td>\n",
       "      <td>nan</td>\n",
       "      <td>nan</td>\n",
       "      <td>nan</td>\n",
       "      <td>nan</td>\n",
       "      <td>nan</td>\n",
       "      <td>nan</td>\n",
       "      <td>nan</td>\n",
       "      <td>nan</td>\n",
       "      <td>nan</td>\n",
       "      <td>nan</td>\n",
       "      <td>nan</td>\n",
       "    </tr>\n",
       "    <tr>\n",
       "      <td>2004</td>\n",
       "      <td>211.81</td>\n",
       "      <td>nan</td>\n",
       "      <td>nan</td>\n",
       "      <td>nan</td>\n",
       "      <td>17.27</td>\n",
       "      <td>nan</td>\n",
       "      <td>nan</td>\n",
       "      <td>77.91</td>\n",
       "      <td>7.06</td>\n",
       "      <td>nan</td>\n",
       "      <td>65.42</td>\n",
       "      <td>10.39</td>\n",
       "      <td>nan</td>\n",
       "      <td>28.82</td>\n",
       "      <td>nan</td>\n",
       "      <td>nan</td>\n",
       "      <td>nan</td>\n",
       "      <td>nan</td>\n",
       "      <td>nan</td>\n",
       "      <td>nan</td>\n",
       "      <td>nan</td>\n",
       "      <td>nan</td>\n",
       "      <td>nan</td>\n",
       "      <td>nan</td>\n",
       "      <td>nan</td>\n",
       "      <td>nan</td>\n",
       "    </tr>\n",
       "    <tr>\n",
       "      <td>2005</td>\n",
       "      <td>160.66</td>\n",
       "      <td>8.25</td>\n",
       "      <td>nan</td>\n",
       "      <td>nan</td>\n",
       "      <td>130.14</td>\n",
       "      <td>nan</td>\n",
       "      <td>nan</td>\n",
       "      <td>33.86</td>\n",
       "      <td>43.84</td>\n",
       "      <td>nan</td>\n",
       "      <td>49.08</td>\n",
       "      <td>4.37</td>\n",
       "      <td>nan</td>\n",
       "      <td>27.62</td>\n",
       "      <td>nan</td>\n",
       "      <td>nan</td>\n",
       "      <td>nan</td>\n",
       "      <td>nan</td>\n",
       "      <td>nan</td>\n",
       "      <td>nan</td>\n",
       "      <td>nan</td>\n",
       "      <td>nan</td>\n",
       "      <td>nan</td>\n",
       "      <td>nan</td>\n",
       "      <td>nan</td>\n",
       "      <td>nan</td>\n",
       "    </tr>\n",
       "    <tr>\n",
       "      <td>2006</td>\n",
       "      <td>103.42</td>\n",
       "      <td>51.62</td>\n",
       "      <td>20.96</td>\n",
       "      <td>137.15</td>\n",
       "      <td>119.81</td>\n",
       "      <td>nan</td>\n",
       "      <td>nan</td>\n",
       "      <td>5.28</td>\n",
       "      <td>55.32</td>\n",
       "      <td>nan</td>\n",
       "      <td>10.04</td>\n",
       "      <td>2.85</td>\n",
       "      <td>nan</td>\n",
       "      <td>11.26</td>\n",
       "      <td>nan</td>\n",
       "      <td>nan</td>\n",
       "      <td>nan</td>\n",
       "      <td>nan</td>\n",
       "      <td>nan</td>\n",
       "      <td>nan</td>\n",
       "      <td>nan</td>\n",
       "      <td>nan</td>\n",
       "      <td>nan</td>\n",
       "      <td>nan</td>\n",
       "      <td>nan</td>\n",
       "      <td>nan</td>\n",
       "    </tr>\n",
       "    <tr>\n",
       "      <td>2007</td>\n",
       "      <td>75.99</td>\n",
       "      <td>95.41</td>\n",
       "      <td>73.19</td>\n",
       "      <td>152.77</td>\n",
       "      <td>146.94</td>\n",
       "      <td>nan</td>\n",
       "      <td>nan</td>\n",
       "      <td>3.40</td>\n",
       "      <td>46.93</td>\n",
       "      <td>nan</td>\n",
       "      <td>0.55</td>\n",
       "      <td>9.28</td>\n",
       "      <td>nan</td>\n",
       "      <td>0.27</td>\n",
       "      <td>nan</td>\n",
       "      <td>nan</td>\n",
       "      <td>nan</td>\n",
       "      <td>nan</td>\n",
       "      <td>nan</td>\n",
       "      <td>nan</td>\n",
       "      <td>0.02</td>\n",
       "      <td>nan</td>\n",
       "      <td>nan</td>\n",
       "      <td>nan</td>\n",
       "      <td>nan</td>\n",
       "      <td>nan</td>\n",
       "    </tr>\n",
       "    <tr>\n",
       "      <td>2008</td>\n",
       "      <td>53.90</td>\n",
       "      <td>135.26</td>\n",
       "      <td>118.52</td>\n",
       "      <td>171.32</td>\n",
       "      <td>145.31</td>\n",
       "      <td>nan</td>\n",
       "      <td>nan</td>\n",
       "      <td>nan</td>\n",
       "      <td>34.55</td>\n",
       "      <td>nan</td>\n",
       "      <td>0.18</td>\n",
       "      <td>12.42</td>\n",
       "      <td>nan</td>\n",
       "      <td>nan</td>\n",
       "      <td>nan</td>\n",
       "      <td>nan</td>\n",
       "      <td>nan</td>\n",
       "      <td>nan</td>\n",
       "      <td>nan</td>\n",
       "      <td>nan</td>\n",
       "      <td>0.04</td>\n",
       "      <td>nan</td>\n",
       "      <td>nan</td>\n",
       "      <td>nan</td>\n",
       "      <td>nan</td>\n",
       "      <td>nan</td>\n",
       "    </tr>\n",
       "    <tr>\n",
       "      <td>2009</td>\n",
       "      <td>26.40</td>\n",
       "      <td>120.29</td>\n",
       "      <td>130.93</td>\n",
       "      <td>206.97</td>\n",
       "      <td>119.54</td>\n",
       "      <td>nan</td>\n",
       "      <td>nan</td>\n",
       "      <td>nan</td>\n",
       "      <td>37.78</td>\n",
       "      <td>nan</td>\n",
       "      <td>nan</td>\n",
       "      <td>16.91</td>\n",
       "      <td>nan</td>\n",
       "      <td>nan</td>\n",
       "      <td>nan</td>\n",
       "      <td>nan</td>\n",
       "      <td>nan</td>\n",
       "      <td>nan</td>\n",
       "      <td>nan</td>\n",
       "      <td>nan</td>\n",
       "      <td>nan</td>\n",
       "      <td>nan</td>\n",
       "      <td>nan</td>\n",
       "      <td>nan</td>\n",
       "      <td>nan</td>\n",
       "      <td>nan</td>\n",
       "    </tr>\n",
       "    <tr>\n",
       "      <td>2010</td>\n",
       "      <td>5.64</td>\n",
       "      <td>170.03</td>\n",
       "      <td>142.17</td>\n",
       "      <td>127.95</td>\n",
       "      <td>85.02</td>\n",
       "      <td>nan</td>\n",
       "      <td>nan</td>\n",
       "      <td>nan</td>\n",
       "      <td>35.04</td>\n",
       "      <td>nan</td>\n",
       "      <td>nan</td>\n",
       "      <td>24.28</td>\n",
       "      <td>nan</td>\n",
       "      <td>nan</td>\n",
       "      <td>nan</td>\n",
       "      <td>nan</td>\n",
       "      <td>nan</td>\n",
       "      <td>nan</td>\n",
       "      <td>nan</td>\n",
       "      <td>nan</td>\n",
       "      <td>nan</td>\n",
       "      <td>nan</td>\n",
       "      <td>nan</td>\n",
       "      <td>nan</td>\n",
       "      <td>nan</td>\n",
       "      <td>nan</td>\n",
       "    </tr>\n",
       "    <tr>\n",
       "      <td>2011</td>\n",
       "      <td>0.45</td>\n",
       "      <td>143.84</td>\n",
       "      <td>156.78</td>\n",
       "      <td>59.65</td>\n",
       "      <td>26.18</td>\n",
       "      <td>nan</td>\n",
       "      <td>nan</td>\n",
       "      <td>nan</td>\n",
       "      <td>17.82</td>\n",
       "      <td>63.20</td>\n",
       "      <td>nan</td>\n",
       "      <td>35.03</td>\n",
       "      <td>nan</td>\n",
       "      <td>nan</td>\n",
       "      <td>nan</td>\n",
       "      <td>nan</td>\n",
       "      <td>nan</td>\n",
       "      <td>4.63</td>\n",
       "      <td>nan</td>\n",
       "      <td>nan</td>\n",
       "      <td>nan</td>\n",
       "      <td>nan</td>\n",
       "      <td>nan</td>\n",
       "      <td>nan</td>\n",
       "      <td>nan</td>\n",
       "      <td>nan</td>\n",
       "    </tr>\n",
       "    <tr>\n",
       "      <td>2012</td>\n",
       "      <td>nan</td>\n",
       "      <td>99.74</td>\n",
       "      <td>107.36</td>\n",
       "      <td>21.71</td>\n",
       "      <td>11.01</td>\n",
       "      <td>nan</td>\n",
       "      <td>nan</td>\n",
       "      <td>nan</td>\n",
       "      <td>7.69</td>\n",
       "      <td>51.36</td>\n",
       "      <td>nan</td>\n",
       "      <td>23.22</td>\n",
       "      <td>nan</td>\n",
       "      <td>nan</td>\n",
       "      <td>nan</td>\n",
       "      <td>nan</td>\n",
       "      <td>17.56</td>\n",
       "      <td>16.19</td>\n",
       "      <td>nan</td>\n",
       "      <td>nan</td>\n",
       "      <td>nan</td>\n",
       "      <td>nan</td>\n",
       "      <td>nan</td>\n",
       "      <td>nan</td>\n",
       "      <td>nan</td>\n",
       "      <td>nan</td>\n",
       "    </tr>\n",
       "    <tr>\n",
       "      <td>2013</td>\n",
       "      <td>nan</td>\n",
       "      <td>88.58</td>\n",
       "      <td>113.25</td>\n",
       "      <td>8.59</td>\n",
       "      <td>1.54</td>\n",
       "      <td>nan</td>\n",
       "      <td>25.99</td>\n",
       "      <td>nan</td>\n",
       "      <td>3.14</td>\n",
       "      <td>56.57</td>\n",
       "      <td>nan</td>\n",
       "      <td>12.38</td>\n",
       "      <td>nan</td>\n",
       "      <td>nan</td>\n",
       "      <td>18.96</td>\n",
       "      <td>nan</td>\n",
       "      <td>21.65</td>\n",
       "      <td>10.59</td>\n",
       "      <td>nan</td>\n",
       "      <td>nan</td>\n",
       "      <td>nan</td>\n",
       "      <td>nan</td>\n",
       "      <td>nan</td>\n",
       "      <td>nan</td>\n",
       "      <td>nan</td>\n",
       "      <td>nan</td>\n",
       "    </tr>\n",
       "    <tr>\n",
       "      <td>2014</td>\n",
       "      <td>nan</td>\n",
       "      <td>34.74</td>\n",
       "      <td>47.76</td>\n",
       "      <td>3.75</td>\n",
       "      <td>nan</td>\n",
       "      <td>nan</td>\n",
       "      <td>100.00</td>\n",
       "      <td>nan</td>\n",
       "      <td>0.24</td>\n",
       "      <td>43.76</td>\n",
       "      <td>nan</td>\n",
       "      <td>13.28</td>\n",
       "      <td>nan</td>\n",
       "      <td>nan</td>\n",
       "      <td>54.07</td>\n",
       "      <td>nan</td>\n",
       "      <td>22.03</td>\n",
       "      <td>11.90</td>\n",
       "      <td>nan</td>\n",
       "      <td>nan</td>\n",
       "      <td>nan</td>\n",
       "      <td>nan</td>\n",
       "      <td>nan</td>\n",
       "      <td>nan</td>\n",
       "      <td>nan</td>\n",
       "      <td>nan</td>\n",
       "    </tr>\n",
       "    <tr>\n",
       "      <td>2015</td>\n",
       "      <td>nan</td>\n",
       "      <td>11.96</td>\n",
       "      <td>16.82</td>\n",
       "      <td>1.14</td>\n",
       "      <td>nan</td>\n",
       "      <td>nan</td>\n",
       "      <td>118.90</td>\n",
       "      <td>nan</td>\n",
       "      <td>0.12</td>\n",
       "      <td>27.78</td>\n",
       "      <td>nan</td>\n",
       "      <td>8.52</td>\n",
       "      <td>nan</td>\n",
       "      <td>nan</td>\n",
       "      <td>60.14</td>\n",
       "      <td>nan</td>\n",
       "      <td>16.35</td>\n",
       "      <td>6.25</td>\n",
       "      <td>nan</td>\n",
       "      <td>nan</td>\n",
       "      <td>nan</td>\n",
       "      <td>nan</td>\n",
       "      <td>nan</td>\n",
       "      <td>nan</td>\n",
       "      <td>nan</td>\n",
       "      <td>nan</td>\n",
       "    </tr>\n",
       "    <tr>\n",
       "      <td>2016</td>\n",
       "      <td>nan</td>\n",
       "      <td>1.52</td>\n",
       "      <td>3.60</td>\n",
       "      <td>0.18</td>\n",
       "      <td>nan</td>\n",
       "      <td>nan</td>\n",
       "      <td>69.25</td>\n",
       "      <td>nan</td>\n",
       "      <td>nan</td>\n",
       "      <td>15.14</td>\n",
       "      <td>nan</td>\n",
       "      <td>5.25</td>\n",
       "      <td>nan</td>\n",
       "      <td>nan</td>\n",
       "      <td>26.15</td>\n",
       "      <td>nan</td>\n",
       "      <td>4.60</td>\n",
       "      <td>4.25</td>\n",
       "      <td>nan</td>\n",
       "      <td>nan</td>\n",
       "      <td>nan</td>\n",
       "      <td>nan</td>\n",
       "      <td>nan</td>\n",
       "      <td>nan</td>\n",
       "      <td>nan</td>\n",
       "      <td>nan</td>\n",
       "    </tr>\n",
       "    <tr>\n",
       "      <td>total_sales_platform</td>\n",
       "      <td>1,233.56</td>\n",
       "      <td>961.24</td>\n",
       "      <td>931.34</td>\n",
       "      <td>891.18</td>\n",
       "      <td>802.76</td>\n",
       "      <td>721.55</td>\n",
       "      <td>314.14</td>\n",
       "      <td>312.88</td>\n",
       "      <td>289.53</td>\n",
       "      <td>257.81</td>\n",
       "      <td>251.57</td>\n",
       "      <td>239.79</td>\n",
       "      <td>218.01</td>\n",
       "      <td>196.73</td>\n",
       "      <td>159.32</td>\n",
       "      <td>139.90</td>\n",
       "      <td>82.19</td>\n",
       "      <td>53.81</td>\n",
       "      <td>49.59</td>\n",
       "      <td>29.94</td>\n",
       "      <td>15.95</td>\n",
       "      <td>1.42</td>\n",
       "      <td>0.43</td>\n",
       "      <td>0.16</td>\n",
       "      <td>0.08</td>\n",
       "      <td>0.03</td>\n",
       "    </tr>\n",
       "  </tbody>\n",
       "</table>\n",
       "</div>"
      ],
      "text/plain": [
       "platform                  PS2   X360    PS3    Wii     DS     PS    PS4  \\\n",
       "year_of_release                                                           \n",
       "1995                      nan    nan    nan    nan    nan  35.96    nan   \n",
       "1996                      nan    nan    nan    nan    nan  94.70    nan   \n",
       "1997                      nan    nan    nan    nan    nan 136.17    nan   \n",
       "1998                      nan    nan    nan    nan    nan 169.49    nan   \n",
       "1999                      nan    nan    nan    nan    nan 144.53    nan   \n",
       "2000                    39.17    nan    nan    nan    nan  96.37    nan   \n",
       "2001                   166.43    nan    nan    nan    nan  35.59    nan   \n",
       "2002                   205.38    nan    nan    nan    nan   6.67    nan   \n",
       "2003                   184.31    nan    nan    nan    nan   2.07    nan   \n",
       "2004                   211.81    nan    nan    nan  17.27    nan    nan   \n",
       "2005                   160.66   8.25    nan    nan 130.14    nan    nan   \n",
       "2006                   103.42  51.62  20.96 137.15 119.81    nan    nan   \n",
       "2007                    75.99  95.41  73.19 152.77 146.94    nan    nan   \n",
       "2008                    53.90 135.26 118.52 171.32 145.31    nan    nan   \n",
       "2009                    26.40 120.29 130.93 206.97 119.54    nan    nan   \n",
       "2010                     5.64 170.03 142.17 127.95  85.02    nan    nan   \n",
       "2011                     0.45 143.84 156.78  59.65  26.18    nan    nan   \n",
       "2012                      nan  99.74 107.36  21.71  11.01    nan    nan   \n",
       "2013                      nan  88.58 113.25   8.59   1.54    nan  25.99   \n",
       "2014                      nan  34.74  47.76   3.75    nan    nan 100.00   \n",
       "2015                      nan  11.96  16.82   1.14    nan    nan 118.90   \n",
       "2016                      nan   1.52   3.60   0.18    nan    nan  69.25   \n",
       "total_sales_platform 1,233.56 961.24 931.34 891.18 802.76 721.55 314.14   \n",
       "\n",
       "platform                GBA    PSP    3DS     XB     PC    N64     GC   XOne  \\\n",
       "year_of_release                                                                \n",
       "1995                    nan    nan    nan    nan   4.22    nan    nan    nan   \n",
       "1996                    nan    nan    nan    nan  10.58  34.10    nan    nan   \n",
       "1997                    nan    nan    nan    nan  11.27  39.50    nan    nan   \n",
       "1998                    nan    nan    nan    nan   3.26  49.24    nan    nan   \n",
       "1999                    nan    nan    nan    nan   4.74  57.87    nan    nan   \n",
       "2000                   0.07    nan    nan   0.99   4.66  33.97    nan    nan   \n",
       "2001                  61.53    nan    nan  22.26   5.47   3.25  26.34    nan   \n",
       "2002                  74.16    nan    nan  48.01   8.57   0.08  51.81    nan   \n",
       "2003                  56.67    nan    nan  55.04   8.84    nan  50.61    nan   \n",
       "2004                  77.91   7.06    nan  65.42  10.39    nan  28.82    nan   \n",
       "2005                  33.86  43.84    nan  49.08   4.37    nan  27.62    nan   \n",
       "2006                   5.28  55.32    nan  10.04   2.85    nan  11.26    nan   \n",
       "2007                   3.40  46.93    nan   0.55   9.28    nan   0.27    nan   \n",
       "2008                    nan  34.55    nan   0.18  12.42    nan    nan    nan   \n",
       "2009                    nan  37.78    nan    nan  16.91    nan    nan    nan   \n",
       "2010                    nan  35.04    nan    nan  24.28    nan    nan    nan   \n",
       "2011                    nan  17.82  63.20    nan  35.03    nan    nan    nan   \n",
       "2012                    nan   7.69  51.36    nan  23.22    nan    nan    nan   \n",
       "2013                    nan   3.14  56.57    nan  12.38    nan    nan  18.96   \n",
       "2014                    nan   0.24  43.76    nan  13.28    nan    nan  54.07   \n",
       "2015                    nan   0.12  27.78    nan   8.52    nan    nan  60.14   \n",
       "2016                    nan    nan  15.14    nan   5.25    nan    nan  26.15   \n",
       "total_sales_platform 312.88 289.53 257.81 251.57 239.79 218.01 196.73 159.32   \n",
       "\n",
       "platform                 GB  WiiU   PSV  SNES   SAT    DC   WS   NG  TG16  \\\n",
       "year_of_release                                                             \n",
       "1995                   3.60   nan   nan 32.20 11.57   nan  nan 0.33  0.16   \n",
       "1996                  36.03   nan   nan 15.92  7.69   nan  nan 0.10   nan   \n",
       "1997                   6.37   nan   nan  0.99  6.77   nan  nan  nan   nan   \n",
       "1998                  26.90   nan   nan  0.22  3.82  3.38  nan  nan   nan   \n",
       "1999                  38.00   nan   nan  0.26  0.09  5.16 0.46  nan   nan   \n",
       "2000                  19.76   nan   nan   nan   nan  5.99 0.68  nan   nan   \n",
       "2001                   9.24   nan   nan   nan   nan  1.07 0.28  nan   nan   \n",
       "2002                    nan   nan   nan   nan   nan  0.29  nan  nan   nan   \n",
       "2003                    nan   nan   nan   nan   nan   nan  nan  nan   nan   \n",
       "2004                    nan   nan   nan   nan   nan   nan  nan  nan   nan   \n",
       "2005                    nan   nan   nan   nan   nan   nan  nan  nan   nan   \n",
       "2006                    nan   nan   nan   nan   nan   nan  nan  nan   nan   \n",
       "2007                    nan   nan   nan   nan   nan  0.02  nan  nan   nan   \n",
       "2008                    nan   nan   nan   nan   nan  0.04  nan  nan   nan   \n",
       "2009                    nan   nan   nan   nan   nan   nan  nan  nan   nan   \n",
       "2010                    nan   nan   nan   nan   nan   nan  nan  nan   nan   \n",
       "2011                    nan   nan  4.63   nan   nan   nan  nan  nan   nan   \n",
       "2012                    nan 17.56 16.19   nan   nan   nan  nan  nan   nan   \n",
       "2013                    nan 21.65 10.59   nan   nan   nan  nan  nan   nan   \n",
       "2014                    nan 22.03 11.90   nan   nan   nan  nan  nan   nan   \n",
       "2015                    nan 16.35  6.25   nan   nan   nan  nan  nan   nan   \n",
       "2016                    nan  4.60  4.25   nan   nan   nan  nan  nan   nan   \n",
       "total_sales_platform 139.90 82.19 53.81 49.59 29.94 15.95 1.42 0.43  0.16   \n",
       "\n",
       "platform              3DO  PCFX  \n",
       "year_of_release                  \n",
       "1995                 0.08   nan  \n",
       "1996                  nan  0.03  \n",
       "1997                  nan   nan  \n",
       "1998                  nan   nan  \n",
       "1999                  nan   nan  \n",
       "2000                  nan   nan  \n",
       "2001                  nan   nan  \n",
       "2002                  nan   nan  \n",
       "2003                  nan   nan  \n",
       "2004                  nan   nan  \n",
       "2005                  nan   nan  \n",
       "2006                  nan   nan  \n",
       "2007                  nan   nan  \n",
       "2008                  nan   nan  \n",
       "2009                  nan   nan  \n",
       "2010                  nan   nan  \n",
       "2011                  nan   nan  \n",
       "2012                  nan   nan  \n",
       "2013                  nan   nan  \n",
       "2014                  nan   nan  \n",
       "2015                  nan   nan  \n",
       "2016                  nan   nan  \n",
       "total_sales_platform 0.08  0.03  "
      ]
     },
     "execution_count": 38,
     "metadata": {},
     "output_type": "execute_result"
    }
   ],
   "source": [
    "arranged_platforms"
   ]
  },
  {
   "cell_type": "code",
   "execution_count": 39,
   "metadata": {
    "scrolled": true
   },
   "outputs": [],
   "source": [
    "# создаем отдельную таблицу для наиболее успешных игровых платформ\n",
    "top_sales = arranged_platforms.iloc[:, 0:6]"
   ]
  },
  {
   "cell_type": "code",
   "execution_count": 40,
   "metadata": {},
   "outputs": [
    {
     "data": {
      "text/html": [
       "<div>\n",
       "<style scoped>\n",
       "    .dataframe tbody tr th:only-of-type {\n",
       "        vertical-align: middle;\n",
       "    }\n",
       "\n",
       "    .dataframe tbody tr th {\n",
       "        vertical-align: top;\n",
       "    }\n",
       "\n",
       "    .dataframe thead th {\n",
       "        text-align: right;\n",
       "    }\n",
       "</style>\n",
       "<table border=\"1\" class=\"dataframe\">\n",
       "  <thead>\n",
       "    <tr style=\"text-align: right;\">\n",
       "      <th>platform</th>\n",
       "      <th>PS2</th>\n",
       "      <th>X360</th>\n",
       "      <th>PS3</th>\n",
       "      <th>Wii</th>\n",
       "      <th>DS</th>\n",
       "      <th>PS</th>\n",
       "    </tr>\n",
       "    <tr>\n",
       "      <th>year_of_release</th>\n",
       "      <th></th>\n",
       "      <th></th>\n",
       "      <th></th>\n",
       "      <th></th>\n",
       "      <th></th>\n",
       "      <th></th>\n",
       "    </tr>\n",
       "  </thead>\n",
       "  <tbody>\n",
       "    <tr>\n",
       "      <td>1995</td>\n",
       "      <td>nan</td>\n",
       "      <td>nan</td>\n",
       "      <td>nan</td>\n",
       "      <td>nan</td>\n",
       "      <td>nan</td>\n",
       "      <td>35.96</td>\n",
       "    </tr>\n",
       "    <tr>\n",
       "      <td>1996</td>\n",
       "      <td>nan</td>\n",
       "      <td>nan</td>\n",
       "      <td>nan</td>\n",
       "      <td>nan</td>\n",
       "      <td>nan</td>\n",
       "      <td>94.70</td>\n",
       "    </tr>\n",
       "    <tr>\n",
       "      <td>1997</td>\n",
       "      <td>nan</td>\n",
       "      <td>nan</td>\n",
       "      <td>nan</td>\n",
       "      <td>nan</td>\n",
       "      <td>nan</td>\n",
       "      <td>136.17</td>\n",
       "    </tr>\n",
       "    <tr>\n",
       "      <td>1998</td>\n",
       "      <td>nan</td>\n",
       "      <td>nan</td>\n",
       "      <td>nan</td>\n",
       "      <td>nan</td>\n",
       "      <td>nan</td>\n",
       "      <td>169.49</td>\n",
       "    </tr>\n",
       "    <tr>\n",
       "      <td>1999</td>\n",
       "      <td>nan</td>\n",
       "      <td>nan</td>\n",
       "      <td>nan</td>\n",
       "      <td>nan</td>\n",
       "      <td>nan</td>\n",
       "      <td>144.53</td>\n",
       "    </tr>\n",
       "    <tr>\n",
       "      <td>2000</td>\n",
       "      <td>39.17</td>\n",
       "      <td>nan</td>\n",
       "      <td>nan</td>\n",
       "      <td>nan</td>\n",
       "      <td>nan</td>\n",
       "      <td>96.37</td>\n",
       "    </tr>\n",
       "    <tr>\n",
       "      <td>2001</td>\n",
       "      <td>166.43</td>\n",
       "      <td>nan</td>\n",
       "      <td>nan</td>\n",
       "      <td>nan</td>\n",
       "      <td>nan</td>\n",
       "      <td>35.59</td>\n",
       "    </tr>\n",
       "    <tr>\n",
       "      <td>2002</td>\n",
       "      <td>205.38</td>\n",
       "      <td>nan</td>\n",
       "      <td>nan</td>\n",
       "      <td>nan</td>\n",
       "      <td>nan</td>\n",
       "      <td>6.67</td>\n",
       "    </tr>\n",
       "    <tr>\n",
       "      <td>2003</td>\n",
       "      <td>184.31</td>\n",
       "      <td>nan</td>\n",
       "      <td>nan</td>\n",
       "      <td>nan</td>\n",
       "      <td>nan</td>\n",
       "      <td>2.07</td>\n",
       "    </tr>\n",
       "    <tr>\n",
       "      <td>2004</td>\n",
       "      <td>211.81</td>\n",
       "      <td>nan</td>\n",
       "      <td>nan</td>\n",
       "      <td>nan</td>\n",
       "      <td>17.27</td>\n",
       "      <td>nan</td>\n",
       "    </tr>\n",
       "    <tr>\n",
       "      <td>2005</td>\n",
       "      <td>160.66</td>\n",
       "      <td>8.25</td>\n",
       "      <td>nan</td>\n",
       "      <td>nan</td>\n",
       "      <td>130.14</td>\n",
       "      <td>nan</td>\n",
       "    </tr>\n",
       "    <tr>\n",
       "      <td>2006</td>\n",
       "      <td>103.42</td>\n",
       "      <td>51.62</td>\n",
       "      <td>20.96</td>\n",
       "      <td>137.15</td>\n",
       "      <td>119.81</td>\n",
       "      <td>nan</td>\n",
       "    </tr>\n",
       "    <tr>\n",
       "      <td>2007</td>\n",
       "      <td>75.99</td>\n",
       "      <td>95.41</td>\n",
       "      <td>73.19</td>\n",
       "      <td>152.77</td>\n",
       "      <td>146.94</td>\n",
       "      <td>nan</td>\n",
       "    </tr>\n",
       "    <tr>\n",
       "      <td>2008</td>\n",
       "      <td>53.90</td>\n",
       "      <td>135.26</td>\n",
       "      <td>118.52</td>\n",
       "      <td>171.32</td>\n",
       "      <td>145.31</td>\n",
       "      <td>nan</td>\n",
       "    </tr>\n",
       "    <tr>\n",
       "      <td>2009</td>\n",
       "      <td>26.40</td>\n",
       "      <td>120.29</td>\n",
       "      <td>130.93</td>\n",
       "      <td>206.97</td>\n",
       "      <td>119.54</td>\n",
       "      <td>nan</td>\n",
       "    </tr>\n",
       "    <tr>\n",
       "      <td>2010</td>\n",
       "      <td>5.64</td>\n",
       "      <td>170.03</td>\n",
       "      <td>142.17</td>\n",
       "      <td>127.95</td>\n",
       "      <td>85.02</td>\n",
       "      <td>nan</td>\n",
       "    </tr>\n",
       "    <tr>\n",
       "      <td>2011</td>\n",
       "      <td>0.45</td>\n",
       "      <td>143.84</td>\n",
       "      <td>156.78</td>\n",
       "      <td>59.65</td>\n",
       "      <td>26.18</td>\n",
       "      <td>nan</td>\n",
       "    </tr>\n",
       "    <tr>\n",
       "      <td>2012</td>\n",
       "      <td>nan</td>\n",
       "      <td>99.74</td>\n",
       "      <td>107.36</td>\n",
       "      <td>21.71</td>\n",
       "      <td>11.01</td>\n",
       "      <td>nan</td>\n",
       "    </tr>\n",
       "    <tr>\n",
       "      <td>2013</td>\n",
       "      <td>nan</td>\n",
       "      <td>88.58</td>\n",
       "      <td>113.25</td>\n",
       "      <td>8.59</td>\n",
       "      <td>1.54</td>\n",
       "      <td>nan</td>\n",
       "    </tr>\n",
       "    <tr>\n",
       "      <td>2014</td>\n",
       "      <td>nan</td>\n",
       "      <td>34.74</td>\n",
       "      <td>47.76</td>\n",
       "      <td>3.75</td>\n",
       "      <td>nan</td>\n",
       "      <td>nan</td>\n",
       "    </tr>\n",
       "    <tr>\n",
       "      <td>2015</td>\n",
       "      <td>nan</td>\n",
       "      <td>11.96</td>\n",
       "      <td>16.82</td>\n",
       "      <td>1.14</td>\n",
       "      <td>nan</td>\n",
       "      <td>nan</td>\n",
       "    </tr>\n",
       "    <tr>\n",
       "      <td>2016</td>\n",
       "      <td>nan</td>\n",
       "      <td>1.52</td>\n",
       "      <td>3.60</td>\n",
       "      <td>0.18</td>\n",
       "      <td>nan</td>\n",
       "      <td>nan</td>\n",
       "    </tr>\n",
       "    <tr>\n",
       "      <td>total_sales_platform</td>\n",
       "      <td>1,233.56</td>\n",
       "      <td>961.24</td>\n",
       "      <td>931.34</td>\n",
       "      <td>891.18</td>\n",
       "      <td>802.76</td>\n",
       "      <td>721.55</td>\n",
       "    </tr>\n",
       "  </tbody>\n",
       "</table>\n",
       "</div>"
      ],
      "text/plain": [
       "platform                  PS2   X360    PS3    Wii     DS     PS\n",
       "year_of_release                                                 \n",
       "1995                      nan    nan    nan    nan    nan  35.96\n",
       "1996                      nan    nan    nan    nan    nan  94.70\n",
       "1997                      nan    nan    nan    nan    nan 136.17\n",
       "1998                      nan    nan    nan    nan    nan 169.49\n",
       "1999                      nan    nan    nan    nan    nan 144.53\n",
       "2000                    39.17    nan    nan    nan    nan  96.37\n",
       "2001                   166.43    nan    nan    nan    nan  35.59\n",
       "2002                   205.38    nan    nan    nan    nan   6.67\n",
       "2003                   184.31    nan    nan    nan    nan   2.07\n",
       "2004                   211.81    nan    nan    nan  17.27    nan\n",
       "2005                   160.66   8.25    nan    nan 130.14    nan\n",
       "2006                   103.42  51.62  20.96 137.15 119.81    nan\n",
       "2007                    75.99  95.41  73.19 152.77 146.94    nan\n",
       "2008                    53.90 135.26 118.52 171.32 145.31    nan\n",
       "2009                    26.40 120.29 130.93 206.97 119.54    nan\n",
       "2010                     5.64 170.03 142.17 127.95  85.02    nan\n",
       "2011                     0.45 143.84 156.78  59.65  26.18    nan\n",
       "2012                      nan  99.74 107.36  21.71  11.01    nan\n",
       "2013                      nan  88.58 113.25   8.59   1.54    nan\n",
       "2014                      nan  34.74  47.76   3.75    nan    nan\n",
       "2015                      nan  11.96  16.82   1.14    nan    nan\n",
       "2016                      nan   1.52   3.60   0.18    nan    nan\n",
       "total_sales_platform 1,233.56 961.24 931.34 891.18 802.76 721.55"
      ]
     },
     "execution_count": 40,
     "metadata": {},
     "output_type": "execute_result"
    }
   ],
   "source": [
    "top_sales"
   ]
  },
  {
   "cell_type": "code",
   "execution_count": 41,
   "metadata": {},
   "outputs": [],
   "source": [
    "top_sales = top_sales.drop(index = 'total_sales_platform', axis = 0)"
   ]
  },
  {
   "cell_type": "code",
   "execution_count": 42,
   "metadata": {},
   "outputs": [
    {
     "data": {
      "text/html": [
       "<div>\n",
       "<style scoped>\n",
       "    .dataframe tbody tr th:only-of-type {\n",
       "        vertical-align: middle;\n",
       "    }\n",
       "\n",
       "    .dataframe tbody tr th {\n",
       "        vertical-align: top;\n",
       "    }\n",
       "\n",
       "    .dataframe thead th {\n",
       "        text-align: right;\n",
       "    }\n",
       "</style>\n",
       "<table border=\"1\" class=\"dataframe\">\n",
       "  <thead>\n",
       "    <tr style=\"text-align: right;\">\n",
       "      <th>platform</th>\n",
       "      <th>PS2</th>\n",
       "      <th>X360</th>\n",
       "      <th>PS3</th>\n",
       "      <th>Wii</th>\n",
       "      <th>DS</th>\n",
       "      <th>PS</th>\n",
       "    </tr>\n",
       "    <tr>\n",
       "      <th>year_of_release</th>\n",
       "      <th></th>\n",
       "      <th></th>\n",
       "      <th></th>\n",
       "      <th></th>\n",
       "      <th></th>\n",
       "      <th></th>\n",
       "    </tr>\n",
       "  </thead>\n",
       "  <tbody>\n",
       "    <tr>\n",
       "      <td>1995</td>\n",
       "      <td>0.00</td>\n",
       "      <td>0.00</td>\n",
       "      <td>0.00</td>\n",
       "      <td>0.00</td>\n",
       "      <td>0.00</td>\n",
       "      <td>35.96</td>\n",
       "    </tr>\n",
       "    <tr>\n",
       "      <td>1996</td>\n",
       "      <td>0.00</td>\n",
       "      <td>0.00</td>\n",
       "      <td>0.00</td>\n",
       "      <td>0.00</td>\n",
       "      <td>0.00</td>\n",
       "      <td>94.70</td>\n",
       "    </tr>\n",
       "    <tr>\n",
       "      <td>1997</td>\n",
       "      <td>0.00</td>\n",
       "      <td>0.00</td>\n",
       "      <td>0.00</td>\n",
       "      <td>0.00</td>\n",
       "      <td>0.00</td>\n",
       "      <td>136.17</td>\n",
       "    </tr>\n",
       "    <tr>\n",
       "      <td>1998</td>\n",
       "      <td>0.00</td>\n",
       "      <td>0.00</td>\n",
       "      <td>0.00</td>\n",
       "      <td>0.00</td>\n",
       "      <td>0.00</td>\n",
       "      <td>169.49</td>\n",
       "    </tr>\n",
       "    <tr>\n",
       "      <td>1999</td>\n",
       "      <td>0.00</td>\n",
       "      <td>0.00</td>\n",
       "      <td>0.00</td>\n",
       "      <td>0.00</td>\n",
       "      <td>0.00</td>\n",
       "      <td>144.53</td>\n",
       "    </tr>\n",
       "    <tr>\n",
       "      <td>2000</td>\n",
       "      <td>39.17</td>\n",
       "      <td>0.00</td>\n",
       "      <td>0.00</td>\n",
       "      <td>0.00</td>\n",
       "      <td>0.00</td>\n",
       "      <td>96.37</td>\n",
       "    </tr>\n",
       "    <tr>\n",
       "      <td>2001</td>\n",
       "      <td>166.43</td>\n",
       "      <td>0.00</td>\n",
       "      <td>0.00</td>\n",
       "      <td>0.00</td>\n",
       "      <td>0.00</td>\n",
       "      <td>35.59</td>\n",
       "    </tr>\n",
       "    <tr>\n",
       "      <td>2002</td>\n",
       "      <td>205.38</td>\n",
       "      <td>0.00</td>\n",
       "      <td>0.00</td>\n",
       "      <td>0.00</td>\n",
       "      <td>0.00</td>\n",
       "      <td>6.67</td>\n",
       "    </tr>\n",
       "    <tr>\n",
       "      <td>2003</td>\n",
       "      <td>184.31</td>\n",
       "      <td>0.00</td>\n",
       "      <td>0.00</td>\n",
       "      <td>0.00</td>\n",
       "      <td>0.00</td>\n",
       "      <td>2.07</td>\n",
       "    </tr>\n",
       "    <tr>\n",
       "      <td>2004</td>\n",
       "      <td>211.81</td>\n",
       "      <td>0.00</td>\n",
       "      <td>0.00</td>\n",
       "      <td>0.00</td>\n",
       "      <td>17.27</td>\n",
       "      <td>0.00</td>\n",
       "    </tr>\n",
       "    <tr>\n",
       "      <td>2005</td>\n",
       "      <td>160.66</td>\n",
       "      <td>8.25</td>\n",
       "      <td>0.00</td>\n",
       "      <td>0.00</td>\n",
       "      <td>130.14</td>\n",
       "      <td>0.00</td>\n",
       "    </tr>\n",
       "    <tr>\n",
       "      <td>2006</td>\n",
       "      <td>103.42</td>\n",
       "      <td>51.62</td>\n",
       "      <td>20.96</td>\n",
       "      <td>137.15</td>\n",
       "      <td>119.81</td>\n",
       "      <td>0.00</td>\n",
       "    </tr>\n",
       "    <tr>\n",
       "      <td>2007</td>\n",
       "      <td>75.99</td>\n",
       "      <td>95.41</td>\n",
       "      <td>73.19</td>\n",
       "      <td>152.77</td>\n",
       "      <td>146.94</td>\n",
       "      <td>0.00</td>\n",
       "    </tr>\n",
       "    <tr>\n",
       "      <td>2008</td>\n",
       "      <td>53.90</td>\n",
       "      <td>135.26</td>\n",
       "      <td>118.52</td>\n",
       "      <td>171.32</td>\n",
       "      <td>145.31</td>\n",
       "      <td>0.00</td>\n",
       "    </tr>\n",
       "    <tr>\n",
       "      <td>2009</td>\n",
       "      <td>26.40</td>\n",
       "      <td>120.29</td>\n",
       "      <td>130.93</td>\n",
       "      <td>206.97</td>\n",
       "      <td>119.54</td>\n",
       "      <td>0.00</td>\n",
       "    </tr>\n",
       "    <tr>\n",
       "      <td>2010</td>\n",
       "      <td>5.64</td>\n",
       "      <td>170.03</td>\n",
       "      <td>142.17</td>\n",
       "      <td>127.95</td>\n",
       "      <td>85.02</td>\n",
       "      <td>0.00</td>\n",
       "    </tr>\n",
       "    <tr>\n",
       "      <td>2011</td>\n",
       "      <td>0.45</td>\n",
       "      <td>143.84</td>\n",
       "      <td>156.78</td>\n",
       "      <td>59.65</td>\n",
       "      <td>26.18</td>\n",
       "      <td>0.00</td>\n",
       "    </tr>\n",
       "    <tr>\n",
       "      <td>2012</td>\n",
       "      <td>0.00</td>\n",
       "      <td>99.74</td>\n",
       "      <td>107.36</td>\n",
       "      <td>21.71</td>\n",
       "      <td>11.01</td>\n",
       "      <td>0.00</td>\n",
       "    </tr>\n",
       "    <tr>\n",
       "      <td>2013</td>\n",
       "      <td>0.00</td>\n",
       "      <td>88.58</td>\n",
       "      <td>113.25</td>\n",
       "      <td>8.59</td>\n",
       "      <td>1.54</td>\n",
       "      <td>0.00</td>\n",
       "    </tr>\n",
       "    <tr>\n",
       "      <td>2014</td>\n",
       "      <td>0.00</td>\n",
       "      <td>34.74</td>\n",
       "      <td>47.76</td>\n",
       "      <td>3.75</td>\n",
       "      <td>0.00</td>\n",
       "      <td>0.00</td>\n",
       "    </tr>\n",
       "    <tr>\n",
       "      <td>2015</td>\n",
       "      <td>0.00</td>\n",
       "      <td>11.96</td>\n",
       "      <td>16.82</td>\n",
       "      <td>1.14</td>\n",
       "      <td>0.00</td>\n",
       "      <td>0.00</td>\n",
       "    </tr>\n",
       "    <tr>\n",
       "      <td>2016</td>\n",
       "      <td>0.00</td>\n",
       "      <td>1.52</td>\n",
       "      <td>3.60</td>\n",
       "      <td>0.18</td>\n",
       "      <td>0.00</td>\n",
       "      <td>0.00</td>\n",
       "    </tr>\n",
       "  </tbody>\n",
       "</table>\n",
       "</div>"
      ],
      "text/plain": [
       "platform           PS2   X360    PS3    Wii     DS     PS\n",
       "year_of_release                                          \n",
       "1995              0.00   0.00   0.00   0.00   0.00  35.96\n",
       "1996              0.00   0.00   0.00   0.00   0.00  94.70\n",
       "1997              0.00   0.00   0.00   0.00   0.00 136.17\n",
       "1998              0.00   0.00   0.00   0.00   0.00 169.49\n",
       "1999              0.00   0.00   0.00   0.00   0.00 144.53\n",
       "2000             39.17   0.00   0.00   0.00   0.00  96.37\n",
       "2001            166.43   0.00   0.00   0.00   0.00  35.59\n",
       "2002            205.38   0.00   0.00   0.00   0.00   6.67\n",
       "2003            184.31   0.00   0.00   0.00   0.00   2.07\n",
       "2004            211.81   0.00   0.00   0.00  17.27   0.00\n",
       "2005            160.66   8.25   0.00   0.00 130.14   0.00\n",
       "2006            103.42  51.62  20.96 137.15 119.81   0.00\n",
       "2007             75.99  95.41  73.19 152.77 146.94   0.00\n",
       "2008             53.90 135.26 118.52 171.32 145.31   0.00\n",
       "2009             26.40 120.29 130.93 206.97 119.54   0.00\n",
       "2010              5.64 170.03 142.17 127.95  85.02   0.00\n",
       "2011              0.45 143.84 156.78  59.65  26.18   0.00\n",
       "2012              0.00  99.74 107.36  21.71  11.01   0.00\n",
       "2013              0.00  88.58 113.25   8.59   1.54   0.00\n",
       "2014              0.00  34.74  47.76   3.75   0.00   0.00\n",
       "2015              0.00  11.96  16.82   1.14   0.00   0.00\n",
       "2016              0.00   1.52   3.60   0.18   0.00   0.00"
      ]
     },
     "execution_count": 42,
     "metadata": {},
     "output_type": "execute_result"
    }
   ],
   "source": [
    "top_sales.fillna(0)"
   ]
  },
  {
   "cell_type": "code",
   "execution_count": 43,
   "metadata": {},
   "outputs": [],
   "source": [
    "import matplotlib.ticker as ticker"
   ]
  },
  {
   "cell_type": "code",
   "execution_count": 44,
   "metadata": {},
   "outputs": [
    {
     "data": {
      "image/png": "[encoded data removed]",
      "text/plain": [
       "<Figure size 720x720 with 1 Axes>"
      ]
     },
     "metadata": {
      "needs_background": "light"
     },
     "output_type": "display_data"
    }
   ],
   "source": [
    "fig, ax = plt.subplots()\n",
    "top_sales.plot(figsize = (10,10), grid=True, ax=ax, title = \"Прибыль платформ по годам\")\n",
    "ax.xaxis.set_major_locator(ticker.MultipleLocator(2))\n",
    "plt.xlabel(\"Отчётный год\")\n",
    "plt.ylabel(\"Продажи(в млн долларов)\")\n",
    "plt.show()"
   ]
  },
  {
   "cell_type": "markdown",
   "metadata": {},
   "source": [
    "Как мы можем видеть из таблицы, жизненный цикл платформы составляет примерно 8-10 лет. В период падения продаж мы можем замечать как альтернативная платфаорма начинает свой рост и закрывает существующую потребность пользователей."
   ]
  },
  {
   "cell_type": "markdown",
   "metadata": {},
   "source": [
    "#### Актуальный период и прогноз на 2017 год"
   ]
  },
  {
   "cell_type": "markdown",
   "metadata": {},
   "source": [
    "Актуальный период в нашем случае начинается примерно в 2013-2014 году. Мы можем заметить, что к этому времени PS3 и X360 уже практически полностью пришли в упадок, в то время как PS4 начинает расти. "
   ]
  },
  {
   "cell_type": "code",
   "execution_count": 45,
   "metadata": {},
   "outputs": [],
   "source": [
    "sales_year_platform_nosales = sales_year_platform.drop(index = 'total_sales_platform', axis = 0)"
   ]
  },
  {
   "cell_type": "code",
   "execution_count": 46,
   "metadata": {},
   "outputs": [],
   "source": [
    "actual_period_data = sales_year_platform_nosales.query('year_of_release > 2013')"
   ]
  },
  {
   "cell_type": "code",
   "execution_count": 47,
   "metadata": {},
   "outputs": [
    {
     "data": {
      "image/png": "[encoded data removed]",
      "text/plain": [
       "<Figure size 720x720 with 1 Axes>"
      ]
     },
     "metadata": {
      "needs_background": "light"
     },
     "output_type": "display_data"
    }
   ],
   "source": [
    "actual_period_data.plot(figsize = (10,10), grid=True, title = \"Прибыль платформ по годам\")\n",
    "#ax.xaxis.set_major_locator(ticker.MultipleLocator(2))\n",
    "#ax.xaxis.set_minor_locator(ticker.MultipleLocator(1))\n",
    "plt.xlabel(\"Отчётный год\")\n",
    "plt.ylabel(\"Продажи(в млн долларов)\")\n",
    "plt.show()"
   ]
  },
  {
   "cell_type": "markdown",
   "metadata": {},
   "source": [
    "При попыптке сделать прогноз на 2017, опираясь на предшествующий анализ, мы можем предположить, что наиболее акутуальным платформами, которые еще не исчерпали свой ресурс и не прошли свой жизненный цикл, соответственно не исчерпали возможность генерировать прибыль являются PS4 и XOne. PC также перспективен, т.к будет продолжать генерировать умеренную прибыль.\n",
    "В тоже время PS3 и X360, который были очень прибыльными в предыдущий период, ушли в упадок."
   ]
  },
  {
   "cell_type": "code",
   "execution_count": 48,
   "metadata": {},
   "outputs": [],
   "source": [
    "global_sales_per_platform = actual_period_data.query('year_of_release > 2013') "
   ]
  },
  {
   "cell_type": "code",
   "execution_count": 49,
   "metadata": {},
   "outputs": [
    {
     "data": {
      "text/html": [
       "<div>\n",
       "<style scoped>\n",
       "    .dataframe tbody tr th:only-of-type {\n",
       "        vertical-align: middle;\n",
       "    }\n",
       "\n",
       "    .dataframe tbody tr th {\n",
       "        vertical-align: top;\n",
       "    }\n",
       "\n",
       "    .dataframe thead th {\n",
       "        text-align: right;\n",
       "    }\n",
       "</style>\n",
       "<table border=\"1\" class=\"dataframe\">\n",
       "  <thead>\n",
       "    <tr style=\"text-align: right;\">\n",
       "      <th>platform</th>\n",
       "      <th>3DO</th>\n",
       "      <th>3DS</th>\n",
       "      <th>DC</th>\n",
       "      <th>DS</th>\n",
       "      <th>GB</th>\n",
       "      <th>GBA</th>\n",
       "      <th>GC</th>\n",
       "      <th>N64</th>\n",
       "      <th>NG</th>\n",
       "      <th>PC</th>\n",
       "      <th>PCFX</th>\n",
       "      <th>PS</th>\n",
       "      <th>PS2</th>\n",
       "      <th>PS3</th>\n",
       "      <th>PS4</th>\n",
       "      <th>PSP</th>\n",
       "      <th>PSV</th>\n",
       "      <th>SAT</th>\n",
       "      <th>SNES</th>\n",
       "      <th>TG16</th>\n",
       "      <th>WS</th>\n",
       "      <th>Wii</th>\n",
       "      <th>WiiU</th>\n",
       "      <th>X360</th>\n",
       "      <th>XB</th>\n",
       "      <th>XOne</th>\n",
       "    </tr>\n",
       "    <tr>\n",
       "      <th>year_of_release</th>\n",
       "      <th></th>\n",
       "      <th></th>\n",
       "      <th></th>\n",
       "      <th></th>\n",
       "      <th></th>\n",
       "      <th></th>\n",
       "      <th></th>\n",
       "      <th></th>\n",
       "      <th></th>\n",
       "      <th></th>\n",
       "      <th></th>\n",
       "      <th></th>\n",
       "      <th></th>\n",
       "      <th></th>\n",
       "      <th></th>\n",
       "      <th></th>\n",
       "      <th></th>\n",
       "      <th></th>\n",
       "      <th></th>\n",
       "      <th></th>\n",
       "      <th></th>\n",
       "      <th></th>\n",
       "      <th></th>\n",
       "      <th></th>\n",
       "      <th></th>\n",
       "      <th></th>\n",
       "    </tr>\n",
       "  </thead>\n",
       "  <tbody>\n",
       "    <tr>\n",
       "      <td>2014</td>\n",
       "      <td>nan</td>\n",
       "      <td>43.76</td>\n",
       "      <td>nan</td>\n",
       "      <td>nan</td>\n",
       "      <td>nan</td>\n",
       "      <td>nan</td>\n",
       "      <td>nan</td>\n",
       "      <td>nan</td>\n",
       "      <td>nan</td>\n",
       "      <td>13.28</td>\n",
       "      <td>nan</td>\n",
       "      <td>nan</td>\n",
       "      <td>nan</td>\n",
       "      <td>47.76</td>\n",
       "      <td>100.00</td>\n",
       "      <td>0.24</td>\n",
       "      <td>11.90</td>\n",
       "      <td>nan</td>\n",
       "      <td>nan</td>\n",
       "      <td>nan</td>\n",
       "      <td>nan</td>\n",
       "      <td>3.75</td>\n",
       "      <td>22.03</td>\n",
       "      <td>34.74</td>\n",
       "      <td>nan</td>\n",
       "      <td>54.07</td>\n",
       "    </tr>\n",
       "    <tr>\n",
       "      <td>2015</td>\n",
       "      <td>nan</td>\n",
       "      <td>27.78</td>\n",
       "      <td>nan</td>\n",
       "      <td>nan</td>\n",
       "      <td>nan</td>\n",
       "      <td>nan</td>\n",
       "      <td>nan</td>\n",
       "      <td>nan</td>\n",
       "      <td>nan</td>\n",
       "      <td>8.52</td>\n",
       "      <td>nan</td>\n",
       "      <td>nan</td>\n",
       "      <td>nan</td>\n",
       "      <td>16.82</td>\n",
       "      <td>118.90</td>\n",
       "      <td>0.12</td>\n",
       "      <td>6.25</td>\n",
       "      <td>nan</td>\n",
       "      <td>nan</td>\n",
       "      <td>nan</td>\n",
       "      <td>nan</td>\n",
       "      <td>1.14</td>\n",
       "      <td>16.35</td>\n",
       "      <td>11.96</td>\n",
       "      <td>nan</td>\n",
       "      <td>60.14</td>\n",
       "    </tr>\n",
       "    <tr>\n",
       "      <td>2016</td>\n",
       "      <td>nan</td>\n",
       "      <td>15.14</td>\n",
       "      <td>nan</td>\n",
       "      <td>nan</td>\n",
       "      <td>nan</td>\n",
       "      <td>nan</td>\n",
       "      <td>nan</td>\n",
       "      <td>nan</td>\n",
       "      <td>nan</td>\n",
       "      <td>5.25</td>\n",
       "      <td>nan</td>\n",
       "      <td>nan</td>\n",
       "      <td>nan</td>\n",
       "      <td>3.60</td>\n",
       "      <td>69.25</td>\n",
       "      <td>nan</td>\n",
       "      <td>4.25</td>\n",
       "      <td>nan</td>\n",
       "      <td>nan</td>\n",
       "      <td>nan</td>\n",
       "      <td>nan</td>\n",
       "      <td>0.18</td>\n",
       "      <td>4.60</td>\n",
       "      <td>1.52</td>\n",
       "      <td>nan</td>\n",
       "      <td>26.15</td>\n",
       "    </tr>\n",
       "  </tbody>\n",
       "</table>\n",
       "</div>"
      ],
      "text/plain": [
       "platform         3DO   3DS  DC  DS  GB  GBA  GC  N64  NG    PC  PCFX  PS  PS2  \\\n",
       "year_of_release                                                                 \n",
       "2014             nan 43.76 nan nan nan  nan nan  nan nan 13.28   nan nan  nan   \n",
       "2015             nan 27.78 nan nan nan  nan nan  nan nan  8.52   nan nan  nan   \n",
       "2016             nan 15.14 nan nan nan  nan nan  nan nan  5.25   nan nan  nan   \n",
       "\n",
       "platform          PS3    PS4  PSP   PSV  SAT  SNES  TG16  WS  Wii  WiiU  X360  \\\n",
       "year_of_release                                                                 \n",
       "2014            47.76 100.00 0.24 11.90  nan   nan   nan nan 3.75 22.03 34.74   \n",
       "2015            16.82 118.90 0.12  6.25  nan   nan   nan nan 1.14 16.35 11.96   \n",
       "2016             3.60  69.25  nan  4.25  nan   nan   nan nan 0.18  4.60  1.52   \n",
       "\n",
       "platform         XB  XOne  \n",
       "year_of_release            \n",
       "2014            nan 54.07  \n",
       "2015            nan 60.14  \n",
       "2016            nan 26.15  "
      ]
     },
     "execution_count": 49,
     "metadata": {},
     "output_type": "execute_result"
    }
   ],
   "source": [
    "global_sales_per_platform"
   ]
  },
  {
   "cell_type": "code",
   "execution_count": 50,
   "metadata": {},
   "outputs": [],
   "source": [
    "# шесть топовых платформ из прошлого цикла и те, что показывают рост в новый период\n",
    "global_sales_relevant_platforms = global_sales_per_platform[['PS2','X360','PS3','Wii','DS','PS','3DS', 'PS4', 'XOne', 'PC']]"
   ]
  },
  {
   "cell_type": "code",
   "execution_count": 104,
   "metadata": {},
   "outputs": [
    {
     "data": {
      "text/html": [
       "<div>\n",
       "<style scoped>\n",
       "    .dataframe tbody tr th:only-of-type {\n",
       "        vertical-align: middle;\n",
       "    }\n",
       "\n",
       "    .dataframe tbody tr th {\n",
       "        vertical-align: top;\n",
       "    }\n",
       "\n",
       "    .dataframe thead th {\n",
       "        text-align: right;\n",
       "    }\n",
       "</style>\n",
       "<table border=\"1\" class=\"dataframe\">\n",
       "  <thead>\n",
       "    <tr style=\"text-align: right;\">\n",
       "      <th>platform</th>\n",
       "      <th>PS2</th>\n",
       "      <th>X360</th>\n",
       "      <th>PS3</th>\n",
       "      <th>Wii</th>\n",
       "      <th>DS</th>\n",
       "      <th>PS</th>\n",
       "      <th>3DS</th>\n",
       "      <th>PS4</th>\n",
       "      <th>XOne</th>\n",
       "      <th>PC</th>\n",
       "    </tr>\n",
       "    <tr>\n",
       "      <th>year_of_release</th>\n",
       "      <th></th>\n",
       "      <th></th>\n",
       "      <th></th>\n",
       "      <th></th>\n",
       "      <th></th>\n",
       "      <th></th>\n",
       "      <th></th>\n",
       "      <th></th>\n",
       "      <th></th>\n",
       "      <th></th>\n",
       "    </tr>\n",
       "  </thead>\n",
       "  <tbody>\n",
       "    <tr>\n",
       "      <td>2014</td>\n",
       "      <td>nan</td>\n",
       "      <td>34.74</td>\n",
       "      <td>47.76</td>\n",
       "      <td>3.75</td>\n",
       "      <td>nan</td>\n",
       "      <td>nan</td>\n",
       "      <td>43.76</td>\n",
       "      <td>100.00</td>\n",
       "      <td>54.07</td>\n",
       "      <td>13.28</td>\n",
       "    </tr>\n",
       "    <tr>\n",
       "      <td>2015</td>\n",
       "      <td>nan</td>\n",
       "      <td>11.96</td>\n",
       "      <td>16.82</td>\n",
       "      <td>1.14</td>\n",
       "      <td>nan</td>\n",
       "      <td>nan</td>\n",
       "      <td>27.78</td>\n",
       "      <td>118.90</td>\n",
       "      <td>60.14</td>\n",
       "      <td>8.52</td>\n",
       "    </tr>\n",
       "    <tr>\n",
       "      <td>2016</td>\n",
       "      <td>nan</td>\n",
       "      <td>1.52</td>\n",
       "      <td>3.60</td>\n",
       "      <td>0.18</td>\n",
       "      <td>nan</td>\n",
       "      <td>nan</td>\n",
       "      <td>15.14</td>\n",
       "      <td>69.25</td>\n",
       "      <td>26.15</td>\n",
       "      <td>5.25</td>\n",
       "    </tr>\n",
       "  </tbody>\n",
       "</table>\n",
       "</div>"
      ],
      "text/plain": [
       "platform         PS2  X360   PS3  Wii  DS  PS   3DS    PS4  XOne    PC\n",
       "year_of_release                                                       \n",
       "2014             nan 34.74 47.76 3.75 nan nan 43.76 100.00 54.07 13.28\n",
       "2015             nan 11.96 16.82 1.14 nan nan 27.78 118.90 60.14  8.52\n",
       "2016             nan  1.52  3.60 0.18 nan nan 15.14  69.25 26.15  5.25"
      ]
     },
     "execution_count": 104,
     "metadata": {},
     "output_type": "execute_result"
    }
   ],
   "source": [
    "global_sales_relevant_platforms"
   ]
  },
  {
   "cell_type": "code",
   "execution_count": 100,
   "metadata": {},
   "outputs": [
    {
     "name": "stderr",
     "output_type": "stream",
     "text": [
      "/opt/conda/lib/python3.7/site-packages/numpy/core/_asarray.py:83: VisibleDeprecationWarning: Creating an ndarray from ragged nested sequences (which is a list-or-tuple of lists-or-tuples-or ndarrays with different lengths or shapes) is deprecated. If you meant to do this, you must specify 'dtype=object' when creating the ndarray\n",
      "  return array(a, dtype, copy=False, order=order)\n"
     ]
    },
    {
     "data": {
      "image/png": "[encoded data removed]",
      "text/plain": [
       "<Figure size 720x720 with 1 Axes>"
      ]
     },
     "metadata": {
      "needs_background": "light"
     },
     "output_type": "display_data"
    }
   ],
   "source": [
    "global_sales_relevant_platforms.boxplot(figsize = (10,10))\n",
    "plt.xlabel(\"Название платформы\")\n",
    "plt.ylabel(\"Средняя годовая прибыль(в млн долларов)\")\n",
    "plt.show()"
   ]
  },
  {
   "cell_type": "markdown",
   "metadata": {},
   "source": [
    "1. В актуальный наибольшие средние годовые прибыли у PS4 (80 млн), XOne(50 млн) и 3DS(30млн).\n",
    "2. PC, X360, PS3 всё еще продолжают генерировать выручку, но очень умеренную (10-15млн). Wii - только 2-3 млн.\n"
   ]
  },
  {
   "cell_type": "markdown",
   "metadata": {},
   "source": [
    "#### Продажи и рейтинги в популярной платформе "
   ]
  },
  {
   "cell_type": "code",
   "execution_count": 52,
   "metadata": {},
   "outputs": [],
   "source": [
    "popular_platform =  data.query('platform == \"PS4\" and year_of_release > 2013') "
   ]
  },
  {
   "cell_type": "code",
   "execution_count": 53,
   "metadata": {},
   "outputs": [
    {
     "data": {
      "image/png": "[encoded data removed]",
      "text/plain": [
       "<Figure size 720x720 with 1 Axes>"
      ]
     },
     "metadata": {
      "needs_background": "light"
     },
     "output_type": "display_data"
    }
   ],
   "source": [
    "popular_platform.plot(x = \"critic_score\", y = 'total_sales', kind = 'scatter', figsize =(10,10), \n",
    "                      title = \"Взаимосвязь рейтинга критиков и глобальных продаж\")\n",
    "plt.xlabel(\"Рейтинг критиков\")\n",
    "plt.ylabel(\"Средняя годовая прибыль(в млн долларов)\")\n",
    "plt.show()"
   ]
  },
  {
   "cell_type": "code",
   "execution_count": 54,
   "metadata": {},
   "outputs": [
    {
     "name": "stdout",
     "output_type": "stream",
     "text": [
      "0.346163551232677\n"
     ]
    }
   ],
   "source": [
    "print(popular_platform['critic_score'].corr(popular_platform['total_sales']))"
   ]
  },
  {
   "cell_type": "markdown",
   "metadata": {},
   "source": [
    "Коффициент корреляции 0.34 говорит о слабой/умеренной связи между переменными. Как видно из диаграммы рассеяния взаимосвязь между двумя переменными проявляется нечётко до момента, пока рейтинг не достигает 60-70 пунктов и более заметна после этого рубежа. Изсходя из этого, можем предположить, что игры с высокой оценкой выше определенного порога сильнее взаимосвязаны с генерируемой прибылью. В то время как до этого порога связь между рейтингом и прибылью выражена менее заметно. "
   ]
  },
  {
   "cell_type": "code",
   "execution_count": 55,
   "metadata": {},
   "outputs": [
    {
     "data": {
      "image/png": "[encoded data removed]",
      "text/plain": [
       "<Figure size 720x720 with 1 Axes>"
      ]
     },
     "metadata": {
      "needs_background": "light"
     },
     "output_type": "display_data"
    }
   ],
   "source": [
    "popular_platform.plot(x = 'user_score', y = 'total_sales', kind = \"scatter\", figsize = (10,10),\n",
    "                     title = \"Взаимосвязь рейтинга юзеров и глобальных продаж\")\n",
    "plt.xlabel(\"Рейтинг юзеров\")\n",
    "plt.ylabel(\"Средняя годовая прибыль(в млн долларов)\")\n",
    "plt.show()"
   ]
  },
  {
   "cell_type": "code",
   "execution_count": 56,
   "metadata": {},
   "outputs": [
    {
     "name": "stdout",
     "output_type": "stream",
     "text": [
      "-0.06709467337892866\n"
     ]
    }
   ],
   "source": [
    "print(popular_platform['user_score'].corr(data['total_sales']))"
   ]
  },
  {
   "cell_type": "markdown",
   "metadata": {},
   "source": [
    "На диаграмме рассеяния можно заметить что взаимосвязь между рейтингом игроков и генерируемой прибылью несистемная и нет четко очерченной направленности как переменные между собой связаны. Это еще больше подтверждается низким коэффициентом корреляции (-0.06), который говорит о слабой негативной связи между прибылью и рейтингом игроков. Т.е при росте одной из переменных (например, рейтинга юзеров), вторая наоборот уменьшается. Соответственно игры с более высокими рейтингами юзеров склонны иметь меньшую прибыль, или наоборот, игры с низкими рейтингами склонны иметь более высокую прибыль."
   ]
  },
  {
   "cell_type": "markdown",
   "metadata": {},
   "source": [
    "По диаграммам рассеяния и проведению попарных тестов на корреляцию Пирсона, мы можем заключить, что между рейтингом критиков и прибылью от игры существует умеренная положительная связь. Но стоит заметить, что взаимосвязь не монотонна и больше проявляется на более высоких рейтингах. Это может говорить о том, что до определенного порога, низко оцененные игры приносят соизмеримую по значениям прибыль. А вот выше определенного порога связь между рейтингом и прибылью проявляется более явно.\n",
    "Между рейтингом игроков и общим доходом существует слабая негативная связь. Это говорит о том, что увеличение или уменьшение рейтинга игроков слабо связано с увеличением или уменьшением прибыли игры. Т.е высоко оценненная игроками игра не всегда способна приносить высокий доход. И наоборот, не очень высоко оцененная игроками, но хорошо прорекламированная и грамотно проданная игра способна генерировать высокие доходы."
   ]
  },
  {
   "cell_type": "code",
   "execution_count": 57,
   "metadata": {},
   "outputs": [],
   "source": [
    "actual_period = data.query('year_of_release > 2013')"
   ]
  },
  {
   "cell_type": "code",
   "execution_count": 58,
   "metadata": {},
   "outputs": [
    {
     "data": {
      "image/png": "[encoded data removed]",
      "text/plain": [
       "<Figure size 720x720 with 1 Axes>"
      ]
     },
     "metadata": {
      "needs_background": "light"
     },
     "output_type": "display_data"
    }
   ],
   "source": [
    "actual_period.plot( x = 'user_score', y = 'total_sales', kind = 'scatter', figsize = (10,10))\n",
    "plt.xlabel(\"Рейтинг юзеров\")\n",
    "plt.ylabel(\"Средняя годовая прибыль(в млн долларов)\")\n",
    "plt.show()"
   ]
  },
  {
   "cell_type": "code",
   "execution_count": 59,
   "metadata": {},
   "outputs": [
    {
     "name": "stdout",
     "output_type": "stream",
     "text": [
      "-0.06338538631746068\n"
     ]
    }
   ],
   "source": [
    "print(actual_period['user_score'].corr(actual_period['total_sales']))"
   ]
  },
  {
   "cell_type": "code",
   "execution_count": 60,
   "metadata": {},
   "outputs": [
    {
     "data": {
      "image/png": "[encoded data removed]",
      "text/plain": [
       "<Figure size 720x720 with 1 Axes>"
      ]
     },
     "metadata": {
      "needs_background": "light"
     },
     "output_type": "display_data"
    }
   ],
   "source": [
    "actual_period.plot(x = 'critic_score', y = 'total_sales', kind = 'scatter', figsize = (10,10))\n",
    "plt.xlabel(\"Рейтинг критиков\")\n",
    "plt.ylabel(\"Средняя годовая прибыль(в млн долларов)\")\n",
    "plt.show()"
   ]
  },
  {
   "cell_type": "code",
   "execution_count": 61,
   "metadata": {},
   "outputs": [
    {
     "name": "stdout",
     "output_type": "stream",
     "text": [
      "0.28294760570986344\n"
     ]
    }
   ],
   "source": [
    "print(actual_period['critic_score'].corr(actual_period['total_sales']))"
   ]
  },
  {
   "cell_type": "markdown",
   "metadata": {},
   "source": [
    "Если мы сравним выводы с другими платформами, то можем прийти к аналогичному заключению: очень слабая негативная, близкая к отсутствующей, связь между рейтингом юзеров и прибылью(-0.03) и умеренная положительная связь между рейтингом критиков и прибылью (0.28). Хотя в PS4 связь была более выражена, чем среди всех платформ, тренд во многом сохраняется. \n",
    "\n"
   ]
  },
  {
   "cell_type": "markdown",
   "metadata": {},
   "source": [
    "#### Жанры и их прибыль"
   ]
  },
  {
   "cell_type": "code",
   "execution_count": 62,
   "metadata": {},
   "outputs": [
    {
     "data": {
      "text/html": [
       "<div>\n",
       "<style scoped>\n",
       "    .dataframe tbody tr th:only-of-type {\n",
       "        vertical-align: middle;\n",
       "    }\n",
       "\n",
       "    .dataframe tbody tr th {\n",
       "        vertical-align: top;\n",
       "    }\n",
       "\n",
       "    .dataframe thead th {\n",
       "        text-align: right;\n",
       "    }\n",
       "</style>\n",
       "<table border=\"1\" class=\"dataframe\">\n",
       "  <thead>\n",
       "    <tr style=\"text-align: right;\">\n",
       "      <th></th>\n",
       "      <th>name</th>\n",
       "      <th>platform</th>\n",
       "      <th>year_of_release</th>\n",
       "      <th>genre</th>\n",
       "      <th>na_sales</th>\n",
       "      <th>eu_sales</th>\n",
       "      <th>jp_sales</th>\n",
       "      <th>other_sales</th>\n",
       "      <th>critic_score</th>\n",
       "      <th>user_score</th>\n",
       "      <th>rating</th>\n",
       "      <th>total_sales</th>\n",
       "    </tr>\n",
       "  </thead>\n",
       "  <tbody>\n",
       "    <tr>\n",
       "      <td>31</td>\n",
       "      <td>Call of Duty: Black Ops 3</td>\n",
       "      <td>PS4</td>\n",
       "      <td>2015</td>\n",
       "      <td>Shooter</td>\n",
       "      <td>6.03</td>\n",
       "      <td>5.86</td>\n",
       "      <td>0.36</td>\n",
       "      <td>2.38</td>\n",
       "      <td>73.00</td>\n",
       "      <td>7.40</td>\n",
       "      <td>RP</td>\n",
       "      <td>14.63</td>\n",
       "    </tr>\n",
       "    <tr>\n",
       "      <td>42</td>\n",
       "      <td>Grand Theft Auto V</td>\n",
       "      <td>PS4</td>\n",
       "      <td>2014</td>\n",
       "      <td>Action</td>\n",
       "      <td>3.96</td>\n",
       "      <td>6.31</td>\n",
       "      <td>0.38</td>\n",
       "      <td>1.97</td>\n",
       "      <td>97.00</td>\n",
       "      <td>8.30</td>\n",
       "      <td>M</td>\n",
       "      <td>12.62</td>\n",
       "    </tr>\n",
       "    <tr>\n",
       "      <td>47</td>\n",
       "      <td>Pokemon Omega Ruby/Pokemon Alpha Sapphire</td>\n",
       "      <td>3DS</td>\n",
       "      <td>2014</td>\n",
       "      <td>Role-Playing</td>\n",
       "      <td>4.35</td>\n",
       "      <td>3.49</td>\n",
       "      <td>3.10</td>\n",
       "      <td>0.74</td>\n",
       "      <td>74.00</td>\n",
       "      <td>7.80</td>\n",
       "      <td>RP</td>\n",
       "      <td>11.68</td>\n",
       "    </tr>\n",
       "    <tr>\n",
       "      <td>77</td>\n",
       "      <td>FIFA 16</td>\n",
       "      <td>PS4</td>\n",
       "      <td>2015</td>\n",
       "      <td>Sports</td>\n",
       "      <td>1.12</td>\n",
       "      <td>6.12</td>\n",
       "      <td>0.06</td>\n",
       "      <td>1.28</td>\n",
       "      <td>82.00</td>\n",
       "      <td>4.30</td>\n",
       "      <td>E</td>\n",
       "      <td>8.58</td>\n",
       "    </tr>\n",
       "    <tr>\n",
       "      <td>87</td>\n",
       "      <td>Star Wars Battlefront (2015)</td>\n",
       "      <td>PS4</td>\n",
       "      <td>2015</td>\n",
       "      <td>Shooter</td>\n",
       "      <td>2.99</td>\n",
       "      <td>3.49</td>\n",
       "      <td>0.22</td>\n",
       "      <td>1.28</td>\n",
       "      <td>73.00</td>\n",
       "      <td>7.40</td>\n",
       "      <td>RP</td>\n",
       "      <td>7.98</td>\n",
       "    </tr>\n",
       "  </tbody>\n",
       "</table>\n",
       "</div>"
      ],
      "text/plain": [
       "                                         name platform  year_of_release  \\\n",
       "31                  Call of Duty: Black Ops 3      PS4             2015   \n",
       "42                         Grand Theft Auto V      PS4             2014   \n",
       "47  Pokemon Omega Ruby/Pokemon Alpha Sapphire      3DS             2014   \n",
       "77                                    FIFA 16      PS4             2015   \n",
       "87               Star Wars Battlefront (2015)      PS4             2015   \n",
       "\n",
       "           genre  na_sales  eu_sales  jp_sales  other_sales  critic_score  \\\n",
       "31       Shooter      6.03      5.86      0.36         2.38         73.00   \n",
       "42        Action      3.96      6.31      0.38         1.97         97.00   \n",
       "47  Role-Playing      4.35      3.49      3.10         0.74         74.00   \n",
       "77        Sports      1.12      6.12      0.06         1.28         82.00   \n",
       "87       Shooter      2.99      3.49      0.22         1.28         73.00   \n",
       "\n",
       "    user_score rating  total_sales  \n",
       "31        7.40     RP        14.63  \n",
       "42        8.30      M        12.62  \n",
       "47        7.80     RP        11.68  \n",
       "77        4.30      E         8.58  \n",
       "87        7.40     RP         7.98  "
      ]
     },
     "execution_count": 62,
     "metadata": {},
     "output_type": "execute_result"
    }
   ],
   "source": [
    "actual_period.head()"
   ]
  },
  {
   "cell_type": "code",
   "execution_count": 63,
   "metadata": {},
   "outputs": [
    {
     "data": {
      "text/plain": [
       "Action          619\n",
       "Role-Playing    221\n",
       "Adventure       185\n",
       "Sports          161\n",
       "Shooter         128\n",
       "Misc            113\n",
       "Racing           69\n",
       "Fighting         60\n",
       "Simulation       44\n",
       "Platform         38\n",
       "Strategy         37\n",
       "Puzzle           14\n",
       "Name: genre, dtype: int64"
      ]
     },
     "execution_count": 63,
     "metadata": {},
     "output_type": "execute_result"
    }
   ],
   "source": [
    "# количество игр в жанре экшн определенно преобладает по количеству над другими жанрами\n",
    "# пазлы наименее многочисленны\n",
    "actual_period.genre.value_counts()"
   ]
  },
  {
   "cell_type": "code",
   "execution_count": 64,
   "metadata": {},
   "outputs": [],
   "source": [
    "actual_period_genres = actual_period.pivot_table(index = 'genre', values = 'total_sales').sort_values( by = 'total_sales', ascending = False)"
   ]
  },
  {
   "cell_type": "code",
   "execution_count": 65,
   "metadata": {},
   "outputs": [
    {
     "data": {
      "image/png": "[encoded data removed]",
      "text/plain": [
       "<Figure size 720x720 with 1 Axes>"
      ]
     },
     "metadata": {
      "needs_background": "light"
     },
     "output_type": "display_data"
    }
   ],
   "source": [
    "actual_period_genres.plot(kind = 'bar', figsize = (10,10))\n",
    "plt.xlabel(\"Название жанра\")\n",
    "plt.ylabel(\"Средняя годовая прибыль(в млн долларов) на одну игру жанра\")\n",
    "plt.show()"
   ]
  },
  {
   "cell_type": "markdown",
   "metadata": {},
   "source": [
    "Наиболее прибыльными являются шутеры и спортивный жанр. Каждая игра этих жанров в среднем приносит 1.34 и 0.68 млн USD каждый год. Наименее прибыльными являются стратегии и приключения (0.11 и 0.09 млн соответственно). \n"
   ]
  },
  {
   "cell_type": "markdown",
   "metadata": {},
   "source": [
    "## <a id=\"step4\">4. Портрет пользователя каждого региона </a>"
   ]
  },
  {
   "cell_type": "markdown",
   "metadata": {},
   "source": [
    "#### Популярные платформы по различным регионам"
   ]
  },
  {
   "cell_type": "code",
   "execution_count": 66,
   "metadata": {},
   "outputs": [],
   "source": [
    "# группируем по самым популярным платформам в Северной Америке и определеяем долю от продаж по всем платформам\n",
    "na_region = actual_period.groupby('platform')['na_sales'].sum() /actual_period['na_sales'].sum()"
   ]
  },
  {
   "cell_type": "code",
   "execution_count": 67,
   "metadata": {},
   "outputs": [],
   "source": [
    "# группируем по самым популярным платформам в Евросоюзе и определеяем долю от продаж по всем платформам\n",
    "eu_region = actual_period.groupby('platform')['eu_sales'].sum() / actual_period['eu_sales'].sum()"
   ]
  },
  {
   "cell_type": "code",
   "execution_count": 68,
   "metadata": {},
   "outputs": [],
   "source": [
    "# группируем по самым популярным платформам в Японии и определеяем долю от продаж по всем платформам\n",
    "jp_region = actual_period.groupby('platform')['jp_sales'].sum() / actual_period['jp_sales'].sum()"
   ]
  },
  {
   "cell_type": "code",
   "execution_count": 69,
   "metadata": {},
   "outputs": [
    {
     "data": {
      "image/png": "[encoded data removed]",
      "text/plain": [
       "<Figure size 720x432 with 1 Axes>"
      ]
     },
     "metadata": {},
     "output_type": "display_data"
    },
    {
     "data": {
      "image/png": "[encoded data removed]",
      "text/plain": [
       "<Figure size 720x432 with 1 Axes>"
      ]
     },
     "metadata": {},
     "output_type": "display_data"
    },
    {
     "data": {
      "image/png": "[encoded data removed]",
      "text/plain": [
       "<Figure size 720x432 with 1 Axes>"
      ]
     },
     "metadata": {},
     "output_type": "display_data"
    }
   ],
   "source": [
    "na_region.nlargest(5).plot(kind = 'pie', autopct = '%1.1f%%', legend = True, figsize = (10,6), \n",
    "                           title = \"TOP-5 игровых платформ в Северной Америке\")\n",
    "plt.show()\n",
    "eu_region.nlargest(5).plot(kind = 'pie', autopct = '%1.1f%%', legend = True, figsize = (10,6),\n",
    "                          title = \"TOP-5 игровых платформ в ЕС\")\n",
    "plt.show()\n",
    "jp_region.nlargest(5).plot(kind = 'pie', autopct = '%1.1f%%', legend = True, figsize = (10,6),\n",
    "                          title = \"TOP-5 игровых платформ в Японии\")\n",
    "plt.show()"
   ]
  },
  {
   "cell_type": "markdown",
   "metadata": {},
   "source": [
    "1. По долям продаж платформ ЕС и Америка достаточно похожи. Доминирует PS4, а следом идёт XOne. Только в ЕС  доля PS4 больше(48% VS 34%), а доля XOne соответвтенно меньше(17% VS 28%). Эти доминирующие платформы в обоих случаях составляют львиную долю от всего рынка. Третья в ЕС PS3 занимает в СА только 5-е место, а PC присутствует в пятёрке в ЕС и отсутствует в СА.\n",
    "2. Платформы на Японском рынке значительно отличаются. На первом месте 3DS(47,5%), которая имеет соответственно 6% в ЕС и 8% в СА. Второе место занимает PS 4 c 16%, что значительно меньше чем её доминирующее положение в ЕС и СА. Третье место в Японии принадлежит PSV(15%), которая вообще отсутсвует в СА и ЕС.\n",
    "3. Рынки ЕС и СА имеют больше обшего, как и политические и культурные связи между ЕС и СА. В то же время, Япония является более отличным регионом, который хотя также является демократией и рынком, как показывает наш анализ имеет свои предпочтения в игровой индустрии и отличается от Западных стран. "
   ]
  },
  {
   "cell_type": "markdown",
   "metadata": {},
   "source": [
    "#### Популярные жанры по различным регионам"
   ]
  },
  {
   "cell_type": "code",
   "execution_count": 70,
   "metadata": {},
   "outputs": [],
   "source": [
    "#группируем по самым популярным платформам в Северной Америке и определеяем долю от общего количества платформ\n",
    "na_region_genre = actual_period.groupby('genre')['na_sales'].sum() / actual_period['na_sales'].sum()"
   ]
  },
  {
   "cell_type": "code",
   "execution_count": 71,
   "metadata": {},
   "outputs": [],
   "source": [
    "# группируем по самым популярным платформам в Евросоюзе и определеяем долю от общего количества платформ\n",
    "eu_region_genre = actual_period.groupby('genre')['eu_sales'].sum() / actual_period['eu_sales'].sum()"
   ]
  },
  {
   "cell_type": "code",
   "execution_count": 72,
   "metadata": {},
   "outputs": [],
   "source": [
    "# группируем по самым популярным платформам в Японии и определеяем долю от общего количества платформ\n",
    "jp_region_genre = actual_period.groupby('genre')['jp_sales'].sum() / actual_period['jp_sales'].sum()"
   ]
  },
  {
   "cell_type": "code",
   "execution_count": 73,
   "metadata": {},
   "outputs": [
    {
     "data": {
      "image/png": "[encoded data removed]",
      "text/plain": [
       "<Figure size 720x576 with 1 Axes>"
      ]
     },
     "metadata": {},
     "output_type": "display_data"
    },
    {
     "data": {
      "image/png": "[encoded data removed]",
      "text/plain": [
       "<Figure size 720x576 with 1 Axes>"
      ]
     },
     "metadata": {},
     "output_type": "display_data"
    },
    {
     "data": {
      "image/png": "[encoded data removed]",
      "text/plain": [
       "<Figure size 720x576 with 1 Axes>"
      ]
     },
     "metadata": {},
     "output_type": "display_data"
    }
   ],
   "source": [
    "na_region_genre.nlargest(5).plot(kind = 'pie', autopct = '%1.1f%%', legend = True, figsize = (10,8),\n",
    "                                title = \"TOP-5 жанров в Северной Америке\")\n",
    "plt.show()\n",
    "eu_region_genre.nlargest(5).plot(kind = 'pie', autopct = '%1.1f%%', legend = True, figsize = (10,8),\n",
    "                                title = \"TOP-5 жанров в ЕС\")\n",
    "plt.show()\n",
    "jp_region_genre.nlargest(5).plot(kind = 'pie', autopct = '%1.1f%%', legend = True, figsize = (10,8),\n",
    "                                title = \"TOP-5 жанров в Японии\")\n",
    "plt.show()"
   ]
  },
  {
   "cell_type": "markdown",
   "metadata": {},
   "source": [
    "1. Доля жанров на рынках СА и ЕС практически идентична. Причем не только в качественном отображении, когда одни и те же жанры наиболее популярны на двух рынках, но и количественно, где за исключением небольших отличий и количественная доля жанров очень похожа. Три доминирующих жанра - экшн, шутер и спорт, а role-playing  - 4-я. Единственное отличие -пятая позиция Misc в СА и racing в ЕС.\n",
    "2. Японский рынок довольно ощутимо отличается от ЕС и СА. Первенство держит role-playing с 33%. На втором месте экшн, который доминирует в СА и ЕС. Шутер только пятый с 5%, в то время как в ЕС и СА он уверенно держит вторую позицию. Четвертое и пятое место занимают fighting и misc, которые либо вообще отсутствуют, либо на 5-й позиции в СА и ЕС."
   ]
  },
  {
   "cell_type": "markdown",
   "metadata": {},
   "source": [
    "#### ECBR рейтинг и продажи в регионах"
   ]
  },
  {
   "cell_type": "code",
   "execution_count": 74,
   "metadata": {},
   "outputs": [],
   "source": [
    "eu_rating = actual_period.groupby('rating')['eu_sales'].sum() / actual_period['eu_sales'].sum()"
   ]
  },
  {
   "cell_type": "code",
   "execution_count": 75,
   "metadata": {},
   "outputs": [],
   "source": [
    "na_rating = actual_period.groupby('rating')['na_sales'].sum() / actual_period['na_sales'].sum()"
   ]
  },
  {
   "cell_type": "code",
   "execution_count": 76,
   "metadata": {},
   "outputs": [],
   "source": [
    "jp_rating = actual_period.groupby('rating')['jp_sales'].sum() / actual_period['jp_sales'].sum()"
   ]
  },
  {
   "cell_type": "code",
   "execution_count": 77,
   "metadata": {},
   "outputs": [
    {
     "data": {
      "text/plain": [
       "rating\n",
       "E      0.21\n",
       "E10+   0.10\n",
       "M      0.35\n",
       "RP     0.22\n",
       "T      0.13\n",
       "Name: eu_sales, dtype: float64"
      ]
     },
     "execution_count": 77,
     "metadata": {},
     "output_type": "execute_result"
    }
   ],
   "source": [
    "eu_rating "
   ]
  },
  {
   "cell_type": "code",
   "execution_count": 78,
   "metadata": {},
   "outputs": [
    {
     "data": {
      "text/plain": [
       "rating\n",
       "E      0.18\n",
       "E10+   0.12\n",
       "M      0.34\n",
       "RP     0.23\n",
       "T      0.14\n",
       "Name: na_sales, dtype: float64"
      ]
     },
     "execution_count": 78,
     "metadata": {},
     "output_type": "execute_result"
    }
   ],
   "source": [
    "na_rating"
   ]
  },
  {
   "cell_type": "code",
   "execution_count": 79,
   "metadata": {},
   "outputs": [
    {
     "data": {
      "text/plain": [
       "rating\n",
       "E      0.10\n",
       "E10+   0.05\n",
       "M      0.09\n",
       "RP     0.61\n",
       "T      0.16\n",
       "Name: jp_sales, dtype: float64"
      ]
     },
     "execution_count": 79,
     "metadata": {},
     "output_type": "execute_result"
    }
   ],
   "source": [
    "jp_rating"
   ]
  },
  {
   "cell_type": "code",
   "execution_count": 80,
   "metadata": {},
   "outputs": [
    {
     "data": {
      "image/png": "[encoded data removed]",
      "text/plain": [
       "<Figure size 432x288 with 1 Axes>"
      ]
     },
     "metadata": {
      "needs_background": "light"
     },
     "output_type": "display_data"
    }
   ],
   "source": [
    "eu_rating.plot(kind = 'bar')\n",
    "plt.show()"
   ]
  },
  {
   "cell_type": "code",
   "execution_count": 81,
   "metadata": {},
   "outputs": [
    {
     "data": {
      "image/png": "[encoded data removed]",
      "text/plain": [
       "<Figure size 432x288 with 1 Axes>"
      ]
     },
     "metadata": {
      "needs_background": "light"
     },
     "output_type": "display_data"
    }
   ],
   "source": [
    "na_rating.plot(kind = 'bar')\n",
    "plt.show()"
   ]
  },
  {
   "cell_type": "code",
   "execution_count": 82,
   "metadata": {},
   "outputs": [
    {
     "data": {
      "image/png": "[encoded data removed]",
      "text/plain": [
       "<Figure size 432x288 with 1 Axes>"
      ]
     },
     "metadata": {
      "needs_background": "light"
     },
     "output_type": "display_data"
    }
   ],
   "source": [
    "jp_rating.plot(kind = 'bar')\n",
    "plt.show()"
   ]
  },
  {
   "cell_type": "markdown",
   "metadata": {},
   "source": [
    "Снова мы наблюдаем большую схожесть между ЕС и СА и определенное отличе в Японии.  В ЕС и СА гораздо большую пропорцию по сравнению с Японией составляет контент М(Mature), который предназначен для лиц старше 17 лет(35% в ЕС, 34% -в СА, и только 9% - в Японии. \n",
    "В то время, как в Японии пропорционально наоборот больше продаж игр с рейтингом T(teen). Это говорит о том, что в СА и ЕС возрастная категория более взрослых потребителей гораздо больше, чем в Японии. В Японии же наоброт больше потребляется игр, ограниченных подростковой возратсной категорией. Селдует учитывать достаточно большое количество пропущенных значений в рейтингах игр в Японии, которое имело свое влияние на анализ этой категории.  "
   ]
  },
  {
   "cell_type": "markdown",
   "metadata": {},
   "source": [
    "#### Краткий вывод"
   ]
  },
  {
   "cell_type": "markdown",
   "metadata": {},
   "source": [
    "1. Как мы могли заметить пользователи разных регионов имеют разные предпочтения в компьютерных играх. \n",
    "2. Две доминирующие на рынке СА и ЕС платформы совпадают - это PS4 и XOne. Они занимают 77-78% рынка. В Японии же рынок распределен более равномерно между разными платформами: 3DS(33%), PS4(27%), WiiU(19%), PSV(13%).\n",
    "3. TOP-5 жанров в СА и ЕС совпадают, в том числе очень похожа пропорция присутствия разных жанров на рынке: экшн, шутер, спорт, ролевые игры и гоночные симуляторы. В Японии на первом месте расположились ролевые игры, а экшн и шутер занимают второе и третье место соотвественно. 4-5 занимают отсутствующие в ЕС и СА жанры platform и simulation. \n",
    "4. Возрастные предпочтения по играм в ЕС и СА практически идентичны. А вот в Японии рынок предлагает больше игр для подростков(36%), в то время как в ЕС и СА больше игрового контента для лиц старше 17 лет (47%).\n",
    "5. Таким образом, можно сказать что преобладащие игровые платформы, игровые жанры и возврастные категории на рынках ЕС и СА во многом схожи. В то время как рынок Японии отличается от них во всех трех категориях. Мы можем предположить, что разница лежит в культурном отличии Японии от ЕС и СА, которые более похожи между собой. Также рынки СА и ЕС во многом похожи. Еще следует учитывать высокий уровень развития игровой индустрии в Японии, которая во многих отношениях была и есть передовой страной в создании и потреблении игр. Поэтому во многих отношениях она остаётся самобытной в играх и отличается от более унифицированных СА и ЕС.\n"
   ]
  },
  {
   "cell_type": "markdown",
   "metadata": {},
   "source": [
    "## <a id=\"step5\">5. Проверка гипотез.</a>"
   ]
  },
  {
   "cell_type": "code",
   "execution_count": 83,
   "metadata": {},
   "outputs": [
    {
     "data": {
      "text/html": [
       "<div>\n",
       "<style scoped>\n",
       "    .dataframe tbody tr th:only-of-type {\n",
       "        vertical-align: middle;\n",
       "    }\n",
       "\n",
       "    .dataframe tbody tr th {\n",
       "        vertical-align: top;\n",
       "    }\n",
       "\n",
       "    .dataframe thead th {\n",
       "        text-align: right;\n",
       "    }\n",
       "</style>\n",
       "<table border=\"1\" class=\"dataframe\">\n",
       "  <thead>\n",
       "    <tr style=\"text-align: right;\">\n",
       "      <th></th>\n",
       "      <th>name</th>\n",
       "      <th>platform</th>\n",
       "      <th>year_of_release</th>\n",
       "      <th>genre</th>\n",
       "      <th>na_sales</th>\n",
       "      <th>eu_sales</th>\n",
       "      <th>jp_sales</th>\n",
       "      <th>other_sales</th>\n",
       "      <th>critic_score</th>\n",
       "      <th>user_score</th>\n",
       "      <th>rating</th>\n",
       "      <th>total_sales</th>\n",
       "    </tr>\n",
       "  </thead>\n",
       "  <tbody>\n",
       "    <tr>\n",
       "      <td>179</td>\n",
       "      <td>Call of Duty: Advanced Warfare</td>\n",
       "      <td>XOne</td>\n",
       "      <td>2014</td>\n",
       "      <td>Shooter</td>\n",
       "      <td>3.22</td>\n",
       "      <td>1.55</td>\n",
       "      <td>0.01</td>\n",
       "      <td>0.48</td>\n",
       "      <td>81.00</td>\n",
       "      <td>5.40</td>\n",
       "      <td>M</td>\n",
       "      <td>5.26</td>\n",
       "    </tr>\n",
       "    <tr>\n",
       "      <td>15610</td>\n",
       "      <td>Kamen Rider: Battride War II</td>\n",
       "      <td>WiiU</td>\n",
       "      <td>2014</td>\n",
       "      <td>Action</td>\n",
       "      <td>0.00</td>\n",
       "      <td>0.00</td>\n",
       "      <td>0.02</td>\n",
       "      <td>0.00</td>\n",
       "      <td>68.00</td>\n",
       "      <td>7.40</td>\n",
       "      <td>RP</td>\n",
       "      <td>0.02</td>\n",
       "    </tr>\n",
       "    <tr>\n",
       "      <td>15040</td>\n",
       "      <td>Reco Love: Blue Ocean</td>\n",
       "      <td>PSV</td>\n",
       "      <td>2016</td>\n",
       "      <td>Adventure</td>\n",
       "      <td>0.00</td>\n",
       "      <td>0.00</td>\n",
       "      <td>0.02</td>\n",
       "      <td>0.00</td>\n",
       "      <td>66.00</td>\n",
       "      <td>7.60</td>\n",
       "      <td>RP</td>\n",
       "      <td>0.02</td>\n",
       "    </tr>\n",
       "    <tr>\n",
       "      <td>4240</td>\n",
       "      <td>Thief (2014)</td>\n",
       "      <td>XOne</td>\n",
       "      <td>2014</td>\n",
       "      <td>Action</td>\n",
       "      <td>0.26</td>\n",
       "      <td>0.15</td>\n",
       "      <td>0.00</td>\n",
       "      <td>0.04</td>\n",
       "      <td>68.00</td>\n",
       "      <td>7.40</td>\n",
       "      <td>RP</td>\n",
       "      <td>0.45</td>\n",
       "    </tr>\n",
       "    <tr>\n",
       "      <td>12986</td>\n",
       "      <td>Arcania: Gothic 4</td>\n",
       "      <td>PS4</td>\n",
       "      <td>2015</td>\n",
       "      <td>Role-Playing</td>\n",
       "      <td>0.04</td>\n",
       "      <td>0.00</td>\n",
       "      <td>0.00</td>\n",
       "      <td>0.01</td>\n",
       "      <td>74.00</td>\n",
       "      <td>7.80</td>\n",
       "      <td>RP</td>\n",
       "      <td>0.05</td>\n",
       "    </tr>\n",
       "    <tr>\n",
       "      <td>2012</td>\n",
       "      <td>The Legend of Zelda: Twilight Princess HD</td>\n",
       "      <td>WiiU</td>\n",
       "      <td>2016</td>\n",
       "      <td>Action</td>\n",
       "      <td>0.56</td>\n",
       "      <td>0.30</td>\n",
       "      <td>0.08</td>\n",
       "      <td>0.09</td>\n",
       "      <td>86.00</td>\n",
       "      <td>8.40</td>\n",
       "      <td>T</td>\n",
       "      <td>1.03</td>\n",
       "    </tr>\n",
       "    <tr>\n",
       "      <td>12944</td>\n",
       "      <td>MotoGP 15</td>\n",
       "      <td>PS3</td>\n",
       "      <td>2015</td>\n",
       "      <td>Racing</td>\n",
       "      <td>0.00</td>\n",
       "      <td>0.02</td>\n",
       "      <td>0.03</td>\n",
       "      <td>0.00</td>\n",
       "      <td>69.00</td>\n",
       "      <td>7.40</td>\n",
       "      <td>E10+</td>\n",
       "      <td>0.05</td>\n",
       "    </tr>\n",
       "    <tr>\n",
       "      <td>16599</td>\n",
       "      <td>Legends of Oz: Dorothy's Return</td>\n",
       "      <td>3DS</td>\n",
       "      <td>2014</td>\n",
       "      <td>Puzzle</td>\n",
       "      <td>0.00</td>\n",
       "      <td>0.01</td>\n",
       "      <td>0.00</td>\n",
       "      <td>0.00</td>\n",
       "      <td>70.00</td>\n",
       "      <td>7.50</td>\n",
       "      <td>E</td>\n",
       "      <td>0.01</td>\n",
       "    </tr>\n",
       "    <tr>\n",
       "      <td>87</td>\n",
       "      <td>Star Wars Battlefront (2015)</td>\n",
       "      <td>PS4</td>\n",
       "      <td>2015</td>\n",
       "      <td>Shooter</td>\n",
       "      <td>2.99</td>\n",
       "      <td>3.49</td>\n",
       "      <td>0.22</td>\n",
       "      <td>1.28</td>\n",
       "      <td>73.00</td>\n",
       "      <td>7.40</td>\n",
       "      <td>RP</td>\n",
       "      <td>7.98</td>\n",
       "    </tr>\n",
       "    <tr>\n",
       "      <td>16270</td>\n",
       "      <td>Hyakka Yakou</td>\n",
       "      <td>PSV</td>\n",
       "      <td>2015</td>\n",
       "      <td>Action</td>\n",
       "      <td>0.00</td>\n",
       "      <td>0.00</td>\n",
       "      <td>0.01</td>\n",
       "      <td>0.00</td>\n",
       "      <td>68.00</td>\n",
       "      <td>7.40</td>\n",
       "      <td>RP</td>\n",
       "      <td>0.01</td>\n",
       "    </tr>\n",
       "  </tbody>\n",
       "</table>\n",
       "</div>"
      ],
      "text/plain": [
       "                                            name platform  year_of_release  \\\n",
       "179               Call of Duty: Advanced Warfare     XOne             2014   \n",
       "15610               Kamen Rider: Battride War II     WiiU             2014   \n",
       "15040                      Reco Love: Blue Ocean      PSV             2016   \n",
       "4240                                Thief (2014)     XOne             2014   \n",
       "12986                          Arcania: Gothic 4      PS4             2015   \n",
       "2012   The Legend of Zelda: Twilight Princess HD     WiiU             2016   \n",
       "12944                                  MotoGP 15      PS3             2015   \n",
       "16599            Legends of Oz: Dorothy's Return      3DS             2014   \n",
       "87                  Star Wars Battlefront (2015)      PS4             2015   \n",
       "16270                               Hyakka Yakou      PSV             2015   \n",
       "\n",
       "              genre  na_sales  eu_sales  jp_sales  other_sales  critic_score  \\\n",
       "179         Shooter      3.22      1.55      0.01         0.48         81.00   \n",
       "15610        Action      0.00      0.00      0.02         0.00         68.00   \n",
       "15040     Adventure      0.00      0.00      0.02         0.00         66.00   \n",
       "4240         Action      0.26      0.15      0.00         0.04         68.00   \n",
       "12986  Role-Playing      0.04      0.00      0.00         0.01         74.00   \n",
       "2012         Action      0.56      0.30      0.08         0.09         86.00   \n",
       "12944        Racing      0.00      0.02      0.03         0.00         69.00   \n",
       "16599        Puzzle      0.00      0.01      0.00         0.00         70.00   \n",
       "87          Shooter      2.99      3.49      0.22         1.28         73.00   \n",
       "16270        Action      0.00      0.00      0.01         0.00         68.00   \n",
       "\n",
       "       user_score rating  total_sales  \n",
       "179          5.40      M         5.26  \n",
       "15610        7.40     RP         0.02  \n",
       "15040        7.60     RP         0.02  \n",
       "4240         7.40     RP         0.45  \n",
       "12986        7.80     RP         0.05  \n",
       "2012         8.40      T         1.03  \n",
       "12944        7.40   E10+         0.05  \n",
       "16599        7.50      E         0.01  \n",
       "87           7.40     RP         7.98  \n",
       "16270        7.40     RP         0.01  "
      ]
     },
     "execution_count": 83,
     "metadata": {},
     "output_type": "execute_result"
    }
   ],
   "source": [
    "actual_period.sample(10)"
   ]
  },
  {
   "cell_type": "code",
   "execution_count": 84,
   "metadata": {},
   "outputs": [],
   "source": [
    "xone = actual_period.query('platform == \"XOne\"')"
   ]
  },
  {
   "cell_type": "code",
   "execution_count": 85,
   "metadata": {},
   "outputs": [],
   "source": [
    "# создадим срез по столбцу для последующего сравнения рейтинга Xbox One\n",
    "xone_user_score = xone['user_score']"
   ]
  },
  {
   "cell_type": "code",
   "execution_count": 86,
   "metadata": {},
   "outputs": [
    {
     "data": {
      "text/plain": [
       "6.825438596491228"
      ]
     },
     "execution_count": 86,
     "metadata": {},
     "output_type": "execute_result"
    }
   ],
   "source": [
    "xone_user_score.mean()"
   ]
  },
  {
   "cell_type": "code",
   "execution_count": 87,
   "metadata": {},
   "outputs": [],
   "source": [
    "pc = actual_period.query('platform ==\"PC\"')"
   ]
  },
  {
   "cell_type": "code",
   "execution_count": 88,
   "metadata": {},
   "outputs": [],
   "source": [
    "# создадим срез по столбцу для последующего сравнения рейтинга пользователей PC\n",
    "pc_user_score = pc['user_score']"
   ]
  },
  {
   "cell_type": "code",
   "execution_count": 89,
   "metadata": {},
   "outputs": [
    {
     "data": {
      "text/plain": [
       "6.523841059602648"
      ]
     },
     "execution_count": 89,
     "metadata": {},
     "output_type": "execute_result"
    }
   ],
   "source": [
    "pc_user_score.mean()"
   ]
  },
  {
   "cell_type": "code",
   "execution_count": 90,
   "metadata": {
    "scrolled": true
   },
   "outputs": [
    {
     "name": "stdout",
     "output_type": "stream",
     "text": [
      "p-значение: 0.03929868432092195\n"
     ]
    }
   ],
   "source": [
    "# для проведения t-теста приведём наши переменные к спискам\n",
    "xone_user_score.tolist()\n",
    "pc_user_score.tolist()\n",
    "\n",
    "# зададим уровень значимости на уровне 0.05\n",
    "alpha = 0.05\n",
    "\n",
    "results = st.ttest_ind(xone_user_score, pc_user_score)\n",
    "\n",
    "print('p-значение:', results.pvalue)\n",
    "\n"
   ]
  },
  {
   "cell_type": "markdown",
   "metadata": {},
   "source": [
    "В нашем t-тесте мы проверяли две гипотезы. Первая, нулевая гипотиза(Н0), гласила о равенстве средних двух переменных: рейтинга пользователей платфомы PC и рейтинга пользователей платформы Xbox One. Вторая же, альтернативная(Н1), гласила о различии двух переменных. Результат теста говорит об наличии статистически значимого различия между рейтингом пользователей двух платформ. \n",
    "Нас интересовало одинаковые ли средние рейтинги пользователей двух платформ. Результат 0.03 меньше допустимого уровня значимости 0.05, что говорит о том, что нулевая гипотеза может быть овернгнута. Т.к мы смогли подвердить статистически значимое различие при помощи теста, то мы можем заключить, что рейтинги не одинаковые."
   ]
  },
  {
   "cell_type": "code",
   "execution_count": 91,
   "metadata": {},
   "outputs": [],
   "source": [
    "action = actual_period.query('genre == \"Action\"')"
   ]
  },
  {
   "cell_type": "code",
   "execution_count": 92,
   "metadata": {},
   "outputs": [],
   "source": [
    "action_user_score = action['user_score']"
   ]
  },
  {
   "cell_type": "code",
   "execution_count": 93,
   "metadata": {},
   "outputs": [
    {
     "data": {
      "text/plain": [
       "7.093214862681746"
      ]
     },
     "execution_count": 93,
     "metadata": {},
     "output_type": "execute_result"
    }
   ],
   "source": [
    "action_user_score.mean()"
   ]
  },
  {
   "cell_type": "code",
   "execution_count": 94,
   "metadata": {},
   "outputs": [],
   "source": [
    "sports = actual_period.query('genre == \"Sports\"')"
   ]
  },
  {
   "cell_type": "code",
   "execution_count": 95,
   "metadata": {},
   "outputs": [],
   "source": [
    "sports_user_score = sports['user_score']"
   ]
  },
  {
   "cell_type": "code",
   "execution_count": 96,
   "metadata": {},
   "outputs": [
    {
     "data": {
      "text/plain": [
       "5.684472049689441"
      ]
     },
     "execution_count": 96,
     "metadata": {},
     "output_type": "execute_result"
    }
   ],
   "source": [
    "sports_user_score.mean()"
   ]
  },
  {
   "cell_type": "code",
   "execution_count": 97,
   "metadata": {},
   "outputs": [
    {
     "name": "stdout",
     "output_type": "stream",
     "text": [
      "p-значение: 1.274082448980489e-34\n"
     ]
    }
   ],
   "source": [
    "# для проведения t-теста приведём наши переменные к спискам\n",
    "action_user_score.tolist()\n",
    "sports_user_score.tolist()\n",
    "\n",
    "# зададим уровень значимости на уровне 0.05\n",
    "alpha = 0.05\n",
    "\n",
    "results = st.ttest_ind(action_user_score, sports_user_score)\n",
    "\n",
    "print('p-значение:', results.pvalue)\n",
    "\n"
   ]
  },
  {
   "cell_type": "markdown",
   "metadata": {},
   "source": [
    "При помощи t-теста мы проверяли две гипотезы. Нулевая(Н0) гласила о том, что пользовательские рейтинги жанров экшн и спорт не различаются. Альтернативная (Н1) утверждала, что они различны. Уровень значимости, полученный в результате теста, 0.0000....12 значительно меньше заданного уровня значимости 0.05, поэтому мы можем смело отвергнуть нулевую гипотезу. Опираясь на эти результаты, мы можем заключить, что средние пользовательские рейтинги жанров экшн и спортс статистически различаются, поэтому рейтинги разные.   \n"
   ]
  },
  {
   "cell_type": "markdown",
   "metadata": {},
   "source": [
    "## <a id=\"step6\">6. Общий вывод.</a>"
   ]
  },
  {
   "cell_type": "markdown",
   "metadata": {},
   "source": [
    "1. До 1994 года количество игр на рынке игровой индустрии было достаточно небольшим. Пик пришелся на 2006-2010 годы.\n",
    "2. До 2013-2014 доминирующими игровыми платформами на рынке были PS2, X360,\tPS3, Wii, DS,PS4\n",
    "3. Жизненный цикл игровой платформы составляет в среднем примерно 8-10 лет.\n",
    "4. Наиболее актуальные платформы на 2017 год PS4 и XBox One. PC менее прибылен, но более стабилен.\n",
    "5. Shooter, Sports - наиболее популярные жанры игр, на которые стоит сделать ставку.\n",
    "6. Рынки ЕС и Северной Америки очень похожи по доминирующим там платформам, жанрам и игровым аудиториям. Рынок Японии, хотя и делит с ними определенные черты, по многим параметрам отличается от европейского и американского.\n",
    "7. Игровой рейтинг пользователей PC и Xbox One статистически отличается. Игровой рейтинг жанров экшн и спорт статистически различается."
   ]
  },
  {
   "cell_type": "code",
   "execution_count": null,
   "metadata": {},
   "outputs": [],
   "source": []
  }
 ],
 "metadata": {
  "kernelspec": {
   "display_name": "Python 3",
   "language": "python",
   "name": "python3"
  },
  "language_info": {
   "codemirror_mode": {
    "name": "ipython",
    "version": 3
   },
   "file_extension": ".py",
   "mimetype": "text/x-python",
   "name": "python",
   "nbconvert_exporter": "python",
   "pygments_lexer": "ipython3",
   "version": "3.8.3"
  }
 },
 "nbformat": 4,
 "nbformat_minor": 4
}
